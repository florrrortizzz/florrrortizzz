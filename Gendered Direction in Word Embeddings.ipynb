{
  "nbformat": 4,
  "nbformat_minor": 0,
  "metadata": {
    "colab": {
      "name": "Copy of Assignment 4 - Gendered Directions in Embeddings.ipynb",
      "provenance": [],
      "collapsed_sections": []
    },
    "kernelspec": {
      "name": "python3",
      "display_name": "Python 3"
    },
    "language_info": {
      "name": "python"
    }
  },
  "cells": [
    {
      "cell_type": "markdown",
      "metadata": {
        "id": "58LjICoY5YsV"
      },
      "source": [
        "\n",
        "## Data Loader\n",
        "\n",
        "To reduce loading time when re-instantiating the analyzer, the embedding data loader is a separate class. After a fasttext embedding has been downloaded, it will be cached on the local file system to reduce reloading time.\n",
        "\n",
        "The version of the fasttext embedding being downloaded is *aligned* in that the embeddings of several languages have been put on top of each other. As such, the word for 'cat' in the English embedding will be close to the word 'katt' (Swedish) and 'gato' (Spanish) in their respective embeddings. You choose the language to load by giving the loader a language code."
      ]
    },
    {
      "cell_type": "code",
      "metadata": {
        "id": "g1-78pxMAa_Q",
        "colab": {
          "base_uri": "https://localhost:8080/"
        },
        "outputId": "d235b8a4-e55f-44f3-fad4-36a246200452"
      },
      "source": [
        "import numpy as np\n",
        "from urllib.request import urlopen\n",
        "from tqdm import tqdm\n",
        "import os.path\n",
        "import time\n",
        "\n",
        "class AlignedEmbeddingLoader(object):\n",
        "  \"\"\"This data loader will download an aligned fasttext embedding given a two letter language code.\n",
        "  More information ca be found at https://fasttext.cc/docs/en/aligned-vectors.html .\"\"\"\n",
        "  def __init__(self, lang='en'):\n",
        "    \"\"\"Data loader\"\"\"\n",
        "    self._dataurl = \"https://dl.fbaipublicfiles.com/fasttext/vectors-aligned/wiki.%s.align.vec\" % lang\n",
        "    cachefile = \"cache_%s.npz\" % lang\n",
        "    if os.path.exists(cachefile):\n",
        "      print(\"Loading cached data...\", end=\"\")\n",
        "      t = time.time()\n",
        "      data = np.load(cachefile)\n",
        "      self.idx2token_ = list(data['idx2token'])\n",
        "      self.vectors_ = data['vectors']\n",
        "      print(\"done (%isec)\" % (time.time()-t), flush=True)\n",
        "    else:\n",
        "      with urlopen(self._dataurl) as remote_file:\n",
        "        get_decoded_line = lambda file: file.readline().decode('utf-8')\n",
        "        self.n_tokens, self.n_dim = [int(n) for n in get_decoded_line(remote_file).split()]\n",
        "        self.idx2token_ = list()\n",
        "        self.vectors_ = np.zeros((self.n_tokens, self.n_dim), dtype=np.float32)\n",
        "        for n in tqdm(range(self.vectors_.shape[0]), desc=\"Downloading and parsing vectors\"):\n",
        "          textline = get_decoded_line(remote_file)\n",
        "          linedata = textline.split(' ')\n",
        "          self.idx2token_.append(linedata[0])\n",
        "          self.vectors_[n, :] = np.asarray(linedata[1:], dtype=np.float32)\n",
        "      np.savez(cachefile, vectors=self.vectors_, idx2token=self.idx2token_)\n",
        "    self.token2idx_ = {token:i for i, token in enumerate(self.idx2token_)}\n",
        "\n",
        "loaded_embedding = AlignedEmbeddingLoader('en')\n",
        "\n",
        "!ls -l"
      ],
      "execution_count": null,
      "outputs": [
        {
          "output_type": "stream",
          "text": [
            "Loading cached data...done (105sec)\n",
            "total 5196212\n",
            "-rw-r--r-- 1 root root 5320910082 May 20 08:23 cache_en.npz\n",
            "drwxr-xr-x 1 root root       4096 May  6 13:44 sample_data\n"
          ],
          "name": "stdout"
        }
      ]
    },
    {
      "cell_type": "markdown",
      "metadata": {
        "id": "rEuxXfXilufb"
      },
      "source": [
        "## Your analyzer\n",
        "This is the analyzer. Your task is to finish this in line with the unit tests, the assignment text specifications, and the paper Bolukbasi (2016)."
      ]
    },
    {
      "cell_type": "code",
      "metadata": {
        "id": "sREGXFXQ9rwv"
      },
      "source": [
        "from sklearn.metrics.pairwise import cosine_similarity, euclidean_distances\n",
        "\n",
        "class EmbeddingAnalyzer(object):\n",
        "  def __init__(self, embedding):\n",
        "    self.vectors_ = embedding.vectors_\n",
        "    self.token2idx_ = embedding.token2idx_\n",
        "    self.idx2token_ = embedding.idx2token_\n",
        "\n",
        "  def __len__(self):\n",
        "    \"\"\"Gives the number of tokens in the embedding.\"\"\"\n",
        "    pass\n",
        "\n",
        "  def __getitem__(self, tokens):\n",
        "    \"\"\"Returns the vectors for a token or a list of tokens.\"\"\"\n",
        "    pass\n",
        "\n",
        "  def __contains__(self, token):\n",
        "    \"\"\"Allows a user query if a tokens is in the embedding.\"\"\"\n",
        "    pass\n",
        "\n",
        "  def projection(self, direction, vectors):\n",
        "    \"\"\"The cosine similarity between a reference direction and a matrix of word vectors.\n",
        "    \n",
        "    direction:\n",
        "      A vector\n",
        "    vectors:\n",
        "      A row matrix with word vectors\"\"\"\n",
        "    pass\n",
        "\n",
        "  def simple_analogy(self, pair, query, k=5):\n",
        "    \"\"\"Simple/Classic word analogy as: man - woman = king - queen\"\"\"\n",
        "    pass\n",
        "\n",
        "  def similarity(self, token1, token2):\n",
        "    \"\"\"Returns the cosine similarity between two tokens.\"\"\"\n",
        "    pass\n",
        "\n",
        "  def analogies(self, analogy_direction, tokens):\n",
        "    \"\"\"The more complex word analogy method\"\"\"\n",
        "    pass\n",
        "\n",
        "analyzer = EmbeddingAnalyzer(loaded_embedding)\n",
        "\n",
        "assert 'man' in analyzer\n",
        "assert 'woman' in analyzer\n",
        "assert 'kdjfsfhgkdsjfdh' not in analyzer\n",
        "\n",
        "assert len(analyzer) > 100000\n",
        "\n",
        "assert type(analyzer['man']) is np.ndarray\n",
        "assert np.isclose(np.sum(analyzer['man']-analyzer['man']), 0)"
      ],
      "execution_count": null,
      "outputs": []
    },
    {
      "cell_type": "markdown",
      "metadata": {
        "id": "EX_7UbfKeLzH"
      },
      "source": [
        "## Word similarity\n",
        "\n",
        "We should be able to meassure similarity as cosine similarity.\n",
        "\n",
        "$cos(\\overrightarrow{cat}, \\overrightarrow{dog}) \\geq cos(\\overrightarrow{cat}, \\overrightarrow{cow})$"
      ]
    },
    {
      "cell_type": "code",
      "metadata": {
        "id": "LwrYqvyYMUQq"
      },
      "source": [
        "assert analyzer.similarity('cat', 'dog') >= analyzer.similarity('cat', 'cow')"
      ],
      "execution_count": null,
      "outputs": []
    },
    {
      "cell_type": "markdown",
      "metadata": {
        "id": "TKsJ7LfELybJ"
      },
      "source": [
        "## Word analogies\n",
        "\n",
        "One of the core tasks for showing any semantic properties in an embedding is finding word analogies. We can this of this as word a is to word b, as word c is to word d. Our task is to find word d, knowing a, b, and c.\n",
        "\n",
        "$\\overrightarrow{a} - \\overrightarrow{b} \\approx \\overrightarrow{c} - \\overrightarrow{d}$\n",
        "\n",
        "For gender, this becomes:\n",
        "\n",
        "$\\overrightarrow{man} - \\overrightarrow{woman} \\approx \\overrightarrow{king} - \\overrightarrow{x}$\n",
        "\n",
        "By rearranging we get:\n",
        "\n",
        "$\\overrightarrow{king} - \\overrightarrow{man} + \\overrightarrow{woman} \\approx \\overrightarrow{x}$"
      ]
    },
    {
      "cell_type": "code",
      "metadata": {
        "colab": {
          "base_uri": "https://localhost:8080/"
        },
        "id": "CMtTEzuvHDls",
        "outputId": "89d4ee4a-db74-4366-91ab-171bc088571e"
      },
      "source": [
        "best_matches = analyzer.simple_analogy(('man', 'woman'), 'king', k=5)\n",
        "print(\"Matches (in order of similarity):\")\n",
        "for i, token in enumerate(best_matches):\n",
        "  print(i+1, token)\n",
        "\n",
        "assert 'queen' in analyzer.simple_analogy(('man', 'woman'), 'king', k=5)"
      ],
      "execution_count": null,
      "outputs": [
        {
          "output_type": "stream",
          "text": [
            "Matches (in order of similarity):\n",
            "1 king\n",
            "2 queen\n",
            "3 princess\n",
            "4 regnant\n",
            "5 princesses\n"
          ],
          "name": "stdout"
        }
      ]
    },
    {
      "cell_type": "markdown",
      "metadata": {
        "id": "yY3FS9q5x9qr"
      },
      "source": [
        "We can do this for capitols too.\n",
        "\n",
        "$\\overrightarrow{France} - \\overrightarrow{Japan} \\approx \\overrightarrow{Paris} - \\overrightarrow{x}$"
      ]
    },
    {
      "cell_type": "code",
      "metadata": {
        "colab": {
          "base_uri": "https://localhost:8080/"
        },
        "id": "xL3dPVqKx9wa",
        "outputId": "6baece41-9191-464d-f6e7-28fe42229110"
      },
      "source": [
        "best_matches = analyzer.simple_analogy(('france', 'japan'), 'paris', k=5)\n",
        "print(\"Matches (in order of similarity):\")\n",
        "for i, token in enumerate(best_matches):\n",
        "  print(i+1, token)\n",
        "\n",
        "assert 'tokyo' in analyzer.simple_analogy(('france', 'japan'), 'paris', k=5)"
      ],
      "execution_count": null,
      "outputs": [
        {
          "output_type": "stream",
          "text": [
            "Matches (in order of similarity):\n",
            "1 tokyo\n",
            "2 japan\n",
            "3 osaka\n",
            "4 kyoto\n",
            "5 tokyo \n"
          ],
          "name": "stdout"
        }
      ]
    },
    {
      "cell_type": "markdown",
      "metadata": {
        "id": "X1EknjnwpI2H"
      },
      "source": [
        "Please try doing this for at least one other famous category (e.g. comparing adjectives)."
      ]
    },
    {
      "cell_type": "markdown",
      "metadata": {
        "id": "XgPGM1cvzIIo"
      },
      "source": [
        "## Finding the genderedness of professions\n",
        "\n",
        "Bulokbasi (2016) has a repo for the paper. We can download their data for professions. This allows us to find the genderedness for our embedding and plot against their survey data."
      ]
    },
    {
      "cell_type": "code",
      "metadata": {
        "colab": {
          "base_uri": "https://localhost:8080/"
        },
        "id": "ABmxQ1Fu56fr",
        "outputId": "fbb7dd22-02a8-4487-cf56-eb8df38ff474"
      },
      "source": [
        "import json\n",
        "with urlopen('https://raw.githubusercontent.com/tolga-b/debiaswe/master/data/professions.json') as remote_file:\n",
        "  professions = {title: {'definitional': defi, 'stereotypical': ster} for title, defi, ster in json.load(remote_file)}\n",
        "print(\"Loaded %i professions\" % len(professions))"
      ],
      "execution_count": null,
      "outputs": [
        {
          "output_type": "stream",
          "text": [
            "Loaded 320 professions\n"
          ],
          "name": "stdout"
        }
      ]
    },
    {
      "cell_type": "markdown",
      "metadata": {
        "id": "1mbuzbDNpygo"
      },
      "source": [
        "We want to find the projection of vectors for different profession on a gender direction. This can be done by finding the cosine similarity as:\n",
        "\n",
        "$cos(\\overrightarrow{man} - \\overrightarrow{woman}, \\overrightarrow{butcher})$\n",
        "\n",
        "$cos(\\overrightarrow{man} - \\overrightarrow{woman}, \\overrightarrow{ballerina})$\n",
        "\n",
        "The projection should be non-negative as $|cos(\\cdot,\\cdot)|$. However, by letting the projection method of the anlayzer give us the ccosine similarity, we can see the direction of the projection by looking at its sign."
      ]
    },
    {
      "cell_type": "code",
      "metadata": {
        "id": "uXVOOb8UEOsG"
      },
      "source": [
        "assert type(analyzer[['man', 'woman', 'butcher']]) is np.ndarray\n",
        "assert analyzer[['man', 'woman', 'butcher']].shape[0] == 3\n",
        "\n",
        "assert analyzer.projection(analyzer['man']-analyzer['woman'], analyzer['butcher']) > 0\n",
        "assert analyzer.projection(analyzer['man']-analyzer['woman'], analyzer['ballerina']) < 0"
      ],
      "execution_count": null,
      "outputs": []
    },
    {
      "cell_type": "markdown",
      "metadata": {
        "id": "hvWMsRHWrZ-G"
      },
      "source": [
        "We create a woman-man direction."
      ]
    },
    {
      "cell_type": "code",
      "metadata": {
        "id": "o7qVcJM5_h7Y"
      },
      "source": [
        "direction = analyzer['man']-analyzer['woman']\n",
        "titles = [title for title in professions.keys() if title in analyzer]\n",
        "projection = analyzer.projection(direction, analyzer[titles])"
      ],
      "execution_count": null,
      "outputs": []
    },
    {
      "cell_type": "markdown",
      "metadata": {
        "id": "I4ld8hekrdEm"
      },
      "source": [
        "The estimation of the gender direction can be improved by using several pairs. Again, we use the data from Bulokbasi (2016)."
      ]
    },
    {
      "cell_type": "code",
      "metadata": {
        "colab": {
          "base_uri": "https://localhost:8080/"
        },
        "id": "unzkpmHOs6Wi",
        "outputId": "4f6e2c31-5366-4a90-e636-e815365d5d65"
      },
      "source": [
        "import json\n",
        "with urlopen('https://raw.githubusercontent.com/tolga-b/debiaswe/master/data/definitional_pairs.json') as remote_file:\n",
        "  definitional_pairs = [(m, f) for m, f in json.load(remote_file)]\n",
        "definitional_pairs"
      ],
      "execution_count": null,
      "outputs": [
        {
          "output_type": "execute_result",
          "data": {
            "text/plain": [
              "[('woman', 'man'),\n",
              " ('girl', 'boy'),\n",
              " ('she', 'he'),\n",
              " ('mother', 'father'),\n",
              " ('daughter', 'son'),\n",
              " ('gal', 'guy'),\n",
              " ('female', 'male'),\n",
              " ('her', 'his'),\n",
              " ('herself', 'himself'),\n",
              " ('Mary', 'John')]"
            ]
          },
          "metadata": {
            "tags": []
          },
          "execution_count": 23
        }
      ]
    },
    {
      "cell_type": "code",
      "metadata": {
        "id": "sueBKKyFGduH"
      },
      "source": [
        "direction2 = np.zeros(analyzer['man'].shape)\n",
        "for female, male in definitional_pairs:\n",
        "  direction2 += analyzer[male.lower()]\n",
        "  direction2 -= analyzer[female.lower()]\n",
        "\n",
        "projection2 = analyzer.projection(direction2, analyzer[titles])"
      ],
      "execution_count": null,
      "outputs": []
    },
    {
      "cell_type": "markdown",
      "metadata": {
        "id": "DrRCBj3dr6m_"
      },
      "source": [
        "We can plot the relation between genderedness in the data and human annotation."
      ]
    },
    {
      "cell_type": "code",
      "metadata": {
        "colab": {
          "base_uri": "https://localhost:8080/",
          "height": 381
        },
        "id": "qxgJnULiG0_Q",
        "outputId": "3e4d6b62-6799-43e1-cc03-8642b5a3ef4a"
      },
      "source": [
        "import matplotlib.pyplot as plt\n",
        "import seaborn as sns\n",
        "\n",
        "fig = plt.figure(figsize=(12, 5))\n",
        "ax = fig.subplots(1, 2)\n",
        "stereotypicality = [professions[title]['stereotypical'] for title in titles]\n",
        "sns.regplot(x=projection, y=stereotypicality, ax=ax[0])\n",
        "a = sns.regplot(x=projection2, y=stereotypicality, ax=ax[1])\n",
        "ax[0].set_xlabel(\"Projection (one pair)\")\n",
        "ax[1].set_xlabel(\"Projection (several pairs)\")\n",
        "ax[0].set_ylabel(\"Human labelled stereotypicality\")\n",
        "fig.tight_layout(pad=.5)\n",
        "fig.show()"
      ],
      "execution_count": null,
      "outputs": [
        {
          "output_type": "display_data",
          "data": {
            "image/png": "[encoded data removed]",
            "text/plain": [
              "<Figure size 864x360 with 2 Axes>"
            ]
          },
          "metadata": {
            "tags": [],
            "needs_background": "light"
          }
        }
      ]
    },
    {
      "cell_type": "code",
      "metadata": {
        "colab": {
          "base_uri": "https://localhost:8080/",
          "height": 381
        },
        "id": "Rb4MO33THKEN",
        "outputId": "50e7e3eb-7b7e-44f5-ec62-23a58252d3e1"
      },
      "source": [
        "fig = plt.figure(figsize=(12, 5))\n",
        "ax = fig.subplots(1, 2)\n",
        "definitionality = [professions[title]['definitional'] for title in titles]\n",
        "sns.regplot(x=projection, y=definitionality, ax=ax[0])\n",
        "a = sns.regplot(x=projection2, y=definitionality, ax=ax[1])\n",
        "ax[0].set_xlabel(\"Projection (one pair)\")\n",
        "ax[1].set_xlabel(\"Projection (several pairs)\")\n",
        "ax[0].set_ylabel(\"Human labelled definitional genderedness\")\n",
        "fig.tight_layout(pad=.5)\n",
        "fig.show()"
      ],
      "execution_count": null,
      "outputs": [
        {
          "output_type": "display_data",
          "data": {
            "image/png": "[encoded data removed]",
            "text/plain": [
              "<Figure size 864x360 with 2 Axes>"
            ]
          },
          "metadata": {
            "tags": [],
            "needs_background": "light"
          }
        }
      ]
    },
    {
      "cell_type": "markdown",
      "metadata": {
        "id": "cjgbqFix9A6Z"
      },
      "source": [
        "## More analogies\n",
        "\n",
        "The paper defines a more advances procedure for analogies as:\n",
        "\n",
        "$S_{(a,b)}(x, y) = \\left\\{\\begin{matrix}\n",
        "cos(\\overrightarrow{a}-\\overrightarrow{b}, \\overrightarrow{x}-\\overrightarrow{y}) & \\parallel \\overrightarrow{x}-\\overrightarrow{y} \\parallel \\leq 1\\\\ \n",
        "0 &  \\text{otherwise}\n",
        "\\end{matrix}\\right.$\n",
        "\n",
        "This should return a list of tuples with word pairs."
      ]
    },
    {
      "cell_type": "code",
      "metadata": {
        "colab": {
          "base_uri": "https://localhost:8080/"
        },
        "id": "HY3EsrrTvxFx",
        "outputId": "f5b4f1ff-cb4f-4cc5-818f-2b5a2a41dd4e"
      },
      "source": [
        "assert len(analyzer.analogies(analyzer['man']-analyzer['woman'], ['actor', 'actress'])) == 1\n",
        "assert type(analyzer.analogies(analyzer['man']-analyzer['woman'], ['actor', 'actress'])) == list\n",
        "assert type(analyzer.analogies(analyzer['man']-analyzer['woman'], ['actor', 'actress'])[0]) == tuple\n",
        "\n",
        "analyzer.analogies(analyzer['man']-analyzer['woman'], ['actor', 'actress'])"
      ],
      "execution_count": null,
      "outputs": [
        {
          "output_type": "execute_result",
          "data": {
            "text/plain": [
              "[('actor', 'actress')]"
            ]
          },
          "metadata": {
            "tags": []
          },
          "execution_count": 29
        }
      ]
    },
    {
      "cell_type": "code",
      "metadata": {
        "colab": {
          "base_uri": "https://localhost:8080/"
        },
        "id": "VK9et5C29AYD",
        "outputId": "5951963f-6518-4bcd-fc43-9d4ae2869ff8"
      },
      "source": [
        "analyzer.analogies(analogy_direction=direction2, tokens=titles)"
      ],
      "execution_count": null,
      "outputs": [
        {
          "output_type": "execute_result",
          "data": {
            "text/plain": [
              "[('accountant', 'businesswoman'),\n",
              " ('actor', 'actress'),\n",
              " ('actress', 'waitress'),\n",
              " ('administrator', 'bureaucrat'),\n",
              " ('adventurer', 'protagonist'),\n",
              " ('advocate', 'campaigner'),\n",
              " ('aide', 'counselor'),\n",
              " ('alderman', 'solicitor'),\n",
              " ('alter_ego', 'fashion_designer'),\n",
              " ('ambassador', 'secretary'),\n",
              " ('analyst', 'columnist'),\n",
              " ('anthropologist', 'pediatrician'),\n",
              " ('archaeologist', 'anthropologist'),\n",
              " ('archbishop', 'parishioner'),\n",
              " ('architect', 'painter'),\n",
              " ('artist', 'singer'),\n",
              " ('artiste', 'performer'),\n",
              " ('assassin', 'bodyguard'),\n",
              " ('astronomer', 'archaeologist'),\n",
              " ('athlete', 'swimmer'),\n",
              " ('attorney', 'paralegal'),\n",
              " ('author', 'novelist'),\n",
              " ('ballerina', 'actress'),\n",
              " ('banker', 'businesswoman'),\n",
              " ('barber', 'hairdresser'),\n",
              " ('barrister', 'campaigner'),\n",
              " ('bartender', 'waitress'),\n",
              " ('biologist', 'pediatrician'),\n",
              " ('bishop', 'parishioner'),\n",
              " ('bookkeeper', 'waitress'),\n",
              " ('boss', 'bartender'),\n",
              " ('boxer', 'wrestler'),\n",
              " ('broadcaster', 'columnist'),\n",
              " ('broker', 'realtor'),\n",
              " ('businessman', 'businesswoman'),\n",
              " ('businesswoman', 'waitress'),\n",
              " ('butcher', 'hairdresser'),\n",
              " ('butler', 'baker'),\n",
              " ('cameraman', 'photojournalist'),\n",
              " ('campaigner', 'businesswoman'),\n",
              " ('captain', 'officer'),\n",
              " ('cardiologist', 'nurse'),\n",
              " ('caretaker', 'housekeeper'),\n",
              " ('cartoonist', 'novelist'),\n",
              " ('cellist', 'ballerina'),\n",
              " ('chancellor', 'secretary'),\n",
              " ('chaplain', 'lecturer'),\n",
              " ('character', 'protagonist'),\n",
              " ('chemist', 'pediatrician'),\n",
              " ('choreographer', 'actress'),\n",
              " ('cinematographer', 'actress'),\n",
              " ('cleric', 'chaplain'),\n",
              " ('clerk', 'bookkeeper'),\n",
              " ('coach', 'goalkeeper'),\n",
              " ('collector', 'curator'),\n",
              " ('colonel', 'surgeon'),\n",
              " ('columnist', 'novelist'),\n",
              " ('comedian', 'actress'),\n",
              " ('comic', 'illustrator'),\n",
              " ('commander', 'deputy'),\n",
              " ('commentator', 'columnist'),\n",
              " ('commissioner', 'secretary'),\n",
              " ('composer', 'singer'),\n",
              " ('conductor', 'cellist'),\n",
              " ('confesses', 'waitress'),\n",
              " ('congressman', 'senator'),\n",
              " ('constable', 'detective'),\n",
              " ('consultant', 'businesswoman'),\n",
              " ('cop', 'detective'),\n",
              " ('correspondent', 'photojournalist'),\n",
              " ('councilman', 'realtor'),\n",
              " ('councilor', 'secretary'),\n",
              " ('counselor', 'therapist'),\n",
              " ('critic', 'novelist'),\n",
              " ('crooner', 'singer'),\n",
              " ('curator', 'librarian'),\n",
              " ('dad', 'trucker'),\n",
              " ('dancer', 'actress'),\n",
              " ('dean', 'professor'),\n",
              " ('dentist', 'nurse'),\n",
              " ('deputy', 'secretary'),\n",
              " ('dermatologist', 'nurse'),\n",
              " ('detective', 'receptionist'),\n",
              " ('diplomat', 'socialite'),\n",
              " ('director', 'choreographer'),\n",
              " ('drummer', 'vocalist'),\n",
              " ('economist', 'anthropologist'),\n",
              " ('editor', 'columnist'),\n",
              " ('educator', 'businesswoman'),\n",
              " ('electrician', 'homemaker'),\n",
              " ('employee', 'receptionist'),\n",
              " ('entertainer', 'actress'),\n",
              " ('entrepreneur', 'businesswoman'),\n",
              " ('environmentalist', 'businesswoman'),\n",
              " ('envoy', 'ambassador'),\n",
              " ('epidemiologist', 'pediatrician'),\n",
              " ('evangelist', 'parishioner'),\n",
              " ('farmer', 'housewife'),\n",
              " ('filmmaker', 'actress'),\n",
              " ('financier', 'businesswoman'),\n",
              " ('firefighter', 'welder'),\n",
              " ('fireman', 'firefighter'),\n",
              " ('fisherman', 'sailor'),\n",
              " ('footballer', 'swimmer'),\n",
              " ('foreman', 'bookkeeper'),\n",
              " ('gangster', 'bartender'),\n",
              " ('gardener', 'housekeeper'),\n",
              " ('geologist', 'anthropologist'),\n",
              " ('goalkeeper', 'understudy'),\n",
              " ('guitarist', 'vocalist'),\n",
              " ('hairdresser', 'waitress'),\n",
              " ('handyman', 'waitress'),\n",
              " ('headmaster', 'teacher'),\n",
              " ('historian', 'novelist'),\n",
              " ('hitman', 'bartender'),\n",
              " ('homemaker', 'waitress'),\n",
              " ('housekeeper', 'maid'),\n",
              " ('housewife', 'maid'),\n",
              " ('illustrator', 'novelist'),\n",
              " ('industrialist', 'businesswoman'),\n",
              " ('infielder', 'ballplayer'),\n",
              " ('inspector', 'prosecutor'),\n",
              " ('instructor', 'teacher'),\n",
              " ('inventor', 'philanthropist'),\n",
              " ('janitor', 'waitress'),\n",
              " ('jeweler', 'shopkeeper'),\n",
              " ('journalist', 'actress'),\n",
              " ('judge', 'prosecutor'),\n",
              " ('jurist', 'sociologist'),\n",
              " ('laborer', 'housewife'),\n",
              " ('landlord', 'shopkeeper'),\n",
              " ('lawmaker', 'prosecutor'),\n",
              " ('lawyer', 'businesswoman'),\n",
              " ('lecturer', 'librarian'),\n",
              " ('legislator', 'businesswoman'),\n",
              " ('lieutenant', 'superintendent'),\n",
              " ('lyricist', 'actress'),\n",
              " ('maestro', 'violinist'),\n",
              " ('magician', 'performer'),\n",
              " ('magistrate', 'servant'),\n",
              " ('manager', 'caretaker'),\n",
              " ('marshal', 'officer'),\n",
              " ('mathematician', 'pediatrician'),\n",
              " ('mechanic', 'welder'),\n",
              " ('medic', 'nurse'),\n",
              " ('midfielder', 'goalkeeper'),\n",
              " ('minister', 'secretary'),\n",
              " ('missionary', 'parishioner'),\n",
              " ('mobster', 'bartender'),\n",
              " ('monk', 'nun'),\n",
              " ('musician', 'actress'),\n",
              " ('nanny', 'maid'),\n",
              " ('narrator', 'protagonist'),\n",
              " ('naturalist', 'anthropologist'),\n",
              " ('negotiator', 'mediator'),\n",
              " ('neurologist', 'pediatrician'),\n",
              " ('neurosurgeon', 'nurse'),\n",
              " ('novelist', 'actress'),\n",
              " ('nurse', 'maid'),\n",
              " ('officer', 'serviceman'),\n",
              " ('organist', 'cellist'),\n",
              " ('painter', 'novelist'),\n",
              " ('parishioner', 'housekeeper'),\n",
              " ('parliamentarian', 'campaigner'),\n",
              " ('pastor', 'parishioner'),\n",
              " ('pathologist', 'nurse'),\n",
              " ('patrolman', 'bartender'),\n",
              " ('pediatrician', 'nurse'),\n",
              " ('performer', 'actress'),\n",
              " ('pharmacist', 'nurse'),\n",
              " ('philanthropist', 'businesswoman'),\n",
              " ('philosopher', 'novelist'),\n",
              " ('photographer', 'stylist'),\n",
              " ('photojournalist', 'novelist'),\n",
              " ('physician', 'nurse'),\n",
              " ('physicist', 'pediatrician'),\n",
              " ('pianist', 'actress'),\n",
              " ('playwright', 'actress'),\n",
              " ('plumber', 'hairdresser'),\n",
              " ('poet', 'singer'),\n",
              " ('policeman', 'waitress'),\n",
              " ('politician', 'businesswoman'),\n",
              " ('preacher', 'parishioner'),\n",
              " ('president', 'secretary'),\n",
              " ('priest', 'nun'),\n",
              " ('professor', 'pediatrician'),\n",
              " ('proprietor', 'shopkeeper'),\n",
              " ('protege', 'bodyguard'),\n",
              " ('provost', 'chaplain'),\n",
              " ('psychiatrist', 'nurse'),\n",
              " ('psychologist', 'therapist'),\n",
              " ('publicist', 'businesswoman'),\n",
              " ('pundit', 'columnist'),\n",
              " ('radiologist', 'nurse'),\n",
              " ('ranger', 'trooper'),\n",
              " ('realtor', 'businesswoman'),\n",
              " ('receptionist', 'waitress'),\n",
              " ('researcher', 'pediatrician'),\n",
              " ('restaurateur', 'waitress'),\n",
              " ('salesman', 'waitress'),\n",
              " ('saxophonist', 'singer'),\n",
              " ('scholar', 'librarian'),\n",
              " ('scientist', 'pediatrician'),\n",
              " ('screenwriter', 'actress'),\n",
              " ('sculptor', 'artist'),\n",
              " ('sergeant', 'medic'),\n",
              " ('servant', 'maid'),\n",
              " ('serviceman', 'medic'),\n",
              " ('shopkeeper', 'waitress'),\n",
              " ('singer', 'actress'),\n",
              " ('socialite', 'waitress'),\n",
              " ('sociologist', 'pediatrician'),\n",
              " ('soldier', 'servant'),\n",
              " ('solicitor', 'paralegal'),\n",
              " ('soloist', 'ballerina'),\n",
              " ('sportsman', 'athlete'),\n",
              " ('sportswriter', 'columnist'),\n",
              " ('statesman', 'journalist'),\n",
              " ('steward', 'bureaucrat'),\n",
              " ('stockbroker', 'businesswoman'),\n",
              " ('strategist', 'planner'),\n",
              " ('student', 'teacher'),\n",
              " ('stylist', 'actress'),\n",
              " ('superintendent', 'principal'),\n",
              " ('surgeon', 'nurse'),\n",
              " ('surveyor', 'solicitor'),\n",
              " ('teacher', 'homemaker'),\n",
              " ('technician', 'nurse'),\n",
              " ('teenager', 'waitress'),\n",
              " ('therapist', 'nurse'),\n",
              " ('trader', 'shopkeeper'),\n",
              " ('treasurer', 'secretary'),\n",
              " ('trooper', 'medic'),\n",
              " ('trucker', 'cabbie'),\n",
              " ('trumpeter', 'vocalist'),\n",
              " ('tutor', 'teacher'),\n",
              " ('tycoon', 'businesswoman'),\n",
              " ('undersecretary', 'secretary'),\n",
              " ('vice_chancellor', 'alter_ego'),\n",
              " ('violinist', 'actress'),\n",
              " ('vocalist', 'actress'),\n",
              " ('waiter', 'waitress'),\n",
              " ('waitress', 'maid'),\n",
              " ('warden', 'chaplain'),\n",
              " ('welder', 'worker'),\n",
              " ('worker', 'housewife'),\n",
              " ('wrestler', 'swimmer'),\n",
              " ('writer', 'novelist')]"
            ]
          },
          "metadata": {
            "tags": []
          },
          "execution_count": 30
        }
      ]
    }
  ]
}