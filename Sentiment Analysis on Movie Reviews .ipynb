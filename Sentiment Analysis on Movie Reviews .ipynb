{
  "nbformat": 4,
  "nbformat_minor": 0,
  "metadata": {
    "colab": {
      "name": "MLAssignment1.ipynb",
      "provenance": [],
      "collapsed_sections": []
    },
    "kernelspec": {
      "display_name": "Python 3",
      "name": "python3"
    },
    "language_info": {
      "name": "python"
    }
  },
  "cells": [
    {
      "cell_type": "code",
      "metadata": {
        "colab": {
          "base_uri": "https://localhost:8080/"
        },
        "id": "Yl-aOB9jqKG-",
        "outputId": "ca7533ab-d6fb-48eb-dcff-d863ea688f1d"
      },
      "source": [
        "!wget -N http://www.cs.cornell.edu/people/pabo/movie-review-data/review_polarity.tar.gz"
      ],
      "execution_count": null,
      "outputs": [
        {
          "output_type": "stream",
          "text": [
            "--2021-05-18 21:48:29--  http://www.cs.cornell.edu/people/pabo/movie-review-data/review_polarity.tar.gz\n",
            "Resolving www.cs.cornell.edu (www.cs.cornell.edu)... 132.236.207.36\n",
            "Connecting to www.cs.cornell.edu (www.cs.cornell.edu)|132.236.207.36|:80... connected.\n",
            "HTTP request sent, awaiting response... 200 OK\n",
            "Length: 3127238 (3.0M) [application/x-gzip]\n",
            "Saving to: ‘review_polarity.tar.gz’\n",
            "\n",
            "review_polarity.tar 100%[===================>]   2.98M  6.07MB/s    in 0.5s    \n",
            "\n",
            "2021-05-18 21:48:30 (6.07 MB/s) - ‘review_polarity.tar.gz’ saved [3127238/3127238]\n",
            "\n"
          ],
          "name": "stdout"
        }
      ]
    },
    {
      "cell_type": "code",
      "metadata": {
        "id": "wFWY5quSqVQY"
      },
      "source": [
        "#Part 1 Import and parse the dataset\n",
        "\n",
        "import tarfile \n",
        "review_polarity = tarfile.open('review_polarity.tar.gz')\n",
        "review_polarity.extractall('./content/review_polarity.tar.gz')\n",
        "review_polarity.close()\n",
        "\n",
        "\n",
        "import os \n",
        "import glob \n",
        "negative_files = glob.glob(os.path.join(os.getcwd(),'./content/review_polarity.tar.gz/txt_sentoken/neg','*txt'))\n",
        "positive_files = glob.glob(os.path.join(os.getcwd(),'./content/review_polarity.tar.gz/txt_sentoken/pos','*txt'))\n",
        "\n",
        "#X_raw are the reviews   \n",
        "#y values are the labels \n",
        "X_raw = []\n",
        "y = []\n",
        "#Put files for negative and positive reviews into X_raw \n",
        "\n",
        "for file_path in negative_files:\n",
        "  with open(file_path) as data_input: \n",
        "    X_raw.append(data_input.read().split())\n",
        "\n",
        "for file_path in positive_files: \n",
        "  with open(file_path) as data_input: \n",
        "    X_raw.append(data_input.read().split())\n",
        "\n",
        "#Append the first thousand entries with the negative reviews (-1)\n",
        "for i in range(0,1000): \n",
        "  y.append(-1)\n",
        "#Append the second thousand entires with the positive reviews (1)\n",
        "for i in range(1000,2000):\n",
        "  y.append(1)\n",
        "\n",
        "\n",
        "\n",
        "\n",
        "\n"
      ],
      "execution_count": null,
      "outputs": []
    },
    {
      "cell_type": "code",
      "metadata": {
        "id": "t5unVWd84el1"
      },
      "source": [
        "#Part 2 Extracting features from data\n",
        "\n",
        "import numpy as np\n",
        "\n",
        "#Put the data from X_raw into the ordered vocabulary \n",
        "ordered_vocabulary = set()\n",
        "for i, doc in enumerate(X_raw): \n",
        "  X_raw[i] = set(doc) \n",
        "  for word in X_raw[i]:\n",
        "    ordered_vocabulary.add(word) #\n",
        " \n",
        "#Create an array that is the size of X_raw by the size of ordered_vocabulary \n",
        "X = np.zeros((len(X_raw), len(ordered_vocabulary)))\n",
        "\n",
        "ordered_vocabulary = list(ordered_vocabulary)\n",
        "ordered_vocabulary.sort() #Turn ordered vocabulary into a sorted list \n",
        "#Populate this array\n",
        "for index, doc in enumerate(X_raw): \n",
        "  for index2, word in enumerate(ordered_vocabulary):\n",
        "    if word in doc:\n",
        "            X[index][index2]=1"
      ],
      "execution_count": null,
      "outputs": []
    },
    {
      "cell_type": "code",
      "metadata": {
        "colab": {
          "base_uri": "https://localhost:8080/"
        },
        "id": "wcIZ0JNWDT5Q",
        "outputId": "380d8766-04e4-439a-b690-b86339279379"
      },
      "source": [
        "#Create pseudo-input \n",
        "\n",
        "#Split data into train and test sets in 80/20 proportion\n",
        "#balance number of positive and negatives and define X and y as matrices\n",
        "\n",
        "\n",
        "X = np.insert(X,0,1,axis=1)#x0 is the pseudo input 1, the initial guess for the parameter vector \n",
        "X_train = np.concatenate((X[:800], X[1000:1800]), axis=0)\n",
        "X_test = np.concatenate((X[800:1000], X[1800:2000]), axis=0)\n",
        "Y_train = np.concatenate((y[:800], y[1000:1800]), axis=0)\n",
        "Y_test = np.concatenate((y[800:1000], y[1800:2000]), axis=0)\n",
        "\n",
        "print(len(X_train))\n",
        "print(len(X_test))\n",
        "print(len(Y_train))\n",
        "print(len(Y_test))"
      ],
      "execution_count": null,
      "outputs": [
        {
          "output_type": "stream",
          "text": [
            "1600\n",
            "400\n",
            "1600\n",
            "400\n"
          ],
          "name": "stdout"
        }
      ]
    },
    {
      "cell_type": "code",
      "metadata": {
        "id": "VEw3OSuyDK66"
      },
      "source": [
        "#Part 3 Learning Framework\n",
        "import numpy as np\n",
        "import math\n",
        "\n",
        "class Classifier: \n",
        "\n",
        "  def __init__(self, weight = None, learning_rate=0.01,epoch =1000, reg_dampening =.001):\n",
        "    self.weight = weight\n",
        "    self.learning_rate = learning_rate\n",
        "    self.epoch = epoch\n",
        "    self.reg_dampening = reg_dampening\n",
        "    \n",
        "\n",
        "  #Predict \n",
        "  def predict(self,w,X): #The initial hyperplane is given by the function that takes the sign of the dot product of omega and X. \n",
        "    dot_product_list = []  \n",
        "    for i in range(len(X)):\n",
        "      dot_product = np.dot(X[i],w) \n",
        "      dot_product_list.append(dot_product)#append all results of iterative dot product \n",
        "    dot_product_list = np.array(dot_product_list)\n",
        "    sign_of_dot_product = np.sign(dot_product_list) #sign function of the same dot product value \n",
        "    fx_evaluated = np.array([i for i in sign_of_dot_product]) # Initial hyperplane is the sign of dot product evaluated, which equals the predicted y labels. \n",
        "    return sign_of_dot_product #Predicted labels from model with arbitrary w values to be tuned later\n",
        "\n",
        "  def dot_product_no_sign(self,w,X): #created to use in hinge_loss function as input for the given equation\n",
        "    dot_product_list = []  \n",
        "    for i in range(len(X)):\n",
        "      dot_product = np.dot(X[i],w)\n",
        "      dot_product_list.append(dot_product)\n",
        "    fx_evaluated = np.array([i for i in dot_product_list]) \n",
        "    return fx_evaluated \n",
        "\n",
        "  def l_2Regularization(self, w): \n",
        "  #Regularization adds the normal of the parameter vector squared & a lambda value/2 to the model. \n",
        "    \n",
        "    value1 = (self.reg_dampening/2) #lambda value/2\n",
        "    value2 = (np.linalg.norm(w)) # the normal vector of w \n",
        "    value2squared= (value2)**2\n",
        "    regularization = value1 * value2squared #entire regularization expression \n",
        "\n",
        "    return regularization\n",
        "  def hinge_loss(self,X,y): #Function calculates the loss for our model. Taken together with l2reg\n",
        "  #X = sample data \n",
        "  #y = label \n",
        "    predicted_y = self.dot_product_no_sign(self.weight, X)\n",
        "    count = 0\n",
        "    for i in range(len(X)): \n",
        "      element2= np.max([0,1- y[i] * predicted_y[i]])  #operation to maximize margin stored in one expression\n",
        "      count += element2\n",
        "    return count \n",
        "  def objective_function(self, X, y, w):\n",
        "    reg = self.l_2Regularization(w) #positive attenuation parameter to keep it from dominating the function\n",
        "    element2= self.hinge_loss(X,y)\n",
        "    objective_function = reg + element2\n",
        "    return objective_function #hinge loss and reg together in one expression\n",
        "  \n",
        "\n",
        "  def gradient_descent(self,X,y,w): #Doing the analytical equivalent of taking a derivative of the loss with respect to every w value iternatively. \n",
        "  #Xi is a vector-- the ith data point\n",
        "  #yi is a scalar--the ith label\n",
        "    self.X_train = X\n",
        "    self.Y_train = y \n",
        "    self.weight = w\n",
        "    lambda_w = self.reg_dampening * self.weight #created to use as variable in given operation\n",
        "    count = 0 \n",
        "    for i in range(len(X)):\n",
        "      if y[i]* np.dot(w,X[i]) < 1: \n",
        "        count += -y[i]*X[i] #create a count for iterating through elements of both y and X given the condition in the given equation\n",
        "    gradient = lambda_w + count #store gradient in a variable to use in next line, for the reevaluated weight \n",
        "    reevaluated_weight = w - self.learning_rate * gradient \n",
        "    return reevaluated_weight\n",
        "\n",
        "\n",
        "  def fit(self,X,y): #Fit with respect to input data \n",
        "    self.weight = np.random.randn(len(X[0]))\n",
        "    iter = 0 #\n",
        "    best_loss = 0\n",
        "    count = 0\n",
        "    for i in range(self.epoch): #iterate through the number of specified epoch \n",
        "      if best_loss == 0: #model does not have a loss before beginning this iterative process, starting point for the following conditions \n",
        "        loss = self.objective_function(X, y, self.weight)\n",
        "        self.weight = self.gradient_descent(X, y, self.weight)\n",
        "        best_loss = self.objective_function(X, y, self.weight)\n",
        "        iter += 1\n",
        "      else:\n",
        "        if loss > best_loss-0.001:  \n",
        "          if iter < self.epoch: #prevent training for stopping too soon with respect to the epoch specified \n",
        "            loss = self.objective_function(X, y, self.weight)\n",
        "            best_loss = loss #update best loss \n",
        "            self.weight = self.gradient_descent(X, y, self.weight) #update weight with respect to output of gradient descent operation\n",
        "            loss = self.objective_function(X, y, self.weight) \n",
        "            count += 1\n",
        "            iter += 1\n",
        "\n",
        "          else:\n",
        "            if count > 5: #if the weight is not changing significantly forfiver iterations then the training will stop \n",
        "              break \n",
        "\n",
        "        elif loss <= best_loss - 0.001:\n",
        "          loss = self.objective_function(X, y, self.weight)\n",
        "          best_loss = loss \n",
        "          self.weight = self.gradient_descent(X, y, self.weight)\n",
        "          loss = self.objective_function(X, y, self.weight)\n",
        "          iter += 1\n",
        "      #if iter % 50 == 0:\n",
        "        #print(f\"iter: {iter}, weight: {self.weight}, loss: {loss}\")\n",
        "    return loss \n",
        "      \n",
        "  def score(self,X,y): #Return accuracy with respect to input data \n",
        "    a = self.predict(self.weight,X).reshape(-1, 1) #store operation on X from predict method in variable\n",
        "    y = y.reshape(-1, 1) #reshape y to be able to do np.sum with y and a together \n",
        "    accuracy = np.sum(a==y)/len(y) \n",
        "    return accuracy\n",
        "\n"
      ],
      "execution_count": null,
      "outputs": []
    },
    {
      "cell_type": "code",
      "metadata": {
        "colab": {
          "base_uri": "https://localhost:8080/"
        },
        "id": "64yonwqL4Ja_",
        "outputId": "8db78d6d-b197-4125-d4c5-5906e20958d1"
      },
      "source": [
        "import numpy as np\n",
        "model= Classifier()\n",
        "\n",
        "model.fit(X_train,Y_train)\n",
        "print(model.weight)\n"
      ],
      "execution_count": null,
      "outputs": [
        {
          "output_type": "stream",
          "text": [
            "[-0.07237029  1.75167264 -1.48954642 ... -0.46809494  1.09483905\n",
            "  1.49516098]\n"
          ],
          "name": "stdout"
        }
      ]
    },
    {
      "cell_type": "code",
      "metadata": {
        "colab": {
          "base_uri": "https://localhost:8080/",
          "height": 207
        },
        "id": "HSLEUruTJTWz",
        "outputId": "3b67eef0-6f12-4454-eb26-9b130ffb9cb3"
      },
      "source": [
        "#Visualization of the weights with respect to the \n",
        "import matplotlib.pyplot as plt\n",
        " \n",
        "plt.figure(figsize=(20, 3))\n",
        "plt.plot(model.weight[1:])\n",
        "plt.xlabel(\"Value\")\n",
        "plt.xlabel(\"Weights\")\n",
        "plt.show()"
      ],
      "execution_count": null,
      "outputs": [
        {
          "output_type": "display_data",
          "data": {
            "image/png": "[encoded data removed]",
            "text/plain": [
              "<Figure size 1440x216 with 1 Axes>"
            ]
          },
          "metadata": {
            "tags": [],
            "needs_background": "light"
          }
        }
      ]
    },
    {
      "cell_type": "code",
      "metadata": {
        "colab": {
          "base_uri": "https://localhost:8080/"
        },
        "id": "1VSEZmB-FeQm",
        "outputId": "a008a8e1-1038-420c-f6b8-bd328464aea8"
      },
      "source": [
        "import matplotlib.pyplot as plt\n",
        "list(ordered_vocabulary) \n",
        "print(len(model.weight))\n",
        "print(len(ordered_vocabulary))\n",
        "#the weight is the length of ordered vocabulary,so every element will represent the weight of one word\n",
        "#assert (len(model.weight)-1) == len(ordered_vocabulary)\n",
        "\n",
        "# Sort by absolute value\n",
        "idx = np.argsort(np.abs(model.weight[1:]))#start from one because of pseudo input \n",
        "print(\"                Word   Weight  Occurences\")\n",
        "for i in idx[-20:]:   # Pick those with highest 'voting' values\n",
        "  print(\"%20s   %.3f\\t%i \" % (ordered_vocabulary[i], model.weight[i+1], np.sum([ordered_vocabulary[i] in d for d in X_raw])))"
      ],
      "execution_count": null,
      "outputs": [
        {
          "output_type": "stream",
          "text": [
            "50921\n",
            "50920\n",
            "                Word   Weight  Occurences\n",
            "               quite   14.307\t472 \n",
            "        performances   14.730\t368 \n",
            "                   ?   -14.756\t1228 \n",
            "              reason   -14.781\t360 \n",
            "               looks   -14.797\t363 \n",
            "          ridiculous   -14.926\t128 \n",
            "                mess   -14.998\t145 \n",
            "               world   15.328\t569 \n",
            "                also   15.674\t1070 \n",
            "                both   16.733\t620 \n",
            "              stupid   -16.834\t192 \n",
            "                plot   -17.933\t875 \n",
            "            supposed   -18.129\t255 \n",
            "              boring   -18.336\t217 \n",
            "             nothing   -18.417\t589 \n",
            "                have   -19.103\t1631 \n",
            "       unfortunately   -19.377\t329 \n",
            "              script   -22.039\t538 \n",
            "               worst   -23.775\t237 \n",
            "                 bad   -29.080\t760 \n"
          ],
          "name": "stdout"
        }
      ]
    },
    {
      "cell_type": "code",
      "metadata": {
        "id": "yEnTIcvpMSWR"
      },
      "source": [
        ""
      ],
      "execution_count": null,
      "outputs": []
    },
    {
      "cell_type": "markdown",
      "metadata": {
        "id": "Ed-amqFeN3cG"
      },
      "source": [
        "#Comments on the decision boundary and the weights \n",
        "\n",
        "Bad is the word with the highest weight out of the top twenty words with the most significant weighting in the model. It is of course a negative polarity, and it will be weighed more highly when it comes to the model classifying whether an unseen review is positive or negative. Other words that have negative connotations are also more heavily weighted in the model, such as boring, stupid, mess, unfortunately, and worst. On the other side of the decision boundary we have words that are more likely to be in positive reviews, as per how the model was trained, for example, perfect, and best. When I ran the model again the last time the results changed slightly but include words like \"quite\" and \"performance\" in the positive polarity, which normally would be used to talk positively about things, but aren't only positive. \n",
        "\n",
        "The model has done a pretty good job of classifying these positive and negative associations into positive and negative weights for classifying any future unseen reviews. \n",
        "One obvious shortcoming is how the model seems to be overlearning on \"?\", as I only split the data and did not use regular expressions to remove punctuation. It has determined that they show up more often in negative reviews, where it seems obvious such a factor is arbitrary and has no negative or positive significance. \n",
        "\n"
      ]
    },
    {
      "cell_type": "code",
      "metadata": {
        "colab": {
          "base_uri": "https://localhost:8080/"
        },
        "id": "vIG62Dsdc8ie",
        "outputId": "6352cb53-1293-4d1f-a23b-57b456fb6376"
      },
      "source": [
        "#Part 4\n",
        "#Return train set accuracy\n",
        "reguliser_dampening= np.exp(np.linspace(np.log(0.0001), np.log(3), 10))\n",
        "learning_rate=np.exp(np.linspace(np.log(0.1), np.log(3), 10))\n",
        "parameter_distribution = {'learning_rate': np.exp(np.linspace(np.log(0.0001), np.log(3), 10)),'reguliser_dampening': np.exp(np.linspace(np.log(0.0001), np.log(3), 10))}\n",
        "\n",
        "\n",
        "best_hyperparameters = None\n",
        "print(\"Learning rate:\\tReg.dampening:\\tTraining set accuracy:\")\n",
        "learning_rate = parameter_distribution['learning_rate']\n",
        "reguliser_dampening = parameter_distribution['reguliser_dampening']\n",
        "\n",
        "for rd in reguliser_dampening: \n",
        "    for lr in learning_rate:\n",
        "      model = Classifier(learning_rate = lr,reg_dampening=rd)\n",
        "      model.fit(X_train, Y_train) #fit model with training set data \n",
        "      training_accuracy = model.score(X_train, Y_train)\n",
        "      hyperparameters = {'learning_rate' : lr, 'reguliser_dampening' : rd}\n",
        "      if best_hyperparameters is None or best_hyperparameters[1] < training_accuracy:\n",
        "        best_hyperparameters = (hyperparameters, training_accuracy)\n",
        "      print(\"%.5f\\t\\t%.5f\\t\\t%.1f%%\" % (hyperparameters['learning_rate'], hyperparameters['reguliser_dampening'], 100*training_accuracy))\n",
        "\n",
        "best_learning_rate = best_hyperparameters[0]['learning_rate']\n",
        "best_reguliser_dampening = best_hyperparameters[0]['reguliser_dampening']\n",
        "print(\"Best parameters: %.5f, %.5f\" % (best_learning_rate, best_reguliser_dampening))\n"
      ],
      "execution_count": null,
      "outputs": [
        {
          "output_type": "stream",
          "text": [
            "Learning rate:\tReg.dampening:\tTraining set accuracy:\n",
            "0.00010\t\t0.00010\t\t96.5%\n",
            "0.00031\t\t0.00010\t\t99.9%\n",
            "0.00099\t\t0.00010\t\t100.0%\n",
            "0.00311\t\t0.00010\t\t100.0%\n",
            "0.00977\t\t0.00010\t\t100.0%\n",
            "0.03071\t\t0.00010\t\t100.0%\n",
            "0.09655\t\t0.00010\t\t100.0%\n",
            "0.30353\t\t0.00010\t\t100.0%\n",
            "0.95425\t\t0.00010\t\t100.0%\n",
            "3.00000\t\t0.00010\t\t100.0%\n",
            "0.00010\t\t0.00031\t\t96.4%\n",
            "0.00031\t\t0.00031\t\t100.0%\n",
            "0.00099\t\t0.00031\t\t100.0%\n",
            "0.00311\t\t0.00031\t\t100.0%\n",
            "0.00977\t\t0.00031\t\t100.0%\n",
            "0.03071\t\t0.00031\t\t100.0%\n",
            "0.09655\t\t0.00031\t\t100.0%\n",
            "0.30353\t\t0.00031\t\t100.0%\n",
            "0.95425\t\t0.00031\t\t100.0%\n",
            "3.00000\t\t0.00031\t\t100.0%\n",
            "0.00010\t\t0.00099\t\t96.5%\n",
            "0.00031\t\t0.00099\t\t100.0%\n",
            "0.00099\t\t0.00099\t\t100.0%\n",
            "0.00311\t\t0.00099\t\t100.0%\n",
            "0.00977\t\t0.00099\t\t100.0%\n",
            "0.03071\t\t0.00099\t\t100.0%\n"
          ],
          "name": "stdout"
        }
      ]
    },
    {
      "cell_type": "code",
      "metadata": {
        "colab": {
          "base_uri": "https://localhost:8080/"
        },
        "id": "knjICo7hCljv",
        "outputId": "1999685e-90f4-40a7-8700-05dccb4eab9d"
      },
      "source": [
        "#Return test set accuracy for the model  \n",
        "model=Classifier()\n",
        "#Use best hyperparameters from the training in the previous cell\n",
        "Classifier(learning_rate=0.00099,reg_dampening=.00010) #run classifier class with the best hyperparameters as per the results on the training set in the cell below \n",
        "#Fit model with test set data\n",
        "model.fit(X_train, Y_train)\n",
        "#Return test accuracy \n",
        "test_accuracy = model.score(X_test,Y_test)\n",
        "print(\"Test set accuracy %.1f%%\" % (100*test_accuracy))"
      ],
      "execution_count": null,
      "outputs": [
        {
          "output_type": "stream",
          "text": [
            "Test set accuracy 87.8%\n"
          ],
          "name": "stdout"
        }
      ]
    },
    {
      "cell_type": "markdown",
      "metadata": {
        "id": "8m_C1dKTBaYM"
      },
      "source": [
        "#Thoughts on design choices and learning experiences \n",
        "In part one, I decided to only split the data without  additional regular expressions or any other preprocessing measures, just to see how the model would perform and for part two, I merely made an array that would be the size of the list of documents x the size of the ordered vocabulary, and then populated it using a nested for loop. For part three, I decided to follow the steps outlined in the assignment description and try to make a function for every mathematical operation, storing variables and using methods as necessary. Additionally, I chose to make the weight into an array populated by random numbers instead of using zeros or ones, which I tried before and seemed to return bad results. Only after I made every equation in the description into a method, did I use these methods in the given structure (fit, predict, score), which later made part four easier in terms of quickly fitting the model and scoring its performance. \n",
        "In the training and scoring process, 1000 iterations seemed to reduce the loss pretty significantly as opposed to the initial loss which was well into the 10,000s. The model had a loss of 2.577 when the hyper parameters were set to a learning rate of .0031 and a reguliser dampening of .00010 for a training accuracy of 100%.\n",
        "In terms of choosing the hyper parameters for fitting the model with the test data, I chose to go with the parameters that the model used for 100 % accuracy the first time it reached it with the training data set, which are the ones mentioned above. Initially I thought the model had reached 100 percent accuracy on the test set, but this way due to me also fitting the model with test data during this step, which obviously returned a perfect result as the model's accuracy was high, the loss was low, and it had been fit with the data that it would encounter in the test set already. \n",
        "When I rectified this mistake the accuracy on the test set went down to 87,6 with the aforementioned paramters. As an experiment, I played around with other learning rates, like .009, .0307 and the same lambda value as before, which pretty much returned the same result in terms of loss and accuracy.\n",
        "\n",
        "I tried inputting a learning rate of .30353, to see if a higher learning rate would significantly lower the loss after enough iterations and return a higher accuracy, but that did not help. \n",
        "Running part four and fitting the model each time takes a lot of time, and running it one final time before turning it in slightly changed all the information I based my decision on in this report, which will account for any discrepancies. \n",
        "\n",
        "As a final experiment I used .95425 for the learning rate and .00031 as the lambda, which actually returned a slightly lower accuracy of 87.2 %. I also tried .95425 for the learning rate and a different lambda of .00099 to see if perhaps I needed to balance the equation with a different regularisation dampening, but this made the accuracy worse, returning 86.2 percent. \n",
        "\n",
        "The initial hyperparameters I used turned out to be the best.\n",
        "\n",
        "All in all, I found that seeing the weights graphed helped to understand how the polarity was being assigned to certain words as the model was trained, and how a dataset with a decision boundary that could be represented linearly, and in our case with a hyperparameter in multidimensional space, could work pretty well for a small dataset like ours. \n",
        "I would say the accuracy hovering around 87.6 % is pretty good, given the initial decision to keep preprocessing to a minimum. \n",
        "\n",
        "\n",
        "\n"
      ]
    }
  ]
}