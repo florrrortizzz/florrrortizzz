{
  "nbformat": 4,
  "nbformat_minor": 0,
  "metadata": {
    "colab": {
      "name": "FINAL_ML_ASSIGNMENT_2.ipynb",
      "provenance": [],
      "collapsed_sections": []
    },
    "kernelspec": {
      "display_name": "Python 3",
      "name": "python3"
    },
    "language_info": {
      "name": "python"
    }
  },
  "cells": [
    {
      "cell_type": "markdown",
      "metadata": {
        "id": "44ONOkZIBbs4"
      },
      "source": [
        "# Data Parsing: \n",
        "Newsgroups: Taken from sci-kit learn\n",
        "\n",
        "Reuters: Parsed using beautiful soup"
      ]
    },
    {
      "cell_type": "code",
      "metadata": {
        "id": "GvMBDaxbyeUt"
      },
      "source": [
        "import tarfile \n",
        "import bs4\n",
        "from bs4 import BeautifulSoup\n",
        "import numpy as np\n",
        "from sklearn.pipeline import Pipeline\n",
        "from sklearn.feature_extraction.text import TfidfVectorizer\n",
        "from sklearn.neighbors import KNeighborsClassifier\n",
        "from sklearn.ensemble import RandomForestClassifier"
      ],
      "execution_count": null,
      "outputs": []
    },
    {
      "cell_type": "code",
      "metadata": {
        "id": "CVwWoAEjmvLO",
        "colab": {
          "base_uri": "https://localhost:8080/"
        },
        "outputId": "8981ad31-93f1-4c18-9d79-cfb5824be6a4"
      },
      "source": [
        "from sklearn.datasets import fetch_20newsgroups\n",
        "\n",
        "newsgroups_train = fetch_20newsgroups(subset='train', remove=('headers', 'footers', 'quotes'))\n",
        "newsgroups_test = fetch_20newsgroups(subset='test', remove=('headers', 'footers', 'quotes'))"
      ],
      "execution_count": null,
      "outputs": [
        {
          "output_type": "stream",
          "text": [
            "Downloading 20news dataset. This may take a few minutes.\n",
            "Downloading dataset from https://ndownloader.figshare.com/files/5975967 (14 MB)\n"
          ],
          "name": "stderr"
        }
      ]
    },
    {
      "cell_type": "code",
      "metadata": {
        "colab": {
          "base_uri": "https://localhost:8080/"
        },
        "id": "QrKOPI22nGCI",
        "outputId": "53ab9b87-6973-4d6a-80c0-0cb30de1536d"
      },
      "source": [
        "!wget -N https://kdd.ics.uci.edu/databases/reuters21578/reuters21578.tar.gz"
      ],
      "execution_count": null,
      "outputs": [
        {
          "output_type": "stream",
          "text": [
            "--2021-06-02 19:07:43--  https://kdd.ics.uci.edu/databases/reuters21578/reuters21578.tar.gz\n",
            "Resolving kdd.ics.uci.edu (kdd.ics.uci.edu)... 128.195.1.86\n",
            "Connecting to kdd.ics.uci.edu (kdd.ics.uci.edu)|128.195.1.86|:443... connected.\n",
            "HTTP request sent, awaiting response... 200 OK\n",
            "Length: 8150596 (7.8M) [application/x-gzip]\n",
            "Saving to: ‘reuters21578.tar.gz’\n",
            "\n",
            "reuters21578.tar.gz 100%[===================>]   7.77M  17.7MB/s    in 0.4s    \n",
            "\n",
            "2021-06-02 19:07:43 (17.7 MB/s) - ‘reuters21578.tar.gz’ saved [8150596/8150596]\n",
            "\n"
          ],
          "name": "stdout"
        }
      ]
    },
    {
      "cell_type": "code",
      "metadata": {
        "id": "Bwciz7eZgsJq"
      },
      "source": [
        "#Import and preprocess reuters \n",
        "import os \n",
        "import glob \n",
        "reuters_data = !tar xvzf reuters21578.tar.gz \n",
        "reuters_data = tarfile.open('reuters21578.tar.gz')\n",
        "reuters_data.extractall('./content/reuters21578.tar.gz')\n",
        "reuters_data.close()\n",
        "\n",
        "#X_reuters are the articles  \n",
        "#y values are the labels, in this case topics  \n",
        "X_reuters = []\n",
        "y_reuters = []\n",
        "#Put articles into X_reuters for preprocessing\n",
        "\n",
        "for filename in glob.glob(os.path.join(\"./content/reuters21578.tar.gz\",\"*.sgm\")): #find all files that end in sgm\n",
        "    with open(filename,\"rb\") as f: \n",
        "      f=f.read()\n",
        "      soup=BeautifulSoup(f, 'html.parser') #tried using lxml and xml but neither worked, whereas this did\n",
        "      articles=soup.find_all(\"reuters\") #articles are a list \n",
        "      subjects=soup.find_all(\"topics\") #topics are also a list \n",
        "    for t in subjects:\n",
        "      if t.text ==\"\": #if topic tag empty \n",
        "        y_reuters.append(0)\n",
        "      elif t.d.next_sibling: #d tag sibling tag \n",
        "        t=[sub.text for sub in t.contents] \n",
        "        y_reuters.append(\" \".join(t)) #adding multiple relevant topics for a single article into single string \n",
        "      else:\n",
        "        y_reuters.append(t.text) #append text if there is only one topic \n",
        "    for a in articles:\n",
        "      body = a.find('text') \n",
        "      X_reuters.append(body.text) \n",
        "\n"
      ],
      "execution_count": null,
      "outputs": []
    },
    {
      "cell_type": "markdown",
      "metadata": {
        "id": "4SJy_5FBDs5n"
      },
      "source": [
        "# Feature Extraction for both Newsgroups and Reuters datasets "
      ]
    },
    {
      "cell_type": "code",
      "metadata": {
        "id": "aujt7EYtyWpN"
      },
      "source": [
        "# Newsgroups Feature Extraction\n",
        "\n",
        "import sklearn \n",
        "from sklearn.feature_extraction.text import TfidfVectorizer,CountVectorizer\n",
        "from sklearn.model_selection import train_test_split\n",
        "from sklearn import preprocessing\n",
        "#countvectorizer = CountVectorizer(analyzer= 'word', stop_words='english') #can be enabled to use count vectorizer instead of tfidf \n",
        "\n",
        "tfidfvectorizer = TfidfVectorizer(analyzer='word',stop_words='english', ngram_range=(1, 1)) #using tfidf in favor of it being more finely grained\n",
        "#Splitting newsgroups into train and test \n",
        "newsgroups_dataset = fetch_20newsgroups(subset='all') #retrieving all data and breaking it up into train and test using sklearn train_test_split\n",
        "X_news = newsgroups_dataset.data\n",
        "y_news = newsgroups_dataset.target\n",
        "# Newsgroups Feature Extraction\n",
        "X_news_train, X_news_test, y_news_train, y_news_test = train_test_split(X_news, y_news, test_size=0.2) #80/20 train: test proportion\n",
        "X_news_train = tfidfvectorizer.fit_transform(X_news_train) #vectorizing data newsgroups\n",
        "X_news_test = tfidfvectorizer.transform(X_news_test) #vectorizing test data newsgroups \n",
        "\n",
        "\n",
        "# Reuters Feature Extraction\n",
        "X_reuters_train, X_reuters_test, y_reuters_train, y_reuters_test = train_test_split(X_reuters, y_reuters, test_size=0.2) \n",
        "\n",
        "X_reuters_train = tfidfvectorizer.fit_transform(X_reuters_train) #vectorizing training data reuters\n",
        "X_reuters_test = tfidfvectorizer.transform(X_reuters_test) #vectorizing test data reuters \n"
      ],
      "execution_count": null,
      "outputs": []
    },
    {
      "cell_type": "markdown",
      "metadata": {
        "id": "qLCY45GJNIVu"
      },
      "source": [
        "# **Fitting the Model** \n",
        "\n",
        "# SVC Probabilistic, SVC Non-Probablistic, Multinomial Naive Bayes, K-Neighbors Classifier \n"
      ]
    },
    {
      "cell_type": "code",
      "metadata": {
        "colab": {
          "base_uri": "https://localhost:8080/"
        },
        "id": "_88v9ufesd9o",
        "outputId": "fa364f80-682a-4756-8009-f10d75056b06"
      },
      "source": [
        "########################################## SVC PROBABILISTIC NEWSGROUPS DATASET ############################################\n",
        "\n",
        "import numpy as np\n",
        "from sklearn.svm import SVC\n",
        "from sklearn.metrics import classification_report\n",
        "svm = SVC(kernel='linear', probability=True) #using SVC as probabilistic classifier to compare with non probablistic classifier and its accuracy \n",
        "svm.fit(X_news_train, y_news_train) #fit model with train data\n",
        "print(classification_report(y_news_test, svm.predict(X_news_test)))"
      ],
      "execution_count": null,
      "outputs": [
        {
          "output_type": "stream",
          "text": [
            "              precision    recall  f1-score   support\n",
            "\n",
            "           0       0.92      0.94      0.93       155\n",
            "           1       0.84      0.88      0.86       192\n",
            "           2       0.88      0.91      0.89       193\n",
            "           3       0.80      0.83      0.81       194\n",
            "           4       0.91      0.88      0.90       193\n",
            "           5       0.90      0.93      0.91       202\n",
            "           6       0.87      0.88      0.88       213\n",
            "           7       0.94      0.93      0.93       191\n",
            "           8       0.97      0.97      0.97       197\n",
            "           9       0.96      0.96      0.96       204\n",
            "          10       0.98      0.96      0.97       202\n",
            "          11       0.98      0.96      0.97       193\n",
            "          12       0.85      0.89      0.87       176\n",
            "          13       0.93      0.94      0.93       199\n",
            "          14       0.97      0.94      0.96       211\n",
            "          15       0.98      0.96      0.97       206\n",
            "          16       0.97      0.96      0.96       180\n",
            "          17       0.99      0.96      0.98       198\n",
            "          18       0.93      0.91      0.92       141\n",
            "          19       0.94      0.91      0.92       130\n",
            "\n",
            "    accuracy                           0.93      3770\n",
            "   macro avg       0.93      0.92      0.93      3770\n",
            "weighted avg       0.93      0.93      0.93      3770\n",
            "\n"
          ],
          "name": "stdout"
        }
      ]
    },
    {
      "cell_type": "code",
      "metadata": {
        "colab": {
          "base_uri": "https://localhost:8080/"
        },
        "id": "0c1xUitLavyj",
        "outputId": "90dbf68a-4196-4797-b03c-d65a1ff5679d"
      },
      "source": [
        "######################################### SVC PROBABILISTIC REUTERS DATASET ############################################\n",
        "import numpy as np\n",
        "from sklearn.svm import SVC\n",
        "from sklearn.metrics import classification_report\n",
        "svm = SVC(kernel='linear', probability=True) #using SVC as probabilistic classifier to compare with non probablistic setting for the same classifier and its accuracy \n",
        "svm.fit(X_reuters_train, y_reuters_train) #fit model with train data\n",
        "print(classification_report(y_reuters_test, svm.predict(X_reuters_test)))"
      ],
      "execution_count": null,
      "outputs": [
        {
          "output_type": "stream",
          "text": [
            "                                                                                                    precision    recall  f1-score   support\n",
            "\n",
            "                                                                                                 0       0.82      0.93      0.87      1985\n",
            "                                                                                               acq       0.87      0.85      0.86       490\n",
            "                                                                                          acq alum       0.00      0.00      0.00         2\n",
            "                                                                                        acq copper       0.00      0.00      0.00         2\n",
            "                                                                                         acq crude       0.00      0.00      0.00         1\n",
            "                                                                                          acq gold       0.00      0.00      0.00         1\n",
            "                                                                            acq gold silver copper       0.00      0.00      0.00         1\n",
            "                                                                                    acq grain corn       0.00      0.00      0.00         1\n",
            "                                                                                           acq hog       0.00      0.00      0.00         1\n",
            "                                                                                      acq pet-chem       0.00      0.00      0.00         1\n",
            "                                                                                              alum       0.83      0.83      0.83        12\n",
            "                                                                                         alum ship       0.00      0.00      0.00         1\n",
            "                                                                                               bop       0.43      0.50      0.46         6\n",
            "                                                                                         bop trade       0.00      0.00      0.00         5\n",
            "                                                                                     bop trade gnp       0.00      0.00      0.00         1\n",
            "                                                                                           carcass       0.00      0.00      0.00         1\n",
            "                                                                                 carcass livestock       0.50      0.14      0.22         7\n",
            "                                                                          carcass livestock orange       0.00      0.00      0.00         1\n",
            "                                                                                             cocoa       0.80      0.73      0.76        11\n",
            "                                                                                            coffee       0.86      0.90      0.88        20\n",
            "                                                                                coffee cocoa sugar       0.00      0.00      0.00         1\n",
            "                                                                                coffee sugar cocoa       0.00      0.00      0.00         2\n",
            "                                                                                            copper       0.83      0.77      0.80        13\n",
            "                                                                  copper lead zinc strategic-metal       0.00      0.00      0.00         1\n",
            "                                                                                       copper zinc       0.00      0.00      0.00         1\n",
            "                                                                                copper zinc silver       0.00      0.00      0.00         1\n",
            "                                                                                        corn grain       0.00      0.00      0.00         2\n",
            "                                                                                            cotton       1.00      1.00      1.00         6\n",
            "                                                                        cotton sugar veg-oil grain       0.00      0.00      0.00         1\n",
            "                                                                                               cpi       0.78      0.93      0.85        15\n",
            "                                                                                       cpi gnp ipi       0.00      0.00      0.00         1\n",
            "                                                                                             crude       0.83      0.83      0.83        93\n",
            "                                                                                    crude fuel jet       0.00      0.00      0.00         1\n",
            "                                                                                         crude gas       0.33      1.00      0.50         1\n",
            "                                                                                    crude gas fuel       0.00      0.00      0.00         1\n",
            "                                                                                    crude gas heat       0.00      0.00      0.00         1\n",
            "                                                                                    crude heat gas       0.00      0.00      0.00         1\n",
            "                                                                            crude naphtha pet-chem       0.00      0.00      0.00         1\n",
            "                                                                                     crude nat-gas       0.71      0.56      0.63         9\n",
            "                                                                        crude nat-gas gas pet-chem       0.00      0.00      0.00         1\n",
            "                                                                                        crude ship       0.33      0.40      0.36         5\n",
            "                                                                                               dlr       0.00      0.00      0.00         2\n",
            "                                                                             dlr interest money-fx       0.00      0.00      0.00         1\n",
            "                                                                                      dlr money-fx       1.00      0.09      0.17        11\n",
            "                                                                                dlr money-fx trade       0.00      0.00      0.00         1\n",
            "                                                                                              earn       0.93      0.92      0.93       817\n",
            "                                                                                          earn acq       0.00      0.00      0.00         6\n",
            "                                                                                        earn crude       0.00      0.00      0.00         1\n",
            "                                                                                earn crude nat-gas       0.00      0.00      0.00         1\n",
            "                                                                                fishmeal meal-feed       0.00      0.00      0.00         1\n",
            "                                                                                              fuel       0.00      0.00      0.00         2\n",
            "                                                                                               gas       0.86      1.00      0.92         6\n",
            "                                                                                          gas lead       0.00      0.00      0.00         1\n",
            "                                                                                  gas naphtha fuel       0.00      0.00      0.00         1\n",
            "                                                                                               gnp       0.69      0.56      0.62        16\n",
            "                                                                                  gnp cpi money-fx       0.00      0.00      0.00         1\n",
            "                                                                                  gnp cpi reserves       0.00      0.00      0.00         1\n",
            "                                                                            gnp cpi reserves grain       0.00      0.00      0.00         1\n",
            "                                                                                gnp income housing       0.00      0.00      0.00         1\n",
            "                                                                                      gnp interest       0.00      0.00      0.00         1\n",
            "                                                                                      gnp jobs bop       0.00      0.00      0.00         1\n",
            "                                                                                      gnp jobs cpi       0.00      0.00      0.00         1\n",
            "                                                                                  gnp money-supply       0.00      0.00      0.00         1\n",
            "                                                                                              gold       0.65      0.73      0.69        15\n",
            "                                                                                     gold money-fx       0.00      0.00      0.00         1\n",
            "                                                                                     gold platinum       0.00      0.00      0.00         1\n",
            "                                                                     gold platinum strategic-metal       0.00      0.00      0.00         1\n",
            "                                                                                       gold silver       0.00      0.00      0.00         2\n",
            "                                                                              gold silver platinum       0.00      0.00      0.00         1\n",
            "                                                                             gold zinc lead silver       0.00      0.00      0.00         1\n",
            "                                                                                             grain       0.60      0.55      0.57        11\n",
            "                                                                                      grain barley       0.80      0.80      0.80         5\n",
            "                                                                                        grain corn       0.65      0.88      0.75        17\n",
            "                                                                                 grain corn cotton       0.00      0.00      0.00         1\n",
            "                                                                        grain corn oilseed soybean       0.00      0.00      0.00         1\n",
            "                              grain corn oilseed soybean veg-oil soy-oil meal-feed soy-meal cotton       0.00      0.00      0.00         1\n",
            "                                                                                   grain corn rice       0.00      0.00      0.00         2\n",
            "                                                                                   grain corn ship       0.00      0.00      0.00         1\n",
            "                                                                                grain corn sorghum       0.00      0.00      0.00         1\n",
            "                                                                grain corn sorghum sunseed oilseed       0.00      0.00      0.00         1\n",
            "                                                                                  grain corn wheat       0.00      0.00      0.00         1\n",
            "                                                                          grain corn wheat oilseed       0.00      0.00      0.00         1\n",
            "                                                                  grain corn wheat oilseed soybean       0.00      0.00      0.00         2\n",
            "                                                                                     grain oilseed       0.00      0.00      0.00         1\n",
            "grain oilseed meal-feed veg-oil corn wheat soybean soy-oil soy-meal cotton rice sorghum barley oat       0.00      0.00      0.00         1\n",
            "                                                                             grain oilseed soybean       0.00      0.00      0.00         1\n",
            "                                                        grain oilseed sunseed corn soybean sorghum       0.00      0.00      0.00         1\n",
            "                                                                      grain oilseed wheat rapeseed       0.00      0.00      0.00         1\n",
            "                                                                                        grain rice       0.67      0.67      0.67         6\n",
            "                                                                                  grain rice trade       0.00      0.00      0.00         1\n",
            "                                                                                        grain ship       1.00      1.00      1.00         3\n",
            "                                                                                     grain sorghum       0.00      0.00      0.00         1\n",
            "                                                                                       grain wheat       0.67      0.91      0.77        33\n",
            "                                                                                grain wheat barley       0.00      0.00      0.00         4\n",
            "                                                                                grain wheat copper       0.00      0.00      0.00         1\n",
            "                                                                                  grain wheat corn       0.00      0.00      0.00         1\n",
            "                                                                           grain wheat corn barley       0.00      0.00      0.00         1\n",
            "                                                               grain wheat corn barley oat sorghum       0.00      0.00      0.00         1\n",
            "                                                       grain wheat corn cotton sorghum barley corn       0.00      0.00      0.00         1\n",
            "                                                                  grain wheat corn oilseed soybean       0.00      0.00      0.00         1\n",
            "                                                                  grain wheat corn soybean oilseed       0.00      0.00      0.00         2\n",
            "                                                                           grain wheat cotton rice       0.00      0.00      0.00         1\n",
            "                                                                               grain wheat oilseed       0.00      0.00      0.00         1\n",
            "                                                                       grain wheat oilseed soybean       0.00      0.00      0.00         1\n",
            "                                                           grain wheat oilseed soybean cotton rice       0.00      0.00      0.00         1\n",
            "                                                                                 groundnut oilseed       0.00      0.00      0.00         1\n",
            "                                                                                              heat       1.00      1.00      1.00         2\n",
            "                                                                             heat naphtha jet fuel       0.00      0.00      0.00         1\n",
            "                                                                                     hog livestock       0.00      0.00      0.00         2\n",
            "                                                                                           housing       1.00      0.40      0.57         5\n",
            "                                                                                            income       1.00      1.00      1.00         1\n",
            "                                                                                        income ipi       0.00      0.00      0.00         1\n",
            "                                                                                       instal-debt       0.00      0.00      0.00         2\n",
            "                                                                                          interest       0.81      0.62      0.70        71\n",
            "                                                                                  interest housing       0.00      0.00      0.00         1\n",
            "                                                                                 interest money-fx       0.00      0.00      0.00         5\n",
            "                                                                             interest money-fx dlr       0.00      0.00      0.00         1\n",
            "                                                                        interest trade gnp bop cpi       0.00      0.00      0.00         1\n",
            "                                                                                       inventories       0.00      0.00      0.00         1\n",
            "                                                                                               ipi       0.75      0.60      0.67         5\n",
            "                                                                                   ipi inventories       0.00      0.00      0.00         1\n",
            "                                                                                        iron-steel       0.60      0.50      0.55         6\n",
            "                                                                                  iron-steel trade       0.00      0.00      0.00         1\n",
            "                                                                                              jobs       1.00      0.94      0.97        16\n",
            "                                                                                               lei       1.00      0.33      0.50         3\n",
            "                                                                                           lei gnp       0.00      0.00      0.00         1\n",
            "                                                                                         livestock       1.00      0.75      0.86         4\n",
            "                                                                                 livestock carcass       0.17      0.33      0.22         3\n",
            "                                                                                livestock l-cattle       0.00      0.00      0.00         1\n",
            "                                                                                            lumber       0.00      0.00      0.00         3\n",
            "                                                                                         meal-feed       0.00      0.00      0.00         2\n",
            "                                                                              meal-feed copra-cake       0.00      0.00      0.00         1\n",
            "                                                      meal-feed grain corn sorghum oilseed soybean       0.00      0.00      0.00         1\n",
            "                                                                                meal-feed soy-meal       0.00      0.00      0.00         1\n",
            "                                                                                 meal-feed tapioca       0.00      0.00      0.00         1\n",
            "                                                                                          money-fx       0.62      0.59      0.60        58\n",
            "                                                                                      money-fx can       0.00      0.00      0.00         1\n",
            "                                                                                      money-fx dlr       0.38      0.76      0.51        17\n",
            "                                                                                  money-fx dlr dmk       1.00      0.50      0.67         2\n",
            "                                                                             money-fx dlr interest       0.00      0.00      0.00         2\n",
            "                                                                  money-fx dlr stg skr nkr dkr dmk       0.00      0.00      0.00         1\n",
            "                                                                            money-fx dlr trade acq       0.00      0.00      0.00         1\n",
            "                                                                                  money-fx dlr yen       1.00      0.12      0.22         8\n",
            "                                                                                 money-fx interest       0.63      0.54      0.58        41\n",
            "                                                                    money-fx interest money-supply       0.00      0.00      0.00         2\n",
            "                                                                             money-fx interest stg       0.00      0.00      0.00         1\n",
            "                                                                                      money-fx lit       0.00      0.00      0.00         1\n",
            "                                                                                      money-fx nkr       0.00      0.00      0.00         1\n",
            "                                                                                  money-fx sfr dmk       0.00      0.00      0.00         1\n",
            "                                                                                      money-fx stg       0.00      0.00      0.00         1\n",
            "                                                                                    money-fx trade       0.00      0.00      0.00         2\n",
            "                                                                                      money-fx yen       0.00      0.00      0.00         3\n",
            "                                                                                  money-fx yen dlr       0.00      0.00      0.00         1\n",
            "                                                                                      money-supply       0.76      0.73      0.75        26\n",
            "                                                                              money-supply cpi gnp       0.00      0.00      0.00         1\n",
            "                                                                             money-supply interest       0.00      0.00      0.00         1\n",
            "                                                                         money-supply money-fx dlr       0.00      0.00      0.00         1\n",
            "                                                                                           nat-gas       0.71      0.56      0.63         9\n",
            "                                                                                     nat-gas crude       0.00      0.00      0.00         1\n",
            "                                                                                           oilseed       1.00      1.00      1.00         1\n",
            "                                                                                   oilseed coconut       0.00      0.00      0.00         2\n",
            "                                                                                  oilseed rapeseed       1.00      0.67      0.80         3\n",
            "                                                                  oilseed rapeseed soybean sunseed       0.00      0.00      0.00         1\n",
            "                                                                                   oilseed soybean       0.50      1.00      0.67         1\n",
            "                                                                oilseed soybean soy-meal meal-feed       0.00      0.00      0.00         2\n",
            "                                                          oilseed soybean soy-meal veg-oil soy-oil       0.00      0.00      0.00         1\n",
            "                                                                   oilseed soybean strategic-metal       0.00      0.00      0.00         1\n",
            "                                           oilseed soybean veg-oil palm-oil palmkernel coconut-oil       0.00      0.00      0.00         1\n",
            "                           oilseed sunseed soybean rapeseed veg-oil soy-oil palm-oil groundnut-oil       0.00      0.00      0.00         1\n",
            "                                                                   oilseed sunseed veg-oil sun-oil       0.00      0.00      0.00         1\n",
            "                                                                                            orange       1.00      1.00      1.00         2\n",
            "                                                                                  palm-oil veg-oil       0.00      0.00      0.00         1\n",
            "                                                                                          pet-chem       0.00      0.00      0.00         4\n",
            "                                                                                   pet-chem rubber       0.00      0.00      0.00         1\n",
            "                                                                                     pet-chem ship       0.00      0.00      0.00         1\n",
            "                                                                                    plywood lumber       0.00      0.00      0.00         1\n",
            "                                                                                            potato       0.00      0.00      0.00         2\n",
            "                                                                                      propane ship       0.00      0.00      0.00         1\n",
            "                                                                                          reserves       0.89      0.80      0.84        10\n",
            "                                                                                            retail       1.00      1.00      1.00         3\n",
            "                                                                                            rubber       0.80      0.50      0.62         8\n",
            "                                                                                saudriyal money-fx       0.00      0.00      0.00         1\n",
            "                                                                                              ship       0.85      0.61      0.71        38\n",
            "                                                                                        ship crude       1.00      0.20      0.33         5\n",
            "                                                                                  ship grain wheat       0.00      0.00      0.00         1\n",
            "                                                                                  ship trade crude       0.00      0.00      0.00         1\n",
            "                                                                                            silver       1.00      0.50      0.67         2\n",
            "                                                                                       silver gold       0.00      0.00      0.00         1\n",
            "                                                                                      stg money-fx       1.00      1.00      1.00         1\n",
            "                                                                                   strategic-metal       1.00      0.29      0.44         7\n",
            "                                                                                             sugar       0.83      0.83      0.83        30\n",
            "                                                                                  sugar grain corn       0.00      0.00      0.00         1\n",
            "                                                                                   sugar livestock       0.00      0.00      0.00         1\n",
            "                                                                                        sugar ship       0.00      0.00      0.00         2\n",
            "                                                                                               tea       1.00      1.00      1.00         1\n",
            "                                                                                        tea coffee       0.00      0.00      0.00         1\n",
            "                                                                                               tin       1.00      0.83      0.91         6\n",
            "                                                                                             trade       0.68      0.79      0.73        70\n",
            "                       trade alum zinc pet-chem iron-steel grain wheat corn cotton oilseed soybean       0.00      0.00      0.00         1\n",
            "                                                                                         trade bop       0.00      0.00      0.00         6\n",
            "                                                                 trade bop rubber veg-oil palm-oil       0.00      0.00      0.00         1\n",
            "                                                                         trade carcass orange rice       0.00      0.00      0.00         1\n",
            "                                                                                         trade gnp       0.00      0.00      0.00         2\n",
            "                                                                   trade gnp bop reserves money-fx       0.00      0.00      0.00         1\n",
            "                                                                       trade hog carcass livestock       0.00      0.00      0.00         1\n",
            "                                                                                        trade jobs       0.00      0.00      0.00         1\n",
            "                                                               trade livestock carcass grain wheat       0.00      0.00      0.00         1\n",
            "                                                                                      trade lumber       0.00      0.00      0.00         1\n",
            "                                                                                    trade money-fx       0.00      0.00      0.00         2\n",
            "                                                                               trade oilseed grain       0.00      0.00      0.00         1\n",
            "                                                                         trade veg-oil coconut-oil       0.00      0.00      0.00         1\n",
            "                                                                                           veg-oil       0.50      0.80      0.62         5\n",
            "                                         veg-oil coconut copra-cake meal-feed palm-oil coconut-oil       0.00      0.00      0.00         1\n",
            "                                                                                 veg-oil groundnut       0.00      0.00      0.00         1\n",
            "                                                                         veg-oil livestock carcass       0.00      0.00      0.00         1\n",
            "                                                                           veg-oil oilseed soybean       0.00      0.00      0.00         1\n",
            "                                                                                  veg-oil palm-oil       0.67      0.80      0.73         5\n",
            "                                                                      veg-oil palm-oil coconut-oil       0.00      0.00      0.00         1\n",
            "                                                             veg-oil palm-oil lumber coffee rubber       0.00      0.00      0.00         1\n",
            "                                                                                   veg-oil soy-oil       0.00      0.00      0.00         2\n",
            "                                                                                   veg-oil sun-oil       0.00      0.00      0.00         1\n",
            "                                                                                       wheat grain       0.00      0.00      0.00         4\n",
            "                                                                               wheat grain veg-oil       0.00      0.00      0.00         1\n",
            "                                                                                               wpi       1.00      0.67      0.80         6\n",
            "                                                                        wpi gas nat-gas crude heat       0.00      0.00      0.00         1\n",
            "                                                                                               yen       1.00      1.00      1.00         1\n",
            "                                                                                              zinc       0.67      1.00      0.80         2\n",
            "                                                                                  zinc lead copper       0.00      0.00      0.00         1\n",
            "\n",
            "                                                                                          accuracy                           0.83      4316\n",
            "                                                                                         macro avg       0.22      0.20      0.20      4316\n",
            "                                                                                      weighted avg       0.79      0.83      0.81      4316\n",
            "\n"
          ],
          "name": "stdout"
        },
        {
          "output_type": "stream",
          "text": [
            "/usr/local/lib/python3.7/dist-packages/sklearn/metrics/_classification.py:1272: UndefinedMetricWarning: Precision and F-score are ill-defined and being set to 0.0 in labels with no predicted samples. Use `zero_division` parameter to control this behavior.\n",
            "  _warn_prf(average, modifier, msg_start, len(result))\n"
          ],
          "name": "stderr"
        }
      ]
    },
    {
      "cell_type": "code",
      "metadata": {
        "colab": {
          "base_uri": "https://localhost:8080/"
        },
        "id": "7SYnG9b8jHv5",
        "outputId": "661ddadf-5c9c-41c4-b473-93598c88d17e"
      },
      "source": [
        "################################################. SVC NON-PROBABILISTIC NEWSGROUPS DATASET ############################################\n",
        "from sklearn.metrics import classification_report\n",
        "from sklearn.svm import SVC\n",
        "svmnon = SVC(kernel='linear') #using SVC as non probabilistic classifier to compare with probablistic classifier and its accuracy \n",
        "svmnon.fit(X_news_train, y_news_train) #fit model with train data\n",
        "print(classification_report(y_news_test, svmnon.predict(X_news_test)))"
      ],
      "execution_count": null,
      "outputs": [
        {
          "output_type": "stream",
          "text": [
            "              precision    recall  f1-score   support\n",
            "\n",
            "           0       0.93      0.91      0.92       191\n",
            "           1       0.82      0.89      0.85       193\n",
            "           2       0.87      0.88      0.87       190\n",
            "           3       0.80      0.84      0.82       176\n",
            "           4       0.93      0.87      0.90       207\n",
            "           5       0.90      0.88      0.89       202\n",
            "           6       0.85      0.87      0.86       190\n",
            "           7       0.93      0.95      0.94       201\n",
            "           8       0.97      0.96      0.96       211\n",
            "           9       0.97      0.97      0.97       182\n",
            "          10       0.99      0.98      0.99       194\n",
            "          11       0.98      0.95      0.96       210\n",
            "          12       0.86      0.92      0.89       179\n",
            "          13       0.94      0.97      0.95       188\n",
            "          14       0.99      0.97      0.98       204\n",
            "          15       0.94      0.94      0.94       203\n",
            "          16       0.96      0.94      0.95       200\n",
            "          17       0.98      0.99      0.99       177\n",
            "          18       0.96      0.95      0.95       150\n",
            "          19       0.90      0.84      0.87       122\n",
            "\n",
            "    accuracy                           0.92      3770\n",
            "   macro avg       0.92      0.92      0.92      3770\n",
            "weighted avg       0.93      0.92      0.92      3770\n",
            "\n"
          ],
          "name": "stdout"
        }
      ]
    },
    {
      "cell_type": "code",
      "metadata": {
        "colab": {
          "base_uri": "https://localhost:8080/"
        },
        "id": "ZG-UKqi52gTq",
        "outputId": "3f3d44e6-b88d-4227-e61f-0a7387d59b0f"
      },
      "source": [
        "################################# SVC NON-PROBABILISTIC REUTERS DATASET ############################################\n",
        "from sklearn.metrics import classification_report\n",
        "from sklearn.svm import SVC\n",
        "svmnon = SVC(kernel='linear') #using SVC as non probabilistic classifier to compare with probablistic classifier and its accuracy \n",
        "svmnon.fit(X_reuters_train, y_reuters_train) #fit model with train data\n",
        "print(classification_report(y_reuters_test, svmnon.predict(X_reuters_test)))"
      ],
      "execution_count": null,
      "outputs": [
        {
          "output_type": "stream",
          "text": [
            "['0' 'lumber' '0' ... 'acq' '0' '0']\n",
            "                                                                                                    precision    recall  f1-score   support\n",
            "\n",
            "                                                                                                 0       0.82      0.93      0.87      2008\n",
            "                                                                                               acq       0.88      0.82      0.85       494\n",
            "                                                                                        acq copper       0.00      0.00      0.00         1\n",
            "                                                                                         acq crude       0.00      0.00      0.00         1\n",
            "                                                                                 acq crude nat-gas       0.00      0.00      0.00         5\n",
            "                                                                                          acq earn       0.00      0.00      0.00         3\n",
            "                                                                         acq gold silver lead zinc       0.00      0.00      0.00         1\n",
            "                                                                       acq oilseed sunseed soybean       0.00      0.00      0.00         1\n",
            "                                                                                          acq ship       0.00      0.00      0.00         2\n",
            "                                                                                        acq silver       0.00      0.00      0.00         1\n",
            "                                                                                              alum       0.92      0.65      0.76        17\n",
            "                                                                                               bop       0.20      0.40      0.27         5\n",
            "                                                                                           bop gnp       0.00      0.00      0.00         1\n",
            "                                                                                         bop trade       0.00      0.00      0.00         7\n",
            "                                                                                           carcass       0.00      0.00      0.00         2\n",
            "                                                                                 carcass livestock       0.67      0.67      0.67         3\n",
            "                                                                                             cocoa       1.00      0.86      0.92        21\n",
            "                                                                                            coffee       0.80      0.91      0.85        22\n",
            "                                                          coffee oilseed soybean trade sugar cocoa       0.00      0.00      0.00         1\n",
            "                                                                                       coffee ship       0.00      0.00      0.00         1\n",
            "                                                                                 coffee tea rubber       0.00      0.00      0.00         1\n",
            "                                                                                            copper       0.77      0.71      0.74        14\n",
            "                                                                                        corn grain       0.00      0.00      0.00         1\n",
            "                                                                                            cotton       1.00      1.00      1.00         3\n",
            "                                                                                               cpi       0.67      0.91      0.77        11\n",
            "                                                                    cpi crude nat-gas heat propane       0.00      0.00      0.00         1\n",
            "                                                                                               cpu       0.00      0.00      0.00         1\n",
            "                                                                                             crude       0.78      0.90      0.83        81\n",
            "                                                                                         crude gas       0.50      1.00      0.67         1\n",
            "                                                                                    crude gas fuel       0.00      0.00      0.00         1\n",
            "                                                                            crude naphtha pet-chem       0.00      0.00      0.00         1\n",
            "                                                                                     crude nat-gas       0.67      0.31      0.42        13\n",
            "                                                                                crude nat-gas fuel       0.00      0.00      0.00         1\n",
            "                                                                                        crude ship       1.00      0.57      0.73         7\n",
            "                                                                                  cruzado money-fx       0.00      0.00      0.00         1\n",
            "                                                                                      dlr money-fx       1.00      0.14      0.25         7\n",
            "                                                                                dlr money-fx trade       0.00      0.00      0.00         1\n",
            "                                                                                              earn       0.94      0.92      0.93       815\n",
            "                                                                                          earn acq       0.00      0.00      0.00         1\n",
            "                                                                                         earn alum       0.00      0.00      0.00         1\n",
            "                                                                                              fuel       1.00      1.00      1.00         2\n",
            "                                                                                         fuel ship       0.00      0.00      0.00         1\n",
            "                                                                                               gas       1.00      1.00      1.00         1\n",
            "                                                                                         gas crude       0.00      0.00      0.00         1\n",
            "                                                                                    gas fuel crude       0.00      0.00      0.00         1\n",
            "                                                                                               gnp       0.52      0.58      0.55        19\n",
            "                                                                                           gnp bop       0.00      0.00      0.00         1\n",
            "                                                                                      gnp cpi jobs       0.00      0.00      0.00         1\n",
            "                                                                                           gnp gas       0.00      0.00      0.00         1\n",
            "                                                                                gnp income housing       0.00      0.00      0.00         1\n",
            "                                                                       gnp interest money-fx trade       0.00      0.00      0.00         1\n",
            "                                                                                          gnp jobs       0.00      0.00      0.00         1\n",
            "                                                                                      gnp jobs cpi       0.00      0.00      0.00         2\n",
            "                                                                                           gnp lei       0.00      0.00      0.00         1\n",
            "                                                                                              gold       0.64      0.88      0.74        16\n",
            "                                                                                 gold acq platinum       0.00      0.00      0.00         1\n",
            "                                                                                       gold copper       0.00      0.00      0.00         1\n",
            "                                                                     gold platinum strategic-metal       0.00      0.00      0.00         1\n",
            "                                                                             gold zinc lead silver       0.00      0.00      0.00         1\n",
            "                                                                                             grain       0.29      0.33      0.31         6\n",
            "                                                                                         grain acq       0.00      0.00      0.00         1\n",
            "                                                                                      grain barley       1.00      0.20      0.33         5\n",
            "                                                                                 grain barley corn       0.00      0.00      0.00         1\n",
            "                                                                           grain barley corn wheat       0.00      0.00      0.00         1\n",
            "                                                                                        grain corn       0.53      0.82      0.64        11\n",
            "                                                                                 grain corn barley       0.00      0.00      0.00         1\n",
            "                                                                                 grain corn cotton       0.00      0.00      0.00         1\n",
            "                                                                                    grain corn oat       0.00      0.00      0.00         1\n",
            "                                                                        grain corn oilseed soybean       0.00      0.00      0.00         1\n",
            "                                                            grain corn rice oilseed soybean orange       0.00      0.00      0.00         1\n",
            "                                                                                  grain corn wheat       0.00      0.00      0.00         2\n",
            "                                                                           grain corn wheat barley       0.00      0.00      0.00         2\n",
            "                                                                  grain corn wheat oilseed soybean       0.00      0.00      0.00         1\n",
            "                                                                             grain corn wheat rice       0.00      0.00      0.00         1\n",
            "                                       grain corn wheat soybean oilseed barley sorghum cotton rice       0.00      0.00      0.00         1\n",
            "                                                                                   grain meal-feed       0.00      0.00      0.00         1\n",
            "                                                        grain meal-feed carcass soy-meal livestock       0.00      0.00      0.00         1\n",
            "                                                                   grain oilseed meal-feed veg-oil       0.00      0.00      0.00         1\n",
            "grain oilseed meal-feed veg-oil corn wheat soybean soy-oil soy-meal cotton rice sorghum barley oat       0.00      0.00      0.00         1\n",
            "                                                                        grain oilseed soy-oil corn       0.00      0.00      0.00         1\n",
            "                                                                                grain orange sugar       0.00      0.00      0.00         1\n",
            "                                                                                        grain rice       0.67      1.00      0.80         4\n",
            "                                                                                  grain rice sugar       0.00      0.00      0.00         1\n",
            "                                                                                  grain rice trade       0.00      0.00      0.00         1\n",
            "                                                                                  grain rice wheat       0.00      0.00      0.00         1\n",
            "                                                                                        grain ship       1.00      0.60      0.75         5\n",
            "                                                                                       grain trade       0.00      0.00      0.00         1\n",
            "                                                                                       grain wheat       0.71      0.93      0.81        29\n",
            "                                                                           grain wheat barley corn       0.00      0.00      0.00         1\n",
            "                                                               grain wheat barley oilseed rapeseed       0.00      0.00      0.00         1\n",
            "                                                                                  grain wheat corn       0.00      0.00      0.00         5\n",
            "                                                                  grain wheat corn oilseed soybean       0.00      0.00      0.00         2\n",
            "                                                                   grain wheat corn sorghum cotton       0.00      0.00      0.00         1\n",
            "                                                                  grain wheat corn soybean oilseed       0.00      0.00      0.00         1\n",
            "                         grain wheat corn sugar carcass livestock groundnut oilseed cotton veg-oil       0.00      0.00      0.00         1\n",
            "                             grain wheat cotton soybean soy-oil veg-oil oilseed soy-meal meal-feed       0.00      0.00      0.00         1\n",
            "                                                                                  grain wheat rice       0.00      0.00      0.00         2\n",
            "                                                                                  grain wheat ship       0.00      0.00      0.00         2\n",
            "                                                                       grain wheat soybean oilseed       0.00      0.00      0.00         1\n",
            "                                                                              grain wheat wool dlr       0.00      0.00      0.00         1\n",
            "                                                                                 groundnut oilseed       0.00      0.00      0.00         1\n",
            "                                                                                              heat       1.00      1.00      1.00         4\n",
            "                                                                                   hk dlr money-fx       0.00      0.00      0.00         1\n",
            "                                                                            hog l-cattle livestock       0.00      0.00      0.00         1\n",
            "                                                                                     hog livestock       0.33      1.00      0.50         1\n",
            "                                                                                           housing       1.00      1.00      1.00         2\n",
            "                                                                                            income       1.00      0.33      0.50         3\n",
            "                                                                                       instal-debt       0.00      0.00      0.00         4\n",
            "                                                                                          interest       0.74      0.60      0.67        58\n",
            "                                                                         interest bop money-supply       0.00      0.00      0.00         1\n",
            "                                                                                    interest crude       0.00      0.00      0.00         1\n",
            "                                                                                      interest gnp       0.00      0.00      0.00         1\n",
            "                                                                                  interest housing       0.00      0.00      0.00         1\n",
            "                                                                                 interest money-fx       0.00      0.00      0.00         6\n",
            "                                                                             interest money-supply       0.00      0.00      0.00         1\n",
            "                                                                        interest trade gnp bop cpi       0.00      0.00      0.00         1\n",
            "                                                                                               ipi       1.00      0.82      0.90        11\n",
            "                                                                                        iron-steel       0.64      0.70      0.67        10\n",
            "                                                                                  iron-steel crude       0.00      0.00      0.00         1\n",
            "                                                                                  iron-steel trade       0.00      0.00      0.00         1\n",
            "                                                                                               jet       0.00      0.00      0.00         1\n",
            "                                                                                              jobs       0.92      1.00      0.96        12\n",
            "                                                                                        jobs trade       0.00      0.00      0.00         1\n",
            "                                                                                              lead       1.00      0.50      0.67         2\n",
            "                                                                                         lead zinc       1.00      0.25      0.40         4\n",
            "                                                                         lead zinc strategic-metal       0.00      0.00      0.00         1\n",
            "                                                                                               lei       1.00      0.75      0.86         4\n",
            "                                                                                           lei gnp       0.00      0.00      0.00         1\n",
            "                                                                                         livestock       1.00      0.33      0.50         3\n",
            "                                                                                 livestock carcass       0.50      0.60      0.55         5\n",
            "                                                                             livestock hog carcass       0.00      0.00      0.00         1\n",
            "                                                                                livestock l-cattle       0.00      0.00      0.00         1\n",
            "                                                                        livestock l-cattle carcass       0.00      0.00      0.00         1\n",
            "                                                                              livestock pork-belly       0.00      0.00      0.00         1\n",
            "                                                                                            lumber       1.00      0.25      0.40         4\n",
            "                                                                              meal-feed copra-cake       0.00      0.00      0.00         1\n",
            "                                                                                          money-fx       0.62      0.60      0.61        67\n",
            "                                                                                  money-fx austdlr       0.00      0.00      0.00         1\n",
            "                                                                                      money-fx dlr       0.48      0.57      0.52        23\n",
            "                                                                                  money-fx dlr dmk       1.00      0.50      0.67         2\n",
            "                                                                             money-fx dlr interest       0.00      0.00      0.00         2\n",
            "                                                                                  money-fx dlr yen       1.00      0.09      0.17        11\n",
            "                                                                          money-fx dlr yen can stg       0.00      0.00      0.00         1\n",
            "                                                                              money-fx dlr yen dmk       0.00      0.00      0.00         1\n",
            "                                                                                 money-fx interest       0.53      0.56      0.54        34\n",
            "                                                                           money-fx rupiah dmk yen       0.00      0.00      0.00         1\n",
            "                                                                                    money-fx trade       0.00      0.00      0.00         3\n",
            "                                                                                      money-fx yen       1.00      0.12      0.22         8\n",
            "                                                                                money-fx yen trade       0.00      0.00      0.00         1\n",
            "                                                                                      money-supply       0.61      0.80      0.69        25\n",
            "                                                                             money-supply interest       0.00      0.00      0.00         2\n",
            "                                                                             money-supply money-fx       0.00      0.00      0.00         1\n",
            "                                                                         money-supply money-fx dlr       0.00      0.00      0.00         1\n",
            "                                                                             money-supply reserves       0.00      0.00      0.00         1\n",
            "                                                                                           nat-gas       0.50      0.30      0.37        10\n",
            "                                                                                     nat-gas crude       0.00      0.00      0.00         1\n",
            "                                                                                            nickel       0.00      0.00      0.00         2\n",
            "                                                                                   oilseed coconut       0.00      0.00      0.00         1\n",
            "                                                                                 oilseed groundnut       0.00      0.00      0.00         1\n",
            "                                                                                  oilseed rapeseed       1.00      1.00      1.00         4\n",
            "                                                                                   oilseed soybean       0.50      1.00      0.67         2\n",
            "                                                                  oilseed soybean grain wheat corn       0.00      0.00      0.00         1\n",
            "                                           oilseed soybean veg-oil palm-oil palmkernel coconut-oil       0.00      0.00      0.00         1\n",
            "                                                                                   oilseed veg-oil       0.00      0.00      0.00         1\n",
            "                                                             oilseed veg-oil castorseed castor-oil       0.00      0.00      0.00         1\n",
            "                                                                           oilseed veg-oil soybean       0.00      0.00      0.00         1\n",
            "                                                                                            orange       1.00      1.00      1.00         3\n",
            "                                                                                          pet-chem       0.00      0.00      0.00         4\n",
            "                                                                                  pet-chem nat-gas       0.00      0.00      0.00         1\n",
            "                                                                                  pet-chem oilseed       0.00      0.00      0.00         1\n",
            "                                                                                          platinum       0.00      0.00      0.00         1\n",
            "                                                                                    plywood lumber       0.00      0.00      0.00         1\n",
            "                                                                                            potato       0.00      0.00      0.00         2\n",
            "                                                                                          reserves       0.82      0.90      0.86        10\n",
            "                                                                                 reserves interest       0.00      0.00      0.00         1\n",
            "                                                                                 reserves money-fx       0.00      0.00      0.00         1\n",
            "                                                                                    reserves trade       0.00      0.00      0.00         1\n",
            "                                                                                            retail       0.00      0.00      0.00         1\n",
            "                                                                                            rubber       1.00      0.60      0.75         5\n",
            "                                                                                              ship       0.69      0.80      0.74        25\n",
            "                                                                                          ship acq       0.00      0.00      0.00         1\n",
            "                                                                                        ship crude       0.50      0.33      0.40         3\n",
            "                                                                                   ship crude fuel       0.00      0.00      0.00         1\n",
            "                                                                                        ship grain       0.00      0.00      0.00         1\n",
            "                                                                                            silver       0.00      0.00      0.00         1\n",
            "                                                                                     silver copper       0.00      0.00      0.00         1\n",
            "                                                                                   soybean oilseed       0.00      0.00      0.00         2\n",
            "                                                                                   strategic-metal       1.00      0.60      0.75         5\n",
            "                                                                                             sugar       0.93      0.87      0.90        30\n",
            "                                                                                               tea       1.00      1.00      1.00         1\n",
            "                                                                                  tea cocoa coffee       0.00      0.00      0.00         1\n",
            "                                                                                        tea orange       0.00      0.00      0.00         1\n",
            "                                                                                               tin       1.00      1.00      1.00         6\n",
            "                                                                                             trade       0.62      0.78      0.69        63\n",
            "                                                                                         trade bop       1.00      0.10      0.18        10\n",
            "                                                                                     trade bop gnp       0.00      0.00      0.00         1\n",
            "                                                                  trade bop money-fx crude gnp dlr       0.00      0.00      0.00         1\n",
            "                                                                                     trade carcass       0.00      0.00      0.00         1\n",
            "                                                                         trade carcass orange rice       0.00      0.00      0.00         1\n",
            "                                                                   trade gnp bop reserves money-fx       0.00      0.00      0.00         1\n",
            "                                                         trade grain rice carcass livestock orange       0.00      0.00      0.00         1\n",
            "                                                     trade grain wheat coffee tea iron-steel crude       0.00      0.00      0.00         1\n",
            "                                                                                  trade iron-steel       0.00      0.00      0.00         2\n",
            "                                                               trade livestock carcass grain wheat       0.00      0.00      0.00         1\n",
            "                                                                                    trade money-fx       0.00      0.00      0.00         3\n",
            "                                                                                  trade ship crude       0.00      0.00      0.00         1\n",
            "                                                                         trade veg-oil coconut-oil       0.00      0.00      0.00         1\n",
            "                                                                                     trade yen dlr       0.00      0.00      0.00         1\n",
            "                                                                                           veg-oil       0.67      0.50      0.57         8\n",
            "                                                                                 veg-oil groundnut       0.00      0.00      0.00         1\n",
            "                                                                                  veg-oil palm-oil       0.67      0.80      0.73         5\n",
            "                                                                         veg-oil rape-oil palm-oil       0.00      0.00      0.00         1\n",
            "                                                                                   veg-oil soybean       0.00      0.00      0.00         1\n",
            "                                                                  wheat corn soybean grain oilseed       0.00      0.00      0.00         1\n",
            "                                                                                       wheat grain       0.00      0.00      0.00         4\n",
            "                                                                                              wool       0.00      0.00      0.00         1\n",
            "                                                                                               wpi       1.00      0.78      0.88         9\n",
            "                                                                        wpi gas nat-gas crude heat       0.00      0.00      0.00         1\n",
            "                                                                                               yen       0.00      0.00      0.00         2\n",
            "\n",
            "                                                                                          accuracy                           0.83      4316\n",
            "                                                                                         macro avg       0.23      0.20      0.20      4316\n",
            "                                                                                      weighted avg       0.80      0.83      0.81      4316\n",
            "\n"
          ],
          "name": "stdout"
        },
        {
          "output_type": "stream",
          "text": [
            "/usr/local/lib/python3.7/dist-packages/sklearn/metrics/_classification.py:1272: UndefinedMetricWarning: Precision and F-score are ill-defined and being set to 0.0 in labels with no predicted samples. Use `zero_division` parameter to control this behavior.\n",
            "  _warn_prf(average, modifier, msg_start, len(result))\n"
          ],
          "name": "stderr"
        }
      ]
    },
    {
      "cell_type": "code",
      "metadata": {
        "colab": {
          "base_uri": "https://localhost:8080/"
        },
        "id": "V63UG42df-Cb",
        "outputId": "e032662c-49c4-4589-f38e-06439ab423c7"
      },
      "source": [
        "################################################ K-NEIGHBORS CLASSIFIER NEWSGROUPS DATASET#################################################\n",
        "from sklearn.neighbors import KNeighborsClassifier #Trying another non-probabilistic classifier that is not SVM for experimental purposes \n",
        "from sklearn.metrics import classification_report\n",
        "kneighbors = KNeighborsClassifier(n_neighbors=11, weights='uniform')\n",
        "kneighbors.fit(X_news_train, y_news_train)\n",
        "print(classification_report(y_news_test, kneighbors.predict(X_news_test)))"
      ],
      "execution_count": null,
      "outputs": [
        {
          "output_type": "stream",
          "text": [
            "              precision    recall  f1-score   support\n",
            "\n",
            "           0       0.73      0.87      0.79       191\n",
            "           1       0.69      0.65      0.67       193\n",
            "           2       0.66      0.72      0.69       190\n",
            "           3       0.58      0.65      0.62       176\n",
            "           4       0.69      0.66      0.67       207\n",
            "           5       0.81      0.73      0.77       202\n",
            "           6       0.66      0.48      0.56       190\n",
            "           7       0.81      0.84      0.82       201\n",
            "           8       0.85      0.87      0.86       211\n",
            "           9       0.76      0.88      0.82       182\n",
            "          10       0.84      0.93      0.89       194\n",
            "          11       0.90      0.92      0.91       210\n",
            "          12       0.79      0.73      0.76       179\n",
            "          13       0.92      0.78      0.84       188\n",
            "          14       0.85      0.89      0.87       204\n",
            "          15       0.89      0.80      0.84       203\n",
            "          16       0.86      0.89      0.87       200\n",
            "          17       0.86      0.97      0.91       177\n",
            "          18       0.82      0.77      0.79       150\n",
            "          19       0.78      0.64      0.70       122\n",
            "\n",
            "    accuracy                           0.79      3770\n",
            "   macro avg       0.79      0.78      0.78      3770\n",
            "weighted avg       0.79      0.79      0.79      3770\n",
            "\n"
          ],
          "name": "stdout"
        }
      ]
    },
    {
      "cell_type": "code",
      "metadata": {
        "colab": {
          "base_uri": "https://localhost:8080/"
        },
        "id": "TPMJOUhx5JO8",
        "outputId": "19ce0cda-23e3-4e20-a854-d8a8b27eed9b"
      },
      "source": [
        "################################################# K-NEIGHBORS CLASSIFIER REUTERS DATASET#########################################\n",
        "from sklearn.neighbors import KNeighborsClassifier #Trying another non probabilistic classifier that is not SVM for experimental purposes \n",
        "from sklearn.metrics import classification_report\n",
        "kneighbors = KNeighborsClassifier(n_neighbors=11,leaf_size=15, weights='uniform')\n",
        "kneighbors.fit(X_reuters_train, y_reuters_train)\n",
        "print(classification_report(y_reuters_test, kneighbors.predict(X_reuters_test)))"
      ],
      "execution_count": null,
      "outputs": [
        {
          "output_type": "stream",
          "text": [
            "                                                                                                    precision    recall  f1-score   support\n",
            "\n",
            "                                                                                                 0       0.73      0.93      0.82      2008\n",
            "                                                                                               acq       0.81      0.39      0.53       494\n",
            "                                                                                        acq copper       0.00      0.00      0.00         1\n",
            "                                                                                         acq crude       0.00      0.00      0.00         1\n",
            "                                                                                 acq crude nat-gas       0.00      0.00      0.00         5\n",
            "                                                                                          acq earn       0.00      0.00      0.00         3\n",
            "                                                                         acq gold silver lead zinc       0.00      0.00      0.00         1\n",
            "                                                                       acq oilseed sunseed soybean       0.00      0.00      0.00         1\n",
            "                                                                                          acq ship       0.00      0.00      0.00         2\n",
            "                                                                                        acq silver       0.00      0.00      0.00         1\n",
            "                                                                                              alum       0.83      0.29      0.43        17\n",
            "                                                                                               bop       0.23      0.60      0.33         5\n",
            "                                                                                           bop gnp       0.00      0.00      0.00         1\n",
            "                                                                                         bop trade       0.25      0.14      0.18         7\n",
            "                                                                                           carcass       0.00      0.00      0.00         2\n",
            "                                                                                 carcass livestock       0.00      0.00      0.00         3\n",
            "                                                                          carcass livestock orange       0.00      0.00      0.00         0\n",
            "                                                                                             cocoa       0.94      0.81      0.87        21\n",
            "                                                                                            coffee       0.87      0.91      0.89        22\n",
            "                                                          coffee oilseed soybean trade sugar cocoa       0.00      0.00      0.00         1\n",
            "                                                                                       coffee ship       0.00      0.00      0.00         1\n",
            "                                                                                 coffee tea rubber       0.00      0.00      0.00         1\n",
            "                                                                                            copper       0.64      0.64      0.64        14\n",
            "                                                                                        corn grain       0.00      0.00      0.00         1\n",
            "                                                                                            cotton       1.00      1.00      1.00         3\n",
            "                                                                                               cpi       0.38      0.91      0.54        11\n",
            "                                                                    cpi crude nat-gas heat propane       0.00      0.00      0.00         1\n",
            "                                                                                               cpu       0.00      0.00      0.00         1\n",
            "                                                                                             crude       0.81      0.73      0.77        81\n",
            "                                                                                         crude gas       0.33      1.00      0.50         1\n",
            "                                                                                    crude gas fuel       0.00      0.00      0.00         1\n",
            "                                                                            crude naphtha pet-chem       0.00      0.00      0.00         1\n",
            "                                                                                     crude nat-gas       0.60      0.46      0.52        13\n",
            "                                                                                crude nat-gas fuel       0.00      0.00      0.00         1\n",
            "                                                                                        crude ship       0.57      0.57      0.57         7\n",
            "                                                                                  cruzado money-fx       0.00      0.00      0.00         1\n",
            "                                                                                      dlr money-fx       1.00      0.14      0.25         7\n",
            "                                                                                dlr money-fx trade       0.00      0.00      0.00         1\n",
            "                                                                                              earn       0.91      0.88      0.90       815\n",
            "                                                                                          earn acq       0.00      0.00      0.00         1\n",
            "                                                                                         earn alum       0.00      0.00      0.00         1\n",
            "                                                                                              fuel       0.67      1.00      0.80         2\n",
            "                                                                                         fuel ship       0.00      0.00      0.00         1\n",
            "                                                                                               gas       1.00      1.00      1.00         1\n",
            "                                                                                         gas crude       0.00      0.00      0.00         1\n",
            "                                                                                    gas fuel crude       0.00      0.00      0.00         1\n",
            "                                                                                               gnp       0.59      0.53      0.56        19\n",
            "                                                                                           gnp bop       0.00      0.00      0.00         1\n",
            "                                                                                      gnp cpi jobs       0.00      0.00      0.00         1\n",
            "                                                                                           gnp gas       0.00      0.00      0.00         1\n",
            "                                                                                gnp income housing       0.00      0.00      0.00         1\n",
            "                                                                       gnp interest money-fx trade       0.00      0.00      0.00         1\n",
            "                                                                                          gnp jobs       0.00      0.00      0.00         1\n",
            "                                                                                      gnp jobs cpi       0.00      0.00      0.00         2\n",
            "                                                                                           gnp lei       0.00      0.00      0.00         1\n",
            "                                                                                              gold       0.50      0.56      0.53        16\n",
            "                                                                                 gold acq platinum       0.00      0.00      0.00         1\n",
            "                                                                                       gold copper       0.00      0.00      0.00         1\n",
            "                                                                     gold platinum strategic-metal       0.00      0.00      0.00         1\n",
            "                                                                             gold zinc lead silver       0.00      0.00      0.00         1\n",
            "                                                                                             grain       0.00      0.00      0.00         6\n",
            "                                                                                         grain acq       0.00      0.00      0.00         1\n",
            "                                                                                      grain barley       0.00      0.00      0.00         5\n",
            "                                                                                 grain barley corn       0.00      0.00      0.00         1\n",
            "                                                                           grain barley corn wheat       0.00      0.00      0.00         1\n",
            "                                                                                        grain corn       0.38      0.73      0.50        11\n",
            "                                                                                 grain corn barley       0.00      0.00      0.00         1\n",
            "                                                                                 grain corn cotton       0.00      0.00      0.00         1\n",
            "                                                                                    grain corn oat       0.00      0.00      0.00         1\n",
            "                                                                        grain corn oilseed soybean       0.00      0.00      0.00         1\n",
            "                                                            grain corn rice oilseed soybean orange       0.00      0.00      0.00         1\n",
            "                                                                                  grain corn wheat       0.00      0.00      0.00         2\n",
            "                                                                           grain corn wheat barley       0.33      0.50      0.40         2\n",
            "                                                                  grain corn wheat oilseed soybean       0.00      0.00      0.00         1\n",
            "                                                                             grain corn wheat rice       0.00      0.00      0.00         1\n",
            "                                       grain corn wheat soybean oilseed barley sorghum cotton rice       0.00      0.00      0.00         1\n",
            "                                                                                   grain meal-feed       0.00      0.00      0.00         1\n",
            "                                                        grain meal-feed carcass soy-meal livestock       0.00      0.00      0.00         1\n",
            "                                                                   grain oilseed meal-feed veg-oil       0.00      0.00      0.00         1\n",
            "grain oilseed meal-feed veg-oil corn wheat soybean soy-oil soy-meal cotton rice sorghum barley oat       0.00      0.00      0.00         1\n",
            "                                                                        grain oilseed soy-oil corn       0.00      0.00      0.00         1\n",
            "                                                                                grain orange sugar       0.00      0.00      0.00         1\n",
            "                                                                                        grain rice       0.80      1.00      0.89         4\n",
            "                                                                                  grain rice sugar       0.00      0.00      0.00         1\n",
            "                                                                                  grain rice trade       0.00      0.00      0.00         1\n",
            "                                                                                  grain rice wheat       0.00      0.00      0.00         1\n",
            "                                                                                        grain ship       0.60      0.60      0.60         5\n",
            "                                                                                       grain trade       0.00      0.00      0.00         1\n",
            "                                                                                       grain wheat       0.52      0.79      0.63        29\n",
            "                                                                           grain wheat barley corn       0.00      0.00      0.00         1\n",
            "                                                               grain wheat barley oilseed rapeseed       0.00      0.00      0.00         1\n",
            "                                                                                  grain wheat corn       0.00      0.00      0.00         5\n",
            "                                                                  grain wheat corn oilseed soybean       0.00      0.00      0.00         2\n",
            "                                                                   grain wheat corn sorghum cotton       0.00      0.00      0.00         1\n",
            "                                                                  grain wheat corn soybean oilseed       0.00      0.00      0.00         1\n",
            "                         grain wheat corn sugar carcass livestock groundnut oilseed cotton veg-oil       0.00      0.00      0.00         1\n",
            "                             grain wheat cotton soybean soy-oil veg-oil oilseed soy-meal meal-feed       0.00      0.00      0.00         1\n",
            "                                                                                  grain wheat rice       0.00      0.00      0.00         2\n",
            "                                                                                  grain wheat ship       0.00      0.00      0.00         2\n",
            "                                                                       grain wheat soybean oilseed       0.00      0.00      0.00         1\n",
            "                                                                              grain wheat wool dlr       0.00      0.00      0.00         1\n",
            "                                                                                 groundnut oilseed       0.00      0.00      0.00         1\n",
            "                                                                                              heat       1.00      1.00      1.00         4\n",
            "                                                                                   hk dlr money-fx       0.00      0.00      0.00         1\n",
            "                                                                            hog l-cattle livestock       0.00      0.00      0.00         1\n",
            "                                                                                     hog livestock       0.50      1.00      0.67         1\n",
            "                                                                                           housing       1.00      1.00      1.00         2\n",
            "                                                                                            income       0.00      0.00      0.00         3\n",
            "                                                                                       instal-debt       0.00      0.00      0.00         4\n",
            "                                                                                          interest       0.60      0.47      0.52        58\n",
            "                                                                         interest bop money-supply       0.00      0.00      0.00         1\n",
            "                                                                                    interest crude       0.00      0.00      0.00         1\n",
            "                                                                                      interest gnp       0.00      0.00      0.00         1\n",
            "                                                                                  interest housing       0.00      0.00      0.00         1\n",
            "                                                                                 interest money-fx       0.00      0.00      0.00         6\n",
            "                                                                             interest money-supply       0.00      0.00      0.00         1\n",
            "                                                                        interest trade gnp bop cpi       0.00      0.00      0.00         1\n",
            "                                                                                               ipi       0.92      1.00      0.96        11\n",
            "                                                                                        iron-steel       0.60      0.60      0.60        10\n",
            "                                                                                  iron-steel crude       0.00      0.00      0.00         1\n",
            "                                                                                  iron-steel trade       0.00      0.00      0.00         1\n",
            "                                                                                               jet       0.00      0.00      0.00         1\n",
            "                                                                                              jobs       1.00      0.67      0.80        12\n",
            "                                                                                        jobs trade       0.00      0.00      0.00         1\n",
            "                                                                                              lead       0.00      0.00      0.00         2\n",
            "                                                                                         lead zinc       1.00      0.25      0.40         4\n",
            "                                                                         lead zinc strategic-metal       0.00      0.00      0.00         1\n",
            "                                                                                               lei       0.75      0.75      0.75         4\n",
            "                                                                                           lei gnp       0.00      0.00      0.00         1\n",
            "                                                                                         livestock       1.00      0.33      0.50         3\n",
            "                                                                                 livestock carcass       0.50      0.60      0.55         5\n",
            "                                                                             livestock hog carcass       0.00      0.00      0.00         1\n",
            "                                                                                livestock l-cattle       0.00      0.00      0.00         1\n",
            "                                                                        livestock l-cattle carcass       0.00      0.00      0.00         1\n",
            "                                                                              livestock pork-belly       0.00      0.00      0.00         1\n",
            "                                                                                            lumber       0.00      0.00      0.00         4\n",
            "                                                                              meal-feed copra-cake       0.00      0.00      0.00         1\n",
            "                                                                                          money-fx       0.48      0.45      0.47        67\n",
            "                                                                                  money-fx austdlr       0.00      0.00      0.00         1\n",
            "                                                                                      money-fx dlr       0.48      0.61      0.54        23\n",
            "                                                                                  money-fx dlr dmk       0.00      0.00      0.00         2\n",
            "                                                                             money-fx dlr interest       0.00      0.00      0.00         2\n",
            "                                                                                  money-fx dlr yen       0.00      0.00      0.00        11\n",
            "                                                                          money-fx dlr yen can stg       0.00      0.00      0.00         1\n",
            "                                                                              money-fx dlr yen dmk       0.00      0.00      0.00         1\n",
            "                                                                                 money-fx interest       0.53      0.53      0.53        34\n",
            "                                                                           money-fx rupiah dmk yen       0.00      0.00      0.00         1\n",
            "                                                                                    money-fx trade       0.00      0.00      0.00         3\n",
            "                                                                                      money-fx yen       0.00      0.00      0.00         8\n",
            "                                                                                money-fx yen trade       0.00      0.00      0.00         1\n",
            "                                                                                      money-supply       0.59      0.76      0.67        25\n",
            "                                                                             money-supply interest       0.00      0.00      0.00         2\n",
            "                                                                             money-supply money-fx       0.00      0.00      0.00         1\n",
            "                                                                         money-supply money-fx dlr       0.00      0.00      0.00         1\n",
            "                                                                             money-supply reserves       0.00      0.00      0.00         1\n",
            "                                                                                           nat-gas       0.50      0.20      0.29        10\n",
            "                                                                                     nat-gas crude       0.00      0.00      0.00         1\n",
            "                                                                                            nickel       0.00      0.00      0.00         2\n",
            "                                                                                   oilseed coconut       0.00      0.00      0.00         1\n",
            "                                                                                 oilseed groundnut       0.00      0.00      0.00         1\n",
            "                                                                                  oilseed rapeseed       1.00      1.00      1.00         4\n",
            "                                                                                   oilseed soybean       1.00      0.50      0.67         2\n",
            "                                                                  oilseed soybean grain wheat corn       0.00      0.00      0.00         1\n",
            "                                           oilseed soybean veg-oil palm-oil palmkernel coconut-oil       0.00      0.00      0.00         1\n",
            "                                                                                   oilseed veg-oil       0.00      0.00      0.00         1\n",
            "                                                             oilseed veg-oil castorseed castor-oil       0.00      0.00      0.00         1\n",
            "                                                                           oilseed veg-oil soybean       0.00      0.00      0.00         1\n",
            "                                                                                            orange       1.00      1.00      1.00         3\n",
            "                                                                                          pet-chem       0.00      0.00      0.00         4\n",
            "                                                                                  pet-chem nat-gas       0.00      0.00      0.00         1\n",
            "                                                                                  pet-chem oilseed       0.00      0.00      0.00         1\n",
            "                                                                                          platinum       0.00      0.00      0.00         1\n",
            "                                                                                    plywood lumber       0.00      0.00      0.00         1\n",
            "                                                                                            potato       0.00      0.00      0.00         2\n",
            "                                                                                          reserves       0.83      0.50      0.62        10\n",
            "                                                                                 reserves interest       0.00      0.00      0.00         1\n",
            "                                                                                 reserves money-fx       0.00      0.00      0.00         1\n",
            "                                                                                    reserves trade       0.00      0.00      0.00         1\n",
            "                                                                                            retail       0.00      0.00      0.00         1\n",
            "                                                                                            rubber       1.00      0.60      0.75         5\n",
            "                                                                                              ship       0.73      0.44      0.55        25\n",
            "                                                                                          ship acq       0.00      0.00      0.00         1\n",
            "                                                                                        ship crude       0.00      0.00      0.00         3\n",
            "                                                                                   ship crude fuel       0.00      0.00      0.00         1\n",
            "                                                                                        ship grain       0.00      0.00      0.00         1\n",
            "                                                                                            silver       0.50      1.00      0.67         1\n",
            "                                                                                     silver copper       0.00      0.00      0.00         1\n",
            "                                                                                   soybean oilseed       0.00      0.00      0.00         2\n",
            "                                                                                   strategic-metal       0.00      0.00      0.00         5\n",
            "                                                                                             sugar       0.71      0.80      0.75        30\n",
            "                                                                                               tea       1.00      1.00      1.00         1\n",
            "                                                                                  tea cocoa coffee       0.00      0.00      0.00         1\n",
            "                                                                                        tea orange       0.00      0.00      0.00         1\n",
            "                                                                                               tin       0.86      1.00      0.92         6\n",
            "                                                                                             trade       0.56      0.59      0.57        63\n",
            "                                                                                         trade bop       0.00      0.00      0.00        10\n",
            "                                                                                     trade bop gnp       0.00      0.00      0.00         1\n",
            "                                                                  trade bop money-fx crude gnp dlr       0.00      0.00      0.00         1\n",
            "                                                                                     trade carcass       0.00      0.00      0.00         1\n",
            "                                                                         trade carcass orange rice       0.00      0.00      0.00         1\n",
            "                                                                   trade gnp bop reserves money-fx       0.00      0.00      0.00         1\n",
            "                                                         trade grain rice carcass livestock orange       0.00      0.00      0.00         1\n",
            "                                                     trade grain wheat coffee tea iron-steel crude       0.00      0.00      0.00         1\n",
            "                                                                                  trade iron-steel       0.00      0.00      0.00         2\n",
            "                                                               trade livestock carcass grain wheat       0.00      0.00      0.00         1\n",
            "                                                                                    trade money-fx       0.00      0.00      0.00         3\n",
            "                                                                                  trade ship crude       0.00      0.00      0.00         1\n",
            "                                                                         trade veg-oil coconut-oil       0.00      0.00      0.00         1\n",
            "                                                                                     trade yen dlr       0.00      0.00      0.00         1\n",
            "                                                                                           veg-oil       0.50      0.25      0.33         8\n",
            "                                                                                 veg-oil groundnut       0.00      0.00      0.00         1\n",
            "                                                                                  veg-oil palm-oil       0.60      0.60      0.60         5\n",
            "                                                                         veg-oil rape-oil palm-oil       0.00      0.00      0.00         1\n",
            "                                                                                   veg-oil soybean       0.00      0.00      0.00         1\n",
            "                                                                  wheat corn soybean grain oilseed       0.00      0.00      0.00         1\n",
            "                                                                                       wheat grain       0.00      0.00      0.00         4\n",
            "                                                                                              wool       0.00      0.00      0.00         1\n",
            "                                                                                               wpi       1.00      0.56      0.71         9\n",
            "                                                                        wpi gas nat-gas crude heat       0.00      0.00      0.00         1\n",
            "                                                                                               yen       0.00      0.00      0.00         2\n",
            "\n",
            "                                                                                          accuracy                           0.75      4316\n",
            "                                                                                         macro avg       0.18      0.17      0.16      4316\n",
            "                                                                                      weighted avg       0.72      0.75      0.72      4316\n",
            "\n"
          ],
          "name": "stdout"
        },
        {
          "output_type": "stream",
          "text": [
            "/usr/local/lib/python3.7/dist-packages/sklearn/metrics/_classification.py:1272: UndefinedMetricWarning: Precision and F-score are ill-defined and being set to 0.0 in labels with no predicted samples. Use `zero_division` parameter to control this behavior.\n",
            "  _warn_prf(average, modifier, msg_start, len(result))\n",
            "/usr/local/lib/python3.7/dist-packages/sklearn/metrics/_classification.py:1272: UndefinedMetricWarning: Recall and F-score are ill-defined and being set to 0.0 in labels with no true samples. Use `zero_division` parameter to control this behavior.\n",
            "  _warn_prf(average, modifier, msg_start, len(result))\n"
          ],
          "name": "stderr"
        }
      ]
    },
    {
      "cell_type": "markdown",
      "metadata": {
        "id": "KZW0-lRGN_nB"
      },
      "source": [
        "# Model Comparison and Results Comparison: \n",
        "\n",
        "SVM Probabilistic Reuters: Accuracy:93% Macro:92% Weighted:93%\n",
        "\n",
        "SVM Probabilistic Newsgroups: Accuracy:83% Macro:20% Weighted:81%\n",
        "\n",
        "\n",
        "SVM Non Probablistic Reuters: Accuracy:83% Macro:20% Weighted:81%\n",
        "\n",
        "SVM Non Probablistic Newsgroups: Accuracy:92% Macro:92% Weighted:93%\n",
        "\n",
        "\n",
        "KNN Reuters: Accuracy:75% Macro:16% Weighted:72%\n",
        "\n",
        "KNN Newsgroups: Accuracy:79% Macro:78% Weighted:79%\n",
        "\n",
        "KNN seems to be much more computationally efficient than the SVM on these particular datasets. A more detailed account of the models I used is included in the PDF report. In short, KNN works by trying to classify an unclassified data point based on the distance between the unknown data point and other known points. The distance is calculated in terms of a circle, where K specifies the size of the circle where the data will be plotted and distances will be measured in. An SVM on the other hand tries to classify points by plotting them in a space with a given number of dimensions (by the structure of the data) and trying to separate them by a hyperplane. In 2-D the points would be plotted on an XY axis and the hyperplane would simply be a line. This works on data that can easily be classfied in binary terms or is linearly separable in some way. \n",
        "\n",
        "SVM worked pretty well on both news groups and reuters, but after hyperparameter tuning, KNN returned 92 percent accuracy on newsgroups and 77 percent  on reuters. The former or which is a considerable improvement and very much comparable to the SVM, but more computationally efficient. "
      ]
    },
    {
      "cell_type": "markdown",
      "metadata": {
        "id": "blRP3BKME3db"
      },
      "source": [
        "#Tuning Hyperparameters for Each Model on Each Dataset "
      ]
    },
    {
      "cell_type": "markdown",
      "metadata": {
        "id": "BPFV4o-pG-ea"
      },
      "source": [
        "# Hyperparameter Search\n",
        "\n",
        "This section finds the best parameter for each models and then showing what the best parameters are for each. I did grid search for the probabilistic version of the SVC classifier, and K-Neighbors so as to represent a probabilistic and a non-probabilistic classifier in the hyperparameter search and follow each of the two pipelines all the way through. Based on the trials above the results are very similar for the linear SVC when its probabilistic and non-probablistic in terms of accuracy. \n",
        "The hyperparameters that worked best for the SVC (linear, probablistic) were {'C': 2, 'kernel': 'linear'}. Due to the computational expense of running this classifier I chose to look at only a few parameters. Running it on the entire Reuters data set took approximately 12 hours. \n",
        "The hyperparameters that worked best for the same classifier on the Newsgroups data set were : {'C': 300, 'kernel': 'linear'}\n",
        "\n",
        "This took considerably less time, but it seems there are issues with memory when it comes to this particular classifier and running a grid search on a large datset with it is very computationally expensive. \n"
      ]
    },
    {
      "cell_type": "markdown",
      "metadata": {
        "id": "UbkCAXwmCczp"
      },
      "source": [
        "# Hyperparameter Search for Probabilistic Version of SVC on both Newsgroups and Reuters Datasets \n",
        "\n"
      ]
    },
    {
      "cell_type": "code",
      "metadata": {
        "id": "aeJUZzhR-0CF"
      },
      "source": [
        "from sklearn.model_selection import GridSearchCV\n",
        "from sklearn.svm import SVC\n",
        "svm = SVC(kernel='linear', probability=True) \n",
        "svmgrid = [{'kernel': ['linear'],\n",
        "         'C':[1,2,300]}]\n",
        "SVC_hyperparameter_clsfr= GridSearchCV(svm,svmgrid,scoring='accuracy')"
      ],
      "execution_count": null,
      "outputs": []
    },
    {
      "cell_type": "code",
      "metadata": {
        "colab": {
          "base_uri": "https://localhost:8080/"
        },
        "id": "wBw50ZZ9hBwN",
        "outputId": "d41c1d06-5d9e-4a4c-edbc-22e51644cfb5"
      },
      "source": [
        "SVC_hyperparameter_clsfr.fit(X_reuters_train,y_reuters_train)\n"
      ],
      "execution_count": null,
      "outputs": [
        {
          "output_type": "stream",
          "text": [
            "/usr/local/lib/python3.7/dist-packages/sklearn/model_selection/_split.py:667: UserWarning: The least populated class in y has only 1 members, which is less than n_splits=5.\n",
            "  % (min_groups, self.n_splits)), UserWarning)\n"
          ],
          "name": "stderr"
        },
        {
          "output_type": "execute_result",
          "data": {
            "text/plain": [
              "GridSearchCV(cv=None, error_score=nan,\n",
              "             estimator=SVC(C=1.0, break_ties=False, cache_size=200,\n",
              "                           class_weight=None, coef0=0.0,\n",
              "                           decision_function_shape='ovr', degree=3,\n",
              "                           gamma='scale', kernel='linear', max_iter=-1,\n",
              "                           probability=True, random_state=None, shrinking=True,\n",
              "                           tol=0.001, verbose=False),\n",
              "             iid='deprecated', n_jobs=None,\n",
              "             param_grid=[{'C': [1, 2, 300], 'kernel': ['linear']}],\n",
              "             pre_dispatch='2*n_jobs', refit=True, return_train_score=False,\n",
              "             scoring='accuracy', verbose=0)"
            ]
          },
          "metadata": {
            "tags": []
          },
          "execution_count": 7
        }
      ]
    },
    {
      "cell_type": "code",
      "metadata": {
        "colab": {
          "base_uri": "https://localhost:8080/"
        },
        "id": "Q9R9R61thB1D",
        "outputId": "8c31d7dd-79d5-452e-a09f-85ce7bb30c65"
      },
      "source": [
        "print(SVC_hyperparameter_clsfr.best_params_)"
      ],
      "execution_count": null,
      "outputs": [
        {
          "output_type": "stream",
          "text": [
            "{'C': 2, 'kernel': 'linear'}\n"
          ],
          "name": "stdout"
        }
      ]
    },
    {
      "cell_type": "code",
      "metadata": {
        "colab": {
          "base_uri": "https://localhost:8080/"
        },
        "id": "C-qyGbotyKwH",
        "outputId": "65a3ddba-e6eb-4b60-e17a-fdf1a864a25e"
      },
      "source": [
        "from sklearn.model_selection import GridSearchCV\n",
        "from sklearn.svm import SVC\n",
        "svcgrid = [{'kernel': ['linear'],\n",
        "         'C':[1,2,300]}] \n",
        "\n",
        "svmgridsearch = GridSearchCV(\n",
        "                SVC(),\n",
        "                svcgrid,\n",
        "                verbose= 1, \n",
        "                n_jobs= -1\n",
        "                )            \n",
        "gridsearchsvmresults_news = svmgridsearch.fit(X_news_train,y_news_train)\n",
        "print(gridsearchsvmresults_news.best_params_)"
      ],
      "execution_count": null,
      "outputs": [
        {
          "output_type": "stream",
          "text": [
            "Fitting 5 folds for each of 3 candidates, totalling 15 fits\n"
          ],
          "name": "stdout"
        },
        {
          "output_type": "stream",
          "text": [
            "[Parallel(n_jobs=-1)]: Using backend LokyBackend with 2 concurrent workers.\n",
            "[Parallel(n_jobs=-1)]: Done  15 out of  15 | elapsed:   34.6s finished\n"
          ],
          "name": "stderr"
        },
        {
          "output_type": "stream",
          "text": [
            "{'C': 300, 'kernel': 'linear'}\n"
          ],
          "name": "stdout"
        }
      ]
    },
    {
      "cell_type": "markdown",
      "metadata": {
        "id": "mrzuUG8U3FpW"
      },
      "source": [
        "I first ran the grid search on the full reuters dataset, and I estimate it took about 12 hours. I ran it before I knew you could include the verbose setting in the gridsearch, and it hadn't occured to me to include a timer for comparison.\n",
        "However, after I changed the grid search settings for the newsgroups dataset (same hyperparameters), it finished more more quickly. Once again that is most likely due to the n_jobs = -1 setting, as it the computer can use more processing power when it uses all available processors for the task. \n",
        "\n"
      ]
    },
    {
      "cell_type": "markdown",
      "metadata": {
        "id": "PMblLmVvPUWp"
      },
      "source": [
        "# Hyperparameter search for K Neighbors Classifier on both Newsgroups and Reuters (Non-probablistic classifier) "
      ]
    },
    {
      "cell_type": "markdown",
      "metadata": {
        "id": "KvKCjJbrzMQn"
      },
      "source": [
        "For this grid search, I chose to do n_neighbors, which should always be an odd number, as if it were not this way, the decision of where one would classify a given element would be left to chance, were there to be a tie vote where weights are set to 'uniform'. \n",
        "In this case I chose to see whether it was better to use uniform weights, or set that parameter to weights being tuned with respet to distance. Additionally, there is a possibility to use manhattan distance or euclidean when measuirng the same and I chose the former. When I ran this classifier's grid search I saw how useful including verbose in the parameters is, as it updates the output as the grid search is running. When I ran the first instance of the SVM hyperparameter search I didn't know at which stage of the process it was several times when I ran it. Because it took 12 hours, it was difficult to know what was happening when and whether or not things were working as they should. \n",
        "I set n_jobs to -1 so that the computer will use all of the processors to fit the model, which also speeds up the process quite a bit from my first attempt. Using this setting for the grod search would have porbably significantly sped up my processing time, given that both the SVM and KNN classfiers appear to be slow when fed large datasets. I ran the KNN classifier on the full reuters data set with these 48 potential combinations and the hyperparameters were tuned in 19.9 minutes, as opposed to the extremely long 12 hours of the SVC classifier grid search. It is perhaps the case that the SVC classifier is much slower than Kneighbors, and that is also perhaps it was set to probabilistic and there are more potential outcomes to consider in that case. \n",
        "\n",
        "The hyperparameter setting for Reuters in the KNN classifier after the grid search was {'metric': 'euclidean', 'n_neighbors': 11, 'weights': 'distance'}\n",
        "\n",
        "The hyperparameter setting for Newsgroups in the KNN classifier after the grid search was \n"
      ]
    },
    {
      "cell_type": "code",
      "metadata": {
        "colab": {
          "base_uri": "https://localhost:8080/"
        },
        "id": "1Y6c8QOYPfG9",
        "outputId": "678c67aa-0b32-4047-8177-5b05c2ef7704"
      },
      "source": [
        "from sklearn.model_selection import GridSearchCV\n",
        "knngrid = {\n",
        "    'n_neighbors':[3,5,11,19],\n",
        "    'weights': ['uniform','distance'],\n",
        "    'metric':['euclidean','manhattan']\n",
        "}\n",
        "knngridsearch = GridSearchCV(\n",
        "                KNeighborsClassifier(),\n",
        "                knngrid,\n",
        "                verbose= 1,\n",
        "                n_jobs= -1\n",
        "                )            \n",
        "gridsearchknnresults_reuters = knngridsearch.fit(X_reuters_train,y_reuters_train)\n",
        "print(gridsearchknnresults_reuters.best_params_)"
      ],
      "execution_count": null,
      "outputs": [
        {
          "output_type": "stream",
          "text": [
            "Fitting 5 folds for each of 16 candidates, totalling 80 fits\n"
          ],
          "name": "stdout"
        },
        {
          "output_type": "stream",
          "text": [
            "/usr/local/lib/python3.7/dist-packages/sklearn/model_selection/_split.py:667: UserWarning: The least populated class in y has only 1 members, which is less than n_splits=5.\n",
            "  % (min_groups, self.n_splits)), UserWarning)\n",
            "[Parallel(n_jobs=-1)]: Using backend LokyBackend with 2 concurrent workers.\n",
            "/usr/local/lib/python3.7/dist-packages/joblib/externals/loky/process_executor.py:691: UserWarning: A worker stopped while some jobs were given to the executor. This can be caused by a too short worker timeout or by a memory leak.\n",
            "  \"timeout or by a memory leak.\", UserWarning\n",
            "[Parallel(n_jobs=-1)]: Done  46 tasks      | elapsed:  4.1min\n"
          ],
          "name": "stderr"
        },
        {
          "output_type": "stream",
          "text": [
            "{'metric': 'euclidean', 'n_neighbors': 11, 'weights': 'distance'}\n"
          ],
          "name": "stdout"
        },
        {
          "output_type": "stream",
          "text": [
            "[Parallel(n_jobs=-1)]: Done  80 out of  80 | elapsed: 19.9min finished\n"
          ],
          "name": "stderr"
        }
      ]
    },
    {
      "cell_type": "code",
      "metadata": {
        "colab": {
          "base_uri": "https://localhost:8080/"
        },
        "id": "1fg_PCBxPUGH",
        "outputId": "3f245665-d5bc-45b1-833d-6ed046d16543"
      },
      "source": [
        "from sklearn.model_selection import GridSearchCV\n",
        "knngrid = {\n",
        "    'n_neighbors':[3,5,11,19],\n",
        "    'weights': ['uniform','distance'],\n",
        "    'metric':['euclidean','manhattan']\n",
        "}\n",
        "knngridsearch = GridSearchCV(\n",
        "                KNeighborsClassifier(),\n",
        "                knngrid,\n",
        "                verbose= 1,\n",
        "                n_jobs= -1\n",
        "                )            \n",
        "gridsearchknnresults_news = knngridsearch.fit(X_news_train,y_news_train)\n",
        "print(gridsearchknnresults_news.best_params_)"
      ],
      "execution_count": null,
      "outputs": [
        {
          "output_type": "stream",
          "text": [
            "Fitting 5 folds for each of 16 candidates, totalling 80 fits\n"
          ],
          "name": "stdout"
        },
        {
          "output_type": "stream",
          "text": [
            "[Parallel(n_jobs=-1)]: Using backend LokyBackend with 2 concurrent workers.\n",
            "[Parallel(n_jobs=-1)]: Done  46 tasks      | elapsed:  5.6min\n"
          ],
          "name": "stderr"
        },
        {
          "output_type": "stream",
          "text": [
            "{'metric': 'euclidean', 'n_neighbors': 3, 'weights': 'distance'}\n"
          ],
          "name": "stdout"
        },
        {
          "output_type": "stream",
          "text": [
            "[Parallel(n_jobs=-1)]: Done  80 out of  80 | elapsed: 29.4min finished\n"
          ],
          "name": "stderr"
        }
      ]
    },
    {
      "cell_type": "markdown",
      "metadata": {
        "id": "n3EiK-F56Kjy"
      },
      "source": [
        "If we then use the best hyperparameters for each model as they were determined for each datset, we should get better results. To test this, I fit the model again in order to compare the results of the model with the randomly chosen parameters I tried at first, and the parameters returned from the grid search. Herein follow these results: "
      ]
    },
    {
      "cell_type": "code",
      "metadata": {
        "colab": {
          "base_uri": "https://localhost:8080/"
        },
        "id": "QE50IgcN6pA8",
        "outputId": "270a213d-3a92-4398-bcc8-6598ea6c1f9a"
      },
      "source": [
        "from sklearn.metrics import classification_report\n",
        "print(classification_report(y_news_test, gridsearchknnresults_news.predict(X_news_test)))"
      ],
      "execution_count": null,
      "outputs": [
        {
          "output_type": "stream",
          "text": [
            "              precision    recall  f1-score   support\n",
            "\n",
            "           0       0.84      0.90      0.87       165\n",
            "           1       0.75      0.72      0.73       211\n",
            "           2       0.72      0.69      0.70       193\n",
            "           3       0.75      0.78      0.76       203\n",
            "           4       0.75      0.77      0.76       177\n",
            "           5       0.84      0.79      0.81       206\n",
            "           6       0.68      0.58      0.63       190\n",
            "           7       0.86      0.84      0.85       180\n",
            "           8       0.91      0.91      0.91       201\n",
            "           9       0.83      0.92      0.87       170\n",
            "          10       0.84      0.95      0.89       198\n",
            "          11       0.89      0.95      0.92       189\n",
            "          12       0.87      0.80      0.83       233\n",
            "          13       0.90      0.85      0.87       191\n",
            "          14       0.89      0.91      0.90       208\n",
            "          15       0.90      0.88      0.89       210\n",
            "          16       0.86      0.87      0.87       156\n",
            "          17       0.92      0.97      0.94       192\n",
            "          18       0.87      0.89      0.88       167\n",
            "          19       0.83      0.75      0.79       130\n",
            "\n",
            "    accuracy                           0.83      3770\n",
            "   macro avg       0.83      0.84      0.83      3770\n",
            "weighted avg       0.83      0.83      0.83      3770\n",
            "\n"
          ],
          "name": "stdout"
        }
      ]
    },
    {
      "cell_type": "code",
      "metadata": {
        "colab": {
          "base_uri": "https://localhost:8080/"
        },
        "id": "QJx_3x7KM60l",
        "outputId": "2672bf39-848c-4e0a-86e2-8c05f1424dda"
      },
      "source": [
        "from sklearn.model_selection import GridSearchCV\n",
        "knngrid = {\n",
        "    'n_neighbors':[3,5,11,19],\n",
        "    'weights': ['uniform','distance'],\n",
        "    'metric':['euclidean','manhattan']\n",
        "}\n",
        "knngridsearch = GridSearchCV(\n",
        "                KNeighborsClassifier(),\n",
        "                knngrid,\n",
        "                verbose= 1,\n",
        "                n_jobs= -1\n",
        "                )            \n",
        "gridsearchknnresults_reuters = knngridsearch.fit(X_reuters_train,y_reuters_train)\n",
        "print(gridsearchknnresults_reuters.best_params_)"
      ],
      "execution_count": null,
      "outputs": [
        {
          "output_type": "stream",
          "text": [
            "Fitting 5 folds for each of 16 candidates, totalling 80 fits\n"
          ],
          "name": "stdout"
        },
        {
          "output_type": "stream",
          "text": [
            "/usr/local/lib/python3.7/dist-packages/sklearn/model_selection/_split.py:667: UserWarning: The least populated class in y has only 1 members, which is less than n_splits=5.\n",
            "  % (min_groups, self.n_splits)), UserWarning)\n",
            "[Parallel(n_jobs=-1)]: Using backend LokyBackend with 2 concurrent workers.\n",
            "/usr/local/lib/python3.7/dist-packages/joblib/externals/loky/process_executor.py:691: UserWarning: A worker stopped while some jobs were given to the executor. This can be caused by a too short worker timeout or by a memory leak.\n",
            "  \"timeout or by a memory leak.\", UserWarning\n",
            "[Parallel(n_jobs=-1)]: Done  46 tasks      | elapsed:  4.1min\n"
          ],
          "name": "stderr"
        },
        {
          "output_type": "stream",
          "text": [
            "{'metric': 'euclidean', 'n_neighbors': 11, 'weights': 'distance'}\n"
          ],
          "name": "stdout"
        },
        {
          "output_type": "stream",
          "text": [
            "[Parallel(n_jobs=-1)]: Done  80 out of  80 | elapsed: 19.8min finished\n"
          ],
          "name": "stderr"
        }
      ]
    },
    {
      "cell_type": "code",
      "metadata": {
        "id": "L1zoELLnM86N",
        "colab": {
          "base_uri": "https://localhost:8080/"
        },
        "outputId": "3e401598-e113-4392-defc-2fd76b403dc6"
      },
      "source": [
        "from sklearn.metrics import classification_report\n",
        "print(classification_report(y_reuters_test, gridsearchknnresults_reuters.predict(X_reuters_test)))"
      ],
      "execution_count": null,
      "outputs": [
        {
          "output_type": "stream",
          "text": [
            "                                                                                                                      precision    recall  f1-score   support\n",
            "\n",
            "                                                                                                                   0       0.77      0.92      0.84      2053\n",
            "                                                                                                                 acq       0.81      0.48      0.61       482\n",
            "                                                                                                   acq crude nat-gas       0.00      0.00      0.00         1\n",
            "                                                                                                            acq earn       0.00      0.00      0.00         1\n",
            "                                                                                                            acq gold       0.00      0.00      0.00         1\n",
            "                                                                                              acq gold silver copper       0.00      0.00      0.00         1\n",
            "                                                                                                       acq livestock       0.00      0.00      0.00         0\n",
            "                                                                                               acq livestock carcass       0.00      0.00      0.00         1\n",
            "                                                                                                        acq pet-chem       0.00      0.00      0.00         1\n",
            "                                                                                                 acq strategic-metal       1.00      1.00      1.00         1\n",
            "                                                                                                     acq sugar crude       0.00      0.00      0.00         1\n",
            "                                                                                                                alum       0.71      0.56      0.63         9\n",
            "                                                                                                        barley grain       0.00      0.00      0.00         1\n",
            "                                                                                                                 bop       0.40      0.40      0.40         5\n",
            "                                                                                                       bop ipi trade       0.00      0.00      0.00         1\n",
            "                                                                                                           bop trade       0.00      0.00      0.00         5\n",
            "                                                                                                             carcass       0.00      0.00      0.00         1\n",
            "                                                                                                   carcass livestock       0.50      1.00      0.67         1\n",
            "                                                                                                       carcass sugar       0.00      0.00      0.00         1\n",
            "                                                                                                               cocoa       0.69      0.90      0.78        10\n",
            "                                                                                                 cocoa cotton coffee       0.00      0.00      0.00         1\n",
            "                                                                                                     coconut oilseed       0.00      0.00      0.00         1\n",
            "                                                                                                              coffee       0.84      0.89      0.86        18\n",
            "                                                                            coffee oilseed soybean trade sugar cocoa       0.00      0.00      0.00         1\n",
            "                                                                                                   coffee tea rubber       0.00      0.00      0.00         1\n",
            "                                                                                                              copper       0.78      0.88      0.82         8\n",
            "                                                                                                       copper nickel       0.00      0.00      0.00         1\n",
            "                                                                                                          corn grain       0.00      0.00      0.00         1\n",
            "                                                                                                              cotton       0.60      1.00      0.75         3\n",
            "                                                                                                                 cpi       0.68      0.81      0.74        21\n",
            "                                                                                                         cpi gnp ipi       0.00      0.00      0.00         1\n",
            "                                                                                                                 cpu       0.00      0.00      0.00         1\n",
            "                                                                                                               crude       0.68      0.71      0.70        79\n",
            "                                                                                                           crude gas       0.33      1.00      0.50         1\n",
            "                                                                                                      crude gas heat       0.00      0.00      0.00         1\n",
            "                                                                                                       crude nat-gas       0.50      0.27      0.35        11\n",
            "                                                                                                  crude nat-gas earn       0.00      0.00      0.00         1\n",
            "                                                                                          crude nat-gas gas pet-chem       0.00      0.00      0.00         1\n",
            "                                                                                                          crude ship       0.23      0.38      0.29         8\n",
            "                                                                                                    cruzado money-fx       0.00      0.00      0.00         1\n",
            "                                                                                                                 dlr       0.00      0.00      0.00         2\n",
            "                                                                                                        dlr money-fx       1.00      0.20      0.33        10\n",
            "                                                                                               dlr money-fx interest       0.00      0.00      0.00         1\n",
            "                                                                                 dlr money-fx trade cpi money-supply       0.00      0.00      0.00         0\n",
            "                                                                                                             dlr yen       0.00      0.00      0.00         0\n",
            "                                                                                                                earn       0.90      0.89      0.90       759\n",
            "                                                                                                            earn acq       0.00      0.00      0.00         1\n",
            "                                                                                                           earn alum       0.00      0.00      0.00         1\n",
            "                                                                                                          earn crude       0.00      0.00      0.00         2\n",
            "                                                                                                      earn crude gas       0.00      0.00      0.00         1\n",
            "                                                                                                           earn ship       0.00      0.00      0.00         1\n",
            "                                                                                                  fishmeal meal-feed       0.00      0.00      0.00         1\n",
            "                                                                                                                fuel       1.00      0.50      0.67         2\n",
            "                                                                                                                 gas       1.00      0.67      0.80         3\n",
            "                                                                                                           gas crude       0.00      0.00      0.00         3\n",
            "                                                                                                      gas fuel crude       0.00      0.00      0.00         1\n",
            "                                                                                                                 gnp       0.45      0.53      0.49        17\n",
            "                                                                                                             gnp bop       0.00      0.00      0.00         3\n",
            "                                                                                                         gnp bop cpi       0.00      0.00      0.00         1\n",
            "                                                                                                         gnp cpi bop       0.00      0.00      0.00         2\n",
            "                                                                                                        gnp cpi jobs       0.00      0.00      0.00         1\n",
            "                                                                                                    gnp cpi money-fx       0.00      0.00      0.00         1\n",
            "                                                                                                            gnp jobs       0.00      0.00      0.00         2\n",
            "                                                                                                        gnp jobs cpi       0.00      0.00      0.00         0\n",
            "                                                                                                        gnp reserves       0.00      0.00      0.00         1\n",
            "                                                                                                       gnp trade cpi       0.00      0.00      0.00         1\n",
            "                                                                                                                gold       0.67      0.70      0.68        23\n",
            "                                                                                                       gold reserves       1.00      1.00      1.00         1\n",
            "                                                                                                         gold silver       1.00      0.50      0.67         2\n",
            "                                                                                                               grain       0.67      0.12      0.20        17\n",
            "                                                                                                           grain acq       0.00      0.00      0.00         1\n",
            "                                                                                                        grain barley       0.33      0.33      0.33         3\n",
            "                                                                                                          grain corn       0.65      0.71      0.68        21\n",
            "                                                                                          grain corn oilseed soybean       1.00      0.33      0.50         3\n",
            "             grain corn oilseed soybean soy-meal meal-feed veg-oil soy-oil cotton sorghum cotton-oil barley oat rice       0.00      0.00      0.00         1\n",
            "                                                                                                     grain corn rice       0.00      0.00      0.00         1\n",
            "                                                                                                  grain corn sorghum       0.00      0.00      0.00         1\n",
            "                                                                          grain corn sorghum sunseed oilseed soybean       0.00      0.00      0.00         1\n",
            "                                                                                                    grain corn wheat       0.00      0.00      0.00         3\n",
            "                                                                                             grain corn wheat barley       0.00      0.00      0.00         0\n",
            "                                                                                    grain corn wheat oilseed soybean       0.00      0.00      0.00         2\n",
            "                                                                              grain cotton wheat oat oilseed soybean       0.00      0.00      0.00         1\n",
            "                                                                                                       grain oilseed       0.00      0.00      0.00         1\n",
            "                                                                                                  grain oilseed corn       0.00      0.00      0.00         1\n",
            "                  grain oilseed meal-feed veg-oil corn wheat soybean soy-oil soy-meal cotton rice sorghum barley oat       0.00      0.00      0.00         0\n",
            "                                          grain oilseed meal-feed veg-oil wheat corn soybean soy-oil soy-meal cotton       0.00      0.00      0.00         1\n",
            "                                                                                                          grain rice       1.00      0.50      0.67         4\n",
            "                                                                                                   grain rice cotton       0.00      0.00      0.00         1\n",
            "                                                                                                    grain rice sugar       0.00      0.00      0.00         2\n",
            "                                                                                            grain rice wheat sorghum       0.00      0.00      0.00         1\n",
            "                                                                   grain rye wheat barley oat oilseed rapeseed sugar       0.00      0.00      0.00         1\n",
            "                                                                                                          grain ship       0.67      0.50      0.57         4\n",
            "                                                                                             grain ship wheat barley       0.00      0.00      0.00         1\n",
            "                                                                                                       grain sorghum       0.00      0.00      0.00         1\n",
            "                                                                                                         grain trade       0.00      0.00      0.00         1\n",
            "                                                                                                         grain wheat       0.55      0.85      0.67        33\n",
            "                                                                                                  grain wheat barley       1.00      0.67      0.80         3\n",
            "                                                                                             grain wheat barley corn       0.00      0.00      0.00         0\n",
            "                                                                                                    grain wheat corn       0.00      0.00      0.00         3\n",
            "                                                                                    grain wheat corn oilseed soybean       1.00      1.00      1.00         1\n",
            "                                                                                     grain wheat corn sorghum barley       0.00      0.00      0.00         1\n",
            "                                                                                     grain wheat corn sorghum cotton       0.00      0.00      0.00         1\n",
            "                                                                                             grain wheat cotton rice       0.00      0.00      0.00         1\n",
            "                                               grain wheat cotton soybean soy-oil veg-oil oilseed soy-meal meal-feed       0.00      0.00      0.00         1\n",
            "                                                                                              grain wheat oat barley       0.00      0.00      0.00         1\n",
            "                                                                                                    grain wheat rice       0.00      0.00      0.00         1\n",
            "                                                                                             grain wheat rice cotton       0.00      0.00      0.00         1\n",
            "grain wheat rice veg-oil soybean sugar rubber copra-cake corn palm-oil palmkernel coffee tea plywood soy-meal cotton       0.00      0.00      0.00         1\n",
            "                                                                                                    grain wheat ship       0.00      0.00      0.00         1\n",
            "                                                                                                   grain wheat sugar       0.00      0.00      0.00         1\n",
            "                                                                                                           groundnut       0.00      0.00      0.00         1\n",
            "                                                                                                                heat       0.33      1.00      0.50         1\n",
            "                                                                                               heat naphtha jet fuel       0.00      0.00      0.00         1\n",
            "                                                                                              hog l-cattle livestock       0.00      0.00      0.00         1\n",
            "                                                                                                       hog livestock       0.50      0.50      0.50         2\n",
            "                                                                                                             housing       0.33      0.50      0.40         2\n",
            "                                                                                                housing interest gnp       0.00      0.00      0.00         1\n",
            "                                                                                                              income       0.00      0.00      0.00         1\n",
            "                                                                                                         instal-debt       0.00      0.00      0.00         1\n",
            "                                                                                                            interest       0.61      0.60      0.60        52\n",
            "                                                                                           interest bop money-supply       0.00      0.00      0.00         1\n",
            "                                                                                                        interest gnp       0.00      0.00      0.00         1\n",
            "                                                                                                   interest money-fx       0.50      0.50      0.50         4\n",
            "                                                                                           interest money-fx dfl dmk       0.00      0.00      0.00         1\n",
            "                                                                                               interest money-fx stg       0.00      0.00      0.00         1\n",
            "                                                                                       interest reserves jobs income       0.00      0.00      0.00         1\n",
            "                                                                                          interest trade gnp bop cpi       0.00      0.00      0.00         1\n",
            "                                                                                                                 ipi       0.69      0.82      0.75        11\n",
            "                                                                                                           ipi trade       0.00      0.00      0.00         2\n",
            "                                                                                                          iron-steel       0.67      0.67      0.67         6\n",
            "                                                                                                iron-steel zinc lead       0.00      0.00      0.00         1\n",
            "                                                                                                                 jet       0.00      0.00      0.00         1\n",
            "                                                                                                                jobs       1.00      1.00      1.00        11\n",
            "                                                                                                          jobs trade       0.00      0.00      0.00         0\n",
            "                                                                                                                lead       0.00      0.00      0.00         1\n",
            "                                                                                                           lead zinc       0.00      0.00      0.00         0\n",
            "                                                                                           lead zinc strategic-metal       0.00      0.00      0.00         1\n",
            "                                                                                                                 lei       1.00      0.50      0.67         2\n",
            "                                                                                                           livestock       0.80      0.80      0.80         5\n",
            "                                                                                                   livestock carcass       0.33      0.17      0.22         6\n",
            "                                                                                               livestock carcass hog       0.00      0.00      0.00         1\n",
            "                                                                                             livestock carcass trade       0.00      0.00      0.00         0\n",
            "                                                                                                livestock pork-belly       0.00      0.00      0.00         1\n",
            "                                                                                                              lumber       1.00      0.33      0.50         3\n",
            "                                                                                                           meal-feed       0.00      0.00      0.00         1\n",
            "                                                                                                  meal-feed soy-meal       0.00      0.00      0.00         1\n",
            "                                                                 meal-feed soy-meal oilseed soybean sunseed rapeseed       0.00      0.00      0.00         1\n",
            "                                                                                                            money-fx       0.62      0.48      0.54        58\n",
            "                                                                                                        money-fx can       0.00      0.00      0.00         1\n",
            "                                                                                                        money-fx dfl       0.00      0.00      0.00         1\n",
            "                                                                                                        money-fx dlr       0.39      0.39      0.39        18\n",
            "                                                                                                    money-fx dlr dmk       1.00      1.00      1.00         2\n",
            "                                                                                                  money-fx dlr trade       0.00      0.00      0.00         0\n",
            "                                                                                                    money-fx dlr yen       0.20      0.20      0.20         5\n",
            "                                                                                            money-fx dlr yen bop gnp       0.00      0.00      0.00         1\n",
            "                                                                                                   money-fx interest       0.50      0.48      0.49        33\n",
            "                                                                                      money-fx interest money-supply       0.00      0.00      0.00         0\n",
            "                                                                                               money-fx interest stg       0.00      0.00      0.00         1\n",
            "                                                                                                        money-fx lit       0.00      0.00      0.00         1\n",
            "                                                                                                      money-fx nzdlr       0.00      0.00      0.00         1\n",
            "                                                                                                   money-fx reserves       0.00      0.00      0.00         1\n",
            "                                                                                           money-fx sfr money-supply       1.00      1.00      1.00         1\n",
            "                                                                                                    money-fx stg can       0.00      0.00      0.00         1\n",
            "                                                                                                      money-fx trade       0.00      0.00      0.00         3\n",
            "                                                                                                        money-fx yen       1.00      0.67      0.80         3\n",
            "                                                                                                    money-fx yen dlr       0.00      0.00      0.00         1\n",
            "                                                                                                        money-supply       0.79      0.71      0.75        31\n",
            "                                                                                                    money-supply cpi       0.00      0.00      0.00         1\n",
            "                                                                                                    money-supply gnp       0.00      0.00      0.00         1\n",
            "                                                                                               money-supply interest       0.00      0.00      0.00         2\n",
            "                                                                                               money-supply money-fx       0.00      0.00      0.00         1\n",
            "                                                                                                             nat-gas       0.62      0.62      0.62         8\n",
            "                                                                                                             oilseed       0.00      0.00      0.00         0\n",
            "                                                                                                     oilseed coconut       0.00      0.00      0.00         1\n",
            "                                                                                    oilseed grain soybean wheat corn       0.00      0.00      0.00         1\n",
            "                                                                                                    oilseed rapeseed       1.00      1.00      1.00         3\n",
            "                                                             oilseed rapeseed grain wheat corn palm-oil soy-oil ship       0.00      0.00      0.00         1\n",
            "                                                                                                     oilseed soybean       1.00      1.00      1.00         1\n",
            "                                                                            oilseed soybean soy-meal veg-oil soy-oil       0.00      0.00      0.00         1\n",
            "                                                                                     oilseed sunseed veg-oil sun-oil       0.00      0.00      0.00         1\n",
            "                                                                                                              orange       0.86      0.75      0.80         8\n",
            "                                                                                                    palm-oil veg-oil       0.00      0.00      0.00         1\n",
            "                                                                                                            pet-chem       0.00      0.00      0.00         2\n",
            "                                                                                                        pet-chem acq       0.00      0.00      0.00         1\n",
            "                                                                                                      pet-chem crude       0.00      0.00      0.00         1\n",
            "                                                                                                     pet-chem rubber       0.00      0.00      0.00         1\n",
            "                                                                                                              potato       1.00      0.50      0.67         2\n",
            "                                                                                                        propane ship       0.00      0.00      0.00         1\n",
            "                                                                                                            reserves       0.86      0.35      0.50        17\n",
            "                                                                                                   reserves interest       0.00      0.00      0.00         1\n",
            "                                                                                                              retail       1.00      0.25      0.40         4\n",
            "                                                                                                              rubber       1.00      0.56      0.71         9\n",
            "                                                                                                                ship       0.85      0.59      0.70        37\n",
            "                                                                                                         ship coffee       0.00      0.00      0.00         1\n",
            "                                                                                                          ship crude       0.50      0.09      0.15        11\n",
            "                                                                                                     ship crude fuel       0.00      0.00      0.00         1\n",
            "                                                                                                     ship grain corn       0.00      0.00      0.00         1\n",
            "                                                                                                    ship trade crude       0.00      0.00      0.00         1\n",
            "                                                                                                              silver       1.00      0.50      0.67         4\n",
            "                                                                                                        stg money-fx       0.00      0.00      0.00         0\n",
            "                                                                                                     strategic-metal       1.00      1.00      1.00         2\n",
            "                                                                                                               sugar       0.74      0.97      0.84        35\n",
            "                                                                                                           sugar acq       0.00      0.00      0.00         1\n",
            "                                                                                                    sugar corn grain       0.00      0.00      0.00         1\n",
            "                                                                                                          sugar ship       0.00      0.00      0.00         1\n",
            "                                                                                                                 tea       1.00      0.50      0.67         2\n",
            "                                                                                                                 tin       0.75      0.60      0.67         5\n",
            "                                                                           tin sugar grain wheat cocoa coffee rubber       0.00      0.00      0.00         1\n",
            "                                                                                           tin veg-oil palm-oil alum       0.00      0.00      0.00         1\n",
            "                                                                                                               trade       0.71      0.64      0.67        77\n",
            "                                                                                                           trade bop       0.50      0.12      0.20         8\n",
            "                                                                                                       trade bop gnp       0.00      0.00      0.00         1\n",
            "                                                                                           trade carcass orange rice       0.00      0.00      0.00         1\n",
            "                                                                                        trade coffee rubber palm-oil       0.00      0.00      0.00         1\n",
            "                                                                    trade cotton iron-steel naphtha veg-oil palm-oil       0.00      0.00      0.00         1\n",
            "                                                                                                         trade crude       0.00      0.00      0.00         1\n",
            "                                                                                                         trade grain       0.00      0.00      0.00         1\n",
            "                                                                                             trade grain rice cotton       0.00      0.00      0.00         1\n",
            "                                                                       trade grain wheat coffee tea iron-steel crude       0.00      0.00      0.00         1\n",
            "                                                                       trade grain wheat tea coffee iron-steel crude       0.00      0.00      0.00         0\n",
            "                                                                                         trade hog carcass livestock       0.00      0.00      0.00         1\n",
            "                                                                                                     trade ipi grain       0.00      0.00      0.00         1\n",
            "                                                                                                          trade jobs       0.00      0.00      0.00         2\n",
            "                                                                                       trade livestock carcass sugar       0.00      0.00      0.00         1\n",
            "                                                                                                      trade money-fx       1.00      0.33      0.50         3\n",
            "                                                                                                  trade money-fx dlr       1.00      1.00      1.00         1\n",
            "                                                             trade rice livestock carcass grain corn oilseed soybean       0.00      0.00      0.00         1\n",
            "                                                                                                    trade ship crude       0.00      0.00      0.00         1\n",
            "                                                                                               trade soybean veg-oil       0.00      0.00      0.00         1\n",
            "                                                                                                         trade trade       0.00      0.00      0.00         1\n",
            "                                                                                                       trade veg-oil       0.00      0.00      0.00         1\n",
            "                                                                                           trade veg-oil coconut-oil       0.00      0.00      0.00         0\n",
            "                                                                                                             veg-oil       0.60      0.75      0.67         8\n",
            "                                                                                             veg-oil oilseed soybean       0.00      0.00      0.00         1\n",
            "                                                                                                    veg-oil palm-oil       0.57      0.80      0.67         5\n",
            "                                                    veg-oil palm-oil soy-oil rape-oil cotton-oil coconut-oil sun-oil       0.00      0.00      0.00         1\n",
            "                                                                                     veg-oil soy-oil oilseed soybean       0.00      0.00      0.00         1\n",
            "                                                                                                          wheat corn       0.00      0.00      0.00         1\n",
            "                                                                                                         wheat grain       0.00      0.00      0.00         3\n",
            "                                                                                                 wheat grain veg-oil       0.00      0.00      0.00         1\n",
            "                                                                                                                 wpi       0.80      0.57      0.67         7\n",
            "                                                                                                                 yen       0.00      0.00      0.00         2\n",
            "                                                                                                                zinc       1.00      0.17      0.29         6\n",
            "                                                                                                           zinc lead       0.00      0.00      0.00         1\n",
            "                                                                                                    zinc lead copper       0.00      0.00      0.00         1\n",
            "                                                                                           zinc lead strategic-metal       0.00      0.00      0.00         0\n",
            "\n",
            "                                                                                                            accuracy                           0.77      4316\n",
            "                                                                                                           macro avg       0.23      0.19      0.20      4316\n",
            "                                                                                                        weighted avg       0.75      0.77      0.75      4316\n",
            "\n"
          ],
          "name": "stdout"
        },
        {
          "output_type": "stream",
          "text": [
            "/usr/local/lib/python3.7/dist-packages/sklearn/metrics/_classification.py:1272: UndefinedMetricWarning: Precision and F-score are ill-defined and being set to 0.0 in labels with no predicted samples. Use `zero_division` parameter to control this behavior.\n",
            "  _warn_prf(average, modifier, msg_start, len(result))\n",
            "/usr/local/lib/python3.7/dist-packages/sklearn/metrics/_classification.py:1272: UndefinedMetricWarning: Recall and F-score are ill-defined and being set to 0.0 in labels with no true samples. Use `zero_division` parameter to control this behavior.\n",
            "  _warn_prf(average, modifier, msg_start, len(result))\n"
          ],
          "name": "stderr"
        }
      ]
    },
    {
      "cell_type": "code",
      "metadata": {
        "colab": {
          "base_uri": "https://localhost:8080/"
        },
        "id": "7MPFHW_cIOMH",
        "outputId": "2c4e2c42-e648-4a0e-cefb-2ab529ac4563"
      },
      "source": [
        "#Newsgroups SVC Probablistic Optimized Hyperparameters\n",
        "import numpy as np\n",
        "from sklearn.svm import SVC\n",
        "from sklearn.metrics import classification_report\n",
        "svm = SVC(C= 300, kernel='linear', probability=True) #using SVC as probabilistic classifier to compare with non probablistic classifier and its accuracy \n",
        "svm.fit(X_news_train, y_news_train) #fit model with train data\n",
        "print(classification_report(y_news_test, svm.predict(X_news_test)))"
      ],
      "execution_count": null,
      "outputs": [
        {
          "output_type": "stream",
          "text": [
            "              precision    recall  f1-score   support\n",
            "\n",
            "           0       0.90      0.95      0.92       171\n",
            "           1       0.79      0.87      0.82       179\n",
            "           2       0.89      0.88      0.89       198\n",
            "           3       0.78      0.83      0.80       189\n",
            "           4       0.92      0.87      0.90       182\n",
            "           5       0.86      0.85      0.86       184\n",
            "           6       0.84      0.87      0.86       199\n",
            "           7       0.96      0.93      0.94       210\n",
            "           8       0.98      0.96      0.97       187\n",
            "           9       0.96      0.97      0.97       215\n",
            "          10       0.98      0.99      0.98       207\n",
            "          11       0.98      0.93      0.96       205\n",
            "          12       0.84      0.92      0.88       196\n",
            "          13       0.94      0.94      0.94       203\n",
            "          14       0.97      0.96      0.96       187\n",
            "          15       0.98      0.93      0.95       215\n",
            "          16       0.94      0.96      0.95       166\n",
            "          17       0.99      0.96      0.97       194\n",
            "          18       0.94      0.89      0.91       147\n",
            "          19       0.93      0.82      0.87       136\n",
            "\n",
            "    accuracy                           0.92      3770\n",
            "   macro avg       0.92      0.91      0.92      3770\n",
            "weighted avg       0.92      0.92      0.92      3770\n",
            "\n"
          ],
          "name": "stdout"
        }
      ]
    },
    {
      "cell_type": "markdown",
      "metadata": {
        "id": "yzOItL8zMlpH"
      },
      "source": [
        "In comparison to the initial model, the KNN on newsgroups achieved 83 percent accuracy, 20% macro avg and 81% weighted avg. When I used the gridsearch hyperparameters, the model achieved 83 percent accuracy, 84 percent macro average and an 83 percent weighted avergage. \n",
        "\n",
        "For the reuters, without the hyperparameter tuning the KNN model achieved the following: 75% accuracy. 16% macro average and 72% weighted average. \n",
        "With the hyperparameters from the grid search, the model achieved the following: 77 % accuracy 20% macro average and 75 % weighted average. \n"
      ]
    }
  ]
}