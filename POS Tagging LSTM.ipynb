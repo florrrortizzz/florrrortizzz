{
  "nbformat": 4,
  "nbformat_minor": 0,
  "metadata": {
    "colab": {
      "name": "Assignment3 Second Draft.ipynb",
      "provenance": [],
      "collapsed_sections": [
        "mkK8Gwt6Ze7E",
        "1D1MTm1mZjPH",
        "l_L4CpynZmGJ",
        "beIXXbMPTGOL",
        "7PT68vc5TR-H",
        "cFXxs8hJTUAE",
        "RPEeD2X-TcBS",
        "8ZTkg1h8Tdli",
        "79f76XjrTfya",
        "tyyfT7xWTiwC",
        "gGFyCB0tTk2N",
        "SJvsHq7YTny4",
        "LflHCsqkZ9Q0",
        "DastmMUHZslW",
        "KmDu9v3bk_E4",
        "UVWn8ibvm5UQ",
        "qyiksAgAlYPn",
        "N_3hiu1nlga6",
        "qYhHgNfClrI1",
        "klaZRLJUlxik",
        "f4Qi0jHgnYBg",
        "_fuFTJqzluVR",
        "INgd_jMEl8Hr",
        "1upNWl6Hl_iO",
        "FkdpYOmKmC9X",
        "X0dQor4FP6aW",
        "TL1UyJROQL7R",
        "aTzMeGURQRC1",
        "MYSDbQQXQbdu",
        "oTtMoGzhQio1",
        "trdBRj8TQj17",
        "BW0zdOcSQt-8",
        "hXIV4uKDQ17P",
        "l3dwbLFeQ9Be",
        "iAASZBTcQ-5M",
        "kVdHqXbxR9_f",
        "eGRKT0CMSaHI",
        "K2KVizu4Sxnz",
        "QUQlsFoLSCCM",
        "Zuot-2j6SLSi",
        "TZjGWdXTSOul",
        "SpfHNjDqSTjM",
        "9kCWJlWZp0Ma"
      ]
    },
    "kernelspec": {
      "display_name": "Python 3",
      "name": "python3"
    },
    "language_info": {
      "name": "python"
    },
    "accelerator": "GPU"
  },
  "cells": [
    {
      "cell_type": "code",
      "metadata": {
        "colab": {
          "base_uri": "https://localhost:8080/"
        },
        "id": "_ssQS9JgkPfa",
        "outputId": "dd5acffd-feb5-4550-83b7-bebffcdf98ba"
      },
      "source": [
        "pip install pyconll"
      ],
      "execution_count": null,
      "outputs": [
        {
          "output_type": "stream",
          "text": [
            "Collecting pyconll\n",
            "  Downloading https://files.pythonhosted.org/packages/60/7f/148a5b6f99b8a22373bfbcafd9d6776278fec14810ae95c4fe37965f6619/pyconll-3.0.4-py3-none-any.whl\n",
            "Installing collected packages: pyconll\n",
            "Successfully installed pyconll-3.0.4\n"
          ],
          "name": "stdout"
        }
      ]
    },
    {
      "cell_type": "markdown",
      "metadata": {
        "id": "G53Zv0thZXJl"
      },
      "source": [
        "# Import Packages and Datasets from github"
      ]
    },
    {
      "cell_type": "code",
      "metadata": {
        "id": "Egc2ibsJdsI2"
      },
      "source": [
        "# Our standard imports for maths and basic methodology\n",
        "import numpy as np\n",
        "from sklearn.model_selection import train_test_split\n",
        "\n",
        "# For user feedback\n",
        "from tqdm import tqdm\n",
        "import matplotlib.pyplot as plt\n",
        "\n",
        "# Imports for pytorch\n",
        "import torch\n",
        "import torch.nn as nn\n",
        "import pyconll"
      ],
      "execution_count": null,
      "outputs": []
    },
    {
      "cell_type": "code",
      "metadata": {
        "colab": {
          "base_uri": "https://localhost:8080/"
        },
        "id": "Ljs9CkCskWtk",
        "outputId": "fda89209-309f-4c42-d1eb-1caccf96e2c1"
      },
      "source": [
        "!wget https://raw.githubusercontent.com/UniversalDependencies/UD_Ancient_Greek-Perseus/master/grc_perseus-ud-train.conllu"
      ],
      "execution_count": null,
      "outputs": [
        {
          "output_type": "stream",
          "text": [
            "--2021-05-25 17:11:57--  https://raw.githubusercontent.com/UniversalDependencies/UD_Ancient_Greek-Perseus/master/grc_perseus-ud-train.conllu\n",
            "Resolving raw.githubusercontent.com (raw.githubusercontent.com)... 185.199.108.133, 185.199.109.133, 185.199.110.133, ...\n",
            "Connecting to raw.githubusercontent.com (raw.githubusercontent.com)|185.199.108.133|:443... connected.\n",
            "HTTP request sent, awaiting response... 200 OK\n",
            "Length: 14837818 (14M) [text/plain]\n",
            "Saving to: ‘grc_perseus-ud-train.conllu’\n",
            "\n",
            "grc_perseus-ud-trai 100%[===================>]  14.15M  60.2MB/s    in 0.2s    \n",
            "\n",
            "2021-05-25 17:11:59 (60.2 MB/s) - ‘grc_perseus-ud-train.conllu’ saved [14837818/14837818]\n",
            "\n"
          ],
          "name": "stdout"
        }
      ]
    },
    {
      "cell_type": "code",
      "metadata": {
        "colab": {
          "base_uri": "https://localhost:8080/"
        },
        "id": "W0Dq8yZAp67p",
        "outputId": "22a6fd90-f9d1-4348-aa4f-e7431e59e52f"
      },
      "source": [
        "!wget https://raw.githubusercontent.com/UniversalDependencies/UD_Ancient_Greek-Perseus/master/grc_perseus-ud-test.conllu"
      ],
      "execution_count": null,
      "outputs": [
        {
          "output_type": "stream",
          "text": [
            "--2021-05-25 17:11:59--  https://raw.githubusercontent.com/UniversalDependencies/UD_Ancient_Greek-Perseus/master/grc_perseus-ud-test.conllu\n",
            "Resolving raw.githubusercontent.com (raw.githubusercontent.com)... 185.199.108.133, 185.199.109.133, 185.199.110.133, ...\n",
            "Connecting to raw.githubusercontent.com (raw.githubusercontent.com)|185.199.108.133|:443... connected.\n",
            "HTTP request sent, awaiting response... 200 OK\n",
            "Length: 1980089 (1.9M) [text/plain]\n",
            "Saving to: ‘grc_perseus-ud-test.conllu’\n",
            "\n",
            "grc_perseus-ud-test 100%[===================>]   1.89M  --.-KB/s    in 0.06s   \n",
            "\n",
            "2021-05-25 17:12:00 (33.0 MB/s) - ‘grc_perseus-ud-test.conllu’ saved [1980089/1980089]\n",
            "\n"
          ],
          "name": "stdout"
        }
      ]
    },
    {
      "cell_type": "code",
      "metadata": {
        "colab": {
          "base_uri": "https://localhost:8080/"
        },
        "id": "wPIFD8RCj6vj",
        "outputId": "38d390e9-0a74-4480-e21f-353fc832fd9b"
      },
      "source": [
        "!wget https://raw.githubusercontent.com/UniversalDependencies/UD_Spanish-AnCora/dev/es_ancora-ud-train.conllu"
      ],
      "execution_count": null,
      "outputs": [
        {
          "output_type": "stream",
          "text": [
            "--2021-05-25 17:12:00--  https://raw.githubusercontent.com/UniversalDependencies/UD_Spanish-AnCora/dev/es_ancora-ud-train.conllu\n",
            "Resolving raw.githubusercontent.com (raw.githubusercontent.com)... 185.199.108.133, 185.199.109.133, 185.199.110.133, ...\n",
            "Connecting to raw.githubusercontent.com (raw.githubusercontent.com)|185.199.108.133|:443... connected.\n",
            "HTTP request sent, awaiting response... 200 OK\n",
            "Length: 29279116 (28M) [text/plain]\n",
            "Saving to: ‘es_ancora-ud-train.conllu’\n",
            "\n",
            "es_ancora-ud-train. 100%[===================>]  27.92M   107MB/s    in 0.3s    \n",
            "\n",
            "2021-05-25 17:12:01 (107 MB/s) - ‘es_ancora-ud-train.conllu’ saved [29279116/29279116]\n",
            "\n"
          ],
          "name": "stdout"
        }
      ]
    },
    {
      "cell_type": "code",
      "metadata": {
        "colab": {
          "base_uri": "https://localhost:8080/"
        },
        "id": "FVSQkLEHqAup",
        "outputId": "df58a7af-cc67-4d35-ab9a-06a305d8f95b"
      },
      "source": [
        "!wget https://raw.githubusercontent.com/UniversalDependencies/UD_Spanish-AnCora/dev/es_ancora-ud-test.conllu"
      ],
      "execution_count": null,
      "outputs": [
        {
          "output_type": "stream",
          "text": [
            "--2021-05-25 17:12:01--  https://raw.githubusercontent.com/UniversalDependencies/UD_Spanish-AnCora/dev/es_ancora-ud-test.conllu\n",
            "Resolving raw.githubusercontent.com (raw.githubusercontent.com)... 185.199.108.133, 185.199.109.133, 185.199.110.133, ...\n",
            "Connecting to raw.githubusercontent.com (raw.githubusercontent.com)|185.199.108.133|:443... connected.\n",
            "HTTP request sent, awaiting response... 200 OK\n",
            "Length: 3461362 (3.3M) [text/plain]\n",
            "Saving to: ‘es_ancora-ud-test.conllu’\n",
            "\n",
            "es_ancora-ud-test.c 100%[===================>]   3.30M  --.-KB/s    in 0.1s    \n",
            "\n",
            "2021-05-25 17:12:02 (23.3 MB/s) - ‘es_ancora-ud-test.conllu’ saved [3461362/3461362]\n",
            "\n"
          ],
          "name": "stdout"
        }
      ]
    },
    {
      "cell_type": "code",
      "metadata": {
        "colab": {
          "base_uri": "https://localhost:8080/"
        },
        "id": "gEaqXatEkbaV",
        "outputId": "a35742b5-5710-453f-fb4d-18be67a39d66"
      },
      "source": [
        "!wget https://raw.githubusercontent.com/UniversalDependencies/UD_Latin-Perseus/master/la_perseus-ud-train.conllu"
      ],
      "execution_count": null,
      "outputs": [
        {
          "output_type": "stream",
          "text": [
            "--2021-05-25 17:12:02--  https://raw.githubusercontent.com/UniversalDependencies/UD_Latin-Perseus/master/la_perseus-ud-train.conllu\n",
            "Resolving raw.githubusercontent.com (raw.githubusercontent.com)... 185.199.108.133, 185.199.109.133, 185.199.110.133, ...\n",
            "Connecting to raw.githubusercontent.com (raw.githubusercontent.com)|185.199.108.133|:443... connected.\n",
            "HTTP request sent, awaiting response... 200 OK\n",
            "Length: 1588955 (1.5M) [text/plain]\n",
            "Saving to: ‘la_perseus-ud-train.conllu’\n",
            "\n",
            "la_perseus-ud-train 100%[===================>]   1.51M  --.-KB/s    in 0.06s   \n",
            "\n",
            "2021-05-25 17:12:03 (26.5 MB/s) - ‘la_perseus-ud-train.conllu’ saved [1588955/1588955]\n",
            "\n"
          ],
          "name": "stdout"
        }
      ]
    },
    {
      "cell_type": "code",
      "metadata": {
        "colab": {
          "base_uri": "https://localhost:8080/"
        },
        "id": "k4D6zMMBqEIe",
        "outputId": "dd31d661-7211-4cd5-ad2c-703d86174a6a"
      },
      "source": [
        "!wget https://raw.githubusercontent.com/UniversalDependencies/UD_Latin-Perseus/master/la_perseus-ud-test.conllu"
      ],
      "execution_count": null,
      "outputs": [
        {
          "output_type": "stream",
          "text": [
            "--2021-05-25 17:12:03--  https://raw.githubusercontent.com/UniversalDependencies/UD_Latin-Perseus/master/la_perseus-ud-test.conllu\n",
            "Resolving raw.githubusercontent.com (raw.githubusercontent.com)... 185.199.108.133, 185.199.109.133, 185.199.110.133, ...\n",
            "Connecting to raw.githubusercontent.com (raw.githubusercontent.com)|185.199.108.133|:443... connected.\n",
            "HTTP request sent, awaiting response... 200 OK\n",
            "Length: 984663 (962K) [text/plain]\n",
            "Saving to: ‘la_perseus-ud-test.conllu’\n",
            "\n",
            "la_perseus-ud-test. 100%[===================>] 961.58K  --.-KB/s    in 0.05s   \n",
            "\n",
            "2021-05-25 17:12:03 (19.3 MB/s) - ‘la_perseus-ud-test.conllu’ saved [984663/984663]\n",
            "\n"
          ],
          "name": "stdout"
        }
      ]
    },
    {
      "cell_type": "code",
      "metadata": {
        "colab": {
          "base_uri": "https://localhost:8080/"
        },
        "id": "H8sKa0NMT-qQ",
        "outputId": "2fcbf53d-0d63-4412-ce42-149349852302"
      },
      "source": [
        "!wget https://raw.githubusercontent.com/UniversalDependencies/UD_French-Sequoia/master/fr_sequoia-ud-train.conllu"
      ],
      "execution_count": null,
      "outputs": [
        {
          "output_type": "stream",
          "text": [
            "--2021-05-25 17:12:03--  https://raw.githubusercontent.com/UniversalDependencies/UD_French-Sequoia/master/fr_sequoia-ud-train.conllu\n",
            "Resolving raw.githubusercontent.com (raw.githubusercontent.com)... 185.199.108.133, 185.199.109.133, 185.199.110.133, ...\n",
            "Connecting to raw.githubusercontent.com (raw.githubusercontent.com)|185.199.108.133|:443... connected.\n",
            "HTTP request sent, awaiting response... 200 OK\n",
            "Length: 3160042 (3.0M) [text/plain]\n",
            "Saving to: ‘fr_sequoia-ud-train.conllu’\n",
            "\n",
            "fr_sequoia-ud-train 100%[===================>]   3.01M  --.-KB/s    in 0.1s    \n",
            "\n",
            "2021-05-25 17:12:04 (28.6 MB/s) - ‘fr_sequoia-ud-train.conllu’ saved [3160042/3160042]\n",
            "\n"
          ],
          "name": "stdout"
        }
      ]
    },
    {
      "cell_type": "code",
      "metadata": {
        "colab": {
          "base_uri": "https://localhost:8080/"
        },
        "id": "62goLuWAT-4q",
        "outputId": "74679fe7-c865-4d52-8948-2692780af32d"
      },
      "source": [
        "!wget https://raw.githubusercontent.com/UniversalDependencies/UD_French-Sequoia/master/fr_sequoia-ud-test.conllu"
      ],
      "execution_count": null,
      "outputs": [
        {
          "output_type": "stream",
          "text": [
            "--2021-05-25 17:12:04--  https://raw.githubusercontent.com/UniversalDependencies/UD_French-Sequoia/master/fr_sequoia-ud-test.conllu\n",
            "Resolving raw.githubusercontent.com (raw.githubusercontent.com)... 185.199.108.133, 185.199.109.133, 185.199.110.133, ...\n",
            "Connecting to raw.githubusercontent.com (raw.githubusercontent.com)|185.199.108.133|:443... connected.\n",
            "HTTP request sent, awaiting response... 200 OK\n",
            "Length: 627072 (612K) [text/plain]\n",
            "Saving to: ‘fr_sequoia-ud-test.conllu’\n",
            "\n",
            "fr_sequoia-ud-test. 100%[===================>] 612.38K  --.-KB/s    in 0.03s   \n",
            "\n",
            "2021-05-25 17:12:04 (22.4 MB/s) - ‘fr_sequoia-ud-test.conllu’ saved [627072/627072]\n",
            "\n"
          ],
          "name": "stdout"
        }
      ]
    },
    {
      "cell_type": "code",
      "metadata": {
        "colab": {
          "base_uri": "https://localhost:8080/"
        },
        "id": "_kpwyIvrT_Pl",
        "outputId": "b5f776ee-1c28-41ee-decc-8817d1a9bbe4"
      },
      "source": [
        "!wget https://raw.githubusercontent.com/UniversalDependencies/UD_Italian-VIT/master/it_vit-ud-train.conllu"
      ],
      "execution_count": null,
      "outputs": [
        {
          "output_type": "stream",
          "text": [
            "--2021-05-25 17:12:04--  https://raw.githubusercontent.com/UniversalDependencies/UD_Italian-VIT/master/it_vit-ud-train.conllu\n",
            "Resolving raw.githubusercontent.com (raw.githubusercontent.com)... 185.199.108.133, 185.199.109.133, 185.199.110.133, ...\n",
            "Connecting to raw.githubusercontent.com (raw.githubusercontent.com)|185.199.108.133|:443... connected.\n",
            "HTTP request sent, awaiting response... 200 OK\n",
            "Length: 14137747 (13M) [text/plain]\n",
            "Saving to: ‘it_vit-ud-train.conllu’\n",
            "\n",
            "it_vit-ud-train.con 100%[===================>]  13.48M  32.9MB/s    in 0.4s    \n",
            "\n",
            "2021-05-25 17:12:05 (32.9 MB/s) - ‘it_vit-ud-train.conllu’ saved [14137747/14137747]\n",
            "\n"
          ],
          "name": "stdout"
        }
      ]
    },
    {
      "cell_type": "code",
      "metadata": {
        "colab": {
          "base_uri": "https://localhost:8080/"
        },
        "id": "6wxXcXkYT_uM",
        "outputId": "1b6e773f-3fd6-4a9b-e70d-c11486ad44a4"
      },
      "source": [
        "!wget https://raw.githubusercontent.com/UniversalDependencies/UD_Italian-VIT/master/it_vit-ud-test.conllu"
      ],
      "execution_count": null,
      "outputs": [
        {
          "output_type": "stream",
          "text": [
            "--2021-05-25 17:12:05--  https://raw.githubusercontent.com/UniversalDependencies/UD_Italian-VIT/master/it_vit-ud-test.conllu\n",
            "Resolving raw.githubusercontent.com (raw.githubusercontent.com)... 185.199.110.133, 185.199.111.133, 185.199.109.133, ...\n",
            "Connecting to raw.githubusercontent.com (raw.githubusercontent.com)|185.199.110.133|:443... connected.\n",
            "HTTP request sent, awaiting response... 200 OK\n",
            "Length: 1653240 (1.6M) [text/plain]\n",
            "Saving to: ‘it_vit-ud-test.conllu’\n",
            "\n",
            "it_vit-ud-test.conl 100%[===================>]   1.58M  --.-KB/s    in 0.06s   \n",
            "\n",
            "2021-05-25 17:12:06 (26.4 MB/s) - ‘it_vit-ud-test.conllu’ saved [1653240/1653240]\n",
            "\n"
          ],
          "name": "stdout"
        }
      ]
    },
    {
      "cell_type": "code",
      "metadata": {
        "colab": {
          "base_uri": "https://localhost:8080/"
        },
        "id": "p1LWoSCKUAEG",
        "outputId": "f19053ec-05e3-4115-f19f-1a3da141a0db"
      },
      "source": [
        "!wget https://raw.githubusercontent.com/UniversalDependencies/UD_Dutch-LassySmall/master/nl_lassysmall-ud-train.conllu"
      ],
      "execution_count": null,
      "outputs": [
        {
          "output_type": "stream",
          "text": [
            "--2021-05-25 17:12:06--  https://raw.githubusercontent.com/UniversalDependencies/UD_Dutch-LassySmall/master/nl_lassysmall-ud-train.conllu\n",
            "Resolving raw.githubusercontent.com (raw.githubusercontent.com)... 185.199.108.133, 185.199.109.133, 185.199.110.133, ...\n",
            "Connecting to raw.githubusercontent.com (raw.githubusercontent.com)|185.199.108.133|:443... connected.\n",
            "HTTP request sent, awaiting response... 200 OK\n",
            "Length: 6123072 (5.8M) [text/plain]\n",
            "Saving to: ‘nl_lassysmall-ud-train.conllu’\n",
            "\n",
            "nl_lassysmall-ud-tr 100%[===================>]   5.84M  21.1MB/s    in 0.3s    \n",
            "\n",
            "2021-05-25 17:12:07 (21.1 MB/s) - ‘nl_lassysmall-ud-train.conllu’ saved [6123072/6123072]\n",
            "\n"
          ],
          "name": "stdout"
        }
      ]
    },
    {
      "cell_type": "code",
      "metadata": {
        "colab": {
          "base_uri": "https://localhost:8080/"
        },
        "id": "bq3VBLLBUAQ4",
        "outputId": "9794f3a3-609d-462c-cc82-5857716c1ee3"
      },
      "source": [
        "!wget https://raw.githubusercontent.com/UniversalDependencies/UD_Dutch-LassySmall/master/nl_lassysmall-ud-test.conllu"
      ],
      "execution_count": null,
      "outputs": [
        {
          "output_type": "stream",
          "text": [
            "--2021-05-25 17:12:07--  https://raw.githubusercontent.com/UniversalDependencies/UD_Dutch-LassySmall/master/nl_lassysmall-ud-test.conllu\n",
            "Resolving raw.githubusercontent.com (raw.githubusercontent.com)... 185.199.110.133, 185.199.111.133, 185.199.109.133, ...\n",
            "Connecting to raw.githubusercontent.com (raw.githubusercontent.com)|185.199.110.133|:443... connected.\n",
            "HTTP request sent, awaiting response... 200 OK\n",
            "Length: 947436 (925K) [text/plain]\n",
            "Saving to: ‘nl_lassysmall-ud-test.conllu’\n",
            "\n",
            "nl_lassysmall-ud-te 100%[===================>] 925.23K  --.-KB/s    in 0.04s   \n",
            "\n",
            "2021-05-25 17:12:08 (21.7 MB/s) - ‘nl_lassysmall-ud-test.conllu’ saved [947436/947436]\n",
            "\n"
          ],
          "name": "stdout"
        }
      ]
    },
    {
      "cell_type": "code",
      "metadata": {
        "colab": {
          "base_uri": "https://localhost:8080/"
        },
        "id": "7WPekQQvUAfp",
        "outputId": "8efb88be-1dba-496b-faf8-e929b9af933a"
      },
      "source": [
        "!wget https://raw.githubusercontent.com/UniversalDependencies/UD_English-EWT/master/en_ewt-ud-train.conllu"
      ],
      "execution_count": null,
      "outputs": [
        {
          "output_type": "stream",
          "text": [
            "--2021-05-25 17:12:08--  https://raw.githubusercontent.com/UniversalDependencies/UD_English-EWT/master/en_ewt-ud-train.conllu\n",
            "Resolving raw.githubusercontent.com (raw.githubusercontent.com)... 185.199.108.133, 185.199.109.133, 185.199.110.133, ...\n",
            "Connecting to raw.githubusercontent.com (raw.githubusercontent.com)|185.199.108.133|:443... connected.\n",
            "HTTP request sent, awaiting response... 200 OK\n",
            "Length: 13473379 (13M) [text/plain]\n",
            "Saving to: ‘en_ewt-ud-train.conllu’\n",
            "\n",
            "en_ewt-ud-train.con 100%[===================>]  12.85M  64.2MB/s    in 0.2s    \n",
            "\n",
            "2021-05-25 17:12:09 (64.2 MB/s) - ‘en_ewt-ud-train.conllu’ saved [13473379/13473379]\n",
            "\n"
          ],
          "name": "stdout"
        }
      ]
    },
    {
      "cell_type": "code",
      "metadata": {
        "colab": {
          "base_uri": "https://localhost:8080/"
        },
        "id": "a3ULapcpUAvS",
        "outputId": "8c6b8ed8-0a39-4cf7-b8cf-06400934051b"
      },
      "source": [
        "!wget https://raw.githubusercontent.com/UniversalDependencies/UD_English-EWT/master/en_ewt-ud-test.conllu"
      ],
      "execution_count": null,
      "outputs": [
        {
          "output_type": "stream",
          "text": [
            "--2021-05-25 17:12:09--  https://raw.githubusercontent.com/UniversalDependencies/UD_English-EWT/master/en_ewt-ud-test.conllu\n",
            "Resolving raw.githubusercontent.com (raw.githubusercontent.com)... 185.199.110.133, 185.199.111.133, 185.199.109.133, ...\n",
            "Connecting to raw.githubusercontent.com (raw.githubusercontent.com)|185.199.110.133|:443... connected.\n",
            "HTTP request sent, awaiting response... 200 OK\n",
            "Length: 1713436 (1.6M) [text/plain]\n",
            "Saving to: ‘en_ewt-ud-test.conllu’\n",
            "\n",
            "en_ewt-ud-test.conl 100%[===================>]   1.63M  --.-KB/s    in 0.07s   \n",
            "\n",
            "2021-05-25 17:12:09 (24.8 MB/s) - ‘en_ewt-ud-test.conllu’ saved [1713436/1713436]\n",
            "\n"
          ],
          "name": "stdout"
        }
      ]
    },
    {
      "cell_type": "code",
      "metadata": {
        "colab": {
          "base_uri": "https://localhost:8080/"
        },
        "id": "hewFu_77UDe7",
        "outputId": "91a2d009-e3fe-414d-d806-f88e86cc4fba"
      },
      "source": [
        "!wget https://raw.githubusercontent.com/UniversalDependencies/UD_German-GSD/master/de_gsd-ud-train.conllu"
      ],
      "execution_count": null,
      "outputs": [
        {
          "output_type": "stream",
          "text": [
            "--2021-05-25 17:12:09--  https://raw.githubusercontent.com/UniversalDependencies/UD_German-GSD/master/de_gsd-ud-train.conllu\n",
            "Resolving raw.githubusercontent.com (raw.githubusercontent.com)... 185.199.108.133, 185.199.109.133, 185.199.110.133, ...\n",
            "Connecting to raw.githubusercontent.com (raw.githubusercontent.com)|185.199.108.133|:443... connected.\n",
            "HTTP request sent, awaiting response... 200 OK\n",
            "Length: 19412594 (19M) [text/plain]\n",
            "Saving to: ‘de_gsd-ud-train.conllu’\n",
            "\n",
            "de_gsd-ud-train.con 100%[===================>]  18.51M  55.4MB/s    in 0.3s    \n",
            "\n",
            "2021-05-25 17:12:11 (55.4 MB/s) - ‘de_gsd-ud-train.conllu’ saved [19412594/19412594]\n",
            "\n"
          ],
          "name": "stdout"
        }
      ]
    },
    {
      "cell_type": "code",
      "metadata": {
        "colab": {
          "base_uri": "https://localhost:8080/"
        },
        "id": "jVO6wxQ4UDw3",
        "outputId": "094a842c-223b-4d08-fe69-8fb36cb9f8f6"
      },
      "source": [
        "!wget https://raw.githubusercontent.com/UniversalDependencies/UD_German-GSD/master/de_gsd-ud-test.conllu"
      ],
      "execution_count": null,
      "outputs": [
        {
          "output_type": "stream",
          "text": [
            "--2021-05-25 17:12:11--  https://raw.githubusercontent.com/UniversalDependencies/UD_German-GSD/master/de_gsd-ud-test.conllu\n",
            "Resolving raw.githubusercontent.com (raw.githubusercontent.com)... 185.199.108.133, 185.199.109.133, 185.199.110.133, ...\n",
            "Connecting to raw.githubusercontent.com (raw.githubusercontent.com)|185.199.108.133|:443... connected.\n",
            "HTTP request sent, awaiting response... 200 OK\n",
            "Length: 1197660 (1.1M) [text/plain]\n",
            "Saving to: ‘de_gsd-ud-test.conllu’\n",
            "\n",
            "de_gsd-ud-test.conl 100%[===================>]   1.14M  --.-KB/s    in 0.06s   \n",
            "\n",
            "2021-05-25 17:12:11 (17.6 MB/s) - ‘de_gsd-ud-test.conllu’ saved [1197660/1197660]\n",
            "\n"
          ],
          "name": "stdout"
        }
      ]
    },
    {
      "cell_type": "code",
      "metadata": {
        "colab": {
          "base_uri": "https://localhost:8080/"
        },
        "id": "i0MW_slNUD_G",
        "outputId": "015ffc69-190a-49b0-f0e9-a8f77ce13411"
      },
      "source": [
        "!wget https://raw.githubusercontent.com/UniversalDependencies/UD_Finnish-TDT/master/fi_tdt-ud-train.conllu"
      ],
      "execution_count": null,
      "outputs": [
        {
          "output_type": "stream",
          "text": [
            "--2021-05-25 17:12:11--  https://raw.githubusercontent.com/UniversalDependencies/UD_Finnish-TDT/master/fi_tdt-ud-train.conllu\n",
            "Resolving raw.githubusercontent.com (raw.githubusercontent.com)... 185.199.108.133, 185.199.111.133, 185.199.110.133, ...\n",
            "Connecting to raw.githubusercontent.com (raw.githubusercontent.com)|185.199.108.133|:443... connected.\n",
            "HTTP request sent, awaiting response... 200 OK\n",
            "Length: 13443822 (13M) [text/plain]\n",
            "Saving to: ‘fi_tdt-ud-train.conllu’\n",
            "\n",
            "fi_tdt-ud-train.con 100%[===================>]  12.82M  43.6MB/s    in 0.3s    \n",
            "\n",
            "2021-05-25 17:12:12 (43.6 MB/s) - ‘fi_tdt-ud-train.conllu’ saved [13443822/13443822]\n",
            "\n"
          ],
          "name": "stdout"
        }
      ]
    },
    {
      "cell_type": "code",
      "metadata": {
        "colab": {
          "base_uri": "https://localhost:8080/"
        },
        "id": "QY_GWu3jUEMQ",
        "outputId": "84b44a5c-8a36-488b-ceb4-c59c17271996"
      },
      "source": [
        "!wget https://raw.githubusercontent.com/UniversalDependencies/UD_Finnish-TDT/master/fi_tdt-ud-test.conllu"
      ],
      "execution_count": null,
      "outputs": [
        {
          "output_type": "stream",
          "text": [
            "--2021-05-25 17:12:12--  https://raw.githubusercontent.com/UniversalDependencies/UD_Finnish-TDT/master/fi_tdt-ud-test.conllu\n",
            "Resolving raw.githubusercontent.com (raw.githubusercontent.com)... 185.199.108.133, 185.199.109.133, 185.199.110.133, ...\n",
            "Connecting to raw.githubusercontent.com (raw.githubusercontent.com)|185.199.108.133|:443... connected.\n",
            "HTTP request sent, awaiting response... 200 OK\n",
            "Length: 1736471 (1.7M) [text/plain]\n",
            "Saving to: ‘fi_tdt-ud-test.conllu’\n",
            "\n",
            "fi_tdt-ud-test.conl 100%[===================>]   1.66M  --.-KB/s    in 0.06s   \n",
            "\n",
            "2021-05-25 17:12:13 (27.0 MB/s) - ‘fi_tdt-ud-test.conllu’ saved [1736471/1736471]\n",
            "\n"
          ],
          "name": "stdout"
        }
      ]
    },
    {
      "cell_type": "code",
      "metadata": {
        "colab": {
          "base_uri": "https://localhost:8080/"
        },
        "id": "IYXt3HQsUEcG",
        "outputId": "65c572f8-dd9c-4717-e6b2-ccd0e920b178"
      },
      "source": [
        "!wget https://raw.githubusercontent.com/UniversalDependencies/UD_Swedish-Talbanken/master/sv_talbanken-ud-train.conllu"
      ],
      "execution_count": null,
      "outputs": [
        {
          "output_type": "stream",
          "text": [
            "--2021-05-25 17:12:13--  https://raw.githubusercontent.com/UniversalDependencies/UD_Swedish-Talbanken/master/sv_talbanken-ud-train.conllu\n",
            "Resolving raw.githubusercontent.com (raw.githubusercontent.com)... 185.199.108.133, 185.199.109.133, 185.199.110.133, ...\n",
            "Connecting to raw.githubusercontent.com (raw.githubusercontent.com)|185.199.108.133|:443... connected.\n",
            "HTTP request sent, awaiting response... 200 OK\n",
            "Length: 5839622 (5.6M) [text/plain]\n",
            "Saving to: ‘sv_talbanken-ud-train.conllu’\n",
            "\n",
            "sv_talbanken-ud-tra 100%[===================>]   5.57M  --.-KB/s    in 0.1s    \n",
            "\n",
            "2021-05-25 17:12:14 (43.5 MB/s) - ‘sv_talbanken-ud-train.conllu’ saved [5839622/5839622]\n",
            "\n"
          ],
          "name": "stdout"
        }
      ]
    },
    {
      "cell_type": "code",
      "metadata": {
        "colab": {
          "base_uri": "https://localhost:8080/"
        },
        "id": "NgxFddbqdSXa",
        "outputId": "948075ee-f791-45d5-d6b8-7013dca5f629"
      },
      "source": [
        "!wget https://raw.githubusercontent.com/UniversalDependencies/UD_Swedish-Talbanken/master/sv_talbanken-ud-test.conllu"
      ],
      "execution_count": null,
      "outputs": [
        {
          "output_type": "stream",
          "text": [
            "--2021-05-25 17:12:14--  https://raw.githubusercontent.com/UniversalDependencies/UD_Swedish-Talbanken/master/sv_talbanken-ud-test.conllu\n",
            "Resolving raw.githubusercontent.com (raw.githubusercontent.com)... 185.199.108.133, 185.199.109.133, 185.199.110.133, ...\n",
            "Connecting to raw.githubusercontent.com (raw.githubusercontent.com)|185.199.108.133|:443... connected.\n",
            "HTTP request sent, awaiting response... 200 OK\n",
            "Length: 1781482 (1.7M) [text/plain]\n",
            "Saving to: ‘sv_talbanken-ud-test.conllu’\n",
            "\n",
            "sv_talbanken-ud-tes 100%[===================>]   1.70M  --.-KB/s    in 0.06s   \n",
            "\n",
            "2021-05-25 17:12:14 (27.6 MB/s) - ‘sv_talbanken-ud-test.conllu’ saved [1781482/1781482]\n",
            "\n"
          ],
          "name": "stdout"
        }
      ]
    },
    {
      "cell_type": "code",
      "metadata": {
        "colab": {
          "base_uri": "https://localhost:8080/"
        },
        "id": "CWbRjnqUdeQg",
        "outputId": "1411d941-63f7-47c0-9517-3c5b6c152964"
      },
      "source": [
        "!wget https://raw.githubusercontent.com/UniversalDependencies/UD_Hebrew-HTB/master/he_htb-ud-train.conllu"
      ],
      "execution_count": null,
      "outputs": [
        {
          "output_type": "stream",
          "text": [
            "--2021-05-25 17:12:14--  https://raw.githubusercontent.com/UniversalDependencies/UD_Hebrew-HTB/master/he_htb-ud-train.conllu\n",
            "Resolving raw.githubusercontent.com (raw.githubusercontent.com)... 185.199.108.133, 185.199.109.133, 185.199.110.133, ...\n",
            "Connecting to raw.githubusercontent.com (raw.githubusercontent.com)|185.199.108.133|:443... connected.\n",
            "HTTP request sent, awaiting response... 200 OK\n",
            "Length: 10403144 (9.9M) [text/plain]\n",
            "Saving to: ‘he_htb-ud-train.conllu’\n",
            "\n",
            "he_htb-ud-train.con 100%[===================>]   9.92M  35.2MB/s    in 0.3s    \n",
            "\n",
            "2021-05-25 17:12:15 (35.2 MB/s) - ‘he_htb-ud-train.conllu’ saved [10403144/10403144]\n",
            "\n"
          ],
          "name": "stdout"
        }
      ]
    },
    {
      "cell_type": "code",
      "metadata": {
        "colab": {
          "base_uri": "https://localhost:8080/"
        },
        "id": "MI52V1JsdenP",
        "outputId": "21d7ca4d-756e-4256-a7d5-c4c7be3e1eaf"
      },
      "source": [
        "!wget https://raw.githubusercontent.com/UniversalDependencies/UD_Hebrew-HTB/master/he_htb-ud-test.conllu"
      ],
      "execution_count": null,
      "outputs": [
        {
          "output_type": "stream",
          "text": [
            "--2021-05-25 17:12:15--  https://raw.githubusercontent.com/UniversalDependencies/UD_Hebrew-HTB/master/he_htb-ud-test.conllu\n",
            "Resolving raw.githubusercontent.com (raw.githubusercontent.com)... 185.199.108.133, 185.199.109.133, 185.199.110.133, ...\n",
            "Connecting to raw.githubusercontent.com (raw.githubusercontent.com)|185.199.108.133|:443... connected.\n",
            "HTTP request sent, awaiting response... 200 OK\n",
            "Length: 931163 (909K) [text/plain]\n",
            "Saving to: ‘he_htb-ud-test.conllu’\n",
            "\n",
            "he_htb-ud-test.conl 100%[===================>] 909.34K  --.-KB/s    in 0.04s   \n",
            "\n",
            "2021-05-25 17:12:15 (25.1 MB/s) - ‘he_htb-ud-test.conllu’ saved [931163/931163]\n",
            "\n"
          ],
          "name": "stdout"
        }
      ]
    },
    {
      "cell_type": "code",
      "metadata": {
        "colab": {
          "base_uri": "https://localhost:8080/"
        },
        "id": "RM_dguG0dnn3",
        "outputId": "5be26537-9b54-4ec9-cacb-c33307024fcd"
      },
      "source": [
        "!wget https://raw.githubusercontent.com/UniversalDependencies/UD_Afrikaans-AfriBooms/master/af_afribooms-ud-train.conllu"
      ],
      "execution_count": null,
      "outputs": [
        {
          "output_type": "stream",
          "text": [
            "--2021-05-25 17:12:16--  https://raw.githubusercontent.com/UniversalDependencies/UD_Afrikaans-AfriBooms/master/af_afribooms-ud-train.conllu\n",
            "Resolving raw.githubusercontent.com (raw.githubusercontent.com)... 185.199.110.133, 185.199.111.133, 185.199.109.133, ...\n",
            "Connecting to raw.githubusercontent.com (raw.githubusercontent.com)|185.199.110.133|:443... connected.\n",
            "HTTP request sent, awaiting response... 200 OK\n",
            "Length: 2125899 (2.0M) [text/plain]\n",
            "Saving to: ‘af_afribooms-ud-train.conllu’\n",
            "\n",
            "af_afribooms-ud-tra 100%[===================>]   2.03M  --.-KB/s    in 0.05s   \n",
            "\n",
            "2021-05-25 17:12:16 (40.9 MB/s) - ‘af_afribooms-ud-train.conllu’ saved [2125899/2125899]\n",
            "\n"
          ],
          "name": "stdout"
        }
      ]
    },
    {
      "cell_type": "code",
      "metadata": {
        "colab": {
          "base_uri": "https://localhost:8080/"
        },
        "id": "5_a5WXnEdn1n",
        "outputId": "66da4fb2-5826-421c-f747-e57bce91dfc8"
      },
      "source": [
        "!wget https://raw.githubusercontent.com/UniversalDependencies/UD_Afrikaans-AfriBooms/master/af_afribooms-ud-test.conllu"
      ],
      "execution_count": null,
      "outputs": [
        {
          "output_type": "stream",
          "text": [
            "--2021-05-25 17:12:16--  https://raw.githubusercontent.com/UniversalDependencies/UD_Afrikaans-AfriBooms/master/af_afribooms-ud-test.conllu\n",
            "Resolving raw.githubusercontent.com (raw.githubusercontent.com)... 185.199.108.133, 185.199.109.133, 185.199.110.133, ...\n",
            "Connecting to raw.githubusercontent.com (raw.githubusercontent.com)|185.199.108.133|:443... connected.\n",
            "HTTP request sent, awaiting response... 200 OK\n",
            "Length: 633696 (619K) [text/plain]\n",
            "Saving to: ‘af_afribooms-ud-test.conllu’\n",
            "\n",
            "af_afribooms-ud-tes 100%[===================>] 618.84K  --.-KB/s    in 0.04s   \n",
            "\n",
            "2021-05-25 17:12:16 (16.4 MB/s) - ‘af_afribooms-ud-test.conllu’ saved [633696/633696]\n",
            "\n"
          ],
          "name": "stdout"
        }
      ]
    },
    {
      "cell_type": "code",
      "metadata": {
        "colab": {
          "base_uri": "https://localhost:8080/"
        },
        "id": "X-klqAesfP-P",
        "outputId": "fbcb08e0-8eaa-4304-8c7b-46708536654b"
      },
      "source": [
        "!wget https://raw.githubusercontent.com/UniversalDependencies/UD_French-FTB/master/fr_ftb-ud-train.conllu"
      ],
      "execution_count": null,
      "outputs": [
        {
          "output_type": "stream",
          "text": [
            "--2021-05-25 17:12:16--  https://raw.githubusercontent.com/UniversalDependencies/UD_French-FTB/master/fr_ftb-ud-train.conllu\n",
            "Resolving raw.githubusercontent.com (raw.githubusercontent.com)... 185.199.108.133, 185.199.109.133, 185.199.110.133, ...\n",
            "Connecting to raw.githubusercontent.com (raw.githubusercontent.com)|185.199.108.133|:443... connected.\n",
            "HTTP request sent, awaiting response... 200 OK\n",
            "Length: 24657119 (24M) [text/plain]\n",
            "Saving to: ‘fr_ftb-ud-train.conllu’\n",
            "\n",
            "fr_ftb-ud-train.con 100%[===================>]  23.51M  68.2MB/s    in 0.3s    \n",
            "\n",
            "2021-05-25 17:12:18 (68.2 MB/s) - ‘fr_ftb-ud-train.conllu’ saved [24657119/24657119]\n",
            "\n"
          ],
          "name": "stdout"
        }
      ]
    },
    {
      "cell_type": "code",
      "metadata": {
        "colab": {
          "base_uri": "https://localhost:8080/"
        },
        "id": "aPRJQM62fQUZ",
        "outputId": "89c624f6-adb5-4b1b-d77d-fc5d2b299ca4"
      },
      "source": [
        "!wget https://raw.githubusercontent.com/UniversalDependencies/UD_French-FTB/master/fr_ftb-ud-test.conllu"
      ],
      "execution_count": null,
      "outputs": [
        {
          "output_type": "stream",
          "text": [
            "--2021-05-25 17:12:18--  https://raw.githubusercontent.com/UniversalDependencies/UD_French-FTB/master/fr_ftb-ud-test.conllu\n",
            "Resolving raw.githubusercontent.com (raw.githubusercontent.com)... 185.199.108.133, 185.199.109.133, 185.199.110.133, ...\n",
            "Connecting to raw.githubusercontent.com (raw.githubusercontent.com)|185.199.108.133|:443... connected.\n",
            "HTTP request sent, awaiting response... 200 OK\n",
            "Length: 4130256 (3.9M) [text/plain]\n",
            "Saving to: ‘fr_ftb-ud-test.conllu’\n",
            "\n",
            "fr_ftb-ud-test.conl 100%[===================>]   3.94M  --.-KB/s    in 0.09s   \n",
            "\n",
            "2021-05-25 17:12:18 (41.7 MB/s) - ‘fr_ftb-ud-test.conllu’ saved [4130256/4130256]\n",
            "\n"
          ],
          "name": "stdout"
        }
      ]
    },
    {
      "cell_type": "markdown",
      "metadata": {
        "id": "mkK8Gwt6Ze7E"
      },
      "source": [
        "# Latin Train and Test sets"
      ]
    },
    {
      "cell_type": "code",
      "metadata": {
        "id": "VKA4-KqCkuTv"
      },
      "source": [
        "conll =pyconll.load_from_file('/content/la_perseus-ud-train.conllu') \n",
        "conll=[sentence for sentence in conll if len(sentence)>2] \n",
        "X_latin_train=[[word.form for word in sentence] for sentence in conll] \n",
        "y_latin_train=[[word.upos for word in sentence] for sentence in conll] "
      ],
      "execution_count": null,
      "outputs": []
    },
    {
      "cell_type": "code",
      "metadata": {
        "id": "6RVCaqD9qQbQ"
      },
      "source": [
        "conll =pyconll.load_from_file('/content/la_perseus-ud-test.conllu') \n",
        "conll=[sentence for sentence in conll if len(sentence)>2] \n",
        "X_latin_test=[[word.form for word in sentence] for sentence in conll] \n",
        "y_latin_test=[[word.upos for word in sentence] for sentence in conll] "
      ],
      "execution_count": null,
      "outputs": []
    },
    {
      "cell_type": "markdown",
      "metadata": {
        "id": "1D1MTm1mZjPH"
      },
      "source": [
        "# Spanish Train and Test sets"
      ]
    },
    {
      "cell_type": "code",
      "metadata": {
        "colab": {
          "base_uri": "https://localhost:8080/"
        },
        "id": "IPgiuCGnkmJW",
        "outputId": "18d5e4fc-181f-4db9-bfcf-02c8dc89a491"
      },
      "source": [
        "conll =pyconll.load_from_file('/content/es_ancora-ud-train.conllu') \n",
        "conll=[sentence for sentence in conll if len(sentence)>2] \n",
        "X_spanish_train=[[word.form for word in sentence] for sentence in conll] \n",
        "y_spanish_train=[[word.upos for word in sentence] for sentence in conll] \n",
        "print(len(X_spanish_train))\n",
        "print(len(y_spanish_train))\n",
        "print(X_spanish_train[0])\n",
        "print(y_spanish_train[0])"
      ],
      "execution_count": null,
      "outputs": [
        {
          "output_type": "stream",
          "text": [
            "14266\n",
            "14266\n",
            "['El', 'presidente', 'del', 'de', 'el', 'órgano', 'regulador', 'de', 'las', 'Telecomunicaciones', 'se', 'mostró', 'partidario', 'de', 'completar', 'esta', 'liberalización', 'de', 'las', 'telecomunicaciones', 'con', 'otras', 'medidas', 'que', 'incentiven', 'la', 'competencia', 'como', 'puede', 'ser', 'abrir', 'el', 'acceso', 'a', 'la', 'información', 'de', 'los', 'clientes', 'de', 'Telefónica', 'a', 'otros', 'operadores', '.']\n",
            "['DET', 'NOUN', None, 'ADP', 'DET', 'NOUN', 'ADJ', 'ADP', 'DET', 'PROPN', 'PRON', 'VERB', 'ADJ', 'ADP', 'VERB', 'DET', 'NOUN', 'ADP', 'DET', 'NOUN', 'ADP', 'DET', 'NOUN', 'PRON', 'VERB', 'DET', 'NOUN', 'SCONJ', 'NOUN', 'NOUN', 'VERB', 'DET', 'NOUN', 'ADP', 'DET', 'NOUN', 'ADP', 'DET', 'NOUN', 'ADP', 'PROPN', 'ADP', 'DET', 'NOUN', 'PUNCT']\n"
          ],
          "name": "stdout"
        }
      ]
    },
    {
      "cell_type": "code",
      "metadata": {
        "id": "QM6rntcMqaHZ"
      },
      "source": [
        "conll =pyconll.load_from_file('/content/es_ancora-ud-test.conllu') \n",
        "conll=[sentence for sentence in conll if len(sentence)>2] \n",
        "X_spanish_test=[[word.form for word in sentence] for sentence in conll] \n",
        "y_spanish_test=[[word.upos for word in sentence] for sentence in conll] "
      ],
      "execution_count": null,
      "outputs": []
    },
    {
      "cell_type": "markdown",
      "metadata": {
        "id": "l_L4CpynZmGJ"
      },
      "source": [
        "# Ancient Greek Train and Test sets"
      ]
    },
    {
      "cell_type": "code",
      "metadata": {
        "id": "0ndQdmDak7DT"
      },
      "source": [
        "conll =pyconll.load_from_file('/content/grc_perseus-ud-train.conllu') \n",
        "conll=[sentence for sentence in conll if len(sentence)>2]\n",
        "X_agreek_train=[[word.form for word in sentence] for sentence in conll] \n",
        "y_agreek_train=[[word.upos for word in sentence] for sentence in conll] \n"
      ],
      "execution_count": null,
      "outputs": []
    },
    {
      "cell_type": "code",
      "metadata": {
        "id": "2Adhg8pVqqpy"
      },
      "source": [
        "conll =pyconll.load_from_file('/content/grc_perseus-ud-test.conllu') \n",
        "conll=[sentence for sentence in conll if len(sentence)>2] \n",
        "X_agreek_test=[[word.form for word in sentence] for sentence in conll] \n",
        "y_agreek_test=[[word.upos for word in sentence] for sentence in conll] \n"
      ],
      "execution_count": null,
      "outputs": []
    },
    {
      "cell_type": "markdown",
      "metadata": {
        "id": "beIXXbMPTGOL"
      },
      "source": [
        "# French Train and Test sets"
      ]
    },
    {
      "cell_type": "code",
      "metadata": {
        "id": "o6jPE1v1TuZv"
      },
      "source": [
        "conll =pyconll.load_from_file('/content/fr_ftb-ud-train.conllu') \n",
        "conll=[sentence for sentence in conll if len(sentence)>2]\n",
        "X_french_train=[[word.form for word in sentence] for sentence in conll] \n",
        "y_french_train=[[word.upos for word in sentence] for sentence in conll] \n"
      ],
      "execution_count": null,
      "outputs": []
    },
    {
      "cell_type": "code",
      "metadata": {
        "id": "G9NLOoQsTu08"
      },
      "source": [
        "conll =pyconll.load_from_file('/content/fr_ftb-ud-test.conllu') \n",
        "conll=[sentence for sentence in conll if len(sentence)>2] \n",
        "X_french_test=[[word.form for word in sentence] for sentence in conll] \n",
        "y_french_test=[[word.upos for word in sentence] for sentence in conll] "
      ],
      "execution_count": null,
      "outputs": []
    },
    {
      "cell_type": "markdown",
      "metadata": {
        "id": "7PT68vc5TR-H"
      },
      "source": [
        "# Italian Train and Test sets"
      ]
    },
    {
      "cell_type": "code",
      "metadata": {
        "id": "1qgKivI_TvzP"
      },
      "source": [
        "conll =pyconll.load_from_file('/content/it_vit-ud-train.conllu') \n",
        "conll=[sentence for sentence in conll if len(sentence)>2]\n",
        "X_italian_train=[[word.form for word in sentence] for sentence in conll] \n",
        "y_italian_train=[[word.upos for word in sentence] for sentence in conll] \n"
      ],
      "execution_count": null,
      "outputs": []
    },
    {
      "cell_type": "code",
      "metadata": {
        "id": "waRZCIijTwGM"
      },
      "source": [
        "conll =pyconll.load_from_file('/content/it_vit-ud-test.conllu') \n",
        "conll=[sentence for sentence in conll if len(sentence)>2] \n",
        "X_italian_test=[[word.form for word in sentence] for sentence in conll] \n",
        "y_italian_test=[[word.upos for word in sentence] for sentence in conll] \n"
      ],
      "execution_count": null,
      "outputs": []
    },
    {
      "cell_type": "markdown",
      "metadata": {
        "id": "cFXxs8hJTUAE"
      },
      "source": [
        "# Dutch Train and Test sets"
      ]
    },
    {
      "cell_type": "code",
      "metadata": {
        "id": "bfOgQApuTxAp"
      },
      "source": [
        "conll =pyconll.load_from_file('/content/nl_lassysmall-ud-train.conllu') \n",
        "conll=[sentence for sentence in conll if len(sentence)>2]\n",
        "X_dutch_train=[[word.form for word in sentence] for sentence in conll] \n",
        "y_dutch_train=[[word.upos for word in sentence] for sentence in conll] \n"
      ],
      "execution_count": null,
      "outputs": []
    },
    {
      "cell_type": "code",
      "metadata": {
        "id": "tpndo1bCTxUP"
      },
      "source": [
        "conll =pyconll.load_from_file('/content/nl_lassysmall-ud-test.conllu') \n",
        "conll=[sentence for sentence in conll if len(sentence)>2] \n",
        "X_dutch_test=[[word.form for word in sentence] for sentence in conll] \n",
        "y_dutch_test=[[word.upos for word in sentence] for sentence in conll] \n"
      ],
      "execution_count": null,
      "outputs": []
    },
    {
      "cell_type": "markdown",
      "metadata": {
        "id": "RPEeD2X-TcBS"
      },
      "source": [
        "# English Train and Test sets"
      ]
    },
    {
      "cell_type": "code",
      "metadata": {
        "id": "pKhd2diITyGd"
      },
      "source": [
        "conll =pyconll.load_from_file('/content/en_ewt-ud-train.conllu') \n",
        "conll=[sentence for sentence in conll if len(sentence)>2]\n",
        "X_english_train=[[word.form for word in sentence] for sentence in conll] \n",
        "y_english_train=[[word.upos for word in sentence] for sentence in conll] \n"
      ],
      "execution_count": null,
      "outputs": []
    },
    {
      "cell_type": "code",
      "metadata": {
        "id": "0zz7u-ppTyT9"
      },
      "source": [
        "conll =pyconll.load_from_file('/content/en_ewt-ud-test.conllu') \n",
        "conll=[sentence for sentence in conll if len(sentence)>2] \n",
        "X_english_test=[[word.form for word in sentence] for sentence in conll] \n",
        "y_english_test=[[word.upos for word in sentence] for sentence in conll] \n"
      ],
      "execution_count": null,
      "outputs": []
    },
    {
      "cell_type": "markdown",
      "metadata": {
        "id": "8ZTkg1h8Tdli"
      },
      "source": [
        "# German Train and Test sets"
      ]
    },
    {
      "cell_type": "code",
      "metadata": {
        "id": "gwVRcMD4Ty9e"
      },
      "source": [
        "conll =pyconll.load_from_file('/content/de_gsd-ud-train.conllu') \n",
        "conll=[sentence for sentence in conll if len(sentence)>2]\n",
        "X_german_train=[[word.form for word in sentence] for sentence in conll] \n",
        "y_german_train=[[word.upos for word in sentence] for sentence in conll] \n"
      ],
      "execution_count": null,
      "outputs": []
    },
    {
      "cell_type": "code",
      "metadata": {
        "id": "H2DalEfaTzJ0"
      },
      "source": [
        "conll =pyconll.load_from_file('/content/de_gsd-ud-test.conllu') \n",
        "conll=[sentence for sentence in conll if len(sentence)>2] \n",
        "X_german_test=[[word.form for word in sentence] for sentence in conll] \n",
        "y_german_test=[[word.upos for word in sentence] for sentence in conll] \n"
      ],
      "execution_count": null,
      "outputs": []
    },
    {
      "cell_type": "markdown",
      "metadata": {
        "id": "79f76XjrTfya"
      },
      "source": [
        "# Finnish Train and Test sets"
      ]
    },
    {
      "cell_type": "code",
      "metadata": {
        "id": "XMoPdbIDT0EB"
      },
      "source": [
        "conll =pyconll.load_from_file('/content/fi_tdt-ud-train.conllu') \n",
        "conll=[sentence for sentence in conll if len(sentence)>2]\n",
        "X_finnish_train=[[word.form for word in sentence] for sentence in conll] \n",
        "y_finnish_train=[[word.upos for word in sentence] for sentence in conll] \n"
      ],
      "execution_count": null,
      "outputs": []
    },
    {
      "cell_type": "code",
      "metadata": {
        "id": "9MMvXoTbT0Wz"
      },
      "source": [
        "conll =pyconll.load_from_file('/content/fi_tdt-ud-test.conllu') \n",
        "conll=[sentence for sentence in conll if len(sentence)>2] \n",
        "X_finnish_test=[[word.form for word in sentence] for sentence in conll] \n",
        "y_finnish_test=[[word.upos for word in sentence] for sentence in conll] \n"
      ],
      "execution_count": null,
      "outputs": []
    },
    {
      "cell_type": "markdown",
      "metadata": {
        "id": "tyyfT7xWTiwC"
      },
      "source": [
        "# Swedish Train and Test sets"
      ]
    },
    {
      "cell_type": "code",
      "metadata": {
        "id": "3I_vldnGT1GI"
      },
      "source": [
        "conll =pyconll.load_from_file('/content/sv_talbanken-ud-train.conllu') \n",
        "conll=[sentence for sentence in conll if len(sentence)>2]\n",
        "X_swedish_train=[[word.form for word in sentence] for sentence in conll] \n",
        "y_swedish_train=[[word.upos for word in sentence] for sentence in conll] \n"
      ],
      "execution_count": null,
      "outputs": []
    },
    {
      "cell_type": "code",
      "metadata": {
        "id": "2okwxAoeT1ai"
      },
      "source": [
        "conll =pyconll.load_from_file('/content/sv_talbanken-ud-test.conllu') \n",
        "conll=[sentence for sentence in conll if len(sentence)>2] \n",
        "X_swedish_test=[[word.form for word in sentence] for sentence in conll] \n",
        "y_swedish_test=[[word.upos for word in sentence] for sentence in conll] \n"
      ],
      "execution_count": null,
      "outputs": []
    },
    {
      "cell_type": "markdown",
      "metadata": {
        "id": "gGFyCB0tTk2N"
      },
      "source": [
        "# Hebrew Train and Test sets"
      ]
    },
    {
      "cell_type": "code",
      "metadata": {
        "id": "7vSnTXtNT2S5"
      },
      "source": [
        "conll =pyconll.load_from_file('/content/he_htb-ud-train.conllu') \n",
        "conll=[sentence for sentence in conll if len(sentence)>2]\n",
        "X_hebrew_train=[[word.form for word in sentence] for sentence in conll] \n",
        "y_hebrew_train=[[word.upos for word in sentence] for sentence in conll] \n"
      ],
      "execution_count": null,
      "outputs": []
    },
    {
      "cell_type": "code",
      "metadata": {
        "id": "Etmwn6OnT2l4"
      },
      "source": [
        "conll =pyconll.load_from_file('/content/he_htb-ud-test.conllu') \n",
        "conll=[sentence for sentence in conll if len(sentence)>2] \n",
        "X_hebrew_test=[[word.form for word in sentence] for sentence in conll] \n",
        "y_hebrew_test=[[word.upos for word in sentence] for sentence in conll] \n"
      ],
      "execution_count": null,
      "outputs": []
    },
    {
      "cell_type": "markdown",
      "metadata": {
        "id": "SJvsHq7YTny4"
      },
      "source": [
        "# Afrikaans Train and Test sets"
      ]
    },
    {
      "cell_type": "code",
      "metadata": {
        "id": "qbuZ1wuCT3rO"
      },
      "source": [
        "conll =pyconll.load_from_file('/content/af_afribooms-ud-train.conllu') \n",
        "conll=[sentence for sentence in conll if len(sentence)>2]\n",
        "X_afrikaans_train=[[word.form for word in sentence] for sentence in conll] \n",
        "y_afrikaans_train=[[word.upos for word in sentence] for sentence in conll] \n"
      ],
      "execution_count": null,
      "outputs": []
    },
    {
      "cell_type": "code",
      "metadata": {
        "id": "N3QWa1bdT4Ep"
      },
      "source": [
        "conll =pyconll.load_from_file('/content/af_afribooms-ud-test.conllu') \n",
        "conll=[sentence for sentence in conll if len(sentence)>2] \n",
        "X_afrikaans_test=[[word.form for word in sentence] for sentence in conll] \n",
        "y_afrikaans_test=[[word.upos for word in sentence] for sentence in conll] \n"
      ],
      "execution_count": null,
      "outputs": []
    },
    {
      "cell_type": "markdown",
      "metadata": {
        "id": "LflHCsqkZ9Q0"
      },
      "source": [
        "# Number of Sentences and Sentence Length Data Visualization "
      ]
    },
    {
      "cell_type": "code",
      "metadata": {
        "colab": {
          "base_uri": "https://localhost:8080/"
        },
        "id": "vWSaNqSNnhHQ",
        "outputId": "b55b3595-357d-4767-d5fb-38b7e0ddcc7f"
      },
      "source": [
        "l = np.asarray([len(x) for x in X_spanish_train], dtype=np.int)\n",
        "plt.figure(figsize=(8, 4))\n",
        "x = np.unique(l)\n",
        "plt.bar(x, [np.sum(l==e) for e in x], width=1)\n",
        "plt.xlabel(\"Sentence length\")\n",
        "plt.ylabel(\"# sentences\")\n",
        "plt.show()"
      ],
      "execution_count": null,
      "outputs": [
        {
          "output_type": "display_data",
          "data": {
            "image/png": "[encoded data removed]",
            "text/plain": [
              "<Figure size 576x288 with 1 Axes>"
            ]
          },
          "metadata": {
            "tags": [],
            "needs_background": "light"
          }
        }
      ]
    },
    {
      "cell_type": "markdown",
      "metadata": {
        "id": "DastmMUHZslW"
      },
      "source": [
        "# Data Encoding and Padding for Spanish\n"
      ]
    },
    {
      "cell_type": "code",
      "metadata": {
        "colab": {
          "base_uri": "https://localhost:8080/"
        },
        "id": "NrIfib7cnkDA",
        "outputId": "7a49dfb9-296c-4642-c628-eac9237cb6c5"
      },
      "source": [
        "\n",
        "tokens = {token for sentence in X_spanish_train for token in sentence}\n",
        "idx2token = list(tokens)\n",
        "idx2token.insert(0, '<UNK>')\n",
        "idx2token.append('<PAD>')\n",
        "token2idx = {token:idx for idx, token in enumerate(idx2token)}\n",
        "\n",
        "tags = {tag for tags in y_spanish_train for tag in tags}\n",
        "idx2tag = list(tags)\n",
        "idx2tag.append('<PAD>')\n",
        "tag2idx = {tag:idx for idx, tag in enumerate(idx2tag)}\n",
        "\n",
        "print(idx2token[:15])\n",
        "print(idx2tag)\n",
        "\n",
        "  "
      ],
      "execution_count": null,
      "outputs": [
        {
          "output_type": "stream",
          "text": [
            "['<UNK>', 'Tratando', 'golazo', 'Ingresa', 'desmarque', 'Fischler', 'planetas', 'atribuyen', 'Ariza', 'Sáiz', 'Laboratory', 'fotográficamente', 'prestigioso', 'jubilarse', 'salpicado']\n",
            "['CCONJ', 'PUNCT', 'DET', 'SCONJ', 'VERB', 'INTJ', 'PRON', 'NOUN', 'ADJ', 'AUX', 'NUM', 'PROPN', 'PART', 'SYM', 'X', 'ADP', None, 'ADV', '<PAD>']\n"
          ],
          "name": "stdout"
        }
      ]
    },
    {
      "cell_type": "code",
      "metadata": {
        "colab": {
          "base_uri": "https://localhost:8080/"
        },
        "id": "AA_M2ju4Z0iA",
        "outputId": "89c2ef30-0f9d-4265-aec3-31dac347c387"
      },
      "source": [
        "def pad_and_encode(sentences, labels):\n",
        "  assert len(sentences)==len(labels)\n",
        "  assert np.all([len(sentence)==len(tags) for sentence, tags in zip(sentences, labels)])\n",
        "  max_sentence_length = np.max([len(sentence) for sentence in sentences]) # Find out how much to pad\n",
        "  padded_sentences = torch.zeros(len(sentences), max_sentence_length,     # Create data structures with <PAD> as default\n",
        "                                 dtype=torch.long)\n",
        "  padded_sentences[:] = token2idx['<PAD>']\n",
        "  padded_labels = torch.zeros(len(sentences), max_sentence_length, \n",
        "                              dtype=torch.long)\n",
        "  padded_labels[:] = tag2idx['<PAD>']\n",
        "  for i, (sentence, tags) in enumerate(zip(sentences, labels)):               # Loop over the data\n",
        "    for j, token in enumerate(sentence):\n",
        "      if token in token2idx.keys():\n",
        "        padded_sentences[i, j] = token2idx[token]\n",
        "      else:\n",
        "        padded_sentences[i, j] = token2idx['<UNK>']\n",
        "    for j, tag in enumerate(tags):\n",
        "      padded_labels[i, j] = tag2idx[tag]\n",
        "  return padded_sentences, padded_labels\n",
        "\n",
        "a, b = pad_and_encode(X_spanish_train[:5], y_spanish_train[:5])\n",
        "print(a)\n",
        "print(b)"
      ],
      "execution_count": null,
      "outputs": [
        {
          "output_type": "stream",
          "text": [
            "tensor([[29406, 33682, 12722, 27241, 37750, 25729, 36943, 27241, 24037, 26061,\n",
            "         13709, 25513, 24841, 27241, 36797, 36126,  7365, 27241, 24037,  1240,\n",
            "         18607, 23860, 24651, 36523,  8410, 21896, 30770, 31727, 37699,  6137,\n",
            "         37551, 37750, 27044, 13087, 21896, 31412, 27241,  5314, 23682, 27241,\n",
            "         19605, 13087, 36621,  3412, 35715, 38437, 38437, 38437, 38437, 38437,\n",
            "         38437, 38437, 38437, 38437, 38437, 38437, 38437, 38437, 38437],\n",
            "        [ 6785, 21896, 15013, 27241, 16563, 18607, 19605, 27241, 36621,  3412,\n",
            "         36523, 31337, 27241, 34090, 21896,  6186, 21291, 34002, 12178,  3644,\n",
            "         36523, 17579, 21422, 26229, 21896,  9581,   279, 13087,  5314,  3412,\n",
            "         31680, 27479, 13087, 36621, 36523, 18717, 21007, 35036, 27479, 36523,\n",
            "         37850, 13087, 37750, 22245, 36523, 18589,  1850, 27406,  5935,  7893,\n",
            "         27090, 24319, 13087,  9507, 35715, 38437, 38437, 38437, 38437],\n",
            "        [ 1082, 36523, 37695, 37750, 22971,  5455, 27479, 36523,  9618, 27241,\n",
            "         10222, 37750, 28300,  5663, 26071, 16775, 28795, 35715, 38437, 38437,\n",
            "         38437, 38437, 38437, 38437, 38437, 38437, 38437, 38437, 38437, 38437,\n",
            "         38437, 38437, 38437, 38437, 38437, 38437, 38437, 38437, 38437, 38437,\n",
            "         38437, 38437, 38437, 38437, 38437, 38437, 38437, 38437, 38437, 38437,\n",
            "         38437, 38437, 38437, 38437, 38437, 38437, 38437, 38437, 38437],\n",
            "        [11462, 36549, 36333, 30608, 32621,  5935, 37750, 28145, 17579, 37750,\n",
            "         31899, 27479, 21896, 20642, 37212, 21291,  6740, 16514,  5684, 21291,\n",
            "         37750, 16335, 27241, 23214, 27479, 37750, 30541, 27241, 30608, 27241,\n",
            "         21896, 31876, 27241, 20622, 21291,  3665, 14353,   674, 37097, 21896,\n",
            "         19695, 37458, 23344, 19695, 27241,  5314, 36218, 27479, 21896, 19695,\n",
            "         37458, 27241, 21896,   683, 19695, 27241,  5314,  5684, 35715],\n",
            "        [21563, 21896, 28192, 12722, 27241, 37750, 29607, 19695, 11462, 20642,\n",
            "           674, 11988, 27241, 21896, 30608, 35715, 11462, 30608, 32621, 36333,\n",
            "         23214, 19695, 21291, 19254,   674, 21896, 31876, 27241, 20622, 21291,\n",
            "         37750, 35625, 22492, 27241, 21896, 11990,  3737, 27241,  1637,  6435,\n",
            "          9422, 37733, 21291, 18541, 19506, 21291, 30340,   674, 21896, 23574,\n",
            "         27241,  5314, 24873, 36333,  6147, 27241,   683, 37819, 35715]])\n",
            "tensor([[ 2,  7, 16, 15,  2,  7,  8, 15,  2, 11,  6,  4,  8, 15,  4,  2,  7, 15,\n",
            "          2,  7, 15,  2,  7,  6,  4,  2,  7,  3,  7,  7,  4,  2,  7, 15,  2,  7,\n",
            "         15,  2,  7, 15, 11, 15,  2,  7,  1, 18, 18, 18, 18, 18, 18, 18, 18, 18,\n",
            "         18, 18, 18, 18, 18],\n",
            "        [15,  2,  7, 15,  7, 15, 11, 15,  2,  7,  6,  4, 15,  4,  2, 11,  1, 11,\n",
            "         11,  4,  3, 15, 16,  4,  6,  9,  4, 15,  2,  7,  8,  0, 15,  6,  6, 17,\n",
            "          4,  7,  0,  3, 16, 15,  2,  4,  3,  4,  2,  7,  9,  8,  4,  8, 15,  6,\n",
            "          1, 18, 18, 18, 18],\n",
            "        [ 4,  3,  4,  2,  7,  8,  0,  3,  4, 15,  4,  2,  7,  6, 17,  6,  9,  1,\n",
            "         18, 18, 18, 18, 18, 18, 18, 18, 18, 18, 18, 18, 18, 18, 18, 18, 18, 18,\n",
            "         18, 18, 18, 18, 18, 18, 18, 18, 18, 18, 18, 18, 18, 18, 18, 18, 18, 18,\n",
            "         18, 18, 18, 18, 18],\n",
            "        [ 2,  7, 15,  7,  8,  9,  2,  7, 15,  2,  7,  0,  2,  7,  8,  1,  4, 17,\n",
            "          7,  1,  2,  7, 15, 11,  0,  2,  7, 15,  7, 15,  2, 11, 15, 11,  1,  6,\n",
            "          4, 15,  4,  2,  1,  7,  8,  1, 15,  2,  7,  0,  2,  1,  7, 15,  2,  7,\n",
            "          1, 15,  2,  7,  1],\n",
            "        [15,  2,  7, 16, 15,  2,  7,  1,  2, 11, 15, 11, 15,  2, 11,  1,  2, 11,\n",
            "         11, 15, 11,  1,  1,  8, 15,  2, 11, 15, 11,  1,  2,  7,  8, 15,  2, 11,\n",
            "         11, 15, 11,  1, 11,  1,  1, 11, 11,  1,  4, 15,  2,  7, 15,  2,  7, 15,\n",
            "          7, 15,  7,  8,  1]])\n"
          ],
          "name": "stdout"
        }
      ]
    },
    {
      "cell_type": "code",
      "metadata": {
        "colab": {
          "base_uri": "https://localhost:8080/"
        },
        "id": "hz7A9AuXa4jr",
        "outputId": "3ee09580-16a4-476c-a9bf-9595208b34b5"
      },
      "source": [
        "def batch_iterator(sentences, labels, batch_size=64):\n",
        "  \"\"\"Helper function for iterating over batches of the data\"\"\"\n",
        "  assert len(sentences) == len(labels)\n",
        "  for i in range(0, len(sentences), batch_size):\n",
        "    X, y = pad_and_encode(sentences[i:min(i+batch_size, len(sentences))], \n",
        "                          labels[i:min(i+batch_size, len(sentences))])\n",
        "    if torch.cuda.is_available():                                               # Move data to the GPU, if possible, before yielding it\n",
        "      yield (X.cuda(), y.cuda())\n",
        "    else:\n",
        "      yield (X, y)\n",
        "\n",
        "next(batch_iterator(X_spanish_train, y_spanish_train, batch_size=5))"
      ],
      "execution_count": null,
      "outputs": [
        {
          "output_type": "execute_result",
          "data": {
            "text/plain": [
              "(tensor([[29406, 33682, 12722, 27241, 37750, 25729, 36943, 27241, 24037, 26061,\n",
              "          13709, 25513, 24841, 27241, 36797, 36126,  7365, 27241, 24037,  1240,\n",
              "          18607, 23860, 24651, 36523,  8410, 21896, 30770, 31727, 37699,  6137,\n",
              "          37551, 37750, 27044, 13087, 21896, 31412, 27241,  5314, 23682, 27241,\n",
              "          19605, 13087, 36621,  3412, 35715, 38437, 38437, 38437, 38437, 38437,\n",
              "          38437, 38437, 38437, 38437, 38437, 38437, 38437, 38437, 38437],\n",
              "         [ 6785, 21896, 15013, 27241, 16563, 18607, 19605, 27241, 36621,  3412,\n",
              "          36523, 31337, 27241, 34090, 21896,  6186, 21291, 34002, 12178,  3644,\n",
              "          36523, 17579, 21422, 26229, 21896,  9581,   279, 13087,  5314,  3412,\n",
              "          31680, 27479, 13087, 36621, 36523, 18717, 21007, 35036, 27479, 36523,\n",
              "          37850, 13087, 37750, 22245, 36523, 18589,  1850, 27406,  5935,  7893,\n",
              "          27090, 24319, 13087,  9507, 35715, 38437, 38437, 38437, 38437],\n",
              "         [ 1082, 36523, 37695, 37750, 22971,  5455, 27479, 36523,  9618, 27241,\n",
              "          10222, 37750, 28300,  5663, 26071, 16775, 28795, 35715, 38437, 38437,\n",
              "          38437, 38437, 38437, 38437, 38437, 38437, 38437, 38437, 38437, 38437,\n",
              "          38437, 38437, 38437, 38437, 38437, 38437, 38437, 38437, 38437, 38437,\n",
              "          38437, 38437, 38437, 38437, 38437, 38437, 38437, 38437, 38437, 38437,\n",
              "          38437, 38437, 38437, 38437, 38437, 38437, 38437, 38437, 38437],\n",
              "         [11462, 36549, 36333, 30608, 32621,  5935, 37750, 28145, 17579, 37750,\n",
              "          31899, 27479, 21896, 20642, 37212, 21291,  6740, 16514,  5684, 21291,\n",
              "          37750, 16335, 27241, 23214, 27479, 37750, 30541, 27241, 30608, 27241,\n",
              "          21896, 31876, 27241, 20622, 21291,  3665, 14353,   674, 37097, 21896,\n",
              "          19695, 37458, 23344, 19695, 27241,  5314, 36218, 27479, 21896, 19695,\n",
              "          37458, 27241, 21896,   683, 19695, 27241,  5314,  5684, 35715],\n",
              "         [21563, 21896, 28192, 12722, 27241, 37750, 29607, 19695, 11462, 20642,\n",
              "            674, 11988, 27241, 21896, 30608, 35715, 11462, 30608, 32621, 36333,\n",
              "          23214, 19695, 21291, 19254,   674, 21896, 31876, 27241, 20622, 21291,\n",
              "          37750, 35625, 22492, 27241, 21896, 11990,  3737, 27241,  1637,  6435,\n",
              "           9422, 37733, 21291, 18541, 19506, 21291, 30340,   674, 21896, 23574,\n",
              "          27241,  5314, 24873, 36333,  6147, 27241,   683, 37819, 35715]],\n",
              "        device='cuda:0'),\n",
              " tensor([[ 2,  7, 16, 15,  2,  7,  8, 15,  2, 11,  6,  4,  8, 15,  4,  2,  7, 15,\n",
              "           2,  7, 15,  2,  7,  6,  4,  2,  7,  3,  7,  7,  4,  2,  7, 15,  2,  7,\n",
              "          15,  2,  7, 15, 11, 15,  2,  7,  1, 18, 18, 18, 18, 18, 18, 18, 18, 18,\n",
              "          18, 18, 18, 18, 18],\n",
              "         [15,  2,  7, 15,  7, 15, 11, 15,  2,  7,  6,  4, 15,  4,  2, 11,  1, 11,\n",
              "          11,  4,  3, 15, 16,  4,  6,  9,  4, 15,  2,  7,  8,  0, 15,  6,  6, 17,\n",
              "           4,  7,  0,  3, 16, 15,  2,  4,  3,  4,  2,  7,  9,  8,  4,  8, 15,  6,\n",
              "           1, 18, 18, 18, 18],\n",
              "         [ 4,  3,  4,  2,  7,  8,  0,  3,  4, 15,  4,  2,  7,  6, 17,  6,  9,  1,\n",
              "          18, 18, 18, 18, 18, 18, 18, 18, 18, 18, 18, 18, 18, 18, 18, 18, 18, 18,\n",
              "          18, 18, 18, 18, 18, 18, 18, 18, 18, 18, 18, 18, 18, 18, 18, 18, 18, 18,\n",
              "          18, 18, 18, 18, 18],\n",
              "         [ 2,  7, 15,  7,  8,  9,  2,  7, 15,  2,  7,  0,  2,  7,  8,  1,  4, 17,\n",
              "           7,  1,  2,  7, 15, 11,  0,  2,  7, 15,  7, 15,  2, 11, 15, 11,  1,  6,\n",
              "           4, 15,  4,  2,  1,  7,  8,  1, 15,  2,  7,  0,  2,  1,  7, 15,  2,  7,\n",
              "           1, 15,  2,  7,  1],\n",
              "         [15,  2,  7, 16, 15,  2,  7,  1,  2, 11, 15, 11, 15,  2, 11,  1,  2, 11,\n",
              "          11, 15, 11,  1,  1,  8, 15,  2, 11, 15, 11,  1,  2,  7,  8, 15,  2, 11,\n",
              "          11, 15, 11,  1, 11,  1,  1, 11, 11,  1,  4, 15,  2,  7, 15,  2,  7, 15,\n",
              "           7, 15,  7,  8,  1]], device='cuda:0'))"
            ]
          },
          "metadata": {
            "tags": []
          },
          "execution_count": 114
        }
      ]
    },
    {
      "cell_type": "markdown",
      "metadata": {
        "id": "WemDHypikdRY"
      },
      "source": [
        "# Model-- Results for Spanish Training and Test Sets "
      ]
    },
    {
      "cell_type": "code",
      "metadata": {
        "colab": {
          "base_uri": "https://localhost:8080/"
        },
        "id": "Wkz-im4Wr1tR",
        "outputId": "86cf7186-75c9-4da2-826d-cc41b71696c8"
      },
      "source": [
        "#Create Model\n",
        "class LSTMTagger(nn.Module):\n",
        "  def __init__(self, X_train, Y_train, embedding_dim, hidden_dim, vocabulary_size, tagset_size, bidirectional = True):\n",
        "    \n",
        "    super(LSTMTagger,self).__init__()\n",
        "\n",
        "    self.hidden_dim = hidden_dim\n",
        "    self.word_embeddings = nn.Embedding(vocabulary_size, embedding_dim)\n",
        "    self.vocabulary_size = len(token2idx) \n",
        "    self.tagset_size= len(tag2idx)\n",
        "    \n",
        "\n",
        "#LSTm takes word embeddings as input and outputs hidden states with dimensionality hidden_dim\n",
        "    self.lstm = nn.LSTM(input_size=embedding_dim,                         # The LSTM takes an embedded sentence as input, and outputs \n",
        "                         hidden_size=hidden_dim,                           # vectors with dimensionality lstm_hidden_dim.\n",
        "                         batch_first=True, bidirectional=True)\n",
        "    #self.lstm =nn.LSTM(embedding_dim, input_size=embedding_dim,hidden_size=hidden_dim, batch_first=True))\n",
        "    #self.hidden2tag = nn.Linear(hidden_dim,tagset_size)\n",
        "    self.fc = nn.Linear (hidden_dim*2, tagset_size)         #adding one more hidden layer for the bidirectional LSTM option\n",
        "    self.training_loss = list()                                                \n",
        "    self.training_accuracy = list()                         # The linear layer maps from the RNN output space to tag space\n",
        "    self.softmax = nn.LogSoftmax(dim=1)\n",
        "    if torch.cuda.is_available():                                               # Move the model to the GPU (if we have one)\n",
        "      self.cuda()\n",
        "  def forward(self, padded_sentences):\n",
        "    \"\"\"The forward pass through the network\"\"\"\n",
        "    batch_size, max_sentence_length = padded_sentences.size()\n",
        "    embedded_sentences = self.word_embeddings(padded_sentences)                 # Sentences encoded as integers are mapped to vectors    \n",
        "    sentence_lengths = (padded_sentences!=token2idx['<PAD>']).sum(dim=1)        # Find the length of sentences\n",
        "    sentence_lengths = sentence_lengths.long().cpu()                            # Ensure the correct format\n",
        "    X = nn.utils.rnn.pack_padded_sequence(embedded_sentences, sentence_lengths, # Pack the embedded data\n",
        "                                          batch_first=True, enforce_sorted=False)\n",
        "    lstm_out, _ = self.lstm(X)                                                # Run the LSTM layer\n",
        "    X, _ = nn.utils.rnn.pad_packed_sequence(lstm_out, batch_first=True,total_length=max_sentence_length)         # Unpack the output from the LSTM\n",
        "    X = X.contiguous().view(-1, X.shape[2])   \n",
        "    tag_space = self.fc(X)                                                  # Fully connected layer\n",
        "    tag_scores = self.softmax(tag_space)      \n",
        "                              \n",
        "    return tag_scores.view(batch_size, max_sentence_length, self.tagset_size)\n",
        "\n",
        "  def fit(self,X_train,y_train):\n",
        "      loss_function = nn.NLLLoss(ignore_index=tag2idx['<PAD>'])\n",
        "      optimizer = torch.optim.Adam(self.parameters(), lr=0.01)\n",
        "      batch_size = 16 \n",
        "      for epoch in range(5):                                                          # Times to loop over the full dataset\n",
        "        with tqdm(batch_iterator(X_spanish_train, y_spanish_train, batch_size=16), \n",
        "                  total=len(X_train)//batch_size+1, unit=\"batch\", desc=\"Epoch %i\" % epoch) as batches:  \n",
        "          for inputs, targets in batches:\n",
        "            #print(targets.shape)\n",
        "            self.zero_grad()                                                 # Reset gradients\n",
        "            scores = self.forward(inputs) \n",
        "            #print(scores)                                                   # Forward pass\n",
        "            loss = loss_function(scores.view(-1, self.tagset_size),                 # Get loss, the data is reshaped as a long line of predictions and targets\n",
        "                                  targets.view(-1))               \n",
        "            loss.backward() \n",
        "                                                              # Backpropagate the error\n",
        "            optimizer.step()                                                          # Run the optimizer to change the weights w.r.t the loss\n",
        "            predictions = scores.argmax(dim=2, keepdim=True).squeeze()                # Calculate the batch training accuracy\n",
        "            mask = targets!=tag2idx['<PAD>']                                          # Create a mask for ignoring <PAD> in the targets\n",
        "            correct = (predictions[mask] == targets[mask]).sum().item()               # Item pulls the value from the GPU automatically (if needed)\n",
        "            accuracy = correct / mask.sum().item()*100\n",
        "            self.training_accuracy.append(accuracy)                                 # Save the accuracy for plotting\n",
        "            self.training_loss.append(loss.item())                                  # Save the loss for plotting\n",
        "            batches.set_postfix(loss=loss.item(), accuracy=accuracy) \n",
        "model = LSTMTagger(X_spanish_train,y_spanish_train,embedding_dim=32,                                       # Dimensionality of the work embedding\n",
        "                    hidden_dim=100,bidirectional = True,                                         # Dimensionality of the hidden state in the LSTM\n",
        "                    vocabulary_size=len(token2idx),                              # The vocabulary incudes both the 'padding' and 'unknown' symbols\n",
        "                    tagset_size=len(tag2idx))                                  # We have no interest in the network outputting the padding symbol\n",
        "print(model)\n",
        "model.fit(X_spanish_train,y_spanish_train)"
      ],
      "execution_count": null,
      "outputs": [
        {
          "output_type": "stream",
          "text": [
            "Epoch 0:   0%|          | 3/892 [00:00<00:31, 28.29batch/s, accuracy=38.4, loss=2.1]"
          ],
          "name": "stderr"
        },
        {
          "output_type": "stream",
          "text": [
            "LSTMTagger(\n",
            "  (word_embeddings): Embedding(38438, 32)\n",
            "  (lstm): LSTM(32, 100, batch_first=True, bidirectional=True)\n",
            "  (fc): Linear(in_features=200, out_features=19, bias=True)\n",
            "  (softmax): LogSoftmax(dim=1)\n",
            ")\n"
          ],
          "name": "stdout"
        },
        {
          "output_type": "stream",
          "text": [
            "Epoch 0: 100%|██████████| 892/892 [00:30<00:00, 28.80batch/s, accuracy=90.7, loss=0.259]\n",
            "Epoch 1: 100%|██████████| 892/892 [00:30<00:00, 28.82batch/s, accuracy=97.7, loss=0.0568]\n",
            "Epoch 2: 100%|██████████| 892/892 [00:30<00:00, 28.78batch/s, accuracy=100, loss=0.0163]\n",
            "Epoch 3: 100%|██████████| 892/892 [00:30<00:00, 28.84batch/s, accuracy=99.1, loss=0.0251]\n",
            "Epoch 4: 100%|██████████| 892/892 [00:31<00:00, 28.75batch/s, accuracy=99.5, loss=0.0167]\n"
          ],
          "name": "stderr"
        }
      ]
    },
    {
      "cell_type": "markdown",
      "metadata": {
        "id": "KmDu9v3bk_E4"
      },
      "source": [
        "# Stored Loss over Epochs Spanish"
      ]
    },
    {
      "cell_type": "code",
      "metadata": {
        "colab": {
          "base_uri": "https://localhost:8080/",
          "height": 297
        },
        "id": "XK9n1yj7f5PS",
        "outputId": "d2094763-ab56-4fc1-aa03-94b802086102"
      },
      "source": [
        "batch_size = 100\n",
        "fig = plt.figure(figsize=(6, 4))\n",
        "ax = plt.subplot()\n",
        "ax.set_title(\"Plot for the (hopefully) decreasing loss over epochs\")\n",
        "ax.plot(model.training_loss, 'b-')\n",
        "ax.set_ylabel(\"Training Loss\", color='b')\n",
        "ax.set_xlabel(\"Epoch\")\n",
        "# ax.set_yscale('log')\n",
        "ax.tick_params(axis='y', labelcolor='b')\n",
        "ax = ax.twinx()\n",
        "ax.plot(model.training_accuracy, 'r-')\n",
        "ax.set_ylabel(\"Accuracy [%]\", color='r')\n",
        "ax.tick_params(axis='y', labelcolor='r')\n",
        "a = list(ax.axis())\n",
        "a[2] = 0\n",
        "a[3] = 100\n",
        "ax.axis(a)\n",
        "t = np.arange(0, len(model.training_accuracy), len(X_spanish_train)//batch_size+1)\n",
        "ax.set_xticks(ticks=t)\n",
        "ax.set_xticklabels(labels=np.arange(len(t)))\n",
        "fig.tight_layout()\n",
        "plt.show()"
      ],
      "execution_count": null,
      "outputs": [
        {
          "output_type": "display_data",
          "data": {
            "image/png": "[encoded data removed]",
            "text/plain": [
              "<Figure size 432x288 with 2 Axes>"
            ]
          },
          "metadata": {
            "tags": [],
            "needs_background": "light"
          }
        }
      ]
    },
    {
      "cell_type": "markdown",
      "metadata": {
        "id": "wkYl-qNglH5n"
      },
      "source": [
        "# Test Data Accuracy for Spanish"
      ]
    },
    {
      "cell_type": "code",
      "metadata": {
        "id": "TVWv_jfx-50M",
        "colab": {
          "base_uri": "https://localhost:8080/"
        },
        "outputId": "59a60f18-3b4e-4df9-b995-9dce42b384e9"
      },
      "source": [
        "with torch.no_grad():                                                           # Do not use the following forward passes to calculate a gradient\n",
        "  n_correct = 0\n",
        "  batch_size =  100 \n",
        "  n_total = 0\n",
        "  for inputs, targets in batch_iterator(X_spanish_test, y_spanish_test, batch_size=batch_size): # Loop once over the test data\n",
        "    scores = model(inputs)                                                      # Runs the test data through the model\n",
        "    predictions = scores.argmax(dim=2, keepdim=True).squeeze()                  # Finds the predictions\n",
        "    mask = targets!=tag2idx['<PAD>']                                            # Create a mask for ignoring <PAD> in the targets\n",
        "    n_correct += (predictions[mask] == targets[mask]).sum().item()              # Sums the number of correct predictions\n",
        "    n_total += mask.sum().item()\n",
        "print(\"Test accuracy %.1f%%\" % (100*n_correct/n_total))"
      ],
      "execution_count": null,
      "outputs": [
        {
          "output_type": "stream",
          "text": [
            "Test accuracy 95.3%\n"
          ],
          "name": "stdout"
        }
      ]
    },
    {
      "cell_type": "markdown",
      "metadata": {
        "id": "UVWn8ibvm5UQ"
      },
      "source": [
        "# Number of Sentences and Sentence Length Visualization Ancient Greek \n",
        "\n"
      ]
    },
    {
      "cell_type": "code",
      "metadata": {
        "colab": {
          "base_uri": "https://localhost:8080/",
          "height": 279
        },
        "id": "1ErOUHrnnBgT",
        "outputId": "649fcf8d-582b-409b-a5f2-8030f7ed45e6"
      },
      "source": [
        "l = np.asarray([len(x) for x in X_agreek_train], dtype=np.int)\n",
        "plt.figure(figsize=(8, 4))\n",
        "x = np.unique(l)\n",
        "plt.bar(x, [np.sum(l==e) for e in x], width=1)\n",
        "plt.xlabel(\"Sentence length\")\n",
        "plt.ylabel(\"# sentences\")\n",
        "plt.show()"
      ],
      "execution_count": null,
      "outputs": [
        {
          "output_type": "display_data",
          "data": {
            "image/png": "[encoded data removed]",
            "text/plain": [
              "<Figure size 576x288 with 1 Axes>"
            ]
          },
          "metadata": {
            "tags": [],
            "needs_background": "light"
          }
        }
      ]
    },
    {
      "cell_type": "markdown",
      "metadata": {
        "id": "qyiksAgAlYPn"
      },
      "source": [
        "# Data Encoding and Padding for Ancient Greek "
      ]
    },
    {
      "cell_type": "code",
      "metadata": {
        "colab": {
          "base_uri": "https://localhost:8080/"
        },
        "id": "HZPQwDuLmM4w",
        "outputId": "24055c46-b705-4c7e-d7d5-81f79d435947"
      },
      "source": [
        "tokens = {token for sentence in X_agreek_train for token in sentence}\n",
        "idx2token = list(tokens)\n",
        "idx2token.insert(0, '<UNK>')\n",
        "idx2token.append('<PAD>')\n",
        "token2idx = {token:idx for idx, token in enumerate(idx2token)}\n",
        "\n",
        "tags = {tag for tags in y_agreek_train for tag in tags}\n",
        "idx2tag = list(tags)\n",
        "idx2tag.append('<PAD>')\n",
        "tag2idx = {tag:idx for idx, tag in enumerate(idx2tag)}\n",
        "\n",
        "print(idx2token[:15])\n",
        "print(idx2tag)\n",
        "\n",
        "  "
      ],
      "execution_count": null,
      "outputs": [
        {
          "output_type": "stream",
          "text": [
            "['<UNK>', 'ἐϊκυῖα', 'σκῆπτρα', 'ἔθειραι', 'εἶδόν', 'ἡγεμονίας', 'θεόντων', 'δνοφερῇσι', 'ἀδελφεὸν', 'τοιοῦτος', 'ταλάντων', 'δώδεκ̓', 'χαὐτοῦ', 'αἰνῇσιν', 'ἂψ']\n",
            "['CCONJ', 'PUNCT', 'DET', 'SCONJ', 'VERB', 'PRON', 'ADJ', 'NOUN', 'NUM', 'X', 'PART', 'INTJ', 'ADP', 'ADV', '<PAD>']\n"
          ],
          "name": "stdout"
        }
      ]
    },
    {
      "cell_type": "code",
      "metadata": {
        "colab": {
          "base_uri": "https://localhost:8080/"
        },
        "id": "IlYWiLlemN5b",
        "outputId": "e1c55e1b-cb54-4673-84f5-3864912cf31f"
      },
      "source": [
        "def pad_and_encode(sentences, labels):\n",
        "  assert len(sentences)==len(labels)\n",
        "  assert np.all([len(sentence)==len(tags) for sentence, tags in zip(sentences, labels)])\n",
        "  max_sentence_length = np.max([len(sentence) for sentence in sentences]) # Find out how much to pad\n",
        "  padded_sentences = torch.zeros(len(sentences), max_sentence_length,     # Create data structures with <PAD> as default\n",
        "                                 dtype=torch.long)\n",
        "  padded_sentences[:] = token2idx['<PAD>']\n",
        "  padded_labels = torch.zeros(len(sentences), max_sentence_length, \n",
        "                              dtype=torch.long)\n",
        "  padded_labels[:] = tag2idx['<PAD>']\n",
        "  for i, (sentence, tags) in enumerate(zip(sentences, labels)):               # Loop over the data\n",
        "    for j, token in enumerate(sentence):\n",
        "      if token in token2idx.keys():\n",
        "        padded_sentences[i, j] = token2idx[token]\n",
        "      else:\n",
        "        padded_sentences[i, j] = token2idx['<UNK>']\n",
        "    for j, tag in enumerate(tags):\n",
        "      padded_labels[i, j] = tag2idx[tag]\n",
        "  return padded_sentences, padded_labels\n",
        "\n",
        "a, b = pad_and_encode(X_agreek_train[:5], y_agreek_train[:5])\n",
        "print(a)\n",
        "print(b)"
      ],
      "execution_count": null,
      "outputs": [
        {
          "output_type": "stream",
          "text": [
            "tensor([[17294,  3868,  4078,  2338, 22472, 26629, 18608, 30856, 15281,  4771,\n",
            "         22200, 27585, 24373, 23793],\n",
            "        [ 6492, 12245, 17161, 11078, 19318, 25502, 32563,  4771, 23793, 33219,\n",
            "         33219, 33219, 33219, 33219],\n",
            "        [17644, 15281,  5128,  6607,  3643, 23883, 10895, 18484, 14915,  9646,\n",
            "         23793, 33219, 33219, 33219],\n",
            "        [ 3671,   875, 12245, 25551, 16906, 27585,   394, 15920, 30864, 33219,\n",
            "         33219, 33219, 33219, 33219],\n",
            "        [31239, 26879, 24323, 27717, 17644, 23293,  8102, 23793, 33219, 33219,\n",
            "         33219, 33219, 33219, 33219]])\n",
            "tensor([[ 4, 13,  6,  7,  4,  7,  1,  7,  0,  7,  4,  7,  4,  1],\n",
            "        [ 7, 13, 12,  6,  7,  4,  4,  7,  1, 14, 14, 14, 14, 14],\n",
            "        [ 2, 13,  4,  7,  7, 13,  7,  0,  7,  6,  1, 14, 14, 14],\n",
            "        [ 7,  7, 13, 12,  4,  7,  6,  4,  1, 14, 14, 14, 14, 14],\n",
            "        [12,  7,  6, 13,  2,  7,  4,  1, 14, 14, 14, 14, 14, 14]])\n"
          ],
          "name": "stdout"
        }
      ]
    },
    {
      "cell_type": "code",
      "metadata": {
        "colab": {
          "base_uri": "https://localhost:8080/"
        },
        "id": "Ecz7wSlKmOJl",
        "outputId": "94712bd6-8f4c-4d91-be34-a0be7bb3f57d"
      },
      "source": [
        "def batch_iterator(sentences, labels, batch_size=64):\n",
        "  \"\"\"Helper function for iterating over batches of the data\"\"\"\n",
        "  assert len(sentences) == len(labels)\n",
        "  for i in range(0, len(sentences), batch_size):\n",
        "    X, y = pad_and_encode(sentences[i:min(i+batch_size, len(sentences))], \n",
        "                          labels[i:min(i+batch_size, len(sentences))])\n",
        "    if torch.cuda.is_available():                                               # Move data to the GPU, if possible, before yielding it\n",
        "      yield (X.cuda(), y.cuda())\n",
        "    else:\n",
        "      yield (X, y)\n",
        "\n",
        "next(batch_iterator(X_agreek_train, y_agreek_train, batch_size=5))"
      ],
      "execution_count": null,
      "outputs": [
        {
          "output_type": "execute_result",
          "data": {
            "text/plain": [
              "(tensor([[17294,  3868,  4078,  2338, 22472, 26629, 18608, 30856, 15281,  4771,\n",
              "          22200, 27585, 24373, 23793],\n",
              "         [ 6492, 12245, 17161, 11078, 19318, 25502, 32563,  4771, 23793, 33219,\n",
              "          33219, 33219, 33219, 33219],\n",
              "         [17644, 15281,  5128,  6607,  3643, 23883, 10895, 18484, 14915,  9646,\n",
              "          23793, 33219, 33219, 33219],\n",
              "         [ 3671,   875, 12245, 25551, 16906, 27585,   394, 15920, 30864, 33219,\n",
              "          33219, 33219, 33219, 33219],\n",
              "         [31239, 26879, 24323, 27717, 17644, 23293,  8102, 23793, 33219, 33219,\n",
              "          33219, 33219, 33219, 33219]], device='cuda:0'),\n",
              " tensor([[ 4, 13,  6,  7,  4,  7,  1,  7,  0,  7,  4,  7,  4,  1],\n",
              "         [ 7, 13, 12,  6,  7,  4,  4,  7,  1, 14, 14, 14, 14, 14],\n",
              "         [ 2, 13,  4,  7,  7, 13,  7,  0,  7,  6,  1, 14, 14, 14],\n",
              "         [ 7,  7, 13, 12,  4,  7,  6,  4,  1, 14, 14, 14, 14, 14],\n",
              "         [12,  7,  6, 13,  2,  7,  4,  1, 14, 14, 14, 14, 14, 14]],\n",
              "        device='cuda:0'))"
            ]
          },
          "metadata": {
            "tags": []
          },
          "execution_count": 69
        }
      ]
    },
    {
      "cell_type": "markdown",
      "metadata": {
        "id": "N_3hiu1nlga6"
      },
      "source": [
        "# Model Results for Ancient Greek Training and Test Sets "
      ]
    },
    {
      "cell_type": "code",
      "metadata": {
        "colab": {
          "base_uri": "https://localhost:8080/"
        },
        "id": "8f_WRpMcnvBS",
        "outputId": "fb5e8637-83b1-4c0a-8f27-a1389603dc22"
      },
      "source": [
        "#Create Model\n",
        "class LSTMTagger(nn.Module):\n",
        "  def __init__(self, X_train, Y_train, embedding_dim, hidden_dim, vocabulary_size, tagset_size, bidirectional = True):\n",
        "    \n",
        "    super(LSTMTagger,self).__init__()\n",
        "\n",
        "    self.hidden_dim = hidden_dim\n",
        "    self.word_embeddings = nn.Embedding(vocabulary_size, embedding_dim)\n",
        "    self.vocabulary_size = len(token2idx) \n",
        "    self.tagset_size= len(tag2idx)\n",
        "    \n",
        "\n",
        "#LSTm takes word embeddings as input and outputs hidden states with dimensionality hidden_dim\n",
        "    self.lstm = nn.LSTM(input_size=embedding_dim,                         # The LSTM takes an embedded sentence as input, and outputs \n",
        "                         hidden_size=hidden_dim,                           # vectors with dimensionality lstm_hidden_dim.\n",
        "                         batch_first=True, bidirectional=True)\n",
        "    #self.lstm =nn.LSTM(embedding_dim, input_size=embedding_dim,hidden_size=hidden_dim, batch_first=True))\n",
        "    #self.hidden2tag = nn.Linear(hidden_dim,tagset_size)\n",
        "    self.fc = nn.Linear (hidden_dim*2, tagset_size)         #adding one more hidden layer for the bidirectional LSTM option\n",
        "    self.training_loss = list()                                                \n",
        "    self.training_accuracy = list()                         # The linear layer maps from the RNN output space to tag space\n",
        "    self.softmax = nn.LogSoftmax(dim=1)\n",
        "    if torch.cuda.is_available():                                               # Move the model to the GPU (if we have one)\n",
        "      self.cuda()\n",
        "  def forward(self, padded_sentences):\n",
        "    \"\"\"The forward pass through the network\"\"\"\n",
        "    batch_size, max_sentence_length = padded_sentences.size()\n",
        "    embedded_sentences = self.word_embeddings(padded_sentences)                 # Sentences encoded as integers are mapped to vectors    \n",
        "    sentence_lengths = (padded_sentences!=token2idx['<PAD>']).sum(dim=1)        # Find the length of sentences\n",
        "    sentence_lengths = sentence_lengths.long().cpu()                            # Ensure the correct format\n",
        "    X = nn.utils.rnn.pack_padded_sequence(embedded_sentences, sentence_lengths, # Pack the embedded data\n",
        "                                          batch_first=True, enforce_sorted=False)\n",
        "    lstm_out, _ = self.lstm(X)                                                # Run the LSTM layer\n",
        "    X, _ = nn.utils.rnn.pad_packed_sequence(lstm_out, batch_first=True,total_length=max_sentence_length)         # Unpack the output from the LSTM\n",
        "    X = X.contiguous().view(-1, X.shape[2])   \n",
        "    tag_space = self.fc(X)                                                  # Fully connected layer\n",
        "    tag_scores = self.softmax(tag_space)      \n",
        "                              \n",
        "    return tag_scores.view(batch_size, max_sentence_length, self.tagset_size)\n",
        "\n",
        "  def fit(self,X_train,y_train):\n",
        "      loss_function = nn.NLLLoss(ignore_index=tag2idx['<PAD>'])\n",
        "      optimizer = torch.optim.Adam(self.parameters(), lr=0.01)\n",
        "      batch_size = 16 \n",
        "      for epoch in range(5):                                                          # Times to loop over the full dataset\n",
        "        with tqdm(batch_iterator(X_agreek_train, y_agreek_train, batch_size=16), \n",
        "                  total=len(X_train)//batch_size+1, unit=\"batch\", desc=\"Epoch %i\" % epoch) as batches:  \n",
        "          for inputs, targets in batches:\n",
        "            #print(targets.shape)\n",
        "            self.zero_grad()                                                 # Reset gradients\n",
        "            scores = self.forward(inputs) \n",
        "            #print(scores)                                                   # Forward pass\n",
        "            loss = loss_function(scores.view(-1, self.tagset_size),                 # Get loss, the data is reshaped as a long line of predictions and targets\n",
        "                                  targets.view(-1))               \n",
        "            loss.backward() \n",
        "                                                              # Backpropagate the error\n",
        "            optimizer.step()                                                          # Run the optimizer to change the weights w.r.t the loss\n",
        "            predictions = scores.argmax(dim=2, keepdim=True).squeeze()                # Calculate the batch training accuracy\n",
        "            mask = targets!=tag2idx['<PAD>']                                          # Create a mask for ignoring <PAD> in the targets\n",
        "            correct = (predictions[mask] == targets[mask]).sum().item()               # Item pulls the value from the GPU automatically (if needed)\n",
        "            accuracy = correct / mask.sum().item()*100\n",
        "            self.training_accuracy.append(accuracy)                                 # Save the accuracy for plotting\n",
        "            self.training_loss.append(loss.item())                                  # Save the loss for plotting\n",
        "            batches.set_postfix(loss=loss.item(), accuracy=accuracy) \n",
        "model = LSTMTagger(X_agreek_train,y_agreek_train,embedding_dim=32,                                       # Dimensionality of the work embedding\n",
        "                    hidden_dim=100,bidirectional = True,                                         # Dimensionality of the hidden state in the LSTM\n",
        "                    vocabulary_size=len(token2idx),                              # The vocabulary incudes both the 'padding' and 'unknown' symbols\n",
        "                    tagset_size=len(tag2idx))                                  # We have no interest in the network outputting the padding symbol\n",
        "print(model)\n",
        "model.fit(X_agreek_train,y_agreek_train)"
      ],
      "execution_count": null,
      "outputs": [
        {
          "output_type": "stream",
          "text": [
            "Epoch 0:   0%|          | 1/714 [00:00<01:33,  7.64batch/s, accuracy=34.1, loss=2.38]"
          ],
          "name": "stderr"
        },
        {
          "output_type": "stream",
          "text": [
            "LSTMTagger(\n",
            "  (word_embeddings): Embedding(33220, 32)\n",
            "  (lstm): LSTM(32, 100, batch_first=True, bidirectional=True)\n",
            "  (fc): Linear(in_features=200, out_features=15, bias=True)\n",
            "  (softmax): LogSoftmax(dim=1)\n",
            ")\n"
          ],
          "name": "stdout"
        },
        {
          "output_type": "stream",
          "text": [
            "Epoch 0: 100%|██████████| 714/714 [00:16<00:00, 44.30batch/s, accuracy=68.2, loss=0.829]\n",
            "Epoch 1: 100%|██████████| 714/714 [00:15<00:00, 44.64batch/s, accuracy=90.9, loss=0.29]\n",
            "Epoch 2: 100%|██████████| 714/714 [00:16<00:00, 44.57batch/s, accuracy=97.7, loss=0.103]\n",
            "Epoch 3: 100%|██████████| 714/714 [00:16<00:00, 44.59batch/s, accuracy=95.5, loss=0.0678]\n",
            "Epoch 4: 100%|██████████| 714/714 [00:16<00:00, 44.56batch/s, accuracy=97.7, loss=0.0604]\n"
          ],
          "name": "stderr"
        }
      ]
    },
    {
      "cell_type": "markdown",
      "metadata": {
        "id": "qYhHgNfClrI1"
      },
      "source": [
        "# Stored Loss Over Epochs Ancient Greek "
      ]
    },
    {
      "cell_type": "code",
      "metadata": {
        "colab": {
          "base_uri": "https://localhost:8080/",
          "height": 297
        },
        "id": "eC1iRbeZoM1b",
        "outputId": "47c41563-1b1e-48d3-e86c-abda75712ac6"
      },
      "source": [
        "batch_size = 64\n",
        "fig = plt.figure(figsize=(6, 4))\n",
        "ax = plt.subplot()\n",
        "ax.set_title(\"Plot for the (hopefully) decreasing loss over epochs\")\n",
        "ax.plot(model.training_loss, 'b-')\n",
        "ax.set_ylabel(\"Training Loss\", color='b')\n",
        "ax.set_xlabel(\"Epoch\")\n",
        "# ax.set_yscale('log')\n",
        "ax.tick_params(axis='y', labelcolor='b')\n",
        "ax = ax.twinx()\n",
        "ax.plot(model.training_accuracy, 'r-')\n",
        "ax.set_ylabel(\"Accuracy [%]\", color='r')\n",
        "ax.tick_params(axis='y', labelcolor='r')\n",
        "a = list(ax.axis())\n",
        "a[2] = 0\n",
        "a[3] = 100\n",
        "ax.axis(a)\n",
        "t = np.arange(0, len(model.training_accuracy), len(X_agreek_train)//batch_size+1)\n",
        "ax.set_xticks(ticks=t)\n",
        "ax.set_xticklabels(labels=np.arange(len(t)))\n",
        "fig.tight_layout()\n",
        "plt.show()"
      ],
      "execution_count": null,
      "outputs": [
        {
          "output_type": "display_data",
          "data": {
            "image/png": "[encoded data removed]",
            "text/plain": [
              "<Figure size 432x288 with 2 Axes>"
            ]
          },
          "metadata": {
            "tags": [],
            "needs_background": "light"
          }
        }
      ]
    },
    {
      "cell_type": "markdown",
      "metadata": {
        "id": "klaZRLJUlxik"
      },
      "source": [
        "# Test Data Accuracy for Ancient Greek "
      ]
    },
    {
      "cell_type": "code",
      "metadata": {
        "colab": {
          "base_uri": "https://localhost:8080/"
        },
        "id": "OW7S-0kVorQD",
        "outputId": "146e45e0-96ac-4109-d3fa-2db306feabc4"
      },
      "source": [
        "with torch.no_grad():                                                           # Do not use the following forward passes to calculate a gradient\n",
        "  n_correct = 0\n",
        "  batch_size = 64 \n",
        "  n_total = 0\n",
        "  for inputs, targets in batch_iterator(X_agreek_test, y_agreek_test, batch_size=batch_size): # Loop once over the test data\n",
        "    scores = model(inputs)                                                      # Runs the test data through the model\n",
        "    predictions = scores.argmax(dim=2, keepdim=True).squeeze()                  # Finds the predictions\n",
        "    mask = targets!=tag2idx['<PAD>']                                            # Create a mask for ignoring <PAD> in the targets\n",
        "    n_correct += (predictions[mask] == targets[mask]).sum().item()              # Sums the number of correct predictions\n",
        "    n_total += mask.sum().item()\n",
        "print(\"Test accuracy %.1f%%\" % (100*n_correct/n_total))"
      ],
      "execution_count": null,
      "outputs": [
        {
          "output_type": "stream",
          "text": [
            "Test accuracy 78.6%\n"
          ],
          "name": "stdout"
        }
      ]
    },
    {
      "cell_type": "markdown",
      "metadata": {
        "id": "f4Qi0jHgnYBg"
      },
      "source": [
        "# Number of Sentences and Sentence Length Visualization Latin"
      ]
    },
    {
      "cell_type": "code",
      "metadata": {
        "colab": {
          "base_uri": "https://localhost:8080/",
          "height": 279
        },
        "id": "Jw3PADDenh3W",
        "outputId": "b344f2f5-b4bd-43b2-9033-c2831d47e5f7"
      },
      "source": [
        "l = np.asarray([len(x) for x in X_latin_train], dtype=np.int)\n",
        "plt.figure(figsize=(8, 4))\n",
        "x = np.unique(l)\n",
        "plt.bar(x, [np.sum(l==e) for e in x], width=1)\n",
        "plt.xlabel(\"Sentence length\")\n",
        "plt.ylabel(\"# sentences\")\n",
        "plt.show()"
      ],
      "execution_count": null,
      "outputs": [
        {
          "output_type": "display_data",
          "data": {
            "image/png": "[encoded data removed]",
            "text/plain": [
              "<Figure size 576x288 with 1 Axes>"
            ]
          },
          "metadata": {
            "tags": [],
            "needs_background": "light"
          }
        }
      ]
    },
    {
      "cell_type": "markdown",
      "metadata": {
        "id": "_fuFTJqzluVR"
      },
      "source": [
        "# Data Encoding and Padding for Latin"
      ]
    },
    {
      "cell_type": "code",
      "metadata": {
        "colab": {
          "base_uri": "https://localhost:8080/"
        },
        "id": "Emw_ViT6malT",
        "outputId": "cc3f8ac5-3322-4a1e-ccc8-150e593c92df"
      },
      "source": [
        "tokens = {token for sentence in X_latin_train for token in sentence}\n",
        "idx2token = list(tokens)\n",
        "idx2token.insert(0, '<UNK>')\n",
        "idx2token.append('<PAD>')\n",
        "token2idx = {token:idx for idx, token in enumerate(idx2token)}\n",
        "\n",
        "tags = {tag for tags in y_latin_train for tag in tags}\n",
        "idx2tag = list(tags)\n",
        "idx2tag.append('<PAD>')\n",
        "tag2idx = {tag:idx for idx, tag in enumerate(idx2tag)}\n",
        "\n",
        "print(idx2token[:15])\n",
        "print(idx2tag)\n",
        "\n",
        "  "
      ],
      "execution_count": null,
      "outputs": [
        {
          "output_type": "stream",
          "text": [
            "['<UNK>', 'edoctus', 'servitio', 'mysterium', 'hesterno', 'clavem', 'adiudicauit', 'homine', 'conspici', 'impertiente', 'plenam', 'cervice', 'manus', 'contumacius', 'patres']\n",
            "['CCONJ', 'PUNCT', 'SCONJ', 'VERB', 'PRON', 'ADJ', 'NOUN', 'NUM', 'X', 'PROPN', 'INTJ', 'ADP', 'ADV', '<PAD>']\n"
          ],
          "name": "stdout"
        }
      ]
    },
    {
      "cell_type": "code",
      "metadata": {
        "colab": {
          "base_uri": "https://localhost:8080/"
        },
        "id": "3X1XUvWnmcxb",
        "outputId": "247b953f-60ae-4044-d355-5f511b531154"
      },
      "source": [
        "def pad_and_encode(sentences, labels):\n",
        "  assert len(sentences)==len(labels)\n",
        "  assert np.all([len(sentence)==len(tags) for sentence, tags in zip(sentences, labels)])\n",
        "  max_sentence_length = np.max([len(sentence) for sentence in sentences]) # Find out how much to pad\n",
        "  padded_sentences = torch.zeros(len(sentences), max_sentence_length,     # Create data structures with <PAD> as default\n",
        "                                 dtype=torch.long)\n",
        "  padded_sentences[:] = token2idx['<PAD>']\n",
        "  padded_labels = torch.zeros(len(sentences), max_sentence_length, \n",
        "                              dtype=torch.long)\n",
        "  padded_labels[:] = tag2idx['<PAD>']\n",
        "  for i, (sentence, tags) in enumerate(zip(sentences, labels)):               # Loop over the data\n",
        "    for j, token in enumerate(sentence):\n",
        "      if token in token2idx.keys():\n",
        "        padded_sentences[i, j] = token2idx[token]\n",
        "      else:\n",
        "        padded_sentences[i, j] = token2idx['<UNK>']\n",
        "    for j, tag in enumerate(tags):\n",
        "      padded_labels[i, j] = tag2idx[tag]\n",
        "  return padded_sentences, padded_labels\n",
        "\n",
        "a, b = pad_and_encode(X_latin_train[:5], y_latin_train[:5])\n",
        "print(a)\n",
        "print(b)"
      ],
      "execution_count": null,
      "outputs": [
        {
          "output_type": "stream",
          "text": [
            "tensor([[3307, 4030, 2306, 2955, 3232, 1576,  691, 1576, 6469, 1799, 4128, 5630,\n",
            "         1576, 4737, 2102, 3685, 2704, 4332, 3142, 4976],\n",
            "        [5116, 4221, 1301, 1717, 2146, 4976, 6927, 6927, 6927, 6927, 6927, 6927,\n",
            "         6927, 6927, 6927, 6927, 6927, 6927, 6927, 6927],\n",
            "        [4643,  911,  306, 3937, 4976, 6927, 6927, 6927, 6927, 6927, 6927, 6927,\n",
            "         6927, 6927, 6927, 6927, 6927, 6927, 6927, 6927],\n",
            "        [3667, 5995, 6457,  655, 6054,  770, 3025, 4534, 6927, 6927, 6927, 6927,\n",
            "         6927, 6927, 6927, 6927, 6927, 6927, 6927, 6927],\n",
            "        [5487, 2066, 2197, 4976, 6927, 6927, 6927, 6927, 6927, 6927, 6927, 6927,\n",
            "         6927, 6927, 6927, 6927, 6927, 6927, 6927, 6927]])\n",
            "tensor([[ 4,  5,  2,  3,  6,  1,  3,  1, 12,  3,  5,  3,  1,  5,  0,  3,  4, 12,\n",
            "          3,  1],\n",
            "        [11,  6,  3,  3,  6,  1, 13, 13, 13, 13, 13, 13, 13, 13, 13, 13, 13, 13,\n",
            "         13, 13],\n",
            "        [ 6,  3,  6,  3,  1, 13, 13, 13, 13, 13, 13, 13, 13, 13, 13, 13, 13, 13,\n",
            "         13, 13],\n",
            "        [ 3,  3,  2,  3, 11,  4,  3,  1, 13, 13, 13, 13, 13, 13, 13, 13, 13, 13,\n",
            "         13, 13],\n",
            "        [ 0,  5,  3,  1, 13, 13, 13, 13, 13, 13, 13, 13, 13, 13, 13, 13, 13, 13,\n",
            "         13, 13]])\n"
          ],
          "name": "stdout"
        }
      ]
    },
    {
      "cell_type": "code",
      "metadata": {
        "colab": {
          "base_uri": "https://localhost:8080/"
        },
        "id": "ttMYr5TLmfFt",
        "outputId": "a1bb7520-a8e7-4a47-9ac3-5cf4191fcd80"
      },
      "source": [
        "def batch_iterator(sentences, labels, batch_size=64):\n",
        "  \"\"\"Helper function for iterating over batches of the data\"\"\"\n",
        "  assert len(sentences) == len(labels)\n",
        "  for i in range(0, len(sentences), batch_size):\n",
        "    X, y = pad_and_encode(sentences[i:min(i+batch_size, len(sentences))], \n",
        "                          labels[i:min(i+batch_size, len(sentences))])\n",
        "    if torch.cuda.is_available():                                               # Move data to the GPU, if possible, before yielding it\n",
        "      yield (X.cuda(), y.cuda())\n",
        "    else:\n",
        "      yield (X, y)\n",
        "\n",
        "next(batch_iterator(X_latin_train, y_latin_train, batch_size=5))"
      ],
      "execution_count": null,
      "outputs": [
        {
          "output_type": "execute_result",
          "data": {
            "text/plain": [
              "(tensor([[3307, 4030, 2306, 2955, 3232, 1576,  691, 1576, 6469, 1799, 4128, 5630,\n",
              "          1576, 4737, 2102, 3685, 2704, 4332, 3142, 4976],\n",
              "         [5116, 4221, 1301, 1717, 2146, 4976, 6927, 6927, 6927, 6927, 6927, 6927,\n",
              "          6927, 6927, 6927, 6927, 6927, 6927, 6927, 6927],\n",
              "         [4643,  911,  306, 3937, 4976, 6927, 6927, 6927, 6927, 6927, 6927, 6927,\n",
              "          6927, 6927, 6927, 6927, 6927, 6927, 6927, 6927],\n",
              "         [3667, 5995, 6457,  655, 6054,  770, 3025, 4534, 6927, 6927, 6927, 6927,\n",
              "          6927, 6927, 6927, 6927, 6927, 6927, 6927, 6927],\n",
              "         [5487, 2066, 2197, 4976, 6927, 6927, 6927, 6927, 6927, 6927, 6927, 6927,\n",
              "          6927, 6927, 6927, 6927, 6927, 6927, 6927, 6927]], device='cuda:0'),\n",
              " tensor([[ 4,  5,  2,  3,  6,  1,  3,  1, 12,  3,  5,  3,  1,  5,  0,  3,  4, 12,\n",
              "           3,  1],\n",
              "         [11,  6,  3,  3,  6,  1, 13, 13, 13, 13, 13, 13, 13, 13, 13, 13, 13, 13,\n",
              "          13, 13],\n",
              "         [ 6,  3,  6,  3,  1, 13, 13, 13, 13, 13, 13, 13, 13, 13, 13, 13, 13, 13,\n",
              "          13, 13],\n",
              "         [ 3,  3,  2,  3, 11,  4,  3,  1, 13, 13, 13, 13, 13, 13, 13, 13, 13, 13,\n",
              "          13, 13],\n",
              "         [ 0,  5,  3,  1, 13, 13, 13, 13, 13, 13, 13, 13, 13, 13, 13, 13, 13, 13,\n",
              "          13, 13]], device='cuda:0'))"
            ]
          },
          "metadata": {
            "tags": []
          },
          "execution_count": 147
        }
      ]
    },
    {
      "cell_type": "markdown",
      "metadata": {
        "id": "INgd_jMEl8Hr"
      },
      "source": [
        "# Model results for Latin Training and Test Sets "
      ]
    },
    {
      "cell_type": "code",
      "metadata": {
        "colab": {
          "base_uri": "https://localhost:8080/"
        },
        "id": "3vOxyVoSnwqa",
        "outputId": "536dd111-d64f-4b01-a69f-b74c43a054ce"
      },
      "source": [
        "#Create Model\n",
        "class LSTMTagger(nn.Module):\n",
        "  def __init__(self, X_train, Y_train, embedding_dim, hidden_dim, vocabulary_size, tagset_size, bidirectional = True):\n",
        "    \n",
        "    super(LSTMTagger,self).__init__()\n",
        "\n",
        "    self.hidden_dim = hidden_dim\n",
        "    self.word_embeddings = nn.Embedding(vocabulary_size, embedding_dim)\n",
        "    self.vocabulary_size = len(token2idx) \n",
        "    self.tagset_size= len(tag2idx)\n",
        "    \n",
        "\n",
        "#LSTm takes word embeddings as input and outputs hidden states with dimensionality hidden_dim\n",
        "    self.lstm = nn.LSTM(input_size=embedding_dim,                         # The LSTM takes an embedded sentence as input, and outputs \n",
        "                         hidden_size=hidden_dim,                           # vectors with dimensionality lstm_hidden_dim.\n",
        "                         batch_first=True, bidirectional=True)\n",
        "    #self.lstm =nn.LSTM(embedding_dim, input_size=embedding_dim,hidden_size=hidden_dim, batch_first=True))\n",
        "    #self.hidden2tag = nn.Linear(hidden_dim,tagset_size)\n",
        "    self.fc = nn.Linear (hidden_dim*2, tagset_size)         #adding one more hidden layer for the bidirectional LSTM option\n",
        "    self.training_loss = list()                                                \n",
        "    self.training_accuracy = list()                         # The linear layer maps from the RNN output space to tag space\n",
        "    self.softmax = nn.LogSoftmax(dim=1)\n",
        "    if torch.cuda.is_available():                                               # Move the model to the GPU (if we have one)\n",
        "      self.cuda()\n",
        "  def forward(self, padded_sentences):\n",
        "    \"\"\"The forward pass through the network\"\"\"\n",
        "    batch_size, max_sentence_length = padded_sentences.size()\n",
        "    embedded_sentences = self.word_embeddings(padded_sentences)                 # Sentences encoded as integers are mapped to vectors    \n",
        "    sentence_lengths = (padded_sentences!=token2idx['<PAD>']).sum(dim=1)        # Find the length of sentences\n",
        "    sentence_lengths = sentence_lengths.long().cpu()                            # Ensure the correct format\n",
        "    X = nn.utils.rnn.pack_padded_sequence(embedded_sentences, sentence_lengths, # Pack the embedded data\n",
        "                                          batch_first=True, enforce_sorted=False)\n",
        "    lstm_out, _ = self.lstm(X)                                                # Run the LSTM layer\n",
        "    X, _ = nn.utils.rnn.pad_packed_sequence(lstm_out, batch_first=True,total_length=max_sentence_length)         # Unpack the output from the LSTM\n",
        "    X = X.contiguous().view(-1, X.shape[2])   \n",
        "    tag_space = self.fc(X)                                                  # Fully connected layer\n",
        "    tag_scores = self.softmax(tag_space)      \n",
        "                              \n",
        "    return tag_scores.view(batch_size, max_sentence_length, self.tagset_size)\n",
        "\n",
        "  def fit(self,X_train,y_train):\n",
        "      loss_function = nn.NLLLoss(ignore_index=tag2idx['<PAD>'])\n",
        "      optimizer = torch.optim.Adam(self.parameters(), lr=0.01)\n",
        "      batch_size = 16 \n",
        "      for epoch in range(5):                                                          # Times to loop over the full dataset\n",
        "        with tqdm(batch_iterator(X_latin_train, y_latin_train, batch_size=16), \n",
        "                  total=len(X_train)//batch_size+1, unit=\"batch\", desc=\"Epoch %i\" % epoch) as batches:  \n",
        "          for inputs, targets in batches:\n",
        "            #print(targets.shape)\n",
        "            self.zero_grad()                                                 # Reset gradients\n",
        "            scores = self.forward(inputs) \n",
        "            #print(scores)                                                   # Forward pass\n",
        "            loss = loss_function(scores.view(-1, self.tagset_size),                 # Get loss, the data is reshaped as a long line of predictions and targets\n",
        "                                  targets.view(-1))               \n",
        "            loss.backward() \n",
        "                                                              # Backpropagate the error\n",
        "            optimizer.step()                                                          # Run the optimizer to change the weights w.r.t the loss\n",
        "            predictions = scores.argmax(dim=2, keepdim=True).squeeze()                # Calculate the batch training accuracy\n",
        "            mask = targets!=tag2idx['<PAD>']                                          # Create a mask for ignoring <PAD> in the targets\n",
        "            correct = (predictions[mask] == targets[mask]).sum().item()               # Item pulls the value from the GPU automatically (if needed)\n",
        "            accuracy = correct / mask.sum().item()*100\n",
        "            self.training_accuracy.append(accuracy)                                 # Save the accuracy for plotting\n",
        "            self.training_loss.append(loss.item())                                  # Save the loss for plotting\n",
        "            batches.set_postfix(loss=loss.item(), accuracy=accuracy) \n",
        "model = LSTMTagger(X_latin_train,y_latin_train,embedding_dim=32,                                       # Dimensionality of the work embedding\n",
        "                    hidden_dim=64,bidirectional = True,                                         # Dimensionality of the hidden state in the LSTM\n",
        "                    vocabulary_size=len(token2idx),                              # The vocabulary incudes both the 'padding' and 'unknown' symbols\n",
        "                    tagset_size=len(tag2idx))                                  # We have no interest in the network outputting the padding symbol\n",
        "print(model)\n",
        "model.fit(X_latin_train,y_latin_train)"
      ],
      "execution_count": null,
      "outputs": [
        {
          "output_type": "stream",
          "text": [
            "Epoch 0:   7%|▋         | 6/84 [00:00<00:01, 58.51batch/s, accuracy=36.9, loss=1.71]"
          ],
          "name": "stderr"
        },
        {
          "output_type": "stream",
          "text": [
            "LSTMTagger(\n",
            "  (word_embeddings): Embedding(6928, 32)\n",
            "  (lstm): LSTM(32, 64, batch_first=True, bidirectional=True)\n",
            "  (fc): Linear(in_features=128, out_features=14, bias=True)\n",
            "  (softmax): LogSoftmax(dim=1)\n",
            ")\n"
          ],
          "name": "stdout"
        },
        {
          "output_type": "stream",
          "text": [
            "Epoch 0: 100%|██████████| 84/84 [00:01<00:00, 49.48batch/s, accuracy=40, loss=1.27]\n",
            "Epoch 1: 100%|██████████| 84/84 [00:01<00:00, 48.57batch/s, accuracy=86.7, loss=0.366]\n",
            "Epoch 2: 100%|██████████| 84/84 [00:01<00:00, 48.36batch/s, accuracy=100, loss=0.0555]\n",
            "Epoch 3: 100%|██████████| 84/84 [00:01<00:00, 48.33batch/s, accuracy=100, loss=0.00979]\n",
            "Epoch 4: 100%|██████████| 84/84 [00:01<00:00, 49.56batch/s, accuracy=100, loss=0.00382]\n"
          ],
          "name": "stderr"
        }
      ]
    },
    {
      "cell_type": "markdown",
      "metadata": {
        "id": "1upNWl6Hl_iO"
      },
      "source": [
        "# Stored Loss Over Epochs Latin"
      ]
    },
    {
      "cell_type": "code",
      "metadata": {
        "colab": {
          "base_uri": "https://localhost:8080/",
          "height": 297
        },
        "id": "QW0_cd5FoW5E",
        "outputId": "7cd3c19f-f142-41b2-8926-c838082bb67c"
      },
      "source": [
        "batch_size = 16\n",
        "fig = plt.figure(figsize=(6, 4))\n",
        "ax = plt.subplot()\n",
        "ax.set_title(\"Plot for the (hopefully) decreasing loss over epochs\")\n",
        "ax.plot(model.training_loss, 'b-')\n",
        "ax.set_ylabel(\"Training Loss\", color='b')\n",
        "ax.set_xlabel(\"Epoch\")\n",
        "# ax.set_yscale('log')\n",
        "ax.tick_params(axis='y', labelcolor='b')\n",
        "ax = ax.twinx()\n",
        "ax.plot(model.training_accuracy, 'r-')\n",
        "ax.set_ylabel(\"Accuracy [%]\", color='r')\n",
        "ax.tick_params(axis='y', labelcolor='r')\n",
        "a = list(ax.axis())\n",
        "a[2] = 0\n",
        "a[3] = 100\n",
        "ax.axis(a)\n",
        "t = np.arange(0, len(model.training_accuracy), len(X_latin_train)//batch_size+1)\n",
        "ax.set_xticks(ticks=t)\n",
        "ax.set_xticklabels(labels=np.arange(len(t)))\n",
        "fig.tight_layout()\n",
        "plt.show()"
      ],
      "execution_count": null,
      "outputs": [
        {
          "output_type": "display_data",
          "data": {
            "image/png": "[encoded data removed]",
            "text/plain": [
              "<Figure size 432x288 with 2 Axes>"
            ]
          },
          "metadata": {
            "tags": [],
            "needs_background": "light"
          }
        }
      ]
    },
    {
      "cell_type": "markdown",
      "metadata": {
        "id": "FkdpYOmKmC9X"
      },
      "source": [
        "# Test data Accuracy for Latin "
      ]
    },
    {
      "cell_type": "code",
      "metadata": {
        "colab": {
          "base_uri": "https://localhost:8080/"
        },
        "id": "y9-UrtXppI7_",
        "outputId": "2a640cba-af4a-4cd3-bb64-0f7f691e5b11"
      },
      "source": [
        "with torch.no_grad():                                                           # Do not use the following forward passes to calculate a gradient\n",
        "  n_correct = 0\n",
        "  batch_size = 16 \n",
        "  n_total = 0\n",
        "  for inputs, targets in batch_iterator(X_latin_test, y_latin_test, batch_size=batch_size): # Loop once over the test data\n",
        "    scores = model(inputs)                                                      # Runs the test data through the model\n",
        "    predictions = scores.argmax(dim=2, keepdim=True).squeeze()                  # Finds the predictions\n",
        "    mask = targets!=tag2idx['<PAD>']                                            # Create a mask for ignoring <PAD> in the targets\n",
        "    n_correct += (predictions[mask] == targets[mask]).sum().item()              # Sums the number of correct predictions\n",
        "    n_total += mask.sum().item()\n",
        "print(\"Test accuracy %.1f%%\" % (100*n_correct/n_total))"
      ],
      "execution_count": null,
      "outputs": [
        {
          "output_type": "stream",
          "text": [
            "Test accuracy 72.3%\n"
          ],
          "name": "stdout"
        }
      ]
    },
    {
      "cell_type": "markdown",
      "metadata": {
        "id": "X0dQor4FP6aW"
      },
      "source": [
        "# Data Encoding and Padding for French "
      ]
    },
    {
      "cell_type": "code",
      "metadata": {
        "colab": {
          "base_uri": "https://localhost:8080/"
        },
        "id": "_6Gf-Gopep-K",
        "outputId": "68f51f48-f639-4df9-9ae2-e076ae5f7de5"
      },
      "source": [
        "tokens = {token for sentence in X_french_train for token in sentence}\n",
        "idx2token = list(tokens)\n",
        "idx2token.insert(0, '<UNK>')\n",
        "idx2token.append('<PAD>')\n",
        "token2idx = {token:idx for idx, token in enumerate(idx2token)}\n",
        "\n",
        "tags = {tag for tags in y_french_train for tag in tags}\n",
        "idx2tag = list(tags)\n",
        "idx2tag.append('<PAD>')\n",
        "tag2idx = {tag:idx for idx, tag in enumerate(idx2tag)}\n",
        "\n",
        "print(idx2token[:15])\n",
        "print(idx2tag)\n",
        "\n"
      ],
      "execution_count": null,
      "outputs": [
        {
          "output_type": "stream",
          "text": [
            "['<UNK>', 'Puis', '1993', 'Connu', 'Partie', 'Espérer', 'Remarquez', 'Adl', 'Las', 'Enjeu', 'Entré', 'Patrick', 'Costas', 'Télé', 'Attirés']\n",
            "['INTJ', 'NUM', 'ADV', 'PART', 'PUNCT', 'ADP', 'AUX', 'NOUN', 'ADJ', 'CCONJ', 'X', 'PROPN', 'SCONJ', 'PRON', None, 'VERB', 'DET', '<PAD>']\n"
          ],
          "name": "stdout"
        }
      ]
    },
    {
      "cell_type": "code",
      "metadata": {
        "colab": {
          "base_uri": "https://localhost:8080/"
        },
        "id": "WH4VYZzXeqS4",
        "outputId": "d38ff9de-e037-4d9a-b4c4-90e8dc8bd452"
      },
      "source": [
        "def pad_and_encode(sentences, labels):\n",
        "  assert len(sentences)==len(labels)\n",
        "  assert np.all([len(sentence)==len(tags) for sentence, tags in zip(sentences, labels)])\n",
        "  max_sentence_length = np.max([len(sentence) for sentence in sentences]) # Find out how much to pad\n",
        "  padded_sentences = torch.zeros(len(sentences), max_sentence_length,     # Create data structures with <PAD> as default\n",
        "                                 dtype=torch.long)\n",
        "  padded_sentences[:] = token2idx['<PAD>']\n",
        "  padded_labels = torch.zeros(len(sentences), max_sentence_length, \n",
        "                              dtype=torch.long)\n",
        "  padded_labels[:] = tag2idx['<PAD>']\n",
        "  for i, (sentence, tags) in enumerate(zip(sentences, labels)):               # Loop over the data\n",
        "    for j, token in enumerate(sentence):\n",
        "      if token in token2idx.keys():\n",
        "        padded_sentences[i, j] = token2idx[token]\n",
        "      else:\n",
        "        padded_sentences[i, j] = token2idx['<UNK>']\n",
        "    for j, tag in enumerate(tags):\n",
        "      padded_labels[i, j] = tag2idx[tag]\n",
        "  return padded_sentences, padded_labels\n",
        "\n",
        "a, b = pad_and_encode(X_french_train[:5], y_french_train[:5])\n",
        "print(a)\n",
        "print(b)"
      ],
      "execution_count": null,
      "outputs": [
        {
          "output_type": "stream",
          "text": [
            "tensor([[ 516, 1256, 1256, 1256, 1256, 1256, 1256, 1256, 1256, 1256, 1256, 1256,\n",
            "         1256, 1256, 1256, 1256, 1256, 1256, 1256, 1256, 1256, 1256, 1256, 1256,\n",
            "         1256, 1256, 1256, 1256, 1256, 1256, 1256, 1256, 1256, 1256, 1256, 1256,\n",
            "         1256, 1256, 1256, 1256, 1256, 1256, 1256, 1256, 1256, 1256, 1256, 1597,\n",
            "         1597, 1597, 1597, 1597, 1597, 1597, 1597, 1597, 1597, 1597, 1597, 1597,\n",
            "         1597, 1597, 1597, 1597, 1597, 1597, 1597],\n",
            "        [ 295, 1256, 1256, 1256, 1256, 1256, 1256, 1256, 1256, 1256, 1256, 1256,\n",
            "         1256, 1256, 1256, 1256, 1256, 1256, 1256, 1256, 1256, 1256, 1256, 1256,\n",
            "         1256, 1256, 1256, 1256, 1256, 1256, 1256, 1256, 1256, 1256, 1256, 1256,\n",
            "         1256, 1256, 1256, 1256, 1256, 1256, 1256, 1256, 1256, 1256, 1256, 1256,\n",
            "         1256, 1256, 1256, 1256, 1256, 1256, 1256, 1256, 1256, 1256, 1256, 1256,\n",
            "         1256, 1256, 1256, 1256, 1256, 1256, 1256],\n",
            "        [1256,  322, 1256, 1256, 1256, 1256, 1256, 1256, 1256, 1256, 1256, 1256,\n",
            "         1256, 1256, 1256, 1256, 1256, 1256, 1256, 1256, 1256, 1256, 1256, 1256,\n",
            "         1256, 1256, 1256, 1256, 1256, 1256, 1256, 1256, 1256, 1256, 1256, 1256,\n",
            "         1256, 1256, 1256, 1256, 1256, 1256, 1256, 1256, 1256, 1256, 1256, 1256,\n",
            "         1256, 1256, 1256, 1256, 1256, 1256, 1256, 1256, 1256, 1256, 1256, 1256,\n",
            "         1256, 1256, 1256, 1256, 1256, 1256, 1597],\n",
            "        [ 174, 1256, 1256, 1256, 1256, 1256, 1256, 1256, 1256, 1256, 1256, 1256,\n",
            "         1256, 1256, 1256, 1256, 1256, 1256, 1256, 1256, 1256, 1256, 1256, 1256,\n",
            "         1256, 1256, 1256, 1256, 1256, 1256, 1597, 1597, 1597, 1597, 1597, 1597,\n",
            "         1597, 1597, 1597, 1597, 1597, 1597, 1597, 1597, 1597, 1597, 1597, 1597,\n",
            "         1597, 1597, 1597, 1597, 1597, 1597, 1597, 1597, 1597, 1597, 1597, 1597,\n",
            "         1597, 1597, 1597, 1597, 1597, 1597, 1597],\n",
            "        [ 941, 1256, 1256, 1256, 1256, 1256, 1256, 1256, 1256, 1256, 1256, 1256,\n",
            "         1256, 1256, 1256, 1256, 1256, 1256, 1256, 1256, 1256, 1256, 1256, 1256,\n",
            "         1256, 1256, 1256, 1256, 1256, 1256, 1256, 1256, 1256, 1256, 1256, 1256,\n",
            "         1597, 1597, 1597, 1597, 1597, 1597, 1597, 1597, 1597, 1597, 1597, 1597,\n",
            "         1597, 1597, 1597, 1597, 1597, 1597, 1597, 1597, 1597, 1597, 1597, 1597,\n",
            "         1597, 1597, 1597, 1597, 1597, 1597, 1597]])\n",
            "tensor([[ 2,  4, 13,  2, 15, 12, 16,  8,  7,  5,  7,  5, 16,  7,  5,  7,  4, 15,\n",
            "         16,  7, 14,  5, 16,  1,  7,  4,  2,  6,  2, 15, 16,  8,  9, 16,  7,  4,\n",
            "         15, 16,  7,  4,  2, 15,  2, 16,  2,  8,  4, 17, 17, 17, 17, 17, 17, 17,\n",
            "         17, 17, 17, 17, 17, 17, 17, 17, 17, 17, 17, 17, 17],\n",
            "        [ 2, 15, 13, 12, 16,  7,  6, 15,  2, 12, 16,  7,  8,  2, 15, 16,  7,  8,\n",
            "          9, 15,  4,  5, 16,  8,  7,  4, 12, 16,  7, 14,  5, 16,  7, 14,  5, 16,\n",
            "          7, 15,  5, 16,  7,  5, 16,  7, 13, 15,  5, 15, 16,  7,  8,  9, 14,  5,\n",
            "         16,  7, 15, 14,  5, 16,  7,  5, 16,  4, 11,  4,  4],\n",
            "        [14,  5, 16,  7,  4, 13, 13,  6, 15,  5, 16,  7, 14,  5, 16,  7, 14,  5,\n",
            "         16,  7,  8,  4, 13, 15, 16,  8,  7,  5,  7, 12, 16,  7, 14,  5, 16,  7,\n",
            "          8,  4,  4,  2,  8,  5, 16,  7,  8, 12,  5, 16,  7, 14,  5, 16,  7,  5,\n",
            "         16,  7,  5,  7, 14,  5, 16,  7,  8,  9,  8,  4, 17],\n",
            "        [16,  7, 13, 15,  2,  5, 15, 16,  7,  5, 16,  7,  5,  7, 13,  6,  2, 15,\n",
            "         16,  7,  5, 16,  7,  5, 15, 16,  7,  5,  7,  4, 17, 17, 17, 17, 17, 17,\n",
            "         17, 17, 17, 17, 17, 17, 17, 17, 17, 17, 17, 17, 17, 17, 17, 17, 17, 17,\n",
            "         17, 17, 17, 17, 17, 17, 17, 17, 17, 17, 17, 17, 17],\n",
            "        [ 7, 14,  5, 16,  7,  4, 13, 13, 15,  5, 13, 13, 16,  7,  5,  7, 15,  5,\n",
            "         16,  8,  7, 16,  7,  8,  5,  1, 15,  5, 16,  7,  4,  7,  9, 16,  7,  4,\n",
            "         17, 17, 17, 17, 17, 17, 17, 17, 17, 17, 17, 17, 17, 17, 17, 17, 17, 17,\n",
            "         17, 17, 17, 17, 17, 17, 17, 17, 17, 17, 17, 17, 17]])\n"
          ],
          "name": "stdout"
        }
      ]
    },
    {
      "cell_type": "code",
      "metadata": {
        "colab": {
          "base_uri": "https://localhost:8080/"
        },
        "id": "I4wshZeogG9C",
        "outputId": "e45ac99b-16c2-4de7-b9df-4b28d9039390"
      },
      "source": [
        "def batch_iterator(sentences, labels, batch_size=64):\n",
        "  \"\"\"Helper function for iterating over batches of the data\"\"\"\n",
        "  assert len(sentences) == len(labels)\n",
        "  for i in range(0, len(sentences), batch_size):\n",
        "    X, y = pad_and_encode(sentences[i:min(i+batch_size, len(sentences))], \n",
        "                          labels[i:min(i+batch_size, len(sentences))])\n",
        "    if torch.cuda.is_available():                                               # Move data to the GPU, if possible, before yielding it\n",
        "      yield (X.cuda(), y.cuda())\n",
        "    else:\n",
        "      yield (X, y)\n",
        "\n",
        "next(batch_iterator(X_french_train, y_french_train, batch_size=5))"
      ],
      "execution_count": null,
      "outputs": [
        {
          "output_type": "execute_result",
          "data": {
            "text/plain": [
              "(tensor([[ 516, 1256, 1256, 1256, 1256, 1256, 1256, 1256, 1256, 1256, 1256, 1256,\n",
              "          1256, 1256, 1256, 1256, 1256, 1256, 1256, 1256, 1256, 1256, 1256, 1256,\n",
              "          1256, 1256, 1256, 1256, 1256, 1256, 1256, 1256, 1256, 1256, 1256, 1256,\n",
              "          1256, 1256, 1256, 1256, 1256, 1256, 1256, 1256, 1256, 1256, 1256, 1597,\n",
              "          1597, 1597, 1597, 1597, 1597, 1597, 1597, 1597, 1597, 1597, 1597, 1597,\n",
              "          1597, 1597, 1597, 1597, 1597, 1597, 1597],\n",
              "         [ 295, 1256, 1256, 1256, 1256, 1256, 1256, 1256, 1256, 1256, 1256, 1256,\n",
              "          1256, 1256, 1256, 1256, 1256, 1256, 1256, 1256, 1256, 1256, 1256, 1256,\n",
              "          1256, 1256, 1256, 1256, 1256, 1256, 1256, 1256, 1256, 1256, 1256, 1256,\n",
              "          1256, 1256, 1256, 1256, 1256, 1256, 1256, 1256, 1256, 1256, 1256, 1256,\n",
              "          1256, 1256, 1256, 1256, 1256, 1256, 1256, 1256, 1256, 1256, 1256, 1256,\n",
              "          1256, 1256, 1256, 1256, 1256, 1256, 1256],\n",
              "         [1256,  322, 1256, 1256, 1256, 1256, 1256, 1256, 1256, 1256, 1256, 1256,\n",
              "          1256, 1256, 1256, 1256, 1256, 1256, 1256, 1256, 1256, 1256, 1256, 1256,\n",
              "          1256, 1256, 1256, 1256, 1256, 1256, 1256, 1256, 1256, 1256, 1256, 1256,\n",
              "          1256, 1256, 1256, 1256, 1256, 1256, 1256, 1256, 1256, 1256, 1256, 1256,\n",
              "          1256, 1256, 1256, 1256, 1256, 1256, 1256, 1256, 1256, 1256, 1256, 1256,\n",
              "          1256, 1256, 1256, 1256, 1256, 1256, 1597],\n",
              "         [ 174, 1256, 1256, 1256, 1256, 1256, 1256, 1256, 1256, 1256, 1256, 1256,\n",
              "          1256, 1256, 1256, 1256, 1256, 1256, 1256, 1256, 1256, 1256, 1256, 1256,\n",
              "          1256, 1256, 1256, 1256, 1256, 1256, 1597, 1597, 1597, 1597, 1597, 1597,\n",
              "          1597, 1597, 1597, 1597, 1597, 1597, 1597, 1597, 1597, 1597, 1597, 1597,\n",
              "          1597, 1597, 1597, 1597, 1597, 1597, 1597, 1597, 1597, 1597, 1597, 1597,\n",
              "          1597, 1597, 1597, 1597, 1597, 1597, 1597],\n",
              "         [ 941, 1256, 1256, 1256, 1256, 1256, 1256, 1256, 1256, 1256, 1256, 1256,\n",
              "          1256, 1256, 1256, 1256, 1256, 1256, 1256, 1256, 1256, 1256, 1256, 1256,\n",
              "          1256, 1256, 1256, 1256, 1256, 1256, 1256, 1256, 1256, 1256, 1256, 1256,\n",
              "          1597, 1597, 1597, 1597, 1597, 1597, 1597, 1597, 1597, 1597, 1597, 1597,\n",
              "          1597, 1597, 1597, 1597, 1597, 1597, 1597, 1597, 1597, 1597, 1597, 1597,\n",
              "          1597, 1597, 1597, 1597, 1597, 1597, 1597]], device='cuda:0'),\n",
              " tensor([[ 2,  4, 13,  2, 15, 12, 16,  8,  7,  5,  7,  5, 16,  7,  5,  7,  4, 15,\n",
              "          16,  7, 14,  5, 16,  1,  7,  4,  2,  6,  2, 15, 16,  8,  9, 16,  7,  4,\n",
              "          15, 16,  7,  4,  2, 15,  2, 16,  2,  8,  4, 17, 17, 17, 17, 17, 17, 17,\n",
              "          17, 17, 17, 17, 17, 17, 17, 17, 17, 17, 17, 17, 17],\n",
              "         [ 2, 15, 13, 12, 16,  7,  6, 15,  2, 12, 16,  7,  8,  2, 15, 16,  7,  8,\n",
              "           9, 15,  4,  5, 16,  8,  7,  4, 12, 16,  7, 14,  5, 16,  7, 14,  5, 16,\n",
              "           7, 15,  5, 16,  7,  5, 16,  7, 13, 15,  5, 15, 16,  7,  8,  9, 14,  5,\n",
              "          16,  7, 15, 14,  5, 16,  7,  5, 16,  4, 11,  4,  4],\n",
              "         [14,  5, 16,  7,  4, 13, 13,  6, 15,  5, 16,  7, 14,  5, 16,  7, 14,  5,\n",
              "          16,  7,  8,  4, 13, 15, 16,  8,  7,  5,  7, 12, 16,  7, 14,  5, 16,  7,\n",
              "           8,  4,  4,  2,  8,  5, 16,  7,  8, 12,  5, 16,  7, 14,  5, 16,  7,  5,\n",
              "          16,  7,  5,  7, 14,  5, 16,  7,  8,  9,  8,  4, 17],\n",
              "         [16,  7, 13, 15,  2,  5, 15, 16,  7,  5, 16,  7,  5,  7, 13,  6,  2, 15,\n",
              "          16,  7,  5, 16,  7,  5, 15, 16,  7,  5,  7,  4, 17, 17, 17, 17, 17, 17,\n",
              "          17, 17, 17, 17, 17, 17, 17, 17, 17, 17, 17, 17, 17, 17, 17, 17, 17, 17,\n",
              "          17, 17, 17, 17, 17, 17, 17, 17, 17, 17, 17, 17, 17],\n",
              "         [ 7, 14,  5, 16,  7,  4, 13, 13, 15,  5, 13, 13, 16,  7,  5,  7, 15,  5,\n",
              "          16,  8,  7, 16,  7,  8,  5,  1, 15,  5, 16,  7,  4,  7,  9, 16,  7,  4,\n",
              "          17, 17, 17, 17, 17, 17, 17, 17, 17, 17, 17, 17, 17, 17, 17, 17, 17, 17,\n",
              "          17, 17, 17, 17, 17, 17, 17, 17, 17, 17, 17, 17, 17]], device='cuda:0'))"
            ]
          },
          "metadata": {
            "tags": []
          },
          "execution_count": 79
        }
      ]
    },
    {
      "cell_type": "markdown",
      "metadata": {
        "id": "TL1UyJROQL7R"
      },
      "source": [
        "# Model Results for Training and Test sets French "
      ]
    },
    {
      "cell_type": "code",
      "metadata": {
        "colab": {
          "base_uri": "https://localhost:8080/"
        },
        "id": "KWEMkBM3k8yZ",
        "outputId": "ec9f3f46-06a7-4a82-9959-7acb904d7062"
      },
      "source": [
        "#Create Model\n",
        "class LSTMTagger(nn.Module):\n",
        "  def __init__(self, X_train, Y_train, embedding_dim, hidden_dim, vocabulary_size, tagset_size, bidirectional = True):\n",
        "    \n",
        "    super(LSTMTagger,self).__init__()\n",
        "\n",
        "    self.hidden_dim = hidden_dim\n",
        "    self.word_embeddings = nn.Embedding(vocabulary_size, embedding_dim)\n",
        "    self.vocabulary_size = len(token2idx) \n",
        "    self.tagset_size= len(tag2idx)\n",
        "    \n",
        "\n",
        "#LSTm takes word embeddings as input and outputs hidden states with dimensionality hidden_dim\n",
        "    self.lstm = nn.LSTM(input_size=embedding_dim,                         # The LSTM takes an embedded sentence as input, and outputs \n",
        "                         hidden_size=hidden_dim,                           # vectors with dimensionality lstm_hidden_dim.\n",
        "                         batch_first=True, bidirectional=True)\n",
        "    #self.lstm =nn.LSTM(embedding_dim, input_size=embedding_dim,hidden_size=hidden_dim, batch_first=True))\n",
        "    #self.hidden2tag = nn.Linear(hidden_dim,tagset_size)\n",
        "    self.fc = nn.Linear (hidden_dim*2, tagset_size)         #adding one more hidden layer for the bidirectional LSTM option\n",
        "    self.training_loss = list()                                                \n",
        "    self.training_accuracy = list()                         # The linear layer maps from the RNN output space to tag space\n",
        "    self.softmax = nn.LogSoftmax(dim=1)\n",
        "    if torch.cuda.is_available():                                               # Move the model to the GPU (if we have one)\n",
        "      self.cuda()\n",
        "  def forward(self, padded_sentences):\n",
        "    \"\"\"The forward pass through the network\"\"\"\n",
        "    batch_size, max_sentence_length = padded_sentences.size()\n",
        "    embedded_sentences = self.word_embeddings(padded_sentences)                 # Sentences encoded as integers are mapped to vectors    \n",
        "    sentence_lengths = (padded_sentences!=token2idx['<PAD>']).sum(dim=1)        # Find the length of sentences\n",
        "    sentence_lengths = sentence_lengths.long().cpu()                            # Ensure the correct format\n",
        "    X = nn.utils.rnn.pack_padded_sequence(embedded_sentences, sentence_lengths, # Pack the embedded data\n",
        "                                          batch_first=True, enforce_sorted=False)\n",
        "    lstm_out, _ = self.lstm(X)                                                # Run the LSTM layer\n",
        "    X, _ = nn.utils.rnn.pad_packed_sequence(lstm_out, batch_first=True,total_length=max_sentence_length)         # Unpack the output from the LSTM\n",
        "    X = X.contiguous().view(-1, X.shape[2])   \n",
        "    tag_space = self.fc(X)                                                  # Fully connected layer\n",
        "    tag_scores = self.softmax(tag_space)      \n",
        "                              \n",
        "    return tag_scores.view(batch_size, max_sentence_length, self.tagset_size)\n",
        "\n",
        "  def fit(self,X_train,y_train):\n",
        "      loss_function = nn.NLLLoss(ignore_index=tag2idx['<PAD>'])\n",
        "      optimizer = torch.optim.Adam(self.parameters(), lr=0.01)\n",
        "      batch_size = 100 \n",
        "      for epoch in range(5):                                                          # Times to loop over the full dataset\n",
        "        with tqdm(batch_iterator(X_french_train, y_french_train, batch_size=16), \n",
        "                  total=len(X_train)//batch_size+1, unit=\"batch\", desc=\"Epoch %i\" % epoch) as batches:  \n",
        "          for inputs, targets in batches:\n",
        "            #print(targets.shape)\n",
        "            self.zero_grad()                                                 # Reset gradients\n",
        "            scores = self.forward(inputs) \n",
        "            #print(scores)                                                   # Forward pass\n",
        "            loss = loss_function(scores.view(-1, self.tagset_size),                 # Get loss, the data is reshaped as a long line of predictions and targets\n",
        "                                  targets.view(-1))               \n",
        "            loss.backward() \n",
        "                                                              # Backpropagate the error\n",
        "            optimizer.step()                                                          # Run the optimizer to change the weights w.r.t the loss\n",
        "            predictions = scores.argmax(dim=2, keepdim=True).squeeze()                # Calculate the batch training accuracy\n",
        "            mask = targets!=tag2idx['<PAD>']                                          # Create a mask for ignoring <PAD> in the targets\n",
        "            correct = (predictions[mask] == targets[mask]).sum().item()               # Item pulls the value from the GPU automatically (if needed)\n",
        "            accuracy = correct / mask.sum().item()*100\n",
        "            self.training_accuracy.append(accuracy)                                 # Save the accuracy for plotting\n",
        "            self.training_loss.append(loss.item())                                  # Save the loss for plotting\n",
        "            batches.set_postfix(loss=loss.item(), accuracy=accuracy) \n",
        "model = LSTMTagger(X_french_train,y_french_train,embedding_dim=100,                                       # Dimensionality of the work embedding\n",
        "                    hidden_dim=74,bidirectional = True,                                         # Dimensionality of the hidden state in the LSTM\n",
        "                    vocabulary_size=len(token2idx),                              # The vocabulary incudes both the 'padding' and 'unknown' symbols\n",
        "                    tagset_size=len(tag2idx))                                  # We have no interest in the network outputting the padding symbol\n",
        "print(model)\n",
        "model.fit(X_french_train,y_french_train)"
      ],
      "execution_count": null,
      "outputs": [
        {
          "output_type": "stream",
          "text": [
            "Epoch 0:   3%|▎         | 5/147 [00:00<00:02, 49.39batch/s, accuracy=19.8, loss=2.4] "
          ],
          "name": "stderr"
        },
        {
          "output_type": "stream",
          "text": [
            "LSTMTagger(\n",
            "  (word_embeddings): Embedding(1598, 100)\n",
            "  (lstm): LSTM(100, 74, batch_first=True, bidirectional=True)\n",
            "  (fc): Linear(in_features=148, out_features=18, bias=True)\n",
            "  (softmax): LogSoftmax(dim=1)\n",
            ")\n"
          ],
          "name": "stdout"
        },
        {
          "output_type": "stream",
          "text": [
            "Epoch 0: 917batch [00:14, 62.12batch/s, accuracy=31.1, loss=2.06]\n",
            "Epoch 1: 917batch [00:14, 62.79batch/s, accuracy=31.4, loss=2.03]\n",
            "Epoch 2: 917batch [00:14, 62.62batch/s, accuracy=31.4, loss=2.03]\n",
            "Epoch 3: 917batch [00:14, 62.64batch/s, accuracy=32.6, loss=2]\n",
            "Epoch 4: 917batch [00:14, 61.63batch/s, accuracy=31.4, loss=1.99]\n"
          ],
          "name": "stderr"
        }
      ]
    },
    {
      "cell_type": "markdown",
      "metadata": {
        "id": "aTzMeGURQRC1"
      },
      "source": [
        "# Test Data Accuracy for French "
      ]
    },
    {
      "cell_type": "code",
      "metadata": {
        "colab": {
          "base_uri": "https://localhost:8080/"
        },
        "id": "ms15KEgLlVJ_",
        "outputId": "a800c9e5-fabe-48ea-df54-b00587bcd660"
      },
      "source": [
        "with torch.no_grad():                                                           # Do not use the following forward passes to calculate a gradient\n",
        "  n_correct = 0\n",
        "  batch_size = 100 \n",
        "  n_total = 0\n",
        "  for inputs, targets in batch_iterator(X_french_test, y_french_test, batch_size=batch_size): # Loop once over the test data\n",
        "    scores = model(inputs)                                                      # Runs the test data through the model\n",
        "    predictions = scores.argmax(dim=2, keepdim=True).squeeze()                  # Finds the predictions\n",
        "    mask = targets!=tag2idx['<PAD>']                                            # Create a mask for ignoring <PAD> in the targets\n",
        "    n_correct += (predictions[mask] == targets[mask]).sum().item()              # Sums the number of correct predictions\n",
        "    n_total += mask.sum().item()\n",
        "print(\"Test accuracy %.1f%%\" % (100*n_correct/n_total))"
      ],
      "execution_count": null,
      "outputs": [
        {
          "output_type": "stream",
          "text": [
            "Test accuracy 27.3%\n"
          ],
          "name": "stdout"
        }
      ]
    },
    {
      "cell_type": "markdown",
      "metadata": {
        "id": "MYSDbQQXQbdu"
      },
      "source": [
        "# Data Encoding and Padding for Italian "
      ]
    },
    {
      "cell_type": "code",
      "metadata": {
        "colab": {
          "base_uri": "https://localhost:8080/"
        },
        "id": "4WxoXLCYhT8s",
        "outputId": "65e303eb-4f16-4948-ebea-eeabab644a67"
      },
      "source": [
        "l = np.asarray([len(x) for x in X_italian_train], dtype=np.int)\n",
        "plt.figure(figsize=(8, 4))\n",
        "x = np.unique(l)\n",
        "plt.bar(x, [np.sum(l==e) for e in x], width=1)\n",
        "plt.xlabel(\"Sentence length\")\n",
        "plt.ylabel(\"# sentences\")\n",
        "plt.show()"
      ],
      "execution_count": null,
      "outputs": [
        {
          "output_type": "display_data",
          "data": {
            "image/png": "[encoded data removed]",
            "text/plain": [
              "<Figure size 576x288 with 1 Axes>"
            ]
          },
          "metadata": {
            "tags": [],
            "needs_background": "light"
          }
        }
      ]
    },
    {
      "cell_type": "code",
      "metadata": {
        "colab": {
          "base_uri": "https://localhost:8080/"
        },
        "id": "pZo0mvJNgBAX",
        "outputId": "9b3f36fc-a777-4aee-cfbd-2b0200053953"
      },
      "source": [
        "tokens = {token for sentence in X_italian_train for token in sentence}\n",
        "idx2token = list(tokens)\n",
        "idx2token.insert(0, '<UNK>')\n",
        "idx2token.append('<PAD>')\n",
        "token2idx = {token:idx for idx, token in enumerate(idx2token)}\n",
        "\n",
        "tags = {tag for tags in y_italian_train for tag in tags}\n",
        "idx2tag = list(tags)\n",
        "idx2tag.append('<PAD>')\n",
        "tag2idx = {tag:idx for idx, tag in enumerate(idx2tag)}\n",
        "\n",
        "print(idx2token[:15])\n",
        "print(idx2tag)\n",
        "\n"
      ],
      "execution_count": null,
      "outputs": [
        {
          "output_type": "stream",
          "text": [
            "['<UNK>', 'Augusto', 'distinto', '1993', 'lacerazioni', 'bandito', 'Polti', '+0,7%', 'tipicamente', 'infrangono', 'Signal', 'concessione', 'Csce', 'intendiamo', 'riferirsi']\n",
            "['INTJ', 'NUM', 'ADV', 'PART', 'PUNCT', 'ADP', 'DET', 'SYM', 'AUX', 'X', 'ADJ', 'PROPN', 'SCONJ', 'CCONJ', 'PRON', None, 'VERB', 'NOUN', '<PAD>']\n"
          ],
          "name": "stdout"
        }
      ]
    },
    {
      "cell_type": "code",
      "metadata": {
        "colab": {
          "base_uri": "https://localhost:8080/"
        },
        "id": "HamRoInWgH3o",
        "outputId": "afa0a300-7583-415e-d666-1f0adc005ac3"
      },
      "source": [
        "def pad_and_encode(sentences, labels):\n",
        "  assert len(sentences)==len(labels)\n",
        "  assert np.all([len(sentence)==len(tags) for sentence, tags in zip(sentences, labels)])\n",
        "  max_sentence_length = np.max([len(sentence) for sentence in sentences]) # Find out how much to pad\n",
        "  padded_sentences = torch.zeros(len(sentences), max_sentence_length,     # Create data structures with <PAD> as default\n",
        "                                 dtype=torch.long)\n",
        "  padded_sentences[:] = token2idx['<PAD>']\n",
        "  padded_labels = torch.zeros(len(sentences), max_sentence_length, \n",
        "                              dtype=torch.long)\n",
        "  padded_labels[:] = tag2idx['<PAD>']\n",
        "  for i, (sentence, tags) in enumerate(zip(sentences, labels)):               # Loop over the data\n",
        "    for j, token in enumerate(sentence):\n",
        "      if token in token2idx.keys():\n",
        "        padded_sentences[i, j] = token2idx[token]\n",
        "      else:\n",
        "        padded_sentences[i, j] = token2idx['<UNK>']\n",
        "    for j, tag in enumerate(tags):\n",
        "      padded_labels[i, j] = tag2idx[tag]\n",
        "  return padded_sentences, padded_labels\n",
        "\n",
        "a, b = pad_and_encode(X_italian_train[:5], y_italian_train[:5])\n",
        "print(a)\n",
        "print(b)"
      ],
      "execution_count": null,
      "outputs": [
        {
          "output_type": "stream",
          "text": [
            "tensor([[17597,  9683, 17190,  3236,  8581,  4164,  8581,   490,  9884, 10185,\n",
            "         23168, 23168, 23168, 23168, 23168, 23168, 23168, 23168, 23168, 23168,\n",
            "         23168, 23168, 23168, 23168, 23168, 23168, 23168, 23168, 23168, 23168,\n",
            "         23168, 23168, 23168, 23168, 23168, 23168, 23168, 23168, 23168, 23168,\n",
            "         23168, 23168, 23168, 23168, 23168, 23168, 23168, 23168, 23168, 23168,\n",
            "         23168, 23168, 23168, 23168, 23168, 23168, 23168, 23168, 23168, 23168,\n",
            "         23168, 23168, 23168, 23168, 23168, 23168, 23168, 23168, 23168, 23168,\n",
            "         23168, 23168, 23168, 23168, 23168, 23168, 23168, 23168, 23168, 23168,\n",
            "         23168, 23168, 23168, 23168],\n",
            "        [ 7847, 14520, 21562, 10835,  4875, 22781,  1998,  2118,  8581, 22938,\n",
            "          9983,  8581, 18416,  8999, 18774, 14216, 20952,  1813, 18793, 18906,\n",
            "         12439,  9770,  8581, 17533, 15061, 14225, 17468, 11308,  8999, 16072,\n",
            "           502,  7242, 18906, 10671,  3581,  5014, 20290, 10579, 22938,  5878,\n",
            "         20494, 22934, 21742, 13291, 13274, 12439, 16875,  8581, 17533,  1696,\n",
            "          2118,  8581, 22938,  2482,  1861, 14575,  4225, 12709, 22934,  9268,\n",
            "         12525, 10101, 15658, 20973, 10185, 23168, 23168, 23168, 23168, 23168,\n",
            "         23168, 23168, 23168, 23168, 23168, 23168, 23168, 23168, 23168, 23168,\n",
            "         23168, 23168, 23168, 23168],\n",
            "        [12214, 17351, 22934,  4854,  7356,  8581,  7004,  5835, 22441, 14216,\n",
            "         20952,  4854,  9029, 23077,  8581, 22781, 16317, 14575, 10671,  3129,\n",
            "          2118,  8581, 22938, 11490,  4225, 12046, 16488, 11608, 20494, 13581,\n",
            "         22934, 22781, 16298,  8581, 19611, 18247, 12164, 12525,  4854,  4050,\n",
            "           353,  8867,  8581,  4268, 10185, 23168, 23168, 23168, 23168, 23168,\n",
            "         23168, 23168, 23168, 23168, 23168, 23168, 23168, 23168, 23168, 23168,\n",
            "         23168, 23168, 23168, 23168, 23168, 23168, 23168, 23168, 23168, 23168,\n",
            "         23168, 23168, 23168, 23168, 23168, 23168, 23168, 23168, 23168, 23168,\n",
            "         23168, 23168, 23168, 23168],\n",
            "        [22972, 11838,  8999,  2065,  8581, 19997, 22840, 14575, 10101, 10671,\n",
            "         12084, 13291, 22938, 19547, 12709, 13291,  4854, 21670,  2583, 20581,\n",
            "         13291, 10671, 19611, 21546, 22934,  4582, 13291, 10671,  9683, 13291,\n",
            "         10671, 10929,  8948, 17468, 11308, 15762, 12525,  6947, 18241, 18046,\n",
            "          8581,  4339, 17872, 13291,  8712, 17468, 18781,  5257, 12584, 17533,\n",
            "          8575,  4602, 13291,  8983, 18906, 19880,  9188,  4095, 22781, 10009,\n",
            "         23077,  8581, 22781, 17664,  9299, 13291, 10579,  4783,  7670, 13291,\n",
            "         22934, 12439, 19481,  8354,  8581,  4919, 12503,  8581, 10671, 12084,\n",
            "         13291, 12525,  8588, 10185],\n",
            "        [12214,  4050, 15063, 13291,  1217, 18906, 21910, 21348,  8999,  2840,\n",
            "          8553, 21669,  2118,  8581, 22938, 18046,  8581,  4919, 12525,  3235,\n",
            "         12164, 12525,  4854,  2555, 13291, 18793, 18906, 12439, 13645, 11612,\n",
            "          2762, 21910,  1518, 22934, 21612, 13180, 12525,  9578, 12503,  8581,\n",
            "         10671, 19997,   283, 17468, 16274, 10579, 14676, 22781, 15059, 17955,\n",
            "         21545,  8581,  4854, 23111,  8867, 10185, 23168, 23168, 23168, 23168,\n",
            "         23168, 23168, 23168, 23168, 23168, 23168, 23168, 23168, 23168, 23168,\n",
            "         23168, 23168, 23168, 23168, 23168, 23168, 23168, 23168, 23168, 23168,\n",
            "         23168, 23168, 23168, 23168]])\n",
            "tensor([[ 6, 17,  5, 17,  5, 17,  5, 11, 11,  4, 18, 18, 18, 18, 18, 18, 18, 18,\n",
            "         18, 18, 18, 18, 18, 18, 18, 18, 18, 18, 18, 18, 18, 18, 18, 18, 18, 18,\n",
            "         18, 18, 18, 18, 18, 18, 18, 18, 18, 18, 18, 18, 18, 18, 18, 18, 18, 18,\n",
            "         18, 18, 18, 18, 18, 18, 18, 18, 18, 18, 18, 18, 18, 18, 18, 18, 18, 18,\n",
            "         18, 18, 18, 18, 18, 18, 18, 18, 18, 18, 18, 18],\n",
            "        [15,  5,  6, 10, 17,  6, 17, 15,  5,  6, 17,  5, 17,  8,  8,  2,  2, 16,\n",
            "         15,  5,  6, 17,  5,  6, 10, 17, 14, 14,  8,  2, 16, 15,  5,  6, 10, 17,\n",
            "         15,  5,  6, 17, 10, 13, 10,  4, 16,  6, 17,  5,  6, 17, 15,  5,  6, 17,\n",
            "         16,  5, 17, 10, 13, 17,  5, 14, 14, 16,  4, 18, 18, 18, 18, 18, 18, 18,\n",
            "         18, 18, 18, 18, 18, 18, 18, 18, 18, 18, 18, 18],\n",
            "        [ 6, 17, 13,  6, 17,  5, 17, 10,  8,  2,  2,  6, 17, 15,  5,  6, 17,  5,\n",
            "          6, 17, 15,  5,  6, 10, 17,  4,  2,  2, 10,  4, 13,  6, 17,  5, 17, 10,\n",
            "         15,  5,  6, 17, 10, 10,  5, 17,  4, 18, 18, 18, 18, 18, 18, 18, 18, 18,\n",
            "         18, 18, 18, 18, 18, 18, 18, 18, 18, 18, 18, 18, 18, 18, 18, 18, 18, 18,\n",
            "         18, 18, 18, 18, 18, 18, 18, 18, 18, 18, 18, 18],\n",
            "        [ 6, 10,  8, 17,  5, 17, 10,  5, 14,  6, 17,  4,  6, 17, 10,  4,  6, 17,\n",
            "         10, 10,  4,  6, 17, 10, 13, 10,  4,  6, 17,  4,  6, 17, 10, 14, 14, 16,\n",
            "          5, 17,  5, 17,  5, 10, 17,  4, 13, 14,  2,  8, 16,  6, 10, 17,  4, 16,\n",
            "          5, 17, 10,  5,  6, 17, 15,  5,  6, 17, 10,  4,  5, 17, 10,  4, 13,  6,\n",
            "         10, 17,  5, 17, 15,  5,  6, 17,  4,  5, 11,  4],\n",
            "        [ 6, 17, 10,  4, 12,  5,  6, 17,  8,  8, 17, 10, 15,  5,  6, 17,  5, 17,\n",
            "          5, 17, 15,  5,  6, 17,  4, 15,  5,  6, 14, 16, 16,  6, 10, 13, 10, 17,\n",
            "          5, 14, 15,  5,  6, 17, 17, 14, 16,  5, 16,  6, 17, 10, 15,  5,  6, 17,\n",
            "         10,  4, 18, 18, 18, 18, 18, 18, 18, 18, 18, 18, 18, 18, 18, 18, 18, 18,\n",
            "         18, 18, 18, 18, 18, 18, 18, 18, 18, 18, 18, 18]])\n"
          ],
          "name": "stdout"
        }
      ]
    },
    {
      "cell_type": "code",
      "metadata": {
        "colab": {
          "base_uri": "https://localhost:8080/"
        },
        "id": "L6rSgCM3mHWb",
        "outputId": "8896aa06-701b-4fc6-f000-50f71cbc37af"
      },
      "source": [
        "def batch_iterator(sentences, labels, batch_size=64):\n",
        "  \"\"\"Helper function for iterating over batches of the data\"\"\"\n",
        "  assert len(sentences) == len(labels)\n",
        "  for i in range(0, len(sentences), batch_size):\n",
        "    X, y = pad_and_encode(sentences[i:min(i+batch_size, len(sentences))], \n",
        "                          labels[i:min(i+batch_size, len(sentences))])\n",
        "    if torch.cuda.is_available():                                               # Move data to the GPU, if possible, before yielding it\n",
        "      yield (X.cuda(), y.cuda())\n",
        "    else:\n",
        "      yield (X, y)\n",
        "\n",
        "next(batch_iterator(X_italian_train, y_italian_train, batch_size=5))"
      ],
      "execution_count": null,
      "outputs": [
        {
          "output_type": "execute_result",
          "data": {
            "text/plain": [
              "(tensor([[17597,  9683, 17190,  3236,  8581,  4164,  8581,   490,  9884, 10185,\n",
              "          23168, 23168, 23168, 23168, 23168, 23168, 23168, 23168, 23168, 23168,\n",
              "          23168, 23168, 23168, 23168, 23168, 23168, 23168, 23168, 23168, 23168,\n",
              "          23168, 23168, 23168, 23168, 23168, 23168, 23168, 23168, 23168, 23168,\n",
              "          23168, 23168, 23168, 23168, 23168, 23168, 23168, 23168, 23168, 23168,\n",
              "          23168, 23168, 23168, 23168, 23168, 23168, 23168, 23168, 23168, 23168,\n",
              "          23168, 23168, 23168, 23168, 23168, 23168, 23168, 23168, 23168, 23168,\n",
              "          23168, 23168, 23168, 23168, 23168, 23168, 23168, 23168, 23168, 23168,\n",
              "          23168, 23168, 23168, 23168],\n",
              "         [ 7847, 14520, 21562, 10835,  4875, 22781,  1998,  2118,  8581, 22938,\n",
              "           9983,  8581, 18416,  8999, 18774, 14216, 20952,  1813, 18793, 18906,\n",
              "          12439,  9770,  8581, 17533, 15061, 14225, 17468, 11308,  8999, 16072,\n",
              "            502,  7242, 18906, 10671,  3581,  5014, 20290, 10579, 22938,  5878,\n",
              "          20494, 22934, 21742, 13291, 13274, 12439, 16875,  8581, 17533,  1696,\n",
              "           2118,  8581, 22938,  2482,  1861, 14575,  4225, 12709, 22934,  9268,\n",
              "          12525, 10101, 15658, 20973, 10185, 23168, 23168, 23168, 23168, 23168,\n",
              "          23168, 23168, 23168, 23168, 23168, 23168, 23168, 23168, 23168, 23168,\n",
              "          23168, 23168, 23168, 23168],\n",
              "         [12214, 17351, 22934,  4854,  7356,  8581,  7004,  5835, 22441, 14216,\n",
              "          20952,  4854,  9029, 23077,  8581, 22781, 16317, 14575, 10671,  3129,\n",
              "           2118,  8581, 22938, 11490,  4225, 12046, 16488, 11608, 20494, 13581,\n",
              "          22934, 22781, 16298,  8581, 19611, 18247, 12164, 12525,  4854,  4050,\n",
              "            353,  8867,  8581,  4268, 10185, 23168, 23168, 23168, 23168, 23168,\n",
              "          23168, 23168, 23168, 23168, 23168, 23168, 23168, 23168, 23168, 23168,\n",
              "          23168, 23168, 23168, 23168, 23168, 23168, 23168, 23168, 23168, 23168,\n",
              "          23168, 23168, 23168, 23168, 23168, 23168, 23168, 23168, 23168, 23168,\n",
              "          23168, 23168, 23168, 23168],\n",
              "         [22972, 11838,  8999,  2065,  8581, 19997, 22840, 14575, 10101, 10671,\n",
              "          12084, 13291, 22938, 19547, 12709, 13291,  4854, 21670,  2583, 20581,\n",
              "          13291, 10671, 19611, 21546, 22934,  4582, 13291, 10671,  9683, 13291,\n",
              "          10671, 10929,  8948, 17468, 11308, 15762, 12525,  6947, 18241, 18046,\n",
              "           8581,  4339, 17872, 13291,  8712, 17468, 18781,  5257, 12584, 17533,\n",
              "           8575,  4602, 13291,  8983, 18906, 19880,  9188,  4095, 22781, 10009,\n",
              "          23077,  8581, 22781, 17664,  9299, 13291, 10579,  4783,  7670, 13291,\n",
              "          22934, 12439, 19481,  8354,  8581,  4919, 12503,  8581, 10671, 12084,\n",
              "          13291, 12525,  8588, 10185],\n",
              "         [12214,  4050, 15063, 13291,  1217, 18906, 21910, 21348,  8999,  2840,\n",
              "           8553, 21669,  2118,  8581, 22938, 18046,  8581,  4919, 12525,  3235,\n",
              "          12164, 12525,  4854,  2555, 13291, 18793, 18906, 12439, 13645, 11612,\n",
              "           2762, 21910,  1518, 22934, 21612, 13180, 12525,  9578, 12503,  8581,\n",
              "          10671, 19997,   283, 17468, 16274, 10579, 14676, 22781, 15059, 17955,\n",
              "          21545,  8581,  4854, 23111,  8867, 10185, 23168, 23168, 23168, 23168,\n",
              "          23168, 23168, 23168, 23168, 23168, 23168, 23168, 23168, 23168, 23168,\n",
              "          23168, 23168, 23168, 23168, 23168, 23168, 23168, 23168, 23168, 23168,\n",
              "          23168, 23168, 23168, 23168]], device='cuda:0'),\n",
              " tensor([[ 6, 17,  5, 17,  5, 17,  5, 11, 11,  4, 18, 18, 18, 18, 18, 18, 18, 18,\n",
              "          18, 18, 18, 18, 18, 18, 18, 18, 18, 18, 18, 18, 18, 18, 18, 18, 18, 18,\n",
              "          18, 18, 18, 18, 18, 18, 18, 18, 18, 18, 18, 18, 18, 18, 18, 18, 18, 18,\n",
              "          18, 18, 18, 18, 18, 18, 18, 18, 18, 18, 18, 18, 18, 18, 18, 18, 18, 18,\n",
              "          18, 18, 18, 18, 18, 18, 18, 18, 18, 18, 18, 18],\n",
              "         [15,  5,  6, 10, 17,  6, 17, 15,  5,  6, 17,  5, 17,  8,  8,  2,  2, 16,\n",
              "          15,  5,  6, 17,  5,  6, 10, 17, 14, 14,  8,  2, 16, 15,  5,  6, 10, 17,\n",
              "          15,  5,  6, 17, 10, 13, 10,  4, 16,  6, 17,  5,  6, 17, 15,  5,  6, 17,\n",
              "          16,  5, 17, 10, 13, 17,  5, 14, 14, 16,  4, 18, 18, 18, 18, 18, 18, 18,\n",
              "          18, 18, 18, 18, 18, 18, 18, 18, 18, 18, 18, 18],\n",
              "         [ 6, 17, 13,  6, 17,  5, 17, 10,  8,  2,  2,  6, 17, 15,  5,  6, 17,  5,\n",
              "           6, 17, 15,  5,  6, 10, 17,  4,  2,  2, 10,  4, 13,  6, 17,  5, 17, 10,\n",
              "          15,  5,  6, 17, 10, 10,  5, 17,  4, 18, 18, 18, 18, 18, 18, 18, 18, 18,\n",
              "          18, 18, 18, 18, 18, 18, 18, 18, 18, 18, 18, 18, 18, 18, 18, 18, 18, 18,\n",
              "          18, 18, 18, 18, 18, 18, 18, 18, 18, 18, 18, 18],\n",
              "         [ 6, 10,  8, 17,  5, 17, 10,  5, 14,  6, 17,  4,  6, 17, 10,  4,  6, 17,\n",
              "          10, 10,  4,  6, 17, 10, 13, 10,  4,  6, 17,  4,  6, 17, 10, 14, 14, 16,\n",
              "           5, 17,  5, 17,  5, 10, 17,  4, 13, 14,  2,  8, 16,  6, 10, 17,  4, 16,\n",
              "           5, 17, 10,  5,  6, 17, 15,  5,  6, 17, 10,  4,  5, 17, 10,  4, 13,  6,\n",
              "          10, 17,  5, 17, 15,  5,  6, 17,  4,  5, 11,  4],\n",
              "         [ 6, 17, 10,  4, 12,  5,  6, 17,  8,  8, 17, 10, 15,  5,  6, 17,  5, 17,\n",
              "           5, 17, 15,  5,  6, 17,  4, 15,  5,  6, 14, 16, 16,  6, 10, 13, 10, 17,\n",
              "           5, 14, 15,  5,  6, 17, 17, 14, 16,  5, 16,  6, 17, 10, 15,  5,  6, 17,\n",
              "          10,  4, 18, 18, 18, 18, 18, 18, 18, 18, 18, 18, 18, 18, 18, 18, 18, 18,\n",
              "          18, 18, 18, 18, 18, 18, 18, 18, 18, 18, 18, 18]], device='cuda:0'))"
            ]
          },
          "metadata": {
            "tags": []
          },
          "execution_count": 66
        }
      ]
    },
    {
      "cell_type": "markdown",
      "metadata": {
        "id": "oTtMoGzhQio1"
      },
      "source": [
        "# Model Results for Training and Test Sets Italian  "
      ]
    },
    {
      "cell_type": "code",
      "metadata": {
        "colab": {
          "base_uri": "https://localhost:8080/"
        },
        "id": "1TrfU5E2mZzY",
        "outputId": "49b829ba-f9fe-458d-ea3a-fdbf185f4e4e"
      },
      "source": [
        "#Create Model\n",
        "class LSTMTagger(nn.Module):\n",
        "  def __init__(self, X_train, Y_train, embedding_dim, hidden_dim, vocabulary_size, tagset_size, bidirectional = True):\n",
        "    \n",
        "    super(LSTMTagger,self).__init__()\n",
        "\n",
        "    self.hidden_dim = hidden_dim\n",
        "    self.word_embeddings = nn.Embedding(vocabulary_size, embedding_dim)\n",
        "    self.vocabulary_size = len(token2idx) \n",
        "    self.tagset_size= len(tag2idx)\n",
        "    \n",
        "\n",
        "#LSTm takes word embeddings as input and outputs hidden states with dimensionality hidden_dim\n",
        "    self.lstm = nn.LSTM(input_size=embedding_dim,                         # The LSTM takes an embedded sentence as input, and outputs \n",
        "                         hidden_size=hidden_dim,                           # vectors with dimensionality lstm_hidden_dim.\n",
        "                         batch_first=True, bidirectional=True)\n",
        "    #self.lstm =nn.LSTM(embedding_dim, input_size=embedding_dim,hidden_size=hidden_dim, batch_first=True))\n",
        "    #self.hidden2tag = nn.Linear(hidden_dim,tagset_size)\n",
        "    self.fc = nn.Linear (hidden_dim*2, tagset_size)         #adding one more hidden layer for the bidirectional LSTM option\n",
        "    self.training_loss = list()                                                \n",
        "    self.training_accuracy = list()                         # The linear layer maps from the RNN output space to tag space\n",
        "    self.softmax = nn.LogSoftmax(dim=1)\n",
        "    if torch.cuda.is_available():                                               # Move the model to the GPU (if we have one)\n",
        "      self.cuda()\n",
        "  def forward(self, padded_sentences):\n",
        "    \"\"\"The forward pass through the network\"\"\"\n",
        "    batch_size, max_sentence_length = padded_sentences.size()\n",
        "    embedded_sentences = self.word_embeddings(padded_sentences)                 # Sentences encoded as integers are mapped to vectors    \n",
        "    sentence_lengths = (padded_sentences!=token2idx['<PAD>']).sum(dim=1)        # Find the length of sentences\n",
        "    sentence_lengths = sentence_lengths.long().cpu()                            # Ensure the correct format\n",
        "    X = nn.utils.rnn.pack_padded_sequence(embedded_sentences, sentence_lengths, # Pack the embedded data\n",
        "                                          batch_first=True, enforce_sorted=False)\n",
        "    lstm_out, _ = self.lstm(X)                                                # Run the LSTM layer\n",
        "    X, _ = nn.utils.rnn.pad_packed_sequence(lstm_out, batch_first=True,total_length=max_sentence_length)         # Unpack the output from the LSTM\n",
        "    X = X.contiguous().view(-1, X.shape[2])   \n",
        "    tag_space = self.fc(X)                                                  # Fully connected layer\n",
        "    tag_scores = self.softmax(tag_space)      \n",
        "                              \n",
        "    return tag_scores.view(batch_size, max_sentence_length, self.tagset_size)\n",
        "\n",
        "  def fit(self,X_train,y_train):\n",
        "      loss_function = nn.NLLLoss(ignore_index=tag2idx['<PAD>'])\n",
        "      optimizer = torch.optim.Adam(self.parameters(), lr=0.01)\n",
        "      batch_size = 100 \n",
        "      for epoch in range(5):                                                          # Times to loop over the full dataset\n",
        "        with tqdm(batch_iterator(X_italian_train, y_italian_train, batch_size=16), \n",
        "                  total=len(X_train)//batch_size+1, unit=\"batch\", desc=\"Epoch %i\" % epoch) as batches:  \n",
        "          for inputs, targets in batches:\n",
        "            #print(targets.shape)\n",
        "            self.zero_grad()                                                 # Reset gradients\n",
        "            scores = self.forward(inputs) \n",
        "            #print(scores)                                                   # Forward pass\n",
        "            loss = loss_function(scores.view(-1, self.tagset_size),                 # Get loss, the data is reshaped as a long line of predictions and targets\n",
        "                                  targets.view(-1))               \n",
        "            loss.backward() \n",
        "                                                              # Backpropagate the error\n",
        "            optimizer.step()                                                          # Run the optimizer to change the weights w.r.t the loss\n",
        "            predictions = scores.argmax(dim=2, keepdim=True).squeeze()                # Calculate the batch training accuracy\n",
        "            mask = targets!=tag2idx['<PAD>']                                          # Create a mask for ignoring <PAD> in the targets\n",
        "            correct = (predictions[mask] == targets[mask]).sum().item()               # Item pulls the value from the GPU automatically (if needed)\n",
        "            accuracy = correct / mask.sum().item()*100\n",
        "            self.training_accuracy.append(accuracy)                                 # Save the accuracy for plotting\n",
        "            self.training_loss.append(loss.item())                                  # Save the loss for plotting\n",
        "            batches.set_postfix(loss=loss.item(), accuracy=accuracy) \n",
        "model = LSTMTagger(X_italian_train,y_italian_train,embedding_dim=32,                                       # Dimensionality of the work embedding\n",
        "                    hidden_dim=64,bidirectional = True,                                         # Dimensionality of the hidden state in the LSTM\n",
        "                    vocabulary_size=len(token2idx),                              # The vocabulary incudes both the 'padding' and 'unknown' symbols\n",
        "                    tagset_size=len(tag2idx))                                  # We have no interest in the network outputting the padding symbol\n",
        "print(model)\n",
        "model.fit(X_italian_train,y_italian_train)"
      ],
      "execution_count": null,
      "outputs": [
        {
          "output_type": "stream",
          "text": [
            "Epoch 0:   1%|          | 6/517 [00:00<00:09, 56.30batch/s, accuracy=46.9, loss=1.85]"
          ],
          "name": "stderr"
        },
        {
          "output_type": "stream",
          "text": [
            "LSTMTagger(\n",
            "  (word_embeddings): Embedding(23169, 32)\n",
            "  (lstm): LSTM(32, 64, batch_first=True, bidirectional=True)\n",
            "  (fc): Linear(in_features=128, out_features=19, bias=True)\n",
            "  (softmax): LogSoftmax(dim=1)\n",
            ")\n"
          ],
          "name": "stdout"
        },
        {
          "output_type": "stream",
          "text": [
            "Epoch 0: 100%|██████████| 517/517 [00:08<00:00, 64.02batch/s, accuracy=88.9, loss=0.34]\n",
            "Epoch 1: 100%|██████████| 517/517 [00:08<00:00, 64.11batch/s, accuracy=95.5, loss=0.149]\n",
            "Epoch 2: 100%|██████████| 517/517 [00:08<00:00, 64.21batch/s, accuracy=98.9, loss=0.0441]\n",
            "Epoch 3: 100%|██████████| 517/517 [00:08<00:00, 64.17batch/s, accuracy=99.7, loss=0.0213]\n",
            "Epoch 4: 100%|██████████| 517/517 [00:08<00:00, 63.39batch/s, accuracy=99.5, loss=0.02]\n"
          ],
          "name": "stderr"
        }
      ]
    },
    {
      "cell_type": "markdown",
      "metadata": {
        "id": "trdBRj8TQj17"
      },
      "source": [
        "# Test Data Accuracy for Italian"
      ]
    },
    {
      "cell_type": "code",
      "metadata": {
        "colab": {
          "base_uri": "https://localhost:8080/"
        },
        "id": "-AXBn9H4my2v",
        "outputId": "5e03d423-77a2-4d1b-a229-bd9042428b20"
      },
      "source": [
        "with torch.no_grad():                                                           # Do not use the following forward passes to calculate a gradient\n",
        "  n_correct = 0\n",
        "  batch_size = 100 \n",
        "  n_total = 0\n",
        "  for inputs, targets in batch_iterator(X_italian_test, y_italian_test, batch_size=batch_size): # Loop once over the test data\n",
        "    scores = model(inputs)                                                      # Runs the test data through the model\n",
        "    predictions = scores.argmax(dim=2, keepdim=True).squeeze()                  # Finds the predictions\n",
        "    mask = targets!=tag2idx['<PAD>']                                            # Create a mask for ignoring <PAD> in the targets\n",
        "    n_correct += (predictions[mask] == targets[mask]).sum().item()              # Sums the number of correct predictions\n",
        "    n_total += mask.sum().item()\n",
        "print(\"Test accuracy %.1f%%\" % (100*n_correct/n_total))"
      ],
      "execution_count": null,
      "outputs": [
        {
          "output_type": "stream",
          "text": [
            "Test accuracy 92.0%\n"
          ],
          "name": "stdout"
        }
      ]
    },
    {
      "cell_type": "markdown",
      "metadata": {
        "id": "BW0zdOcSQt-8"
      },
      "source": [
        "# Data Encoding and Padding for Dutch "
      ]
    },
    {
      "cell_type": "code",
      "metadata": {
        "colab": {
          "base_uri": "https://localhost:8080/"
        },
        "id": "jeptNK9Ygicc",
        "outputId": "c3c54e4d-bb94-4af2-dc33-704b8b8fcb0d"
      },
      "source": [
        "tokens = {token for sentence in X_dutch_train for token in sentence}\n",
        "idx2token = list(tokens)\n",
        "idx2token.insert(0, '<UNK>')\n",
        "idx2token.append('<PAD>')\n",
        "token2idx = {token:idx for idx, token in enumerate(idx2token)}\n",
        "\n",
        "tags = {tag for tags in y_dutch_train for tag in tags}\n",
        "idx2tag = list(tags)\n",
        "idx2tag.append('<PAD>')\n",
        "tag2idx = {tag:idx for idx, tag in enumerate(idx2tag)}\n",
        "\n",
        "print(idx2token[:15])\n",
        "print(idx2tag)\n",
        "\n"
      ],
      "execution_count": null,
      "outputs": [
        {
          "output_type": "stream",
          "text": [
            "['<UNK>', 'onderscheiden', 'Wereldrecords', 'Sugiyama', '1993', 'bewind', 'oude', 'afgerekend', 'verplichte', 'Décoratives', 'voort', 'uitgenodigd', 'Gheynst', 'hoog', 'garde']\n",
            "['INTJ', 'NUM', 'ADV', 'PUNCT', 'ADP', 'DET', 'SYM', 'AUX', 'X', 'ADJ', 'PROPN', 'CCONJ', 'PRON', 'SCONJ', 'VERB', 'NOUN', '<PAD>']\n"
          ],
          "name": "stdout"
        }
      ]
    },
    {
      "cell_type": "code",
      "metadata": {
        "colab": {
          "base_uri": "https://localhost:8080/"
        },
        "id": "vtB3TVWygn8v",
        "outputId": "c21f5fb2-e5cd-4ec6-c3cd-5271abe35c3f"
      },
      "source": [
        "def pad_and_encode(sentences, labels):\n",
        "  assert len(sentences)==len(labels)\n",
        "  assert np.all([len(sentence)==len(tags) for sentence, tags in zip(sentences, labels)])\n",
        "  max_sentence_length = np.max([len(sentence) for sentence in sentences]) # Find out how much to pad\n",
        "  padded_sentences = torch.zeros(len(sentences), max_sentence_length,     # Create data structures with <PAD> as default\n",
        "                                 dtype=torch.long)\n",
        "  padded_sentences[:] = token2idx['<PAD>']\n",
        "  padded_labels = torch.zeros(len(sentences), max_sentence_length, \n",
        "                              dtype=torch.long)\n",
        "  padded_labels[:] = tag2idx['<PAD>']\n",
        "  for i, (sentence, tags) in enumerate(zip(sentences, labels)):               # Loop over the data\n",
        "    for j, token in enumerate(sentence):\n",
        "      if token in token2idx.keys():\n",
        "        padded_sentences[i, j] = token2idx[token]\n",
        "      else:\n",
        "        padded_sentences[i, j] = token2idx['<UNK>']\n",
        "    for j, tag in enumerate(tags):\n",
        "      padded_labels[i, j] = tag2idx[tag]\n",
        "  return padded_sentences, padded_labels\n",
        "\n",
        "a, b = pad_and_encode(X_dutch_train[:5], y_dutch_train[:5])\n",
        "print(a)\n",
        "print(b)"
      ],
      "execution_count": null,
      "outputs": [
        {
          "output_type": "stream",
          "text": [
            "tensor([[ 5877, 13397,  4313,  6553,  6459, 12043,  4313,  1036,  7777,  2875,\n",
            "          2496,  6890,  5990,  9659, 11570,  4513, 13475, 13475, 13475, 13475,\n",
            "         13475],\n",
            "        [ 5877,  6970, 12527,  6134, 12259, 11615,  6553,  6903, 11537, 12527,\n",
            "           201,  1036,  7777, 11878,  5640,  2496,  6890,  5990,  9659, 12017,\n",
            "          4513],\n",
            "        [ 5877,  8505,  4055,  9079,  2496,  6878,  6459,  6005,  4055,  7569,\n",
            "          3849,  8031, 11338, 11682, 12597, 10004,  4055,  1930,  4055,  9508,\n",
            "         10229],\n",
            "        [  175,  2900,  7072,  9448,  6322,  5008,  6459,  3010,  4055, 12597,\n",
            "         12921,  6553, 12597,  9883,  4055,  6459, 13235, 10229, 13475, 13475,\n",
            "         13475],\n",
            "        [10740,  3565,  9448, 10206, 11519,   560,  5226, 10229, 13475, 13475,\n",
            "         13475, 13475, 13475, 13475, 13475, 13475, 13475, 13475, 13475, 13475,\n",
            "         13475]])\n",
            "tensor([[ 5,  9, 15, 11,  5,  9, 15,  3,  5,  9,  7, 10, 15,  6,  1,  3, 16, 16,\n",
            "         16, 16, 16],\n",
            "        [ 5, 15,  4,  5,  9, 15, 11,  9, 15,  4, 15,  3,  5,  9, 15,  7, 10, 15,\n",
            "          6,  1,  3],\n",
            "        [ 5, 15,  4, 10,  7,  2,  5, 15,  4, 10,  3, 11,  7,  9,  5, 15,  4, 10,\n",
            "         10, 10,  3],\n",
            "        [10, 10, 10,  3, 15,  4,  5, 15,  4,  5, 15, 11,  5, 15,  4,  5, 14,  3,\n",
            "         16, 16, 16],\n",
            "        [ 9, 15,  3,  9, 15,  9, 15,  3, 16, 16, 16, 16, 16, 16, 16, 16, 16, 16,\n",
            "         16, 16, 16]])\n"
          ],
          "name": "stdout"
        }
      ]
    },
    {
      "cell_type": "code",
      "metadata": {
        "id": "YVePKa4nglhr",
        "colab": {
          "base_uri": "https://localhost:8080/"
        },
        "outputId": "1a7fddbe-b193-4152-dbb5-2e72bb4268a1"
      },
      "source": [
        "def batch_iterator(sentences, labels, batch_size=64):\n",
        "  \"\"\"Helper function for iterating over batches of the data\"\"\"\n",
        "  assert len(sentences) == len(labels)\n",
        "  for i in range(0, len(sentences), batch_size):\n",
        "    X, y = pad_and_encode(sentences[i:min(i+batch_size, len(sentences))], \n",
        "                          labels[i:min(i+batch_size, len(sentences))])\n",
        "    if torch.cuda.is_available():                                               # Move data to the GPU, if possible, before yielding it\n",
        "      yield (X.cuda(), y.cuda())\n",
        "    else:\n",
        "      yield (X, y)\n",
        "\n",
        "next(batch_iterator(X_dutch_train, y_dutch_train, batch_size=5))"
      ],
      "execution_count": null,
      "outputs": [
        {
          "output_type": "execute_result",
          "data": {
            "text/plain": [
              "(tensor([[ 5877, 13397,  4313,  6553,  6459, 12043,  4313,  1036,  7777,  2875,\n",
              "           2496,  6890,  5990,  9659, 11570,  4513, 13475, 13475, 13475, 13475,\n",
              "          13475],\n",
              "         [ 5877,  6970, 12527,  6134, 12259, 11615,  6553,  6903, 11537, 12527,\n",
              "            201,  1036,  7777, 11878,  5640,  2496,  6890,  5990,  9659, 12017,\n",
              "           4513],\n",
              "         [ 5877,  8505,  4055,  9079,  2496,  6878,  6459,  6005,  4055,  7569,\n",
              "           3849,  8031, 11338, 11682, 12597, 10004,  4055,  1930,  4055,  9508,\n",
              "          10229],\n",
              "         [  175,  2900,  7072,  9448,  6322,  5008,  6459,  3010,  4055, 12597,\n",
              "          12921,  6553, 12597,  9883,  4055,  6459, 13235, 10229, 13475, 13475,\n",
              "          13475],\n",
              "         [10740,  3565,  9448, 10206, 11519,   560,  5226, 10229, 13475, 13475,\n",
              "          13475, 13475, 13475, 13475, 13475, 13475, 13475, 13475, 13475, 13475,\n",
              "          13475]], device='cuda:0'),\n",
              " tensor([[ 5,  9, 15, 11,  5,  9, 15,  3,  5,  9,  7, 10, 15,  6,  1,  3, 16, 16,\n",
              "          16, 16, 16],\n",
              "         [ 5, 15,  4,  5,  9, 15, 11,  9, 15,  4, 15,  3,  5,  9, 15,  7, 10, 15,\n",
              "           6,  1,  3],\n",
              "         [ 5, 15,  4, 10,  7,  2,  5, 15,  4, 10,  3, 11,  7,  9,  5, 15,  4, 10,\n",
              "          10, 10,  3],\n",
              "         [10, 10, 10,  3, 15,  4,  5, 15,  4,  5, 15, 11,  5, 15,  4,  5, 14,  3,\n",
              "          16, 16, 16],\n",
              "         [ 9, 15,  3,  9, 15,  9, 15,  3, 16, 16, 16, 16, 16, 16, 16, 16, 16, 16,\n",
              "          16, 16, 16]], device='cuda:0'))"
            ]
          },
          "metadata": {
            "tags": []
          },
          "execution_count": 72
        }
      ]
    },
    {
      "cell_type": "markdown",
      "metadata": {
        "id": "hXIV4uKDQ17P"
      },
      "source": [
        "# Model Results for Training and Test Sets Dutch "
      ]
    },
    {
      "cell_type": "code",
      "metadata": {
        "id": "R0i8Z1zMzBSp",
        "colab": {
          "base_uri": "https://localhost:8080/"
        },
        "outputId": "583710ec-4af8-4224-867c-f2d42b2ca88a"
      },
      "source": [
        "#Create Model\n",
        "class LSTMTagger(nn.Module):\n",
        "  def __init__(self, X_train, Y_train, embedding_dim, hidden_dim, vocabulary_size, tagset_size, bidirectional = True):\n",
        "    \n",
        "    super(LSTMTagger,self).__init__()\n",
        "\n",
        "    self.hidden_dim = hidden_dim\n",
        "    self.word_embeddings = nn.Embedding(vocabulary_size, embedding_dim)\n",
        "    self.vocabulary_size = len(token2idx) \n",
        "    self.tagset_size= len(tag2idx)\n",
        "    \n",
        "\n",
        "#LSTm takes word embeddings as input and outputs hidden states with dimensionality hidden_dim\n",
        "    self.lstm = nn.LSTM(input_size=embedding_dim,                         # The LSTM takes an embedded sentence as input, and outputs \n",
        "                         hidden_size=hidden_dim,                           # vectors with dimensionality lstm_hidden_dim.\n",
        "                         batch_first=True, bidirectional=True)\n",
        "    #self.lstm =nn.LSTM(embedding_dim, input_size=embedding_dim,hidden_size=hidden_dim, batch_first=True))\n",
        "    #self.hidden2tag = nn.Linear(hidden_dim,tagset_size)\n",
        "    self.fc = nn.Linear (hidden_dim*2, tagset_size)         #adding one more hidden layer for the bidirectional LSTM option\n",
        "    self.training_loss = list()                                                \n",
        "    self.training_accuracy = list()                         # The linear layer maps from the RNN output space to tag space\n",
        "    self.softmax = nn.LogSoftmax(dim=1)\n",
        "    if torch.cuda.is_available():                                               # Move the model to the GPU (if we have one)\n",
        "      self.cuda()\n",
        "  def forward(self, padded_sentences):\n",
        "    \"\"\"The forward pass through the network\"\"\"\n",
        "    batch_size, max_sentence_length = padded_sentences.size()\n",
        "    embedded_sentences = self.word_embeddings(padded_sentences)                 # Sentences encoded as integers are mapped to vectors    \n",
        "    sentence_lengths = (padded_sentences!=token2idx['<PAD>']).sum(dim=1)        # Find the length of sentences\n",
        "    sentence_lengths = sentence_lengths.long().cpu()                            # Ensure the correct format\n",
        "    X = nn.utils.rnn.pack_padded_sequence(embedded_sentences, sentence_lengths, # Pack the embedded data\n",
        "                                          batch_first=True, enforce_sorted=False)\n",
        "    lstm_out, _ = self.lstm(X)                                                # Run the LSTM layer\n",
        "    X, _ = nn.utils.rnn.pad_packed_sequence(lstm_out, batch_first=True,total_length=max_sentence_length)         # Unpack the output from the LSTM\n",
        "    X = X.contiguous().view(-1, X.shape[2])   \n",
        "    tag_space = self.fc(X)                                                  # Fully connected layer\n",
        "    tag_scores = self.softmax(tag_space)      \n",
        "                              \n",
        "    return tag_scores.view(batch_size, max_sentence_length, self.tagset_size)\n",
        "\n",
        "  def fit(self,X_train,y_train):\n",
        "      loss_function = nn.NLLLoss(ignore_index=tag2idx['<PAD>'])\n",
        "      optimizer = torch.optim.Adam(self.parameters(), lr=0.01)\n",
        "      batch_size = 100 \n",
        "      for epoch in range(5):                                                          # Times to loop over the full dataset\n",
        "        with tqdm(batch_iterator(X_dutch_train, y_dutch_train, batch_size=16), \n",
        "                  total=len(X_train)//batch_size+1, unit=\"batch\", desc=\"Epoch %i\" % epoch) as batches:  \n",
        "          for inputs, targets in batches:\n",
        "            #print(targets.shape)\n",
        "            self.zero_grad()                                                 # Reset gradients\n",
        "            scores = self.forward(inputs) \n",
        "            #print(scores)                                                   # Forward pass\n",
        "            loss = loss_function(scores.view(-1, self.tagset_size),                 # Get loss, the data is reshaped as a long line of predictions and targets\n",
        "                                  targets.view(-1))               \n",
        "            loss.backward() \n",
        "                                                              # Backpropagate the error\n",
        "            optimizer.step()                                                          # Run the optimizer to change the weights w.r.t the loss\n",
        "            predictions = scores.argmax(dim=2, keepdim=True).squeeze()                # Calculate the batch training accuracy\n",
        "            mask = targets!=tag2idx['<PAD>']                                          # Create a mask for ignoring <PAD> in the targets\n",
        "            correct = (predictions[mask] == targets[mask]).sum().item()               # Item pulls the value from the GPU automatically (if needed)\n",
        "            accuracy = correct / mask.sum().item()*100\n",
        "            self.training_accuracy.append(accuracy)                                 # Save the accuracy for plotting\n",
        "            self.training_loss.append(loss.item())                                  # Save the loss for plotting\n",
        "            batches.set_postfix(loss=loss.item(), accuracy=accuracy) \n",
        "model = LSTMTagger(X_dutch_train,y_dutch_train,embedding_dim=32,                                       # Dimensionality of the work embedding\n",
        "                    hidden_dim=64,bidirectional = True,                                         # Dimensionality of the hidden state in the LSTM\n",
        "                    vocabulary_size=len(token2idx),                              # The vocabulary incudes both the 'padding' and 'unknown' symbols\n",
        "                    tagset_size=len(tag2idx))                                  # We have no interest in the network outputting the padding symbol\n",
        "print(model)\n",
        "model.fit(X_dutch_train,y_dutch_train)"
      ],
      "execution_count": null,
      "outputs": [
        {
          "output_type": "stream",
          "text": [
            "Epoch 0:  20%|██        | 10/50 [00:00<00:00, 90.22batch/s, accuracy=55.2, loss=1.41]"
          ],
          "name": "stderr"
        },
        {
          "output_type": "stream",
          "text": [
            "LSTMTagger(\n",
            "  (word_embeddings): Embedding(13476, 32)\n",
            "  (lstm): LSTM(32, 64, batch_first=True, bidirectional=True)\n",
            "  (fc): Linear(in_features=128, out_features=17, bias=True)\n",
            "  (softmax): LogSoftmax(dim=1)\n",
            ")\n"
          ],
          "name": "stdout"
        },
        {
          "output_type": "stream",
          "text": [
            "Epoch 0: 310batch [00:03, 82.96batch/s, accuracy=81, loss=0.52]\n",
            "Epoch 1: 310batch [00:03, 84.83batch/s, accuracy=92.5, loss=0.215]\n",
            "Epoch 2: 310batch [00:03, 85.81batch/s, accuracy=98, loss=0.0609]\n",
            "Epoch 3: 310batch [00:03, 84.63batch/s, accuracy=99.5, loss=0.0265]\n",
            "Epoch 4: 310batch [00:03, 85.33batch/s, accuracy=100, loss=0.00762]\n"
          ],
          "name": "stderr"
        }
      ]
    },
    {
      "cell_type": "markdown",
      "metadata": {
        "id": "l3dwbLFeQ9Be"
      },
      "source": [
        "# Test data Accuracy for Dutch"
      ]
    },
    {
      "cell_type": "code",
      "metadata": {
        "id": "Qh3rymQmowwG",
        "colab": {
          "base_uri": "https://localhost:8080/"
        },
        "outputId": "3df7514b-ff09-4066-fc5b-bbb509723d5d"
      },
      "source": [
        "with torch.no_grad():                                                           # Do not use the following forward passes to calculate a gradient\n",
        "  n_correct = 0\n",
        "  batch_size = 100 \n",
        "  n_total = 0\n",
        "  for inputs, targets in batch_iterator(X_dutch_test, y_dutch_test, batch_size=batch_size): # Loop once over the test data\n",
        "    scores = model(inputs)                                                      # Runs the test data through the model\n",
        "    predictions = scores.argmax(dim=2, keepdim=True).squeeze()                  # Finds the predictions\n",
        "    mask = targets!=tag2idx['<PAD>']                                            # Create a mask for ignoring <PAD> in the targets\n",
        "    n_correct += (predictions[mask] == targets[mask]).sum().item()              # Sums the number of correct predictions\n",
        "    n_total += mask.sum().item()\n",
        "print(\"Test accuracy %.1f%%\" % (100*n_correct/n_total))"
      ],
      "execution_count": null,
      "outputs": [
        {
          "output_type": "stream",
          "text": [
            "Test accuracy 86.7%\n"
          ],
          "name": "stdout"
        }
      ]
    },
    {
      "cell_type": "markdown",
      "metadata": {
        "id": "iAASZBTcQ-5M"
      },
      "source": [
        "#Data Encoding and Padding for English"
      ]
    },
    {
      "cell_type": "code",
      "metadata": {
        "colab": {
          "base_uri": "https://localhost:8080/"
        },
        "id": "DlLgxNEng7jr",
        "outputId": "d1f7f44a-8622-481c-af03-deeb89ba79d0"
      },
      "source": [
        "tokens = {token for sentence in X_english_train for token in sentence}\n",
        "idx2token = list(tokens)\n",
        "idx2token.insert(0, '<UNK>')\n",
        "idx2token.append('<PAD>')\n",
        "token2idx = {token:idx for idx, token in enumerate(idx2token)}\n",
        "\n",
        "tags = {tag for tags in y_english_train for tag in tags}\n",
        "idx2tag = list(tags)\n",
        "idx2tag.append('<PAD>')\n",
        "tag2idx = {tag:idx for idx, tag in enumerate(idx2tag)}\n",
        "\n",
        "print(idx2token[:15])\n",
        "print(idx2tag)\n"
      ],
      "execution_count": null,
      "outputs": [
        {
          "output_type": "stream",
          "text": [
            "['<UNK>', '1993', 'Fascist', 'prominent', 'favourite', 'Troy', 'frosting', 'aware', 'wherein', '!!!!!!!!!!!!!!!', 'Dentistry', 'secluded', 'listings', \"Diego's\", 'Percell,']\n",
            "['INTJ', 'NUM', None, 'ADV', 'PUNCT', 'ADP', 'DET', 'SYM', 'AUX', 'CCONJ', 'ADJ', 'X', 'PROPN', 'SCONJ', 'PRON', 'PART', 'VERB', 'NOUN', '<PAD>']\n"
          ],
          "name": "stdout"
        }
      ]
    },
    {
      "cell_type": "code",
      "metadata": {
        "colab": {
          "base_uri": "https://localhost:8080/"
        },
        "id": "zquCHBpkg76P",
        "outputId": "3ae7463b-fc95-4002-98c2-f991a638ebdf"
      },
      "source": [
        "def pad_and_encode(sentences, labels):\n",
        "  assert len(sentences)==len(labels)\n",
        "  assert np.all([len(sentence)==len(tags) for sentence, tags in zip(sentences, labels)])\n",
        "  max_sentence_length = np.max([len(sentence) for sentence in sentences]) # Find out how much to pad\n",
        "  padded_sentences = torch.zeros(len(sentences), max_sentence_length,     # Create data structures with <PAD> as default\n",
        "                                 dtype=torch.long)\n",
        "  padded_sentences[:] = token2idx['<PAD>']\n",
        "  padded_labels = torch.zeros(len(sentences), max_sentence_length, \n",
        "                              dtype=torch.long)\n",
        "  padded_labels[:] = tag2idx['<PAD>']\n",
        "  for i, (sentence, tags) in enumerate(zip(sentences, labels)):               # Loop over the data\n",
        "    for j, token in enumerate(sentence):\n",
        "      if token in token2idx.keys():\n",
        "        padded_sentences[i, j] = token2idx[token]\n",
        "      else:\n",
        "        padded_sentences[i, j] = token2idx['<UNK>']\n",
        "    for j, tag in enumerate(tags):\n",
        "      padded_labels[i, j] = tag2idx[tag]\n",
        "  return padded_sentences, padded_labels\n",
        "\n",
        "a, b = pad_and_encode(X_english_train[:5], y_english_train[:5])\n",
        "print(a)\n",
        "print(b)"
      ],
      "execution_count": null,
      "outputs": [
        {
          "output_type": "stream",
          "text": [
            "tensor([[ 3580,  1734,   638,  3489, 10614,  3989,  7798,  8759,  9275, 13558,\n",
            "          1734,  4133, 11313,  4263, 10569,  2195,  4263, 19758, 10686,  4263,\n",
            "          2732, 11417,  7206, 11313,  7497,  4263, 12568, 13145,  8731, 19817,\n",
            "         19817, 19817, 19817, 19817, 19817, 19817],\n",
            "        [ 3586,  3424, 18728, 11417,  9050, 10513, 11933,  7433, 14780, 15948,\n",
            "          6665, 14988,  6516, 11966,  2836, 14671,  8731,  3093, 19817, 19817,\n",
            "         19817, 19817, 19817, 19817, 19817, 19817, 19817, 19817, 19817, 19817,\n",
            "         19817, 19817, 19817, 19817, 19817, 19817],\n",
            "        [ 9648,  3489, 10055, 15433, 18735,  7459, 13978,  8496, 14694, 17240,\n",
            "          8000,  4778, 11951,  8616, 10686, 15163,  8731, 19817, 19817, 19817,\n",
            "         19817, 19817, 19817, 19817, 19817, 19817, 19817, 19817, 19817, 19817,\n",
            "         19817, 19817, 19817, 19817, 19817, 19817],\n",
            "        [13035, 11417,  2126,  2575,  2750, 19144,  6120,  6634,  4164, 11417,\n",
            "          4263, 15520, 11417,  4263,  7294,  8790, 19817, 19817, 19817, 19817,\n",
            "         19817, 19817, 19817, 19817, 19817, 19817, 19817, 19817, 19817, 19817,\n",
            "         19817, 19817, 19817, 19817, 19817, 19817],\n",
            "        [16232,  9254, 10686, 13541,  5888,  8468,  2836,  4263, 17752,  1643,\n",
            "         11313, 13125, 18051, 14355, 14780, 15624,  8685,   646, 17982,  7155,\n",
            "         17500, 12556,  2195,  9050, 19730, 18421,  6324, 11417,  4263,  8063,\n",
            "         16676, 18251, 10686,  4263,  1593,  8731]])\n",
            "tensor([[12,  4, 12,  4, 10, 17, 16, 12, 12, 12,  4, 12,  4,  6, 17,  5,  6, 17,\n",
            "          5,  6, 17,  5, 12,  4,  5,  6, 10, 17,  4, 18, 18, 18, 18, 18, 18, 18],\n",
            "        [ 4,  6, 17,  5,  6, 10, 17,  8,  8, 16, 14, 17,  5, 17, 15, 16,  4,  4,\n",
            "         18, 18, 18, 18, 18, 18, 18, 18, 18, 18, 18, 18, 18, 18, 18, 18, 18, 18],\n",
            "        [12,  4, 10, 17, 16, 13, 14,  8, 16,  5,  1, 10, 17, 16,  5, 12,  4, 18,\n",
            "         18, 18, 18, 18, 18, 18, 18, 18, 18, 18, 18, 18, 18, 18, 18, 18, 18, 18],\n",
            "        [ 1,  5, 14,  8,  8, 16,  5,  1, 17,  5,  6, 12,  5,  6, 12,  4, 18, 18,\n",
            "         18, 18, 18, 18, 18, 18, 18, 18, 18, 18, 18, 18, 18, 18, 18, 18, 18, 18],\n",
            "        [ 6, 12,  5, 12,  8, 10,  5,  6, 12, 12,  4,  3, 14,  8, 16, 13, 16, 12,\n",
            "         12, 12,  3, 16,  5,  6, 10, 17, 17,  5,  6, 12, 17,  3,  5,  6, 17,  4]])\n"
          ],
          "name": "stdout"
        }
      ]
    },
    {
      "cell_type": "code",
      "metadata": {
        "id": "KewFhNFooWD6",
        "colab": {
          "base_uri": "https://localhost:8080/"
        },
        "outputId": "ef63e0c6-64a3-4112-a518-910fd0431993"
      },
      "source": [
        "def batch_iterator(sentences, labels, batch_size=64):\n",
        "  \"\"\"Helper function for iterating over batches of the data\"\"\"\n",
        "  assert len(sentences) == len(labels)\n",
        "  for i in range(0, len(sentences), batch_size):\n",
        "    X, y = pad_and_encode(sentences[i:min(i+batch_size, len(sentences))], \n",
        "                          labels[i:min(i+batch_size, len(sentences))])\n",
        "    if torch.cuda.is_available():                                               # Move data to the GPU, if possible, before yielding it\n",
        "      yield (X.cuda(), y.cuda())\n",
        "    else:\n",
        "      yield (X, y)\n",
        "\n",
        "next(batch_iterator(X_english_train, y_english_train, batch_size=5))"
      ],
      "execution_count": null,
      "outputs": [
        {
          "output_type": "execute_result",
          "data": {
            "text/plain": [
              "(tensor([[ 3580,  1734,   638,  3489, 10614,  3989,  7798,  8759,  9275, 13558,\n",
              "           1734,  4133, 11313,  4263, 10569,  2195,  4263, 19758, 10686,  4263,\n",
              "           2732, 11417,  7206, 11313,  7497,  4263, 12568, 13145,  8731, 19817,\n",
              "          19817, 19817, 19817, 19817, 19817, 19817],\n",
              "         [ 3586,  3424, 18728, 11417,  9050, 10513, 11933,  7433, 14780, 15948,\n",
              "           6665, 14988,  6516, 11966,  2836, 14671,  8731,  3093, 19817, 19817,\n",
              "          19817, 19817, 19817, 19817, 19817, 19817, 19817, 19817, 19817, 19817,\n",
              "          19817, 19817, 19817, 19817, 19817, 19817],\n",
              "         [ 9648,  3489, 10055, 15433, 18735,  7459, 13978,  8496, 14694, 17240,\n",
              "           8000,  4778, 11951,  8616, 10686, 15163,  8731, 19817, 19817, 19817,\n",
              "          19817, 19817, 19817, 19817, 19817, 19817, 19817, 19817, 19817, 19817,\n",
              "          19817, 19817, 19817, 19817, 19817, 19817],\n",
              "         [13035, 11417,  2126,  2575,  2750, 19144,  6120,  6634,  4164, 11417,\n",
              "           4263, 15520, 11417,  4263,  7294,  8790, 19817, 19817, 19817, 19817,\n",
              "          19817, 19817, 19817, 19817, 19817, 19817, 19817, 19817, 19817, 19817,\n",
              "          19817, 19817, 19817, 19817, 19817, 19817],\n",
              "         [16232,  9254, 10686, 13541,  5888,  8468,  2836,  4263, 17752,  1643,\n",
              "          11313, 13125, 18051, 14355, 14780, 15624,  8685,   646, 17982,  7155,\n",
              "          17500, 12556,  2195,  9050, 19730, 18421,  6324, 11417,  4263,  8063,\n",
              "          16676, 18251, 10686,  4263,  1593,  8731]], device='cuda:0'),\n",
              " tensor([[12,  4, 12,  4, 10, 17, 16, 12, 12, 12,  4, 12,  4,  6, 17,  5,  6, 17,\n",
              "           5,  6, 17,  5, 12,  4,  5,  6, 10, 17,  4, 18, 18, 18, 18, 18, 18, 18],\n",
              "         [ 4,  6, 17,  5,  6, 10, 17,  8,  8, 16, 14, 17,  5, 17, 15, 16,  4,  4,\n",
              "          18, 18, 18, 18, 18, 18, 18, 18, 18, 18, 18, 18, 18, 18, 18, 18, 18, 18],\n",
              "         [12,  4, 10, 17, 16, 13, 14,  8, 16,  5,  1, 10, 17, 16,  5, 12,  4, 18,\n",
              "          18, 18, 18, 18, 18, 18, 18, 18, 18, 18, 18, 18, 18, 18, 18, 18, 18, 18],\n",
              "         [ 1,  5, 14,  8,  8, 16,  5,  1, 17,  5,  6, 12,  5,  6, 12,  4, 18, 18,\n",
              "          18, 18, 18, 18, 18, 18, 18, 18, 18, 18, 18, 18, 18, 18, 18, 18, 18, 18],\n",
              "         [ 6, 12,  5, 12,  8, 10,  5,  6, 12, 12,  4,  3, 14,  8, 16, 13, 16, 12,\n",
              "          12, 12,  3, 16,  5,  6, 10, 17, 17,  5,  6, 12, 17,  3,  5,  6, 17,  4]],\n",
              "        device='cuda:0'))"
            ]
          },
          "metadata": {
            "tags": []
          },
          "execution_count": 132
        }
      ]
    },
    {
      "cell_type": "markdown",
      "metadata": {
        "id": "1ki3i_a2SYFy"
      },
      "source": [
        "# Model Results for Training and Test Sets English"
      ]
    },
    {
      "cell_type": "code",
      "metadata": {
        "id": "uDxnfQA4yxKX",
        "colab": {
          "base_uri": "https://localhost:8080/"
        },
        "outputId": "ab961782-d98f-4354-bd88-6dbdc0677a68"
      },
      "source": [
        "#Create Model\n",
        "class LSTMTagger(nn.Module):\n",
        "  def __init__(self, X_train, Y_train, embedding_dim, hidden_dim, vocabulary_size, tagset_size, bidirectional = True):\n",
        "    \n",
        "    super(LSTMTagger,self).__init__()\n",
        "\n",
        "    self.hidden_dim = hidden_dim\n",
        "    self.word_embeddings = nn.Embedding(vocabulary_size, embedding_dim)\n",
        "    self.vocabulary_size = len(token2idx) \n",
        "    self.tagset_size= len(tag2idx)\n",
        "    \n",
        "\n",
        "#LSTm takes word embeddings as input and outputs hidden states with dimensionality hidden_dim\n",
        "    self.lstm = nn.LSTM(input_size=embedding_dim,                         # The LSTM takes an embedded sentence as input, and outputs \n",
        "                         hidden_size=hidden_dim,                           # vectors with dimensionality lstm_hidden_dim.\n",
        "                         batch_first=True, bidirectional=True)\n",
        "    #self.lstm =nn.LSTM(embedding_dim, input_size=embedding_dim,hidden_size=hidden_dim, batch_first=True))\n",
        "    #self.hidden2tag = nn.Linear(hidden_dim,tagset_size)\n",
        "    self.fc = nn.Linear (hidden_dim*2, tagset_size)         #adding one more hidden layer for the bidirectional LSTM option\n",
        "    self.training_loss = list()                                                \n",
        "    self.training_accuracy = list()                         # The linear layer maps from the RNN output space to tag space\n",
        "    self.softmax = nn.LogSoftmax(dim=1)\n",
        "    if torch.cuda.is_available():                                               # Move the model to the GPU (if we have one)\n",
        "      self.cuda()\n",
        "  def forward(self, padded_sentences):\n",
        "    \"\"\"The forward pass through the network\"\"\"\n",
        "    batch_size, max_sentence_length = padded_sentences.size()\n",
        "    embedded_sentences = self.word_embeddings(padded_sentences)                 # Sentences encoded as integers are mapped to vectors    \n",
        "    sentence_lengths = (padded_sentences!=token2idx['<PAD>']).sum(dim=1)        # Find the length of sentences\n",
        "    sentence_lengths = sentence_lengths.long().cpu()                            # Ensure the correct format\n",
        "    X = nn.utils.rnn.pack_padded_sequence(embedded_sentences, sentence_lengths, # Pack the embedded data\n",
        "                                          batch_first=True, enforce_sorted=False)\n",
        "    lstm_out, _ = self.lstm(X)                                                # Run the LSTM layer\n",
        "    X, _ = nn.utils.rnn.pad_packed_sequence(lstm_out, batch_first=True,total_length=max_sentence_length)         # Unpack the output from the LSTM\n",
        "    X = X.contiguous().view(-1, X.shape[2])   \n",
        "    tag_space = self.fc(X)                                                  # Fully connected layer\n",
        "    tag_scores = self.softmax(tag_space)      \n",
        "                              \n",
        "    return tag_scores.view(batch_size, max_sentence_length, self.tagset_size)\n",
        "\n",
        "  def fit(self,X_train,y_train):\n",
        "      loss_function = nn.NLLLoss(ignore_index=tag2idx['<PAD>'])\n",
        "      optimizer = torch.optim.Adam(self.parameters(), lr=0.01)\n",
        "      batch_size = 16 \n",
        "      for epoch in range(5):                                                          # Times to loop over the full dataset\n",
        "        with tqdm(batch_iterator(X_english_train, y_english_train, batch_size=16), \n",
        "                  total=len(X_train)//batch_size+1, unit=\"batch\", desc=\"Epoch %i\" % epoch) as batches:  \n",
        "          for inputs, targets in batches:\n",
        "            #print(targets.shape)\n",
        "            self.zero_grad()                                                 # Reset gradients\n",
        "            scores = self.forward(inputs) \n",
        "            #print(scores)                                                   # Forward pass\n",
        "            loss = loss_function(scores.view(-1, self.tagset_size),                 # Get loss, the data is reshaped as a long line of predictions and targets\n",
        "                                  targets.view(-1))               \n",
        "            loss.backward() \n",
        "                                                              # Backpropagate the error\n",
        "            optimizer.step()                                                          # Run the optimizer to change the weights w.r.t the loss\n",
        "            predictions = scores.argmax(dim=2, keepdim=True).squeeze()                # Calculate the batch training accuracy\n",
        "            mask = targets!=tag2idx['<PAD>']                                          # Create a mask for ignoring <PAD> in the targets\n",
        "            correct = (predictions[mask] == targets[mask]).sum().item()               # Item pulls the value from the GPU automatically (if needed)\n",
        "            accuracy = correct / mask.sum().item()*100\n",
        "            self.training_accuracy.append(accuracy)                                 # Save the accuracy for plotting\n",
        "            self.training_loss.append(loss.item())                                  # Save the loss for plotting\n",
        "            batches.set_postfix(loss=loss.item(), accuracy=accuracy) \n",
        "model = LSTMTagger(X_english_train,y_english_train,embedding_dim=32,                                       # Dimensionality of the work embedding\n",
        "                    hidden_dim=64,bidirectional = True,                                         # Dimensionality of the hidden state in the LSTM\n",
        "                    vocabulary_size=len(token2idx),                              # The vocabulary incudes both the 'padding' and 'unknown' symbols\n",
        "                    tagset_size=len(tag2idx))                                  # We have no interest in the network outputting the padding symbol\n",
        "print(model)\n",
        "model.fit(X_english_train,y_english_train)"
      ],
      "execution_count": null,
      "outputs": [
        {
          "output_type": "stream",
          "text": [
            "Epoch 0:   1%|          | 7/713 [00:00<00:10, 67.35batch/s, accuracy=40.2, loss=1.89]"
          ],
          "name": "stderr"
        },
        {
          "output_type": "stream",
          "text": [
            "LSTMTagger(\n",
            "  (word_embeddings): Embedding(19818, 32)\n",
            "  (lstm): LSTM(32, 64, batch_first=True, bidirectional=True)\n",
            "  (fc): Linear(in_features=128, out_features=19, bias=True)\n",
            "  (softmax): LogSoftmax(dim=1)\n",
            ")\n"
          ],
          "name": "stdout"
        },
        {
          "output_type": "stream",
          "text": [
            "Epoch 0: 100%|██████████| 713/713 [00:09<00:00, 78.29batch/s, accuracy=95.1, loss=0.197]\n",
            "Epoch 1: 100%|██████████| 713/713 [00:09<00:00, 78.93batch/s, accuracy=95.5, loss=0.149]\n",
            "Epoch 2: 100%|██████████| 713/713 [00:09<00:00, 78.45batch/s, accuracy=97.3, loss=0.11]\n",
            "Epoch 3: 100%|██████████| 713/713 [00:09<00:00, 78.63batch/s, accuracy=98.2, loss=0.0512]\n",
            "Epoch 4: 100%|██████████| 713/713 [00:09<00:00, 79.02batch/s, accuracy=98.2, loss=0.0685]\n"
          ],
          "name": "stderr"
        }
      ]
    },
    {
      "cell_type": "markdown",
      "metadata": {
        "id": "beSxHEIeSvnS"
      },
      "source": [
        "# Test data Accuracy for English"
      ]
    },
    {
      "cell_type": "code",
      "metadata": {
        "id": "zttp55mlob5G",
        "colab": {
          "base_uri": "https://localhost:8080/"
        },
        "outputId": "456166c8-0e6c-4e20-fd9b-e2e5813eb342"
      },
      "source": [
        "with torch.no_grad():                                                           # Do not use the following forward passes to calculate a gradient\n",
        "  n_correct = 0\n",
        "  batch_size = 16\n",
        "  n_total = 0\n",
        "  for inputs, targets in batch_iterator(X_english_test, y_english_test, batch_size=batch_size): # Loop once over the test data\n",
        "    scores = model(inputs)                                                      # Runs the test data through the model\n",
        "    predictions = scores.argmax(dim=2, keepdim=True).squeeze()                  # Finds the predictions\n",
        "    mask = targets!=tag2idx['<PAD>']                                            # Create a mask for ignoring <PAD> in the targets\n",
        "    n_correct += (predictions[mask] == targets[mask]).sum().item()              # Sums the number of correct predictions\n",
        "    n_total += mask.sum().item()\n",
        "print(\"Test accuracy %.1f%%\" % (100*n_correct/n_total))"
      ],
      "execution_count": null,
      "outputs": [
        {
          "output_type": "stream",
          "text": [
            "Test accuracy 89.3%\n"
          ],
          "name": "stdout"
        }
      ]
    },
    {
      "cell_type": "markdown",
      "metadata": {
        "id": "kVdHqXbxR9_f"
      },
      "source": [
        "# Data Encoding and Padding for German "
      ]
    },
    {
      "cell_type": "code",
      "metadata": {
        "id": "4ROu_Nj60Sgh",
        "colab": {
          "base_uri": "https://localhost:8080/"
        },
        "outputId": "c6e4b0f3-49e8-401a-f696-28f6f178e2b4"
      },
      "source": [
        "tokens = {token for sentence in X_german_train for token in sentence}\n",
        "idx2token = list(tokens)\n",
        "idx2token.insert(0, '<UNK>')\n",
        "idx2token.append('<PAD>')\n",
        "token2idx = {token:idx for idx, token in enumerate(idx2token)}\n",
        "\n",
        "tags = {tag for tags in y_german_train for tag in tags}\n",
        "idx2tag = list(tags)\n",
        "idx2tag.append('<PAD>')\n",
        "tag2idx = {tag:idx for idx, tag in enumerate(idx2tag)}\n",
        "\n",
        "print(idx2token[:15])\n",
        "print(idx2tag)\n"
      ],
      "execution_count": null,
      "outputs": [
        {
          "output_type": "stream",
          "text": [
            "['<UNK>', 'Mannschaftsfahren', 'heraus', '1993', 'Nachwuchsmangel', 'Binnenkolonisation', 'Karatschew', 'Teleroboter', 'davonkommen', 'Regierungsvertreter', 'Signal', 'vorgelagerte', 'abgelegensten', 'Verpuppung', 'Schuhmodell']\n",
            "['NUM', 'ADV', 'PART', 'PUNCT', 'ADP', 'DET', 'SYM', 'AUX', 'X', 'ADJ', 'PROPN', 'SCONJ', 'CCONJ', 'PRON', None, 'VERB', 'NOUN', '<PAD>']\n"
          ],
          "name": "stdout"
        }
      ]
    },
    {
      "cell_type": "code",
      "metadata": {
        "id": "7vLfUBmz0S7O",
        "colab": {
          "base_uri": "https://localhost:8080/"
        },
        "outputId": "1b797b7a-06c6-4e59-d79a-db7f6549c1e6"
      },
      "source": [
        "def pad_and_encode(sentences, labels):\n",
        "  assert len(sentences)==len(labels)\n",
        "  assert np.all([len(sentence)==len(tags) for sentence, tags in zip(sentences, labels)])\n",
        "  max_sentence_length = np.max([len(sentence) for sentence in sentences]) # Find out how much to pad\n",
        "  padded_sentences = torch.zeros(len(sentences), max_sentence_length,     # Create data structures with <PAD> as default\n",
        "                                 dtype=torch.long)\n",
        "  padded_sentences[:] = token2idx['<PAD>']\n",
        "  padded_labels = torch.zeros(len(sentences), max_sentence_length, \n",
        "                              dtype=torch.long)\n",
        "  padded_labels[:] = tag2idx['<PAD>']\n",
        "  for i, (sentence, tags) in enumerate(zip(sentences, labels)):               # Loop over the data\n",
        "    for j, token in enumerate(sentence):\n",
        "      if token in token2idx.keys():\n",
        "        padded_sentences[i, j] = token2idx[token]\n",
        "      else:\n",
        "        padded_sentences[i, j] = token2idx['<UNK>']\n",
        "    for j, tag in enumerate(tags):\n",
        "      padded_labels[i, j] = tag2idx[tag]\n",
        "  return padded_sentences, padded_labels\n",
        "\n",
        "a, b = pad_and_encode(X_german_train[:5], y_german_train[:5])\n",
        "print(a)\n",
        "print(b)"
      ],
      "execution_count": null,
      "outputs": [
        {
          "output_type": "stream",
          "text": [
            "tensor([[29317, 16867, 13175, 28347, 28852, 36008,  8163,  5647, 28347, 32810,\n",
            "         20632, 12978, 17400, 14183, 15813, 21689, 49511, 49511, 49511, 49511,\n",
            "         49511, 49511, 49511, 49511, 49511, 49511, 49511, 49511, 49511, 49511,\n",
            "         49511],\n",
            "        [29464, 35754, 47506, 18065,   842, 49422, 26703, 23266,  4671, 21689,\n",
            "         49511, 49511, 49511, 49511, 49511, 49511, 49511, 49511, 49511, 49511,\n",
            "         49511, 49511, 49511, 49511, 49511, 49511, 49511, 49511, 49511, 49511,\n",
            "         49511],\n",
            "        [42235, 46126, 28347,  4886, 34973, 49511, 49511, 49511, 49511, 49511,\n",
            "         49511, 49511, 49511, 49511, 49511, 49511, 49511, 49511, 49511, 49511,\n",
            "         49511, 49511, 49511, 49511, 49511, 49511, 49511, 49511, 49511, 49511,\n",
            "         49511],\n",
            "        [ 9567, 16536, 14062, 39112, 39026, 49119, 17224,  8163, 18024, 45969,\n",
            "          5628, 47919,  5628, 26703,  8163,   746,  5628,  3810, 19682,  5628,\n",
            "         49422, 26703, 23266, 44656, 20227,  5723, 14420, 24658, 36333, 37633,\n",
            "         21840],\n",
            "        [33352, 46769,  8163, 32609, 28347, 29355, 38328,   743, 29355, 10944,\n",
            "         13513, 32021, 47506, 10762, 24319,  7522, 27657,  5723, 24949, 21689,\n",
            "         49511, 49511, 49511, 49511, 49511, 49511, 49511, 49511, 49511, 49511,\n",
            "         49511]])\n",
            "tensor([[ 1,  9, 16,  3,  9, 16,  5, 16,  3,  1, 15, 13, 13, 16,  4,  3, 17, 17,\n",
            "         17, 17, 17, 17, 17, 17, 17, 17, 17, 17, 17, 17, 17],\n",
            "        [ 5, 16, 15,  1,  1, 14,  4,  5, 16,  3, 17, 17, 17, 17, 17, 17, 17, 17,\n",
            "         17, 17, 17, 17, 17, 17, 17, 17, 17, 17, 17, 17, 17],\n",
            "        [ 9, 16,  3,  9, 16, 17, 17, 17, 17, 17, 17, 17, 17, 17, 17, 17, 17, 17,\n",
            "         17, 17, 17, 17, 17, 17, 17, 17, 17, 17, 17, 17, 17],\n",
            "        [13, 15,  4,  9, 16, 14,  4,  5, 16,  9,  3, 16,  3,  4,  5, 16,  3, 10,\n",
            "         10,  3, 14,  4,  5, 10, 10, 12,  7,  1, 16, 15,  3],\n",
            "        [12,  4,  5, 16,  3,  5, 16, 12,  5,  1,  9, 16,  7, 13, 16,  1,  9, 12,\n",
            "          9,  3, 17, 17, 17, 17, 17, 17, 17, 17, 17, 17, 17]])\n"
          ],
          "name": "stdout"
        }
      ]
    },
    {
      "cell_type": "code",
      "metadata": {
        "id": "3oeFMqZy0Tfw",
        "colab": {
          "base_uri": "https://localhost:8080/"
        },
        "outputId": "fce7acdb-6997-45a9-9710-324372044e42"
      },
      "source": [
        "def batch_iterator(sentences, labels, batch_size=64):\n",
        "  \"\"\"Helper function for iterating over batches of the data\"\"\"\n",
        "  assert len(sentences) == len(labels)\n",
        "  for i in range(0, len(sentences), batch_size):\n",
        "    X, y = pad_and_encode(sentences[i:min(i+batch_size, len(sentences))], \n",
        "                          labels[i:min(i+batch_size, len(sentences))])\n",
        "    if torch.cuda.is_available():                                               # Move data to the GPU, if possible, before yielding it\n",
        "      yield (X.cuda(), y.cuda())\n",
        "    else:\n",
        "      yield (X, y)\n",
        "\n",
        "next(batch_iterator(X_german_train, y_german_train, batch_size=5))"
      ],
      "execution_count": null,
      "outputs": [
        {
          "output_type": "execute_result",
          "data": {
            "text/plain": [
              "(tensor([[29317, 16867, 13175, 28347, 28852, 36008,  8163,  5647, 28347, 32810,\n",
              "          20632, 12978, 17400, 14183, 15813, 21689, 49511, 49511, 49511, 49511,\n",
              "          49511, 49511, 49511, 49511, 49511, 49511, 49511, 49511, 49511, 49511,\n",
              "          49511],\n",
              "         [29464, 35754, 47506, 18065,   842, 49422, 26703, 23266,  4671, 21689,\n",
              "          49511, 49511, 49511, 49511, 49511, 49511, 49511, 49511, 49511, 49511,\n",
              "          49511, 49511, 49511, 49511, 49511, 49511, 49511, 49511, 49511, 49511,\n",
              "          49511],\n",
              "         [42235, 46126, 28347,  4886, 34973, 49511, 49511, 49511, 49511, 49511,\n",
              "          49511, 49511, 49511, 49511, 49511, 49511, 49511, 49511, 49511, 49511,\n",
              "          49511, 49511, 49511, 49511, 49511, 49511, 49511, 49511, 49511, 49511,\n",
              "          49511],\n",
              "         [ 9567, 16536, 14062, 39112, 39026, 49119, 17224,  8163, 18024, 45969,\n",
              "           5628, 47919,  5628, 26703,  8163,   746,  5628,  3810, 19682,  5628,\n",
              "          49422, 26703, 23266, 44656, 20227,  5723, 14420, 24658, 36333, 37633,\n",
              "          21840],\n",
              "         [33352, 46769,  8163, 32609, 28347, 29355, 38328,   743, 29355, 10944,\n",
              "          13513, 32021, 47506, 10762, 24319,  7522, 27657,  5723, 24949, 21689,\n",
              "          49511, 49511, 49511, 49511, 49511, 49511, 49511, 49511, 49511, 49511,\n",
              "          49511]], device='cuda:0'),\n",
              " tensor([[ 1,  9, 16,  3,  9, 16,  5, 16,  3,  1, 15, 13, 13, 16,  4,  3, 17, 17,\n",
              "          17, 17, 17, 17, 17, 17, 17, 17, 17, 17, 17, 17, 17],\n",
              "         [ 5, 16, 15,  1,  1, 14,  4,  5, 16,  3, 17, 17, 17, 17, 17, 17, 17, 17,\n",
              "          17, 17, 17, 17, 17, 17, 17, 17, 17, 17, 17, 17, 17],\n",
              "         [ 9, 16,  3,  9, 16, 17, 17, 17, 17, 17, 17, 17, 17, 17, 17, 17, 17, 17,\n",
              "          17, 17, 17, 17, 17, 17, 17, 17, 17, 17, 17, 17, 17],\n",
              "         [13, 15,  4,  9, 16, 14,  4,  5, 16,  9,  3, 16,  3,  4,  5, 16,  3, 10,\n",
              "          10,  3, 14,  4,  5, 10, 10, 12,  7,  1, 16, 15,  3],\n",
              "         [12,  4,  5, 16,  3,  5, 16, 12,  5,  1,  9, 16,  7, 13, 16,  1,  9, 12,\n",
              "           9,  3, 17, 17, 17, 17, 17, 17, 17, 17, 17, 17, 17]], device='cuda:0'))"
            ]
          },
          "metadata": {
            "tags": []
          },
          "execution_count": 145
        }
      ]
    },
    {
      "cell_type": "markdown",
      "metadata": {
        "id": "eGRKT0CMSaHI"
      },
      "source": [
        "# Model Results for Training and Test Sets German"
      ]
    },
    {
      "cell_type": "code",
      "metadata": {
        "id": "aBgD04Bnyuvb",
        "colab": {
          "base_uri": "https://localhost:8080/"
        },
        "outputId": "1d7b1aa6-33b0-4fad-b023-6a449a3e94a4"
      },
      "source": [
        "#Create Model\n",
        "class LSTMTagger(nn.Module):\n",
        "  def __init__(self, X_train, Y_train, embedding_dim, hidden_dim, vocabulary_size, tagset_size, bidirectional = True):\n",
        "    \n",
        "    super(LSTMTagger,self).__init__()\n",
        "\n",
        "    self.hidden_dim = hidden_dim\n",
        "    self.word_embeddings = nn.Embedding(vocabulary_size, embedding_dim)\n",
        "    self.vocabulary_size = len(token2idx) \n",
        "    self.tagset_size= len(tag2idx)\n",
        "    \n",
        "\n",
        "#LSTm takes word embeddings as input and outputs hidden states with dimensionality hidden_dim\n",
        "    self.lstm = nn.LSTM(input_size=embedding_dim,                         # The LSTM takes an embedded sentence as input, and outputs \n",
        "                         hidden_size=hidden_dim,                           # vectors with dimensionality lstm_hidden_dim.\n",
        "                         batch_first=True, bidirectional=True)\n",
        "    #self.lstm =nn.LSTM(embedding_dim, input_size=embedding_dim,hidden_size=hidden_dim, batch_first=True))\n",
        "    #self.hidden2tag = nn.Linear(hidden_dim,tagset_size)\n",
        "    self.fc = nn.Linear (hidden_dim*2, tagset_size)         #adding one more hidden layer for the bidirectional LSTM option\n",
        "    self.training_loss = list()                                                \n",
        "    self.training_accuracy = list()                         # The linear layer maps from the RNN output space to tag space\n",
        "    self.softmax = nn.LogSoftmax(dim=1)\n",
        "    if torch.cuda.is_available():                                               # Move the model to the GPU (if we have one)\n",
        "      self.cuda()\n",
        "  def forward(self, padded_sentences):\n",
        "    \"\"\"The forward pass through the network\"\"\"\n",
        "    batch_size, max_sentence_length = padded_sentences.size()\n",
        "    embedded_sentences = self.word_embeddings(padded_sentences)                 # Sentences encoded as integers are mapped to vectors    \n",
        "    sentence_lengths = (padded_sentences!=token2idx['<PAD>']).sum(dim=1)        # Find the length of sentences\n",
        "    sentence_lengths = sentence_lengths.long().cpu()                            # Ensure the correct format\n",
        "    X = nn.utils.rnn.pack_padded_sequence(embedded_sentences, sentence_lengths, # Pack the embedded data\n",
        "                                          batch_first=True, enforce_sorted=False)\n",
        "    lstm_out, _ = self.lstm(X)                                                # Run the LSTM layer\n",
        "    X, _ = nn.utils.rnn.pad_packed_sequence(lstm_out, batch_first=True,total_length=max_sentence_length)         # Unpack the output from the LSTM\n",
        "    X = X.contiguous().view(-1, X.shape[2])   \n",
        "    tag_space = self.fc(X)                                                  # Fully connected layer\n",
        "    tag_scores = self.softmax(tag_space)      \n",
        "                              \n",
        "    return tag_scores.view(batch_size, max_sentence_length, self.tagset_size)\n",
        "\n",
        "  def fit(self,X_train,y_train):\n",
        "      loss_function = nn.NLLLoss(ignore_index=tag2idx['<PAD>'])\n",
        "      optimizer = torch.optim.Adam(self.parameters(), lr=0.01)\n",
        "      batch_size = 100 \n",
        "      for epoch in range(5):                                                          # Times to loop over the full dataset\n",
        "        with tqdm(batch_iterator(X_german_train, y_german_train, batch_size=16), \n",
        "                  total=len(X_train)//batch_size+1, unit=\"batch\", desc=\"Epoch %i\" % epoch) as batches:  \n",
        "          for inputs, targets in batches:\n",
        "            #print(targets.shape)\n",
        "            self.zero_grad()                                                 # Reset gradients\n",
        "            scores = self.forward(inputs) \n",
        "            #print(scores)                                                   # Forward pass\n",
        "            loss = loss_function(scores.view(-1, self.tagset_size),                 # Get loss, the data is reshaped as a long line of predictions and targets\n",
        "                                  targets.view(-1))               \n",
        "            loss.backward() \n",
        "                                                              # Backpropagate the error\n",
        "            optimizer.step()                                                          # Run the optimizer to change the weights w.r.t the loss\n",
        "            predictions = scores.argmax(dim=2, keepdim=True).squeeze()                # Calculate the batch training accuracy\n",
        "            mask = targets!=tag2idx['<PAD>']                                          # Create a mask for ignoring <PAD> in the targets\n",
        "            correct = (predictions[mask] == targets[mask]).sum().item()               # Item pulls the value from the GPU automatically (if needed)\n",
        "            accuracy = correct / mask.sum().item()*100\n",
        "            self.training_accuracy.append(accuracy)                                 # Save the accuracy for plotting\n",
        "            self.training_loss.append(loss.item())                                  # Save the loss for plotting\n",
        "            batches.set_postfix(loss=loss.item(), accuracy=accuracy) \n",
        "model = LSTMTagger(X_german_train,y_german_train,embedding_dim=32,                                       # Dimensionality of the work embedding\n",
        "                    hidden_dim=64,bidirectional = True,                                         # Dimensionality of the hidden state in the LSTM\n",
        "                    vocabulary_size=len(token2idx),                              # The vocabulary incudes both the 'padding' and 'unknown' symbols\n",
        "                    tagset_size=len(tag2idx))                                  # We have no interest in the network outputting the padding symbol\n",
        "print(model)\n",
        "model.fit(X_german_train,y_german_train)"
      ],
      "execution_count": null,
      "outputs": [
        {
          "output_type": "stream",
          "text": [
            "Epoch 0:   6%|▌         | 8/139 [00:00<00:01, 79.52batch/s, accuracy=42.8, loss=1.77]"
          ],
          "name": "stderr"
        },
        {
          "output_type": "stream",
          "text": [
            "LSTMTagger(\n",
            "  (word_embeddings): Embedding(49512, 32)\n",
            "  (lstm): LSTM(32, 64, batch_first=True, bidirectional=True)\n",
            "  (fc): Linear(in_features=128, out_features=18, bias=True)\n",
            "  (softmax): LogSoftmax(dim=1)\n",
            ")\n"
          ],
          "name": "stdout"
        },
        {
          "output_type": "stream",
          "text": [
            "Epoch 0: 863batch [00:11, 75.74batch/s, accuracy=90.6, loss=0.284]\n",
            "Epoch 1: 863batch [00:11, 76.36batch/s, accuracy=97.1, loss=0.108]\n",
            "Epoch 2: 863batch [00:11, 76.70batch/s, accuracy=97.6, loss=0.0677]\n",
            "Epoch 3: 863batch [00:11, 75.49batch/s, accuracy=97.6, loss=0.055]\n",
            "Epoch 4: 863batch [00:11, 75.87batch/s, accuracy=98.8, loss=0.0357]\n"
          ],
          "name": "stderr"
        }
      ]
    },
    {
      "cell_type": "markdown",
      "metadata": {
        "id": "K2KVizu4Sxnz"
      },
      "source": [
        "# Test data Accuracy for German"
      ]
    },
    {
      "cell_type": "code",
      "metadata": {
        "id": "4hlSeTAQ9amX",
        "colab": {
          "base_uri": "https://localhost:8080/",
          "height": 392
        },
        "outputId": "1fe0d500-ad71-4f89-88c7-9fbff749828e"
      },
      "source": [
        "with torch.no_grad():                                                           # Do not use the following forward passes to calculate a gradient\n",
        "  n_correct = 0\n",
        "  batch_size = 16 \n",
        "  n_total = 0\n",
        "  for inputs, targets in batch_iterator(X_german_test, y_german_test, batch_size=batch_size): # Loop once over the test data\n",
        "    scores = model(inputs)                                                      # Runs the test data through the model\n",
        "    predictions = scores.argmax(dim=2, keepdim=True).squeeze()                  # Finds the predictions\n",
        "    mask = targets!=tag2idx['<PAD>']                                            # Create a mask for ignoring <PAD> in the targets\n",
        "    n_correct += (predictions[mask] == targets[mask]).sum().item()              # Sums the number of correct predictions\n",
        "    n_total += mask.sum().item()\n",
        "print(\"Test accuracy %.1f%%\" % (100*n_correct/n_total))"
      ],
      "execution_count": null,
      "outputs": [
        {
          "output_type": "error",
          "ename": "KeyError",
          "evalue": "ignored",
          "traceback": [
            "\u001b[0;31m---------------------------------------------------------------------------\u001b[0m",
            "\u001b[0;31mKeyError\u001b[0m                                  Traceback (most recent call last)",
            "\u001b[0;32m<ipython-input-149-7c498e403472>\u001b[0m in \u001b[0;36m<module>\u001b[0;34m()\u001b[0m\n\u001b[1;32m      3\u001b[0m   \u001b[0mbatch_size\u001b[0m \u001b[0;34m=\u001b[0m \u001b[0;36m16\u001b[0m\u001b[0;34m\u001b[0m\u001b[0;34m\u001b[0m\u001b[0m\n\u001b[1;32m      4\u001b[0m   \u001b[0mn_total\u001b[0m \u001b[0;34m=\u001b[0m \u001b[0;36m0\u001b[0m\u001b[0;34m\u001b[0m\u001b[0;34m\u001b[0m\u001b[0m\n\u001b[0;32m----> 5\u001b[0;31m   \u001b[0;32mfor\u001b[0m \u001b[0minputs\u001b[0m\u001b[0;34m,\u001b[0m \u001b[0mtargets\u001b[0m \u001b[0;32min\u001b[0m \u001b[0mbatch_iterator\u001b[0m\u001b[0;34m(\u001b[0m\u001b[0mX_german_test\u001b[0m\u001b[0;34m,\u001b[0m \u001b[0my_german_test\u001b[0m\u001b[0;34m,\u001b[0m \u001b[0mbatch_size\u001b[0m\u001b[0;34m=\u001b[0m\u001b[0mbatch_size\u001b[0m\u001b[0;34m)\u001b[0m\u001b[0;34m:\u001b[0m \u001b[0;31m# Loop once over the test data\u001b[0m\u001b[0;34m\u001b[0m\u001b[0;34m\u001b[0m\u001b[0m\n\u001b[0m\u001b[1;32m      6\u001b[0m     \u001b[0mscores\u001b[0m \u001b[0;34m=\u001b[0m \u001b[0mmodel\u001b[0m\u001b[0;34m(\u001b[0m\u001b[0minputs\u001b[0m\u001b[0;34m)\u001b[0m                                                      \u001b[0;31m# Runs the test data through the model\u001b[0m\u001b[0;34m\u001b[0m\u001b[0;34m\u001b[0m\u001b[0m\n\u001b[1;32m      7\u001b[0m     \u001b[0mpredictions\u001b[0m \u001b[0;34m=\u001b[0m \u001b[0mscores\u001b[0m\u001b[0;34m.\u001b[0m\u001b[0margmax\u001b[0m\u001b[0;34m(\u001b[0m\u001b[0mdim\u001b[0m\u001b[0;34m=\u001b[0m\u001b[0;36m2\u001b[0m\u001b[0;34m,\u001b[0m \u001b[0mkeepdim\u001b[0m\u001b[0;34m=\u001b[0m\u001b[0;32mTrue\u001b[0m\u001b[0;34m)\u001b[0m\u001b[0;34m.\u001b[0m\u001b[0msqueeze\u001b[0m\u001b[0;34m(\u001b[0m\u001b[0;34m)\u001b[0m                  \u001b[0;31m# Finds the predictions\u001b[0m\u001b[0;34m\u001b[0m\u001b[0;34m\u001b[0m\u001b[0m\n",
            "\u001b[0;32m<ipython-input-145-561036e6fba8>\u001b[0m in \u001b[0;36mbatch_iterator\u001b[0;34m(sentences, labels, batch_size)\u001b[0m\n\u001b[1;32m      4\u001b[0m   \u001b[0;32mfor\u001b[0m \u001b[0mi\u001b[0m \u001b[0;32min\u001b[0m \u001b[0mrange\u001b[0m\u001b[0;34m(\u001b[0m\u001b[0;36m0\u001b[0m\u001b[0;34m,\u001b[0m \u001b[0mlen\u001b[0m\u001b[0;34m(\u001b[0m\u001b[0msentences\u001b[0m\u001b[0;34m)\u001b[0m\u001b[0;34m,\u001b[0m \u001b[0mbatch_size\u001b[0m\u001b[0;34m)\u001b[0m\u001b[0;34m:\u001b[0m\u001b[0;34m\u001b[0m\u001b[0;34m\u001b[0m\u001b[0m\n\u001b[1;32m      5\u001b[0m     X, y = pad_and_encode(sentences[i:min(i+batch_size, len(sentences))], \n\u001b[0;32m----> 6\u001b[0;31m                           labels[i:min(i+batch_size, len(sentences))])\n\u001b[0m\u001b[1;32m      7\u001b[0m     \u001b[0;32mif\u001b[0m \u001b[0mtorch\u001b[0m\u001b[0;34m.\u001b[0m\u001b[0mcuda\u001b[0m\u001b[0;34m.\u001b[0m\u001b[0mis_available\u001b[0m\u001b[0;34m(\u001b[0m\u001b[0;34m)\u001b[0m\u001b[0;34m:\u001b[0m                                               \u001b[0;31m# Move data to the GPU, if possible, before yielding it\u001b[0m\u001b[0;34m\u001b[0m\u001b[0;34m\u001b[0m\u001b[0m\n\u001b[1;32m      8\u001b[0m       \u001b[0;32myield\u001b[0m \u001b[0;34m(\u001b[0m\u001b[0mX\u001b[0m\u001b[0;34m.\u001b[0m\u001b[0mcuda\u001b[0m\u001b[0;34m(\u001b[0m\u001b[0;34m)\u001b[0m\u001b[0;34m,\u001b[0m \u001b[0my\u001b[0m\u001b[0;34m.\u001b[0m\u001b[0mcuda\u001b[0m\u001b[0;34m(\u001b[0m\u001b[0;34m)\u001b[0m\u001b[0;34m)\u001b[0m\u001b[0;34m\u001b[0m\u001b[0;34m\u001b[0m\u001b[0m\n",
            "\u001b[0;32m<ipython-input-144-9b25f81e4c37>\u001b[0m in \u001b[0;36mpad_and_encode\u001b[0;34m(sentences, labels)\u001b[0m\n\u001b[1;32m     16\u001b[0m         \u001b[0mpadded_sentences\u001b[0m\u001b[0;34m[\u001b[0m\u001b[0mi\u001b[0m\u001b[0;34m,\u001b[0m \u001b[0mj\u001b[0m\u001b[0;34m]\u001b[0m \u001b[0;34m=\u001b[0m \u001b[0mtoken2idx\u001b[0m\u001b[0;34m[\u001b[0m\u001b[0;34m'<UNK>'\u001b[0m\u001b[0;34m]\u001b[0m\u001b[0;34m\u001b[0m\u001b[0;34m\u001b[0m\u001b[0m\n\u001b[1;32m     17\u001b[0m     \u001b[0;32mfor\u001b[0m \u001b[0mj\u001b[0m\u001b[0;34m,\u001b[0m \u001b[0mtag\u001b[0m \u001b[0;32min\u001b[0m \u001b[0menumerate\u001b[0m\u001b[0;34m(\u001b[0m\u001b[0mtags\u001b[0m\u001b[0;34m)\u001b[0m\u001b[0;34m:\u001b[0m\u001b[0;34m\u001b[0m\u001b[0;34m\u001b[0m\u001b[0m\n\u001b[0;32m---> 18\u001b[0;31m       \u001b[0mpadded_labels\u001b[0m\u001b[0;34m[\u001b[0m\u001b[0mi\u001b[0m\u001b[0;34m,\u001b[0m \u001b[0mj\u001b[0m\u001b[0;34m]\u001b[0m \u001b[0;34m=\u001b[0m \u001b[0mtag2idx\u001b[0m\u001b[0;34m[\u001b[0m\u001b[0mtag\u001b[0m\u001b[0;34m]\u001b[0m\u001b[0;34m\u001b[0m\u001b[0;34m\u001b[0m\u001b[0m\n\u001b[0m\u001b[1;32m     19\u001b[0m   \u001b[0;32mreturn\u001b[0m \u001b[0mpadded_sentences\u001b[0m\u001b[0;34m,\u001b[0m \u001b[0mpadded_labels\u001b[0m\u001b[0;34m\u001b[0m\u001b[0;34m\u001b[0m\u001b[0m\n\u001b[1;32m     20\u001b[0m \u001b[0;34m\u001b[0m\u001b[0m\n",
            "\u001b[0;31mKeyError\u001b[0m: 'INTJ'"
          ]
        }
      ]
    },
    {
      "cell_type": "markdown",
      "metadata": {
        "id": "QUQlsFoLSCCM"
      },
      "source": [
        "# Data Encoding and Padding for Finnish"
      ]
    },
    {
      "cell_type": "code",
      "metadata": {
        "id": "NSD9QYFM2DGI",
        "colab": {
          "base_uri": "https://localhost:8080/"
        },
        "outputId": "0f28137e-05a7-4d5f-e073-3ec5916eec11"
      },
      "source": [
        "tokens = {token for sentence in X_finnish_train for token in sentence}\n",
        "idx2token = list(tokens)\n",
        "idx2token.insert(0, '<UNK>')\n",
        "idx2token.append('<PAD>')\n",
        "token2idx = {token:idx for idx, token in enumerate(idx2token)}\n",
        "\n",
        "tags = {tag for tags in y_finnish_train for tag in tags}\n",
        "idx2tag = list(tags)\n",
        "idx2tag.append('<PAD>')\n",
        "tag2idx = {tag:idx for idx, tag in enumerate(idx2tag)}\n",
        "\n",
        "print(idx2token[:15])\n",
        "print(idx2tag)\n"
      ],
      "execution_count": null,
      "outputs": [
        {
          "output_type": "stream",
          "text": [
            "['<UNK>', 'ottaisimme', 'Augusto', 'maorien', '1993', 'vinkuu', 'helppoon', 'mystifioinut', 'lepoon', 'talouksissa', 'maailmanhistorian', 'assosiaationeuvostossa', 'teologina', 'epäoikeudenmukaisesti', 'Microsoft-pohjaisia']\n",
            "['INTJ', 'NUM', None, 'ADV', 'PUNCT', 'ADP', 'SYM', 'AUX', 'NOUN', 'X', 'PROPN', 'CCONJ', 'PRON', 'SCONJ', 'VERB', 'ADJ', '<PAD>']\n"
          ],
          "name": "stdout"
        }
      ]
    },
    {
      "cell_type": "code",
      "metadata": {
        "id": "PoeM5joO2Dfl",
        "colab": {
          "base_uri": "https://localhost:8080/"
        },
        "outputId": "e39966f9-bfe0-44c7-fb2b-68e662996593"
      },
      "source": [
        "def pad_and_encode(sentences, labels):\n",
        "  assert len(sentences)==len(labels)\n",
        "  assert np.all([len(sentence)==len(tags) for sentence, tags in zip(sentences, labels)])\n",
        "  max_sentence_length = np.max([len(sentence) for sentence in sentences]) # Find out how much to pad\n",
        "  padded_sentences = torch.zeros(len(sentences), max_sentence_length,     # Create data structures with <PAD> as default\n",
        "                                 dtype=torch.long)\n",
        "  padded_sentences[:] = token2idx['<PAD>']\n",
        "  padded_labels = torch.zeros(len(sentences), max_sentence_length, \n",
        "                              dtype=torch.long)\n",
        "  padded_labels[:] = tag2idx['<PAD>']\n",
        "  for i, (sentence, tags) in enumerate(zip(sentences, labels)):               # Loop over the data\n",
        "    for j, token in enumerate(sentence):\n",
        "      if token in token2idx.keys():\n",
        "        padded_sentences[i, j] = token2idx[token]\n",
        "      else:\n",
        "        padded_sentences[i, j] = token2idx['<UNK>']\n",
        "    for j, tag in enumerate(tags):\n",
        "      padded_labels[i, j] = tag2idx[tag]\n",
        "  return padded_sentences, padded_labels\n",
        "\n",
        "a, b = pad_and_encode(X_finnish_train[:5], y_finnish_train[:5])\n",
        "print(a)\n",
        "print(b)"
      ],
      "execution_count": null,
      "outputs": [
        {
          "output_type": "stream",
          "text": [
            "tensor([[ 8934,  4094, 18354, 45817, 46747, 43337, 18050, 18578, 22653, 21700,\n",
            "         49003, 49003, 49003, 49003, 49003],\n",
            "        [  944, 48855, 18806,  6334, 45877, 28140, 45502, 18571, 25453, 26013,\n",
            "         40763, 47470, 34318, 30026, 21700],\n",
            "        [ 4944,  5902, 31585,  6852, 39214, 21700, 49003, 49003, 49003, 49003,\n",
            "         49003, 49003, 49003, 49003, 49003],\n",
            "        [24332,  8478, 28140,  5243, 38251, 16368, 46864, 28140,  2533, 20644,\n",
            "         20292, 21700, 49003, 49003, 49003],\n",
            "        [ 8846, 26875, 22794, 16368,   730, 22528, 28140, 22409,  9118, 49003,\n",
            "         49003, 49003, 49003, 49003, 49003]])\n",
            "tensor([[ 8,  8, 14,  3, 15, 11, 15,  8,  8,  4, 16, 16, 16, 16, 16],\n",
            "        [ 3, 15,  8, 13,  3,  4, 13,  8, 14, 12,  3,  3,  8,  8,  4],\n",
            "        [ 3, 15,  8,  3, 14,  4, 16, 16, 16, 16, 16, 16, 16, 16, 16],\n",
            "        [13, 14,  4, 15, 10,  7,  8,  4, 12, 14,  3,  4, 16, 16, 16],\n",
            "        [13, 10,  8,  7,  3,  3,  4, 11,  4, 16, 16, 16, 16, 16, 16]])\n"
          ],
          "name": "stdout"
        }
      ]
    },
    {
      "cell_type": "code",
      "metadata": {
        "id": "YnjClrxh2Dxi",
        "colab": {
          "base_uri": "https://localhost:8080/"
        },
        "outputId": "bc7e1607-eef0-4e80-ff7f-8612171f8a52"
      },
      "source": [
        "def batch_iterator(sentences, labels, batch_size=64):\n",
        "  \"\"\"Helper function for iterating over batches of the data\"\"\"\n",
        "  assert len(sentences) == len(labels)\n",
        "  for i in range(0, len(sentences), batch_size):\n",
        "    X, y = pad_and_encode(sentences[i:min(i+batch_size, len(sentences))], \n",
        "                          labels[i:min(i+batch_size, len(sentences))])\n",
        "    if torch.cuda.is_available():                                               # Move data to the GPU, if possible, before yielding it\n",
        "      yield (X.cuda(), y.cuda())\n",
        "    else:\n",
        "      yield (X, y)\n",
        "\n",
        "next(batch_iterator(X_finnish_train, y_finnish_train, batch_size=5))"
      ],
      "execution_count": null,
      "outputs": [
        {
          "output_type": "execute_result",
          "data": {
            "text/plain": [
              "(tensor([[ 8934,  4094, 18354, 45817, 46747, 43337, 18050, 18578, 22653, 21700,\n",
              "          49003, 49003, 49003, 49003, 49003],\n",
              "         [  944, 48855, 18806,  6334, 45877, 28140, 45502, 18571, 25453, 26013,\n",
              "          40763, 47470, 34318, 30026, 21700],\n",
              "         [ 4944,  5902, 31585,  6852, 39214, 21700, 49003, 49003, 49003, 49003,\n",
              "          49003, 49003, 49003, 49003, 49003],\n",
              "         [24332,  8478, 28140,  5243, 38251, 16368, 46864, 28140,  2533, 20644,\n",
              "          20292, 21700, 49003, 49003, 49003],\n",
              "         [ 8846, 26875, 22794, 16368,   730, 22528, 28140, 22409,  9118, 49003,\n",
              "          49003, 49003, 49003, 49003, 49003]], device='cuda:0'),\n",
              " tensor([[ 8,  8, 14,  3, 15, 11, 15,  8,  8,  4, 16, 16, 16, 16, 16],\n",
              "         [ 3, 15,  8, 13,  3,  4, 13,  8, 14, 12,  3,  3,  8,  8,  4],\n",
              "         [ 3, 15,  8,  3, 14,  4, 16, 16, 16, 16, 16, 16, 16, 16, 16],\n",
              "         [13, 14,  4, 15, 10,  7,  8,  4, 12, 14,  3,  4, 16, 16, 16],\n",
              "         [13, 10,  8,  7,  3,  3,  4, 11,  4, 16, 16, 16, 16, 16, 16]],\n",
              "        device='cuda:0'))"
            ]
          },
          "metadata": {
            "tags": []
          },
          "execution_count": 157
        }
      ]
    },
    {
      "cell_type": "markdown",
      "metadata": {
        "id": "1HQlYNuoSczt"
      },
      "source": [
        "# Model Results for Training and Test Sets Finnish"
      ]
    },
    {
      "cell_type": "code",
      "metadata": {
        "id": "7FSr8m0UyrXO",
        "colab": {
          "base_uri": "https://localhost:8080/"
        },
        "outputId": "84769aef-37fd-41b3-b006-39c4a794c2d0"
      },
      "source": [
        "#Create Model\n",
        "class LSTMTagger(nn.Module):\n",
        "  def __init__(self, X_train, Y_train, embedding_dim, hidden_dim, vocabulary_size, tagset_size, bidirectional = True):\n",
        "    \n",
        "    super(LSTMTagger,self).__init__()\n",
        "\n",
        "    self.hidden_dim = hidden_dim\n",
        "    self.word_embeddings = nn.Embedding(vocabulary_size, embedding_dim)\n",
        "    self.vocabulary_size = len(token2idx) \n",
        "    self.tagset_size= len(tag2idx)\n",
        "    \n",
        "\n",
        "#LSTm takes word embeddings as input and outputs hidden states with dimensionality hidden_dim\n",
        "    self.lstm = nn.LSTM(input_size=embedding_dim,                         # The LSTM takes an embedded sentence as input, and outputs \n",
        "                         hidden_size=hidden_dim,                           # vectors with dimensionality lstm_hidden_dim.\n",
        "                         batch_first=True, bidirectional=True)\n",
        "    #self.lstm =nn.LSTM(embedding_dim, input_size=embedding_dim,hidden_size=hidden_dim, batch_first=True))\n",
        "    #self.hidden2tag = nn.Linear(hidden_dim,tagset_size)\n",
        "    self.fc = nn.Linear (hidden_dim*2, tagset_size)         #adding one more hidden layer for the bidirectional LSTM option\n",
        "    self.training_loss = list()                                                \n",
        "    self.training_accuracy = list()                         # The linear layer maps from the RNN output space to tag space\n",
        "    self.softmax = nn.LogSoftmax(dim=1)\n",
        "    if torch.cuda.is_available():                                               # Move the model to the GPU (if we have one)\n",
        "      self.cuda()\n",
        "  def forward(self, padded_sentences):\n",
        "    \"\"\"The forward pass through the network\"\"\"\n",
        "    batch_size, max_sentence_length = padded_sentences.size()\n",
        "    embedded_sentences = self.word_embeddings(padded_sentences)                 # Sentences encoded as integers are mapped to vectors    \n",
        "    sentence_lengths = (padded_sentences!=token2idx['<PAD>']).sum(dim=1)        # Find the length of sentences\n",
        "    sentence_lengths = sentence_lengths.long().cpu()                            # Ensure the correct format\n",
        "    X = nn.utils.rnn.pack_padded_sequence(embedded_sentences, sentence_lengths, # Pack the embedded data\n",
        "                                          batch_first=True, enforce_sorted=False)\n",
        "    lstm_out, _ = self.lstm(X)                                                # Run the LSTM layer\n",
        "    X, _ = nn.utils.rnn.pad_packed_sequence(lstm_out, batch_first=True,total_length=max_sentence_length)         # Unpack the output from the LSTM\n",
        "    X = X.contiguous().view(-1, X.shape[2])   \n",
        "    tag_space = self.fc(X)                                                  # Fully connected layer\n",
        "    tag_scores = self.softmax(tag_space)      \n",
        "                              \n",
        "    return tag_scores.view(batch_size, max_sentence_length, self.tagset_size)\n",
        "\n",
        "  def fit(self,X_train,y_train):\n",
        "      loss_function = nn.NLLLoss(ignore_index=tag2idx['<PAD>'])\n",
        "      optimizer = torch.optim.Adam(self.parameters(), lr=0.01)\n",
        "      batch_size = 64 \n",
        "      for epoch in range(5):                                                          # Times to loop over the full dataset\n",
        "        with tqdm(batch_iterator(X_finnish_train, y_finnish_train, batch_size=64), \n",
        "                  total=len(X_train)//batch_size+1, unit=\"batch\", desc=\"Epoch %i\" % epoch) as batches:  \n",
        "          for inputs, targets in batches:\n",
        "            #print(targets.shape)\n",
        "            self.zero_grad()                                                 # Reset gradients\n",
        "            scores = self.forward(inputs) \n",
        "            #print(scores)                                                   # Forward pass\n",
        "            loss = loss_function(scores.view(-1, self.tagset_size),                 # Get loss, the data is reshaped as a long line of predictions and targets\n",
        "                                  targets.view(-1))               \n",
        "            loss.backward() \n",
        "                                                              # Backpropagate the error\n",
        "            optimizer.step()                                                          # Run the optimizer to change the weights w.r.t the loss\n",
        "            predictions = scores.argmax(dim=2, keepdim=True).squeeze()                # Calculate the batch training accuracy\n",
        "            mask = targets!=tag2idx['<PAD>']                                          # Create a mask for ignoring <PAD> in the targets\n",
        "            correct = (predictions[mask] == targets[mask]).sum().item()               # Item pulls the value from the GPU automatically (if needed)\n",
        "            accuracy = correct / mask.sum().item()*100\n",
        "            self.training_accuracy.append(accuracy)                                 # Save the accuracy for plotting\n",
        "            self.training_loss.append(loss.item())                                  # Save the loss for plotting\n",
        "            batches.set_postfix(loss=loss.item(), accuracy=accuracy) \n",
        "model = LSTMTagger(X_finnish_train,y_finnish_train,embedding_dim=32,                                       # Dimensionality of the work embedding\n",
        "                    hidden_dim=100,bidirectional = True,                                         # Dimensionality of the hidden state in the LSTM\n",
        "                    vocabulary_size=len(token2idx),                              # The vocabulary incudes both the 'padding' and 'unknown' symbols\n",
        "                    tagset_size=len(tag2idx))                                  # We have no interest in the network outputting the padding symbol\n",
        "print(model)\n",
        "model.fit(X_finnish_train,y_finnish_train)"
      ],
      "execution_count": null,
      "outputs": [
        {
          "output_type": "stream",
          "text": [
            "Epoch 0:   3%|▎         | 6/186 [00:00<00:03, 54.52batch/s, accuracy=37.2, loss=2.01]"
          ],
          "name": "stderr"
        },
        {
          "output_type": "stream",
          "text": [
            "LSTMTagger(\n",
            "  (word_embeddings): Embedding(49004, 32)\n",
            "  (lstm): LSTM(32, 100, batch_first=True, bidirectional=True)\n",
            "  (fc): Linear(in_features=200, out_features=17, bias=True)\n",
            "  (softmax): LogSoftmax(dim=1)\n",
            ")\n"
          ],
          "name": "stdout"
        },
        {
          "output_type": "stream",
          "text": [
            "Epoch 0: 100%|██████████| 186/186 [00:03<00:00, 47.50batch/s, accuracy=71.4, loss=0.887]\n",
            "Epoch 1: 100%|██████████| 186/186 [00:03<00:00, 48.62batch/s, accuracy=84.8, loss=0.455]\n",
            "Epoch 2: 100%|██████████| 186/186 [00:03<00:00, 47.99batch/s, accuracy=95.4, loss=0.15]\n",
            "Epoch 3: 100%|██████████| 186/186 [00:03<00:00, 48.09batch/s, accuracy=98.7, loss=0.0462]\n",
            "Epoch 4: 100%|██████████| 186/186 [00:03<00:00, 49.62batch/s, accuracy=100, loss=0.0124]\n"
          ],
          "name": "stderr"
        }
      ]
    },
    {
      "cell_type": "markdown",
      "metadata": {
        "id": "XWzVtGLVS0I_"
      },
      "source": [
        "# Test data Accuracy for Finnish"
      ]
    },
    {
      "cell_type": "code",
      "metadata": {
        "id": "aij-hxGNof3K",
        "colab": {
          "base_uri": "https://localhost:8080/"
        },
        "outputId": "5245b496-2eec-4885-83bc-01c982bf06ef"
      },
      "source": [
        "with torch.no_grad():                                                           # Do not use the following forward passes to calculate a gradient\n",
        "  n_correct = 0\n",
        "  batch_size = 16 \n",
        "  n_total = 0\n",
        "  for inputs, targets in batch_iterator(X_finnish_test, y_finnish_test, batch_size=batch_size): # Loop once over the test data\n",
        "    scores = model(inputs)                                                      # Runs the test data through the model\n",
        "    predictions = scores.argmax(dim=2, keepdim=True).squeeze()                  # Finds the predictions\n",
        "    mask = targets!=tag2idx['<PAD>']                                            # Create a mask for ignoring <PAD> in the targets\n",
        "    n_correct += (predictions[mask] == targets[mask]).sum().item()              # Sums the number of correct predictions\n",
        "    n_total += mask.sum().item()\n",
        "print(\"Test accuracy %.1f%%\" % (100*n_correct/n_total))"
      ],
      "execution_count": null,
      "outputs": [
        {
          "output_type": "stream",
          "text": [
            "Test accuracy 85.6%\n"
          ],
          "name": "stdout"
        }
      ]
    },
    {
      "cell_type": "markdown",
      "metadata": {
        "id": "Zuot-2j6SLSi"
      },
      "source": [
        "# Data Encoding and Padding for Swedish"
      ]
    },
    {
      "cell_type": "code",
      "metadata": {
        "id": "wOy3QfIQ17-v",
        "colab": {
          "base_uri": "https://localhost:8080/"
        },
        "outputId": "032e77cb-7488-40dd-d1ba-37d842aafbee"
      },
      "source": [
        "tokens = {token for sentence in X_swedish_train for token in sentence}\n",
        "idx2token = list(tokens)\n",
        "idx2token.insert(0, '<UNK>')\n",
        "idx2token.append('<PAD>')\n",
        "token2idx = {token:idx for idx, token in enumerate(idx2token)}\n",
        "\n",
        "tags = {tag for tags in y_swedish_train for tag in tags}\n",
        "idx2tag = list(tags)\n",
        "idx2tag.append('<PAD>')\n",
        "tag2idx = {tag:idx for idx, tag in enumerate(idx2tag)}\n",
        "\n",
        "print(idx2token[:15])\n",
        "print(idx2tag)\n"
      ],
      "execution_count": null,
      "outputs": [
        {
          "output_type": "stream",
          "text": [
            "['<UNK>', 'dämpas', 'operationen', 'valmaskinleverantören', 'variera', 'trycks', 'Från', 'maktfullkomlig', 'Vardagstrafikanter', 'stadigare', 'preliminärskatt', 'namnetiketter', 'heter', 'Socialt', 'sociologerna']\n",
            "['INTJ', 'NUM', 'ADV', 'PUNCT', 'ADP', 'DET', 'SYM', 'AUX', 'CCONJ', 'ADJ', 'PROPN', 'SCONJ', 'PRON', 'PART', 'VERB', 'NOUN', '<PAD>']\n"
          ],
          "name": "stdout"
        }
      ]
    },
    {
      "cell_type": "code",
      "metadata": {
        "id": "ww3LHB-018ZY",
        "colab": {
          "base_uri": "https://localhost:8080/"
        },
        "outputId": "ed9bc0f7-f884-4f59-ec36-02da2b5bcc15"
      },
      "source": [
        "def pad_and_encode(sentences, labels):\n",
        "  assert len(sentences)==len(labels)\n",
        "  assert np.all([len(sentence)==len(tags) for sentence, tags in zip(sentences, labels)])\n",
        "  max_sentence_length = np.max([len(sentence) for sentence in sentences]) # Find out how much to pad\n",
        "  padded_sentences = torch.zeros(len(sentences), max_sentence_length,     # Create data structures with <PAD> as default\n",
        "                                 dtype=torch.long)\n",
        "  padded_sentences[:] = token2idx['<PAD>']\n",
        "  padded_labels = torch.zeros(len(sentences), max_sentence_length, \n",
        "                              dtype=torch.long)\n",
        "  padded_labels[:] = tag2idx['<PAD>']\n",
        "  for i, (sentence, tags) in enumerate(zip(sentences, labels)):               # Loop over the data\n",
        "    for j, token in enumerate(sentence):\n",
        "      if token in token2idx.keys():\n",
        "        padded_sentences[i, j] = token2idx[token]\n",
        "      else:\n",
        "        padded_sentences[i, j] = token2idx['<UNK>']\n",
        "    for j, tag in enumerate(tags):\n",
        "      padded_labels[i, j] = tag2idx[tag]\n",
        "  return padded_sentences, padded_labels\n",
        "\n",
        "a, b = pad_and_encode(X_swedish_train[:5], y_swedish_train[:5])\n",
        "print(a)\n",
        "print(b)"
      ],
      "execution_count": null,
      "outputs": [
        {
          "output_type": "stream",
          "text": [
            "tensor([[ 5563,  1085,  5550,  8922, 12809, 12809, 12809, 12809, 12809, 12809,\n",
            "         12809, 12809, 12809, 12809, 12809, 12809],\n",
            "        [ 5156,  2433,  4282, 11346,  1085,   974,  5087,  4413,  5550,  8922,\n",
            "          9808, 12809, 12809, 12809, 12809, 12809],\n",
            "        [ 4807,  9390,   101,  3057,  7066,  6322,  9833,  6357,  3057, 11408,\n",
            "          8346,  2524,  5550,  3688, 10261,  9808],\n",
            "        [   29,  9396,    51,  8346, 12593,  7031,   187, 12638,  9808, 12809,\n",
            "         12809, 12809, 12809, 12809, 12809, 12809],\n",
            "        [   29,  2935,   257,  8346,  6911,  6858,  3111, 10437,  9808, 12809,\n",
            "         12809, 12809, 12809, 12809, 12809, 12809]])\n",
            "tensor([[ 9, 15,  4, 15, 16, 16, 16, 16, 16, 16, 16, 16, 16, 16, 16, 16],\n",
            "        [ 4, 15, 14,  9, 15,  3, 15,  3,  4, 15,  3, 16, 16, 16, 16, 16],\n",
            "        [12, 14,  2, 11,  2,  1, 15,  7, 13, 14,  4, 15,  4,  9, 15,  3],\n",
            "        [12, 14,  9,  4,  5, 15,  4, 15,  3, 16, 16, 16, 16, 16, 16, 16],\n",
            "        [12, 14,  2,  4,  9, 15,  8, 15,  3, 16, 16, 16, 16, 16, 16, 16]])\n"
          ],
          "name": "stdout"
        }
      ]
    },
    {
      "cell_type": "code",
      "metadata": {
        "id": "LppQOGU418od",
        "colab": {
          "base_uri": "https://localhost:8080/"
        },
        "outputId": "c1e30105-4408-4282-d2b0-829953f0a2b3"
      },
      "source": [
        "def batch_iterator(sentences, labels, batch_size=64):\n",
        "  \"\"\"Helper function for iterating over batches of the data\"\"\"\n",
        "  assert len(sentences) == len(labels)\n",
        "  for i in range(0, len(sentences), batch_size):\n",
        "    X, y = pad_and_encode(sentences[i:min(i+batch_size, len(sentences))], \n",
        "                          labels[i:min(i+batch_size, len(sentences))])\n",
        "    if torch.cuda.is_available():                                               # Move data to the GPU, if possible, before yielding it\n",
        "      yield (X.cuda(), y.cuda())\n",
        "    else:\n",
        "      yield (X, y)\n",
        "\n",
        "next(batch_iterator(X_swedish_train, y_swedish_train, batch_size=5))"
      ],
      "execution_count": null,
      "outputs": [
        {
          "output_type": "execute_result",
          "data": {
            "text/plain": [
              "(tensor([[ 5563,  1085,  5550,  8922, 12809, 12809, 12809, 12809, 12809, 12809,\n",
              "          12809, 12809, 12809, 12809, 12809, 12809],\n",
              "         [ 5156,  2433,  4282, 11346,  1085,   974,  5087,  4413,  5550,  8922,\n",
              "           9808, 12809, 12809, 12809, 12809, 12809],\n",
              "         [ 4807,  9390,   101,  3057,  7066,  6322,  9833,  6357,  3057, 11408,\n",
              "           8346,  2524,  5550,  3688, 10261,  9808],\n",
              "         [   29,  9396,    51,  8346, 12593,  7031,   187, 12638,  9808, 12809,\n",
              "          12809, 12809, 12809, 12809, 12809, 12809],\n",
              "         [   29,  2935,   257,  8346,  6911,  6858,  3111, 10437,  9808, 12809,\n",
              "          12809, 12809, 12809, 12809, 12809, 12809]], device='cuda:0'),\n",
              " tensor([[ 9, 15,  4, 15, 16, 16, 16, 16, 16, 16, 16, 16, 16, 16, 16, 16],\n",
              "         [ 4, 15, 14,  9, 15,  3, 15,  3,  4, 15,  3, 16, 16, 16, 16, 16],\n",
              "         [12, 14,  2, 11,  2,  1, 15,  7, 13, 14,  4, 15,  4,  9, 15,  3],\n",
              "         [12, 14,  9,  4,  5, 15,  4, 15,  3, 16, 16, 16, 16, 16, 16, 16],\n",
              "         [12, 14,  2,  4,  9, 15,  8, 15,  3, 16, 16, 16, 16, 16, 16, 16]],\n",
              "        device='cuda:0'))"
            ]
          },
          "metadata": {
            "tags": []
          },
          "execution_count": 162
        }
      ]
    },
    {
      "cell_type": "markdown",
      "metadata": {
        "id": "-k09zU4NSeTu"
      },
      "source": [
        "# Model Results for Training and Test Sets Swedish"
      ]
    },
    {
      "cell_type": "code",
      "metadata": {
        "id": "np4kDAnzypZX",
        "colab": {
          "base_uri": "https://localhost:8080/"
        },
        "outputId": "3067de66-cf45-4ccf-c973-a4fa05fcb423"
      },
      "source": [
        "#Create Model\n",
        "class LSTMTagger(nn.Module):\n",
        "  def __init__(self, X_train, Y_train, embedding_dim, hidden_dim, vocabulary_size, tagset_size, bidirectional = True):\n",
        "    \n",
        "    super(LSTMTagger,self).__init__()\n",
        "\n",
        "    self.hidden_dim = hidden_dim\n",
        "    self.word_embeddings = nn.Embedding(vocabulary_size, embedding_dim)\n",
        "    self.vocabulary_size = len(token2idx) \n",
        "    self.tagset_size= len(tag2idx)\n",
        "    \n",
        "\n",
        "#LSTm takes word embeddings as input and outputs hidden states with dimensionality hidden_dim\n",
        "    self.lstm = nn.LSTM(input_size=embedding_dim,                         # The LSTM takes an embedded sentence as input, and outputs \n",
        "                         hidden_size=hidden_dim,                           # vectors with dimensionality lstm_hidden_dim.\n",
        "                         batch_first=True, bidirectional=True)\n",
        "    #self.lstm =nn.LSTM(embedding_dim, input_size=embedding_dim,hidden_size=hidden_dim, batch_first=True))\n",
        "    #self.hidden2tag = nn.Linear(hidden_dim,tagset_size)\n",
        "    self.fc = nn.Linear (hidden_dim*2, tagset_size)         #adding one more hidden layer for the bidirectional LSTM option\n",
        "    self.training_loss = list()                                                \n",
        "    self.training_accuracy = list()                         # The linear layer maps from the RNN output space to tag space\n",
        "    self.softmax = nn.LogSoftmax(dim=1)\n",
        "    if torch.cuda.is_available():                                               # Move the model to the GPU (if we have one)\n",
        "      self.cuda()\n",
        "  def forward(self, padded_sentences):\n",
        "    \"\"\"The forward pass through the network\"\"\"\n",
        "    batch_size, max_sentence_length = padded_sentences.size()\n",
        "    embedded_sentences = self.word_embeddings(padded_sentences)                 # Sentences encoded as integers are mapped to vectors    \n",
        "    sentence_lengths = (padded_sentences!=token2idx['<PAD>']).sum(dim=1)        # Find the length of sentences\n",
        "    sentence_lengths = sentence_lengths.long().cpu()                            # Ensure the correct format\n",
        "    X = nn.utils.rnn.pack_padded_sequence(embedded_sentences, sentence_lengths, # Pack the embedded data\n",
        "                                          batch_first=True, enforce_sorted=False)\n",
        "    lstm_out, _ = self.lstm(X)                                                # Run the LSTM layer\n",
        "    X, _ = nn.utils.rnn.pad_packed_sequence(lstm_out, batch_first=True,total_length=max_sentence_length)         # Unpack the output from the LSTM\n",
        "    X = X.contiguous().view(-1, X.shape[2])   \n",
        "    tag_space = self.fc(X)                                                  # Fully connected layer\n",
        "    tag_scores = self.softmax(tag_space)      \n",
        "                              \n",
        "    return tag_scores.view(batch_size, max_sentence_length, self.tagset_size)\n",
        "\n",
        "  def fit(self,X_train,y_train):\n",
        "      loss_function = nn.NLLLoss(ignore_index=tag2idx['<PAD>'])\n",
        "      optimizer = torch.optim.Adam(self.parameters(), lr=0.01)\n",
        "      batch_size = 64 \n",
        "      for epoch in range(5):                                                          # Times to loop over the full dataset\n",
        "        with tqdm(batch_iterator(X_swedish_train, y_swedish_train, batch_size=64), \n",
        "                  total=len(X_train)//batch_size+1, unit=\"batch\", desc=\"Epoch %i\" % epoch) as batches:  \n",
        "          for inputs, targets in batches:\n",
        "            #print(targets.shape)\n",
        "            self.zero_grad()                                                 # Reset gradients\n",
        "            scores = self.forward(inputs) \n",
        "            #print(scores)                                                   # Forward pass\n",
        "            loss = loss_function(scores.view(-1, self.tagset_size),                 # Get loss, the data is reshaped as a long line of predictions and targets\n",
        "                                  targets.view(-1))               \n",
        "            loss.backward() \n",
        "                                                              # Backpropagate the error\n",
        "            optimizer.step()                                                          # Run the optimizer to change the weights w.r.t the loss\n",
        "            predictions = scores.argmax(dim=2, keepdim=True).squeeze()                # Calculate the batch training accuracy\n",
        "            mask = targets!=tag2idx['<PAD>']                                          # Create a mask for ignoring <PAD> in the targets\n",
        "            correct = (predictions[mask] == targets[mask]).sum().item()               # Item pulls the value from the GPU automatically (if needed)\n",
        "            accuracy = correct / mask.sum().item()*100\n",
        "            self.training_accuracy.append(accuracy)                                 # Save the accuracy for plotting\n",
        "            self.training_loss.append(loss.item())                                  # Save the loss for plotting\n",
        "            batches.set_postfix(loss=loss.item(), accuracy=accuracy) \n",
        "model = LSTMTagger(X_swedish_train,y_swedish_train,embedding_dim=32,                                       # Dimensionality of the work embedding\n",
        "                    hidden_dim=100,bidirectional = True,                                         # Dimensionality of the hidden state in the LSTM\n",
        "                    vocabulary_size=len(token2idx),                              # The vocabulary incudes both the 'padding' and 'unknown' symbols\n",
        "                    tagset_size=len(tag2idx))                                  # We have no interest in the network outputting the padding symbol\n",
        "print(model)\n",
        "model.fit(X_swedish_train,y_swedish_train)"
      ],
      "execution_count": null,
      "outputs": [
        {
          "output_type": "stream",
          "text": [
            "Epoch 0:   8%|▊         | 5/66 [00:00<00:01, 45.45batch/s, accuracy=42.9, loss=1.96]"
          ],
          "name": "stderr"
        },
        {
          "output_type": "stream",
          "text": [
            "LSTMTagger(\n",
            "  (word_embeddings): Embedding(12810, 32)\n",
            "  (lstm): LSTM(32, 100, batch_first=True, bidirectional=True)\n",
            "  (fc): Linear(in_features=200, out_features=17, bias=True)\n",
            "  (softmax): LogSoftmax(dim=1)\n",
            ")\n"
          ],
          "name": "stdout"
        },
        {
          "output_type": "stream",
          "text": [
            "Epoch 0: 100%|██████████| 66/66 [00:01<00:00, 44.32batch/s, accuracy=76.5, loss=0.727]\n",
            "Epoch 1: 100%|██████████| 66/66 [00:01<00:00, 43.88batch/s, accuracy=92.2, loss=0.261]\n",
            "Epoch 2: 100%|██████████| 66/66 [00:01<00:00, 43.27batch/s, accuracy=99.4, loss=0.0428]\n",
            "Epoch 3: 100%|██████████| 66/66 [00:01<00:00, 43.39batch/s, accuracy=100, loss=0.015]\n",
            "Epoch 4: 100%|██████████| 66/66 [00:01<00:00, 44.29batch/s, accuracy=100, loss=0.00517]\n"
          ],
          "name": "stderr"
        }
      ]
    },
    {
      "cell_type": "markdown",
      "metadata": {
        "id": "lCLBIoLRS2cA"
      },
      "source": [
        "# Test data Accuracy for Swedish"
      ]
    },
    {
      "cell_type": "code",
      "metadata": {
        "id": "PNefmF7IoiIZ",
        "colab": {
          "base_uri": "https://localhost:8080/"
        },
        "outputId": "683138ad-7c95-4be8-89d7-33c5957f4d7c"
      },
      "source": [
        "with torch.no_grad():                                                           # Do not use the following forward passes to calculate a gradient\n",
        "  n_correct = 0\n",
        "  batch_size = 64 \n",
        "  n_total = 0\n",
        "  for inputs, targets in batch_iterator(X_swedish_test, y_swedish_test, batch_size=batch_size): # Loop once over the test data\n",
        "    scores = model(inputs)                                                      # Runs the test data through the model\n",
        "    predictions = scores.argmax(dim=2, keepdim=True).squeeze()                  # Finds the predictions\n",
        "    mask = targets!=tag2idx['<PAD>']                                            # Create a mask for ignoring <PAD> in the targets\n",
        "    n_correct += (predictions[mask] == targets[mask]).sum().item()              # Sums the number of correct predictions\n",
        "    n_total += mask.sum().item()\n",
        "print(\"Test accuracy %.1f%%\" % (100*n_correct/n_total))"
      ],
      "execution_count": null,
      "outputs": [
        {
          "output_type": "stream",
          "text": [
            "Test accuracy 89.8%\n"
          ],
          "name": "stdout"
        }
      ]
    },
    {
      "cell_type": "markdown",
      "metadata": {
        "id": "TZjGWdXTSOul"
      },
      "source": [
        "# Data Encoding and Padding for Hebrew"
      ]
    },
    {
      "cell_type": "code",
      "metadata": {
        "colab": {
          "base_uri": "https://localhost:8080/"
        },
        "id": "msArfyOXj8P7",
        "outputId": "713a49a0-6d4c-4ce5-c531-6c5b26c0e6a6"
      },
      "source": [
        "tokens = {token for sentence in X_hebrew_train for token in sentence}\n",
        "idx2token = list(tokens)\n",
        "idx2token.insert(0, '<UNK>')\n",
        "idx2token.append('<PAD>')\n",
        "token2idx = {token:idx for idx, token in enumerate(idx2token)}\n",
        "\n",
        "tags = {tag for tags in y_hebrew_train for tag in tags}\n",
        "idx2tag = list(tags)\n",
        "idx2tag.append('<PAD>')\n",
        "tag2idx = {tag:idx for idx, tag in enumerate(idx2tag)}\n",
        "\n",
        "print(idx2token[:15])\n",
        "print(idx2tag)\n"
      ],
      "execution_count": null,
      "outputs": [
        {
          "output_type": "stream",
          "text": [
            "['<UNK>', 'חזיתות', 'במעלה', 'יריות', 'ולעשות', 'המפד\"ל', 'בכרמל', 'הכלה', 'בבירות', 'רמקול', 'שמועות', 'אליך', 'בכמיליון', 'שיו\"ר', 'סרטי']\n",
            "['INTJ', 'NUM', 'ADV', 'PUNCT', 'ADP', 'DET', 'AUX', 'X', 'ADJ', 'SCONJ', 'PROPN', 'CCONJ', 'PRON', None, 'VERB', 'NOUN', '<PAD>']\n"
          ],
          "name": "stdout"
        }
      ]
    },
    {
      "cell_type": "code",
      "metadata": {
        "colab": {
          "base_uri": "https://localhost:8080/"
        },
        "id": "ZfqvcyfAj8hO",
        "outputId": "bb1948cb-0741-4bac-81ea-430689b862c7"
      },
      "source": [
        "def pad_and_encode(sentences, labels):\n",
        "  assert len(sentences)==len(labels)\n",
        "  assert np.all([len(sentence)==len(tags) for sentence, tags in zip(sentences, labels)])\n",
        "  max_sentence_length = np.max([len(sentence) for sentence in sentences]) # Find out how much to pad\n",
        "  padded_sentences = torch.zeros(len(sentences), max_sentence_length,     # Create data structures with <PAD> as default\n",
        "                                 dtype=torch.long)\n",
        "  padded_sentences[:] = token2idx['<PAD>']\n",
        "  padded_labels = torch.zeros(len(sentences), max_sentence_length, \n",
        "                              dtype=torch.long)\n",
        "  padded_labels[:] = tag2idx['<PAD>']\n",
        "  for i, (sentence, tags) in enumerate(zip(sentences, labels)):               # Loop over the data\n",
        "    for j, token in enumerate(sentence):\n",
        "      if token in token2idx.keys():\n",
        "        padded_sentences[i, j] = token2idx[token]\n",
        "      else:\n",
        "        padded_sentences[i, j] = token2idx['<UNK>']\n",
        "    for j, tag in enumerate(tags):\n",
        "      padded_labels[i, j] = tag2idx[tag]\n",
        "  return padded_sentences, padded_labels\n",
        "\n",
        "a, b = pad_and_encode(X_hebrew_train[:5], y_hebrew_train[:5])\n",
        "print(a)\n",
        "print(b)"
      ],
      "execution_count": null,
      "outputs": [
        {
          "output_type": "stream",
          "text": [
            "tensor([[14048,   244, 18574, 24864, 26740, 26740, 19833, 12696,   312, 15807,\n",
            "          1803, 28532, 26796, 17891,  5378, 10135, 21064, 13172, 29666, 29666,\n",
            "         29666, 29666, 29666, 29666, 29666, 29666, 29666, 29666, 29666, 29666,\n",
            "         29666, 29666],\n",
            "        [12749, 10155, 26085,  5866,  7706,   244, 11286, 26872,   312, 10979,\n",
            "          6625, 19260, 17891, 20957,  5546, 13172, 29666, 29666, 29666, 29666,\n",
            "         29666, 29666, 29666, 29666, 29666, 29666, 29666, 29666, 29666, 29666,\n",
            "         29666, 29666],\n",
            "        [ 1839,   244, 19397, 12763, 19958,  1627, 27116,   312,  1006, 25852,\n",
            "         15693,  6697,   244,   401,  4979, 27836, 16409, 24271, 23152,  4954,\n",
            "           144,   312, 24271, 23152, 24028,  8479,   327, 26445,   244,  1647,\n",
            "         13172, 29666],\n",
            "        [13248,  9416,   312,  9043,  1684, 12541, 24271,   401,  1839,   244,\n",
            "         19397, 16994, 11711,  4791, 21639,  5138, 17040,  5866, 22043,   244,\n",
            "          8697, 16994, 14403, 23106,  8479,  7706,   244, 11286, 12493,   244,\n",
            "         19833, 13172],\n",
            "        [25852, 19699,  1839,   244, 19397, 25943, 16994, 24301,  5007,   244,\n",
            "         13248,  4489, 13028, 22929,   244, 10921, 16994,  6721, 11166,   312,\n",
            "          9086, 14513,  4791, 29149,  5138, 17891, 14752,  7583, 23152,  4200,\n",
            "         13172, 29666]])\n",
            "tensor([[13,  5, 15, 14, 15, 15, 15, 13, 11, 15, 14, 13,  4, 12,  4, 15, 15,  3,\n",
            "         16, 16, 16, 16, 16, 16, 16, 16, 16, 16, 16, 16, 16, 16],\n",
            "        [15, 15, 14,  4, 13,  5, 15, 13, 11, 14, 13,  4, 12, 15,  8,  3, 16, 16,\n",
            "         16, 16, 16, 16, 16, 16, 16, 16, 16, 16, 16, 16, 16, 16],\n",
            "        [13,  5, 15, 14,  2,  2, 13, 11,  2,  9, 14, 13,  5, 15, 14,  1, 13,  4,\n",
            "          5, 15, 13, 11,  4,  5, 15,  4, 15, 13,  5, 15,  3, 16],\n",
            "        [15, 13, 11, 15, 14, 13,  4, 15, 13,  5, 15,  3, 13,  4, 15,  4, 12,  4,\n",
            "         13,  5, 15,  3,  4, 14,  4, 13,  5, 15, 13,  5,  8,  3],\n",
            "        [ 9, 14, 13,  5, 15, 14,  3, 14, 13,  5, 15,  4, 15, 13,  5, 15,  3, 14,\n",
            "         13, 11, 14, 13,  9, 15,  4, 12, 13,  4,  5, 15,  3, 16]])\n"
          ],
          "name": "stdout"
        }
      ]
    },
    {
      "cell_type": "code",
      "metadata": {
        "colab": {
          "base_uri": "https://localhost:8080/"
        },
        "id": "eBkJBPyDo42l",
        "outputId": "4272ab41-6d7b-4c88-9c36-f7668f56fbd1"
      },
      "source": [
        "def batch_iterator(sentences, labels, batch_size=64):\n",
        "  \"\"\"Helper function for iterating over batches of the data\"\"\"\n",
        "  assert len(sentences) == len(labels)\n",
        "  for i in range(0, len(sentences), batch_size):\n",
        "    X, y = pad_and_encode(sentences[i:min(i+batch_size, len(sentences))], \n",
        "                          labels[i:min(i+batch_size, len(sentences))])\n",
        "    if torch.cuda.is_available():                                               # Move data to the GPU, if possible, before yielding it\n",
        "      yield (X.cuda(), y.cuda())\n",
        "    else:\n",
        "      yield (X, y)\n",
        "\n",
        "next(batch_iterator(X_hebrew_train, y_hebrew_train, batch_size=5))"
      ],
      "execution_count": null,
      "outputs": [
        {
          "output_type": "execute_result",
          "data": {
            "text/plain": [
              "(tensor([[14048,   244, 18574, 24864, 26740, 26740, 19833, 12696,   312, 15807,\n",
              "           1803, 28532, 26796, 17891,  5378, 10135, 21064, 13172, 29666, 29666,\n",
              "          29666, 29666, 29666, 29666, 29666, 29666, 29666, 29666, 29666, 29666,\n",
              "          29666, 29666],\n",
              "         [12749, 10155, 26085,  5866,  7706,   244, 11286, 26872,   312, 10979,\n",
              "           6625, 19260, 17891, 20957,  5546, 13172, 29666, 29666, 29666, 29666,\n",
              "          29666, 29666, 29666, 29666, 29666, 29666, 29666, 29666, 29666, 29666,\n",
              "          29666, 29666],\n",
              "         [ 1839,   244, 19397, 12763, 19958,  1627, 27116,   312,  1006, 25852,\n",
              "          15693,  6697,   244,   401,  4979, 27836, 16409, 24271, 23152,  4954,\n",
              "            144,   312, 24271, 23152, 24028,  8479,   327, 26445,   244,  1647,\n",
              "          13172, 29666],\n",
              "         [13248,  9416,   312,  9043,  1684, 12541, 24271,   401,  1839,   244,\n",
              "          19397, 16994, 11711,  4791, 21639,  5138, 17040,  5866, 22043,   244,\n",
              "           8697, 16994, 14403, 23106,  8479,  7706,   244, 11286, 12493,   244,\n",
              "          19833, 13172],\n",
              "         [25852, 19699,  1839,   244, 19397, 25943, 16994, 24301,  5007,   244,\n",
              "          13248,  4489, 13028, 22929,   244, 10921, 16994,  6721, 11166,   312,\n",
              "           9086, 14513,  4791, 29149,  5138, 17891, 14752,  7583, 23152,  4200,\n",
              "          13172, 29666]], device='cuda:0'),\n",
              " tensor([[13,  5, 15, 14, 15, 15, 15, 13, 11, 15, 14, 13,  4, 12,  4, 15, 15,  3,\n",
              "          16, 16, 16, 16, 16, 16, 16, 16, 16, 16, 16, 16, 16, 16],\n",
              "         [15, 15, 14,  4, 13,  5, 15, 13, 11, 14, 13,  4, 12, 15,  8,  3, 16, 16,\n",
              "          16, 16, 16, 16, 16, 16, 16, 16, 16, 16, 16, 16, 16, 16],\n",
              "         [13,  5, 15, 14,  2,  2, 13, 11,  2,  9, 14, 13,  5, 15, 14,  1, 13,  4,\n",
              "           5, 15, 13, 11,  4,  5, 15,  4, 15, 13,  5, 15,  3, 16],\n",
              "         [15, 13, 11, 15, 14, 13,  4, 15, 13,  5, 15,  3, 13,  4, 15,  4, 12,  4,\n",
              "          13,  5, 15,  3,  4, 14,  4, 13,  5, 15, 13,  5,  8,  3],\n",
              "         [ 9, 14, 13,  5, 15, 14,  3, 14, 13,  5, 15,  4, 15, 13,  5, 15,  3, 14,\n",
              "          13, 11, 14, 13,  9, 15,  4, 12, 13,  4,  5, 15,  3, 16]],\n",
              "        device='cuda:0'))"
            ]
          },
          "metadata": {
            "tags": []
          },
          "execution_count": 171
        }
      ]
    },
    {
      "cell_type": "markdown",
      "metadata": {
        "id": "Zrmu0sniSi40"
      },
      "source": [
        "# Model Results for Training and Test Sets Hebrew"
      ]
    },
    {
      "cell_type": "code",
      "metadata": {
        "colab": {
          "base_uri": "https://localhost:8080/"
        },
        "id": "ZJdD92JtpIhw",
        "outputId": "7aa80b6a-1f68-4d3a-a801-52ed3dec54fa"
      },
      "source": [
        "#Create Model\n",
        "class LSTMTagger(nn.Module):\n",
        "  def __init__(self, X_train, Y_train, embedding_dim, hidden_dim, vocabulary_size, tagset_size, bidirectional = True):\n",
        "    \n",
        "    super(LSTMTagger,self).__init__()\n",
        "\n",
        "    self.hidden_dim = hidden_dim\n",
        "    self.word_embeddings = nn.Embedding(vocabulary_size, embedding_dim)\n",
        "    self.vocabulary_size = len(token2idx) \n",
        "    self.tagset_size= len(tag2idx)\n",
        "    \n",
        "\n",
        "#LSTm takes word embeddings as input and outputs hidden states with dimensionality hidden_dim\n",
        "    self.lstm = nn.LSTM(input_size=embedding_dim,                         # The LSTM takes an embedded sentence as input, and outputs \n",
        "                         hidden_size=hidden_dim,                           # vectors with dimensionality lstm_hidden_dim.\n",
        "                         batch_first=True, bidirectional=True)\n",
        "    #self.lstm =nn.LSTM(embedding_dim, input_size=embedding_dim,hidden_size=hidden_dim, batch_first=True))\n",
        "    #self.hidden2tag = nn.Linear(hidden_dim,tagset_size)\n",
        "    self.fc = nn.Linear (hidden_dim*2, tagset_size)         #adding one more hidden layer for the bidirectional LSTM option\n",
        "    self.training_loss = list()                                                \n",
        "    self.training_accuracy = list()                         # The linear layer maps from the RNN output space to tag space\n",
        "    self.softmax = nn.LogSoftmax(dim=1)\n",
        "    if torch.cuda.is_available():                                               # Move the model to the GPU (if we have one)\n",
        "      self.cuda()\n",
        "  def forward(self, padded_sentences):\n",
        "    \"\"\"The forward pass through the network\"\"\"\n",
        "    batch_size, max_sentence_length = padded_sentences.size()\n",
        "    embedded_sentences = self.word_embeddings(padded_sentences)                 # Sentences encoded as integers are mapped to vectors    \n",
        "    sentence_lengths = (padded_sentences!=token2idx['<PAD>']).sum(dim=1)        # Find the length of sentences\n",
        "    sentence_lengths = sentence_lengths.long().cpu()                            # Ensure the correct format\n",
        "    X = nn.utils.rnn.pack_padded_sequence(embedded_sentences, sentence_lengths, # Pack the embedded data\n",
        "                                          batch_first=True, enforce_sorted=False)\n",
        "    lstm_out, _ = self.lstm(X)                                                # Run the LSTM layer\n",
        "    X, _ = nn.utils.rnn.pad_packed_sequence(lstm_out, batch_first=True,total_length=max_sentence_length)         # Unpack the output from the LSTM\n",
        "    X = X.contiguous().view(-1, X.shape[2])   \n",
        "    tag_space = self.fc(X)                                                  # Fully connected layer\n",
        "    tag_scores = self.softmax(tag_space)      \n",
        "                              \n",
        "    return tag_scores.view(batch_size, max_sentence_length, self.tagset_size)\n",
        "\n",
        "  def fit(self,X_train,y_train):\n",
        "      loss_function = nn.NLLLoss(ignore_index=tag2idx['<PAD>'])\n",
        "      optimizer = torch.optim.Adam(self.parameters(), lr=0.01)\n",
        "      batch_size = 64 \n",
        "      for epoch in range(5):                                                          # Times to loop over the full dataset\n",
        "        with tqdm(batch_iterator(X_hebrew_train, y_hebrew_train, batch_size=64), \n",
        "                  total=len(X_train)//batch_size+1, unit=\"batch\", desc=\"Epoch %i\" % epoch) as batches:  \n",
        "          for inputs, targets in batches:\n",
        "            #print(targets.shape)\n",
        "            self.zero_grad()                                                 # Reset gradients\n",
        "            scores = self.forward(inputs) \n",
        "            #print(scores)                                                   # Forward pass\n",
        "            loss = loss_function(scores.view(-1, self.tagset_size),                 # Get loss, the data is reshaped as a long line of predictions and targets\n",
        "                                  targets.view(-1))               \n",
        "            loss.backward() \n",
        "                                                              # Backpropagate the error\n",
        "            optimizer.step()                                                          # Run the optimizer to change the weights w.r.t the loss\n",
        "            predictions = scores.argmax(dim=2, keepdim=True).squeeze()                # Calculate the batch training accuracy\n",
        "            mask = targets!=tag2idx['<PAD>']                                          # Create a mask for ignoring <PAD> in the targets\n",
        "            correct = (predictions[mask] == targets[mask]).sum().item()               # Item pulls the value from the GPU automatically (if needed)\n",
        "            accuracy = correct / mask.sum().item()*100\n",
        "            self.training_accuracy.append(accuracy)                                 # Save the accuracy for plotting\n",
        "            self.training_loss.append(loss.item())                                  # Save the loss for plotting\n",
        "            batches.set_postfix(loss=loss.item(), accuracy=accuracy) \n",
        "model = LSTMTagger(X_hebrew_train,y_hebrew_train,embedding_dim=32,                                       # Dimensionality of the work embedding\n",
        "                    hidden_dim=100,bidirectional = True,                                         # Dimensionality of the hidden state in the LSTM\n",
        "                    vocabulary_size=len(token2idx),                              # The vocabulary incudes both the 'padding' and 'unknown' symbols\n",
        "                    tagset_size=len(tag2idx))                                  # We have no interest in the network outputting the padding symbol\n",
        "print(model)\n",
        "model.fit(X_hebrew_train,y_hebrew_train)"
      ],
      "execution_count": null,
      "outputs": [
        {
          "output_type": "stream",
          "text": [
            "Epoch 0:   4%|▎         | 3/82 [00:00<00:02, 28.53batch/s, accuracy=40.5, loss=2.11]"
          ],
          "name": "stderr"
        },
        {
          "output_type": "stream",
          "text": [
            "LSTMTagger(\n",
            "  (word_embeddings): Embedding(29667, 32)\n",
            "  (lstm): LSTM(32, 100, batch_first=True, bidirectional=True)\n",
            "  (fc): Linear(in_features=200, out_features=17, bias=True)\n",
            "  (softmax): LogSoftmax(dim=1)\n",
            ")\n"
          ],
          "name": "stdout"
        },
        {
          "output_type": "stream",
          "text": [
            "Epoch 0: 100%|██████████| 82/82 [00:02<00:00, 27.45batch/s, accuracy=80.5, loss=0.547]\n",
            "Epoch 1: 100%|██████████| 82/82 [00:02<00:00, 27.43batch/s, accuracy=90.8, loss=0.273]\n",
            "Epoch 2: 100%|██████████| 82/82 [00:02<00:00, 28.00batch/s, accuracy=96.7, loss=0.108]\n",
            "Epoch 3: 100%|██████████| 82/82 [00:02<00:00, 27.80batch/s, accuracy=99.4, loss=0.0359]\n",
            "Epoch 4: 100%|██████████| 82/82 [00:02<00:00, 28.20batch/s, accuracy=99.5, loss=0.0145]\n"
          ],
          "name": "stderr"
        }
      ]
    },
    {
      "cell_type": "markdown",
      "metadata": {
        "id": "BQGN7vIjS4wb"
      },
      "source": [
        "# Test data Accuracy for Hebrew"
      ]
    },
    {
      "cell_type": "code",
      "metadata": {
        "colab": {
          "base_uri": "https://localhost:8080/"
        },
        "id": "vjIKGPoCokpq",
        "outputId": "85fc3102-aeb1-43d0-e820-7c076505f977"
      },
      "source": [
        "with torch.no_grad():                                                           # Do not use the following forward passes to calculate a gradient\n",
        "  n_correct = 0\n",
        "  batch_size = 64 \n",
        "  n_total = 0\n",
        "  for inputs, targets in batch_iterator(X_hebrew_test, y_hebrew_test, batch_size=batch_size): # Loop once over the test data\n",
        "    scores = model(inputs)                                                      # Runs the test data through the model\n",
        "    predictions = scores.argmax(dim=2, keepdim=True).squeeze()                  # Finds the predictions\n",
        "    mask = targets!=tag2idx['<PAD>']                                            # Create a mask for ignoring <PAD> in the targets\n",
        "    n_correct += (predictions[mask] == targets[mask]).sum().item()              # Sums the number of correct predictions\n",
        "    n_total += mask.sum().item()\n",
        "print(\"Test accuracy %.1f%%\" % (100*n_correct/n_total))"
      ],
      "execution_count": null,
      "outputs": [
        {
          "output_type": "stream",
          "text": [
            "Test accuracy 92.3%\n"
          ],
          "name": "stdout"
        }
      ]
    },
    {
      "cell_type": "markdown",
      "metadata": {
        "id": "SpfHNjDqSTjM"
      },
      "source": [
        "# Data Encoding and Padding for Afrikaans "
      ]
    },
    {
      "cell_type": "code",
      "metadata": {
        "id": "hnctZ8x_1hcA",
        "colab": {
          "base_uri": "https://localhost:8080/"
        },
        "outputId": "dfe806de-02c2-459b-fccb-8bfe974ccdda"
      },
      "source": [
        "tokens = {token for sentence in X_afrikaans_train for token in sentence}\n",
        "idx2token = list(tokens)\n",
        "idx2token.insert(0, '<UNK>')\n",
        "idx2token.append('<PAD>')\n",
        "token2idx = {token:idx for idx, token in enumerate(idx2token)}\n",
        "\n",
        "tags = {tag for tags in y_afrikaans_train for tag in tags}\n",
        "idx2tag = list(tags)\n",
        "idx2tag.append('<PAD>')\n",
        "tag2idx = {tag:idx for idx, tag in enumerate(idx2tag)}\n",
        "\n",
        "print(idx2token[:15])\n",
        "print(idx2tag)\n"
      ],
      "execution_count": null,
      "outputs": [
        {
          "output_type": "stream",
          "text": [
            "['<UNK>', 'verkies', 'voort', 'invoerpermit', 'nywerheidsbeleid', 'spesiale', 'toename', 'Via', 'ouditbeampte', 'www.info.gov.za', '30', 'leed', 'aparte', 'prysenswaardige', 'aanmerking']\n",
            "['NUM', 'ADV', 'PUNCT', 'ADP', 'DET', 'SYM', 'AUX', 'X', 'ADJ', 'SCONJ', 'PROPN', 'CCONJ', 'PRON', 'PART', 'VERB', 'NOUN', '<PAD>']\n"
          ],
          "name": "stdout"
        }
      ]
    },
    {
      "cell_type": "code",
      "metadata": {
        "id": "ALoEd_ul1h2y",
        "colab": {
          "base_uri": "https://localhost:8080/"
        },
        "outputId": "6b4f0aba-c1be-4627-b618-3dfeed3fab17"
      },
      "source": [
        "def pad_and_encode(sentences, labels):\n",
        "  assert len(sentences)==len(labels)\n",
        "  assert np.all([len(sentence)==len(tags) for sentence, tags in zip(sentences, labels)])\n",
        "  max_sentence_length = np.max([len(sentence) for sentence in sentences]) # Find out how much to pad\n",
        "  padded_sentences = torch.zeros(len(sentences), max_sentence_length,     # Create data structures with <PAD> as default\n",
        "                                 dtype=torch.long)\n",
        "  padded_sentences[:] = token2idx['<PAD>']\n",
        "  padded_labels = torch.zeros(len(sentences), max_sentence_length, \n",
        "                              dtype=torch.long)\n",
        "  padded_labels[:] = tag2idx['<PAD>']\n",
        "  for i, (sentence, tags) in enumerate(zip(sentences, labels)):               # Loop over the data\n",
        "    for j, token in enumerate(sentence):\n",
        "      if token in token2idx.keys():\n",
        "        padded_sentences[i, j] = token2idx[token]\n",
        "      else:\n",
        "        padded_sentences[i, j] = token2idx['<UNK>']\n",
        "    for j, tag in enumerate(tags):\n",
        "      padded_labels[i, j] = tag2idx[tag]\n",
        "  return padded_sentences, padded_labels\n",
        "\n",
        "a, b = pad_and_encode(X_afrikaans_train[:5], y_afrikaans_train[:5])\n",
        "print(a)\n",
        "print(b)"
      ],
      "execution_count": null,
      "outputs": [
        {
          "output_type": "stream",
          "text": [
            "tensor([[1933, 2960, 1548, 4484, 4584, 2521, 2294,  138,  943, 3547,  144, 3575,\n",
            "         3029, 1548, 3284,  640, 3389, 2482, 3035, 2059, 3345, 4484, 2294, 1229,\n",
            "         2262, 2190, 3841, 5082, 5082, 5082, 5082, 5082, 5082, 5082, 5082, 5082,\n",
            "         5082, 5082, 5082, 5082, 5082, 5082, 5082, 5082, 5082, 5082, 5082, 5082,\n",
            "         5082, 5082, 5082, 5082, 5082],\n",
            "        [1933, 2624,  943, 3547, 4484,  246,  640, 4632, 2059, 2697, 4484, 2375,\n",
            "         2498, 4484, 2668, 1474, 4929, 4484, 2489, 2498, 1764,  364, 1474, 2900,\n",
            "         3841, 5082, 5082, 5082, 5082, 5082, 5082, 5082, 5082, 5082, 5082, 5082,\n",
            "         5082, 5082, 5082, 5082, 5082, 5082, 5082, 5082, 5082, 5082, 5082, 5082,\n",
            "         5082, 5082, 5082, 5082, 5082],\n",
            "        [1933, 4584,  943,  144,  896, 2935, 2059, 1947, 1761,  943, 3547,  627,\n",
            "          640, 4519, 4863, 1371, 4702, 4484, 1229,  798,  324,  686, 3202, 2727,\n",
            "         3841, 5082, 5082, 5082, 5082, 5082, 5082, 5082, 5082, 5082, 5082, 5082,\n",
            "         5082, 5082, 5082, 5082, 5082, 5082, 5082, 5082, 5082, 5082, 5082, 5082,\n",
            "         5082, 5082, 5082, 5082, 5082],\n",
            "        [1933, 4292, 4943, 1548, 4484, 4584,  943, 2294, 3715,  798, 4397, 1365,\n",
            "         1548, 4484,  693, 1474, 4289, 1576, 2600, 2294, 4517, 1576,  227, 1474,\n",
            "         2498, 3715, 2498,  227, 1548, 4228,  269, 2059, 3035, 3345, 4484, 2294,\n",
            "         1229, 3623, 2468, 3841, 5082, 5082, 5082, 5082, 5082, 5082, 5082, 5082,\n",
            "         5082, 5082, 5082, 5082, 5082],\n",
            "        [ 144,  190, 1248, 1548, 4943,  943, 3725, 4484, 2800, 1474, 2751, 4484,\n",
            "         1204, 2877,  404, 1404, 1727, 1474, 2907,  404, 1766, 1727, 2498, 4484,\n",
            "         5081, 3008,  475, 1474, 2059, 3388, 2059, 1985,  798, 1963,  943, 3547,\n",
            "         1147, 4125, 3406, 4484, 3218,  640,  799, 1985, 1474,  686, 1730, 3547,\n",
            "         4484, 4584,  640, 1106, 3841]])\n",
            "tensor([[ 4, 15,  3,  4, 15,  3,  8, 15,  6,  3,  4,  0, 15,  3, 15, 13, 14,  3,\n",
            "         15, 12,  3,  4,  8, 15, 14,  6,  2, 16, 16, 16, 16, 16, 16, 16, 16, 16,\n",
            "         16, 16, 16, 16, 16, 16, 16, 16, 16, 16, 16, 16, 16, 16, 16, 16, 16],\n",
            "        [ 4, 15,  6,  3,  4, 15, 13, 14, 12,  3,  4, 15, 11,  4, 15,  2,  9,  4,\n",
            "          8, 11,  8, 15,  2, 14,  2, 16, 16, 16, 16, 16, 16, 16, 16, 16, 16, 16,\n",
            "         16, 16, 16, 16, 16, 16, 16, 16, 16, 16, 16, 16, 16, 16, 16, 16, 16],\n",
            "        [ 4, 15,  6,  4,  8, 15, 12, 12, 14,  6,  3,  1, 13, 14,  9, 15,  3,  4,\n",
            "         15,  3, 15,  6,  6, 14,  2, 16, 16, 16, 16, 16, 16, 16, 16, 16, 16, 16,\n",
            "         16, 16, 16, 16, 16, 16, 16, 16, 16, 16, 16, 16, 16, 16, 16, 16, 16],\n",
            "        [ 4,  8, 15,  3,  4, 15,  6,  8, 15,  3,  4, 15,  3,  4, 15,  2,  8, 11,\n",
            "          8,  8, 15, 11, 15,  2, 11, 15, 11, 15,  3,  8, 15, 12, 15,  3,  4,  8,\n",
            "         15,  1, 14,  2, 16, 16, 16, 16, 16, 16, 16, 16, 16, 16, 16, 16, 16],\n",
            "        [ 4,  8, 15,  3, 15,  6,  4,  4, 15,  2,  9,  4,  8, 15,  2,  7,  2,  2,\n",
            "         15,  2,  7,  2, 11,  4, 10, 10, 15,  2, 12, 12, 12,  1,  3, 15,  6,  3,\n",
            "          1, 15,  3,  4, 10, 13, 14, 13,  2,  6, 14,  3,  4, 15, 13, 14,  2]])\n"
          ],
          "name": "stdout"
        }
      ]
    },
    {
      "cell_type": "code",
      "metadata": {
        "id": "GzoWu2-P1iS3",
        "colab": {
          "base_uri": "https://localhost:8080/"
        },
        "outputId": "d153883e-cb37-4a32-a514-90b866c51971"
      },
      "source": [
        "def batch_iterator(sentences, labels, batch_size=64):\n",
        "  \"\"\"Helper function for iterating over batches of the data\"\"\"\n",
        "  assert len(sentences) == len(labels)\n",
        "  for i in range(0, len(sentences), batch_size):\n",
        "    X, y = pad_and_encode(sentences[i:min(i+batch_size, len(sentences))], \n",
        "                          labels[i:min(i+batch_size, len(sentences))])\n",
        "    if torch.cuda.is_available():                                               # Move data to the GPU, if possible, before yielding it\n",
        "      yield (X.cuda(), y.cuda())\n",
        "    else:\n",
        "      yield (X, y)\n",
        "\n",
        "next(batch_iterator(X_afrikaans_train, y_afrikaans_train, batch_size=5))"
      ],
      "execution_count": null,
      "outputs": [
        {
          "output_type": "execute_result",
          "data": {
            "text/plain": [
              "(tensor([[1933, 2960, 1548, 4484, 4584, 2521, 2294,  138,  943, 3547,  144, 3575,\n",
              "          3029, 1548, 3284,  640, 3389, 2482, 3035, 2059, 3345, 4484, 2294, 1229,\n",
              "          2262, 2190, 3841, 5082, 5082, 5082, 5082, 5082, 5082, 5082, 5082, 5082,\n",
              "          5082, 5082, 5082, 5082, 5082, 5082, 5082, 5082, 5082, 5082, 5082, 5082,\n",
              "          5082, 5082, 5082, 5082, 5082],\n",
              "         [1933, 2624,  943, 3547, 4484,  246,  640, 4632, 2059, 2697, 4484, 2375,\n",
              "          2498, 4484, 2668, 1474, 4929, 4484, 2489, 2498, 1764,  364, 1474, 2900,\n",
              "          3841, 5082, 5082, 5082, 5082, 5082, 5082, 5082, 5082, 5082, 5082, 5082,\n",
              "          5082, 5082, 5082, 5082, 5082, 5082, 5082, 5082, 5082, 5082, 5082, 5082,\n",
              "          5082, 5082, 5082, 5082, 5082],\n",
              "         [1933, 4584,  943,  144,  896, 2935, 2059, 1947, 1761,  943, 3547,  627,\n",
              "           640, 4519, 4863, 1371, 4702, 4484, 1229,  798,  324,  686, 3202, 2727,\n",
              "          3841, 5082, 5082, 5082, 5082, 5082, 5082, 5082, 5082, 5082, 5082, 5082,\n",
              "          5082, 5082, 5082, 5082, 5082, 5082, 5082, 5082, 5082, 5082, 5082, 5082,\n",
              "          5082, 5082, 5082, 5082, 5082],\n",
              "         [1933, 4292, 4943, 1548, 4484, 4584,  943, 2294, 3715,  798, 4397, 1365,\n",
              "          1548, 4484,  693, 1474, 4289, 1576, 2600, 2294, 4517, 1576,  227, 1474,\n",
              "          2498, 3715, 2498,  227, 1548, 4228,  269, 2059, 3035, 3345, 4484, 2294,\n",
              "          1229, 3623, 2468, 3841, 5082, 5082, 5082, 5082, 5082, 5082, 5082, 5082,\n",
              "          5082, 5082, 5082, 5082, 5082],\n",
              "         [ 144,  190, 1248, 1548, 4943,  943, 3725, 4484, 2800, 1474, 2751, 4484,\n",
              "          1204, 2877,  404, 1404, 1727, 1474, 2907,  404, 1766, 1727, 2498, 4484,\n",
              "          5081, 3008,  475, 1474, 2059, 3388, 2059, 1985,  798, 1963,  943, 3547,\n",
              "          1147, 4125, 3406, 4484, 3218,  640,  799, 1985, 1474,  686, 1730, 3547,\n",
              "          4484, 4584,  640, 1106, 3841]], device='cuda:0'),\n",
              " tensor([[ 4, 15,  3,  4, 15,  3,  8, 15,  6,  3,  4,  0, 15,  3, 15, 13, 14,  3,\n",
              "          15, 12,  3,  4,  8, 15, 14,  6,  2, 16, 16, 16, 16, 16, 16, 16, 16, 16,\n",
              "          16, 16, 16, 16, 16, 16, 16, 16, 16, 16, 16, 16, 16, 16, 16, 16, 16],\n",
              "         [ 4, 15,  6,  3,  4, 15, 13, 14, 12,  3,  4, 15, 11,  4, 15,  2,  9,  4,\n",
              "           8, 11,  8, 15,  2, 14,  2, 16, 16, 16, 16, 16, 16, 16, 16, 16, 16, 16,\n",
              "          16, 16, 16, 16, 16, 16, 16, 16, 16, 16, 16, 16, 16, 16, 16, 16, 16],\n",
              "         [ 4, 15,  6,  4,  8, 15, 12, 12, 14,  6,  3,  1, 13, 14,  9, 15,  3,  4,\n",
              "          15,  3, 15,  6,  6, 14,  2, 16, 16, 16, 16, 16, 16, 16, 16, 16, 16, 16,\n",
              "          16, 16, 16, 16, 16, 16, 16, 16, 16, 16, 16, 16, 16, 16, 16, 16, 16],\n",
              "         [ 4,  8, 15,  3,  4, 15,  6,  8, 15,  3,  4, 15,  3,  4, 15,  2,  8, 11,\n",
              "           8,  8, 15, 11, 15,  2, 11, 15, 11, 15,  3,  8, 15, 12, 15,  3,  4,  8,\n",
              "          15,  1, 14,  2, 16, 16, 16, 16, 16, 16, 16, 16, 16, 16, 16, 16, 16],\n",
              "         [ 4,  8, 15,  3, 15,  6,  4,  4, 15,  2,  9,  4,  8, 15,  2,  7,  2,  2,\n",
              "          15,  2,  7,  2, 11,  4, 10, 10, 15,  2, 12, 12, 12,  1,  3, 15,  6,  3,\n",
              "           1, 15,  3,  4, 10, 13, 14, 13,  2,  6, 14,  3,  4, 15, 13, 14,  2]],\n",
              "        device='cuda:0'))"
            ]
          },
          "metadata": {
            "tags": []
          },
          "execution_count": 179
        }
      ]
    },
    {
      "cell_type": "markdown",
      "metadata": {
        "id": "hOOP926hSldS"
      },
      "source": [
        "# Model Results for Training and Test Sets Afrikaans"
      ]
    },
    {
      "cell_type": "code",
      "metadata": {
        "id": "XUo_zBB6ygtm",
        "colab": {
          "base_uri": "https://localhost:8080/"
        },
        "outputId": "bba1e504-02b9-41c1-8736-20a779e2eb11"
      },
      "source": [
        "#Create Model\n",
        "class LSTMTagger(nn.Module):\n",
        "  def __init__(self, X_train, Y_train, embedding_dim, hidden_dim, vocabulary_size, tagset_size, bidirectional = True):\n",
        "    \n",
        "    super(LSTMTagger,self).__init__()\n",
        "\n",
        "    self.hidden_dim = hidden_dim\n",
        "    self.word_embeddings = nn.Embedding(vocabulary_size, embedding_dim)\n",
        "    self.vocabulary_size = len(token2idx) \n",
        "    self.tagset_size= len(tag2idx)\n",
        "    \n",
        "\n",
        "#LSTm takes word embeddings as input and outputs hidden states with dimensionality hidden_dim\n",
        "    self.lstm = nn.LSTM(input_size=embedding_dim,                         # The LSTM takes an embedded sentence as input, and outputs \n",
        "                         hidden_size=hidden_dim,                           # vectors with dimensionality lstm_hidden_dim.\n",
        "                         batch_first=True, bidirectional=True)\n",
        "    #self.lstm =nn.LSTM(embedding_dim, input_size=embedding_dim,hidden_size=hidden_dim, batch_first=True))\n",
        "    #self.hidden2tag = nn.Linear(hidden_dim,tagset_size)\n",
        "    self.fc = nn.Linear (hidden_dim*2, tagset_size)         #adding one more hidden layer for the bidirectional LSTM option\n",
        "    self.training_loss = list()                                                \n",
        "    self.training_accuracy = list()                         # The linear layer maps from the RNN output space to tag space\n",
        "    self.softmax = nn.LogSoftmax(dim=1)\n",
        "    if torch.cuda.is_available():                                               # Move the model to the GPU (if we have one)\n",
        "      self.cuda()\n",
        "  def forward(self, padded_sentences):\n",
        "    \"\"\"The forward pass through the network\"\"\"\n",
        "    batch_size, max_sentence_length = padded_sentences.size()\n",
        "    embedded_sentences = self.word_embeddings(padded_sentences)                 # Sentences encoded as integers are mapped to vectors    \n",
        "    sentence_lengths = (padded_sentences!=token2idx['<PAD>']).sum(dim=1)        # Find the length of sentences\n",
        "    sentence_lengths = sentence_lengths.long().cpu()                            # Ensure the correct format\n",
        "    X = nn.utils.rnn.pack_padded_sequence(embedded_sentences, sentence_lengths, # Pack the embedded data\n",
        "                                          batch_first=True, enforce_sorted=False)\n",
        "    lstm_out, _ = self.lstm(X)                                                # Run the LSTM layer\n",
        "    X, _ = nn.utils.rnn.pad_packed_sequence(lstm_out, batch_first=True,total_length=max_sentence_length)         # Unpack the output from the LSTM\n",
        "    X = X.contiguous().view(-1, X.shape[2])   \n",
        "    tag_space = self.fc(X)                                                  # Fully connected layer\n",
        "    tag_scores = self.softmax(tag_space)      \n",
        "                              \n",
        "    return tag_scores.view(batch_size, max_sentence_length, self.tagset_size)\n",
        "\n",
        "  def fit(self,X_train,y_train):\n",
        "      loss_function = nn.NLLLoss(ignore_index=tag2idx['<PAD>'])\n",
        "      optimizer = torch.optim.Adam(self.parameters(), lr=0.01)\n",
        "      batch_size = 64 \n",
        "      for epoch in range(5):                                                          # Times to loop over the full dataset\n",
        "        with tqdm(batch_iterator(X_afrikaans_train, y_afrikaans_train, batch_size=64), \n",
        "                  total=len(X_train)//batch_size+1, unit=\"batch\", desc=\"Epoch %i\" % epoch) as batches:  \n",
        "          for inputs, targets in batches:\n",
        "            #print(targets.shape)\n",
        "            self.zero_grad()                                                 # Reset gradients\n",
        "            scores = self.forward(inputs) \n",
        "            #print(scores)                                                   # Forward pass\n",
        "            loss = loss_function(scores.view(-1, self.tagset_size),                 # Get loss, the data is reshaped as a long line of predictions and targets\n",
        "                                  targets.view(-1))               \n",
        "            loss.backward() \n",
        "                                                              # Backpropagate the error\n",
        "            optimizer.step()                                                          # Run the optimizer to change the weights w.r.t the loss\n",
        "            predictions = scores.argmax(dim=2, keepdim=True).squeeze()                # Calculate the batch training accuracy\n",
        "            mask = targets!=tag2idx['<PAD>']                                          # Create a mask for ignoring <PAD> in the targets\n",
        "            correct = (predictions[mask] == targets[mask]).sum().item()               # Item pulls the value from the GPU automatically (if needed)\n",
        "            accuracy = correct / mask.sum().item()*100\n",
        "            self.training_accuracy.append(accuracy)                                 # Save the accuracy for plotting\n",
        "            self.training_loss.append(loss.item())                                  # Save the loss for plotting\n",
        "            batches.set_postfix(loss=loss.item(), accuracy=accuracy) \n",
        "model = LSTMTagger(X_afrikaans_train,y_afrikaans_train,embedding_dim=100,                                       # Dimensionality of the work embedding\n",
        "                    hidden_dim=64,bidirectional = True,                                         # Dimensionality of the hidden state in the LSTM\n",
        "                    vocabulary_size=len(token2idx),                              # The vocabulary incudes both the 'padding' and 'unknown' symbols\n",
        "                    tagset_size=len(tag2idx))                                  # We have no interest in the network outputting the padding symbol\n",
        "print(model)\n",
        "model.fit(X_afrikaans_train,y_afrikaans_train)"
      ],
      "execution_count": null,
      "outputs": [
        {
          "output_type": "stream",
          "text": [
            "Epoch 0:  19%|█▉        | 4/21 [00:00<00:00, 39.46batch/s, accuracy=62.8, loss=1.53]"
          ],
          "name": "stderr"
        },
        {
          "output_type": "stream",
          "text": [
            "LSTMTagger(\n",
            "  (word_embeddings): Embedding(5083, 100)\n",
            "  (lstm): LSTM(100, 64, batch_first=True, bidirectional=True)\n",
            "  (fc): Linear(in_features=128, out_features=17, bias=True)\n",
            "  (softmax): LogSoftmax(dim=1)\n",
            ")\n"
          ],
          "name": "stdout"
        },
        {
          "output_type": "stream",
          "text": [
            "Epoch 0: 100%|██████████| 21/21 [00:00<00:00, 34.00batch/s, accuracy=79.2, loss=0.704]\n",
            "Epoch 1: 100%|██████████| 21/21 [00:00<00:00, 35.25batch/s, accuracy=89.6, loss=0.351]\n",
            "Epoch 2: 100%|██████████| 21/21 [00:00<00:00, 34.07batch/s, accuracy=95.5, loss=0.171]\n",
            "Epoch 3: 100%|██████████| 21/21 [00:00<00:00, 34.60batch/s, accuracy=98.7, loss=0.0706]\n",
            "Epoch 4: 100%|██████████| 21/21 [00:00<00:00, 34.62batch/s, accuracy=99.5, loss=0.028]\n"
          ],
          "name": "stderr"
        }
      ]
    },
    {
      "cell_type": "markdown",
      "metadata": {
        "id": "BkTZuAmRS65D"
      },
      "source": [
        "# Test data Accuracy for Afrikaans"
      ]
    },
    {
      "cell_type": "code",
      "metadata": {
        "id": "NRVOL5UDomdC",
        "colab": {
          "base_uri": "https://localhost:8080/"
        },
        "outputId": "f1dd5773-8937-4215-f9a7-3689f35346e9"
      },
      "source": [
        "with torch.no_grad():                                                           # Do not use the following forward passes to calculate a gradient\n",
        "  n_correct = 0\n",
        "  batch_size = 64 \n",
        "  n_total = 0\n",
        "  for inputs, targets in batch_iterator(X_afrikaans_test, y_afrikaans_test, batch_size=batch_size): # Loop once over the test data\n",
        "    scores = model(inputs)                                                      # Runs the test data through the model\n",
        "    predictions = scores.argmax(dim=2, keepdim=True).squeeze()                  # Finds the predictions\n",
        "    mask = targets!=tag2idx['<PAD>']                                            # Create a mask for ignoring <PAD> in the targets\n",
        "    n_correct += (predictions[mask] == targets[mask]).sum().item()              # Sums the number of correct predictions\n",
        "    n_total += mask.sum().item()\n",
        "print(\"Test accuracy %.1f%%\" % (100*n_correct/n_total))"
      ],
      "execution_count": null,
      "outputs": [
        {
          "output_type": "stream",
          "text": [
            "Test accuracy 90.7%\n"
          ],
          "name": "stdout"
        }
      ]
    },
    {
      "cell_type": "markdown",
      "metadata": {
        "id": "9kCWJlWZp0Ma"
      },
      "source": [
        "# Qualitative Analysis and Model Evaluation \n",
        "\n",
        "When I made absolutely no changes to the model in between languages (I made sure to run the Spanish data set first), the accuracy varied quite a bit between the datasets, for Spanish the model achieved a 94.4% accuracy, whereas for Ancient Greek it achieved 74.4% and for Latin a 70.6% accuracy. There is an obvious difference here in terms of how much data is available for each of these languages. Spanish has the most out of all of them and therefore is able to also achieve the highest rate of accuracy. Ancient Greek and Latin have a comparable size in terms of how many sentences are available as per the data visualization tool at the beginning of each section. It should be noted that the parameters used to achieve this result are the following: \n",
        "\n",
        "embedding dimension =32\n",
        "lstm dimension =64\n",
        "batch size = 64\n",
        "\n",
        "When I changed the values to the following the accuracy suffered for both latin and greek, which presumably means these languages do not benefit from a highest embedding dimensionality. \n",
        "\n",
        "embedding dimension =100\n",
        "lstm dimension =64\n",
        "batch size=64\n",
        "\n",
        "In the end, for testing purposes with the additional languages for the extension I chose the following paramaters: \n",
        "bidirectional =True \n",
        "Embedding dimension = 72\n",
        "lstm dimension = 64\n",
        "batch size = 100\n",
        "\n",
        "Interestingly, with this model, the highest accuracies were in Spanish and Afrikaans. Presumably the size of the corpora is quite different for these two languages, but this LSTM model worked well on both, whereas it performed poorly on French, a relatively large and common language like Spanish.\n",
        "# Model Complexity and Accuracy \n",
        "If the model has too much complexity it will necessarily overfit, and the accuracy with the test set will be lower than it could be with a simpler model that is overfitting less. In order to avoid this one could tune the learning rate, but one could also use gridsearch to try to find the optimal parameters for the data given. Of course model complexity should vary with respect to the data that one is trying to classify, and some of these datasets, as we have seen in the paper I explore below, are smaller and therefore there is a lower possibela ccuracy overall. Additionally, some language benefit from high dimensionality while others do not. The bidirectional RNN layer I implemented does add to the models' complexity, but it allows for the model to see not only forwards, but forwards and backwards, and the accuracy improved across the board. The results are explained in more detail below. \n",
        "# Design Choices\n",
        "With regard to design choices, I went through several drafts of the preprocessing steps, and even tried implmenting a class to no avail when I would try to fit the model. I constantly got the error message that said there was a zero value array, which I tried to find by filtering out short sentences and printing out the shape of the array throughout the fit method, but ultimately concluded it was not necessarily the preprocessing that was the issue, but the way the data was getting fed into the model. \n",
        "I then refactored the class for the LSTM neural network from the begining and the preprocessing using a data loader worked well and the model could be trained a tested well. In doing this, I learned a bit about the different preprocessing options, and perhaps using the dataloader and dataset methods in a preprocessing class could be useful if one wanted to import many different languages in an easy and quick way, so as to minimize the number of preprocessing steps and cells one would have to run before fitting the model and getting the accuracy. \n",
        " # Defining a baseline\n",
        "I read the paper \"Do LSTMs really work so well for PoS tagging? – A replication study\" by Tobias Horsmann and Torsten Zesch. They explore extent to which LSTMs can be said to work well for sequence tagging tasks for different languages and for different LSTM variations. For determining a baseline, it seemed meaningless to define it in terms of the accuracy of a given language on the model since based on their research, the same model had a lot of variability in terms of accuracy going from one language to another. They divided the languages in their study into the main categories of germanic, romantic, slavic, and other. The languages I chose to do as a part of my initial implementation are all romantic, so I chose to average the accuracies of all the romance languages across only word, not word_char, and all the words, not just OOV, out of vocabulary words. I came up with the baseline of 93.5% in doing this. This means that the accuracy for the spanish corpus, even without significant tweaks to the model's parameter values, still performed above the baseline, while ancient greek and latin performed below the baseline. This could be due to the fact that there is not a growing corpora when it comes to these languages and the data we have available to train our models, given that they are no longer used. The UD corpora I imported for latin and greek are from the perseus project, which includes only classical texts that have been uploaded into a database and have all the parts of speech and additional information about case, tense, gender, and other features of the languages that are specific to these two ancient languages. \n",
        "# Expansion 1: Improving this model according to insights in a published paper (number 7 in extensions)\n",
        "The paper titled \"Do LSTMs really work so well for PoS tagging? – A replication study\" written by Tobias Horsmann and Torsten Zesch, touches on LSTM performance on fine grained tagsets. They conclude that the advantage of using an LSTM tagger is more notable when one is using a UD tagset that is significantly large. The advantage of using an LSTM grows proportionally with the size of the tagset. Notably, on morphologically rich tagsets, even the LSTM fails to recreate the results reported in other papers as the baseline in the same setup. \n",
        "\n",
        "Additionally, this paper explored the possibility of using word, char, word-char or word-char+ on the tagsets mentioned, and they cite the accuracy reported. It seems that an obvious improvement is to implement a bidirectional LSTM. Unlike what I did in my implementation, they used the bidirectional LSTM to provide the character embeddings of a word to the LSTM. It seems reasonable that including information about characters and words, with both forward and backward passes would benefit the accuracy of the model and it is certainly possible to use the UD treebanks available in this way. \n",
        "\n",
        "# Extension 2: Bidirectional RNN layer \n",
        "I initially failed to set bidirectional = True in one of the places where it was necessary. Not just in the place where one specifies the model and the self.fn, but also needed to do it inside of the LSTM layer, which could of course add the extra layer necessary. Additionally, it was necessary to change the parameter value for self.fn to hidden_layer*2, which would of course mean having two layers for the model to move forward and backward, making it bidirectional. The results of the model before and after this tweak are specified below in extension 3. Accuracy went up significantly after making this change. For example, in ancient greek the accuracy score went from 75.7% to 78.6%. When I implemented the RNN bidirectional layer incorrectly, the results improved only marginally, which would be explained by a simple variance in results from one training process to another where the model was slightly different and it performed slightly better the second time I ran it. \n",
        "\n",
        "\n",
        "# Extension 3: Adding more sources (number 6 in extensions)\n",
        "#A survey of accuracy of the working model in the following languages: \n",
        "\n",
        "Before Bidirectional RNN Layer \n",
        "\n",
        "Romantic Languages\n",
        "1. Spanish 94.4 %\n",
        "2. Ancient Greek 75.7%\n",
        "3. Latin 71.4%\n",
        "4. French 23.3%\n",
        "5. Italian 89.5%\n",
        "\n",
        "Germanic Languages \n",
        "\n",
        "6. Dutch 85.4%\n",
        "7. English 87.4 %\n",
        "8. German \n",
        "Tried to do German but there was a key arror when the model encountered a tag in the scoring method that was not present in training. We still have enough sources for the expansion, but it's worth noting this can happen from time to time with certain languages and their part of speech tags. \n",
        "9. Finnish 83.5 %\n",
        "10. Swedish 86.3%\n",
        "\n",
        "Other \n",
        "11. Hebrew 86.3%\n",
        "12. Afrikaans 90% \n",
        "\n",
        "\n",
        "After Implementing the Bidirectional RNN layer \n",
        "Romantic Languages\n",
        "1. Spanish 95.3 %\n",
        "2. Ancient Greek 78.6%\n",
        "3. Latin 72.3%\n",
        "4. French 27.3% (after tweaking the dimensionality to 100 for embeddings) This low accuracy could be due to this being a specific tagset in french and perhaps not the biggest in terms of sentence number. \n",
        "5. Italian 92%\n",
        "\n",
        "Germanic Languages \n",
        "\n",
        "6. Dutch 86.7%\n",
        "7. English 89.3 %\n",
        "8. German \n",
        "Tried to do German but there was a key arror when the model encountered a tag in the scoring method that was not present in training. We still have enough sources for the expansion, but it's worth noting this can happen from time to time with certain languages and their part of speech tags. \n",
        "9. Finnish 85.6 %\n",
        "10. Swedish 89.8%\n",
        "\n",
        "Other \n",
        "11. Hebrew 92.3%\n",
        "12. Afrikaans 90.7% This language benefitted quite a lot from increasing the dimensionality of the model. \n",
        "\n",
        "As I ran the model again with the bidirectional RNN layer, I also tweaked the dimensions to see what could happen with certain languages. For example, English did not benefit from that in terms of accuracy, but finnish, swedish, afrikaans, and hebrew. This could of course be because the languages that did benefit from this are more morphologically rich than languages like English.\n",
        "\n",
        "The average accuracy for the model without any improvements across all these languages was 79.37. The average accuracy for the tuned model with the additional RNN layer was 81.41. If we are to use the initial average percentage value as our baseline, the improved model did perform well after the improvements implemented. \n",
        "\n",
        "\n",
        "\n"
      ]
    }
  ]
}